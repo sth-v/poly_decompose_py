{
 "cells": [
  {
   "cell_type": "code",
   "execution_count": 5,
   "metadata": {
    "collapsed": true,
    "pycharm": {
     "name": "#%%\n"
    }
   },
   "outputs": [],
   "source": [
    "from basepolygon_class import GoalPolygon"
   ]
  },
  {
   "cell_type": "code",
   "execution_count": 6,
   "outputs": [
    {
     "name": "stderr",
     "output_type": "stream",
     "text": [
      "/Users/andrewastakhov/opt/anaconda3/envs/work/lib/python3.9/site-packages/osmnx/geocoder.py:110: FutureWarning: The frame.append method is deprecated and will be removed from pandas in a future version. Use pandas.concat instead.\n",
      "  gdf = gdf.append(_geocode_query_to_gdf(q, wr, by_osmid))\n",
      "/Users/andrewastakhov/opt/anaconda3/envs/work/lib/python3.9/site-packages/osmnx/geocoder.py:110: FutureWarning: The frame.append method is deprecated and will be removed from pandas in a future version. Use pandas.concat instead.\n",
      "  gdf = gdf.append(_geocode_query_to_gdf(q, wr, by_osmid))\n",
      "/Users/andrewastakhov/opt/anaconda3/envs/work/lib/python3.9/site-packages/osmnx/geocoder.py:110: FutureWarning: The frame.append method is deprecated and will be removed from pandas in a future version. Use pandas.concat instead.\n",
      "  gdf = gdf.append(_geocode_query_to_gdf(q, wr, by_osmid))\n"
     ]
    }
   ],
   "source": [
    "place = GoalPolygon('Жилой комплекс «Одинцово-1»')\n",
    "v = place.polygon\n",
    "s = v.simplify(10, preserve_topology=True)\n",
    "coor_list = (list(s.boundary.coords[0:len(s.boundary.coords)-1]))"
   ],
   "metadata": {
    "collapsed": false,
    "pycharm": {
     "name": "#%%\n"
    }
   }
  },
  {
   "cell_type": "code",
   "execution_count": 11,
   "outputs": [],
   "source": [
    "from polygon_division import vector_search"
   ],
   "metadata": {
    "collapsed": false,
    "pycharm": {
     "name": "#%%\n"
    }
   }
  },
  {
   "cell_type": "code",
   "execution_count": 12,
   "outputs": [],
   "source": [
    "bb = vector_search(coor_list, 0.7)"
   ],
   "metadata": {
    "collapsed": false,
    "pycharm": {
     "name": "#%%\n"
    }
   }
  },
  {
   "cell_type": "code",
   "execution_count": 13,
   "outputs": [
    {
     "name": "stdout",
     "output_type": "stream",
     "text": [
      "[[(390729.22685795417, 6169068.278793206), (390688.94853554666, 6169051.093999996), (390779.71763066336, 6168708.404413646), (391376.94128866255, 6168878.908844141)], [(391376.94128866255, 6168878.908844141), (391679.81934692746, 6169195.94232304), (391371.67693937925, 6169504.334368904), (391167.0485137885, 6169300.755649202)], [(391167.0485137885, 6169300.755649202), (390888.987181012, 6169257.282553047)], [(390888.987181012, 6169257.282553047), (390787.08946967893, 6169633.4398970865), (390723.15643382387, 6169615.510903369)], [(390723.15643382387, 6169615.510903369), (390713.85588372935, 6169648.534112789), (390648.1477669974, 6169630.105088735), (390710.60008595965, 6169408.428049387)], [(390710.60008595965, 6169408.428049387), (390638.3021923507, 6169388.159907748), (390729.22685795417, 6169068.278793206)]]\n"
     ]
    }
   ],
   "source": [
    "print(bb)"
   ],
   "metadata": {
    "collapsed": false,
    "pycharm": {
     "name": "#%%\n"
    }
   }
  },
  {
   "cell_type": "code",
   "execution_count": 49,
   "outputs": [],
   "source": [
    "from collections import deque\n",
    "from operator import neg\n",
    "import numpy as np\n",
    "\n",
    "def points_to_point_chain(points, length=3):\n",
    "    zip_list = [points]\n",
    "    for i in range(length-1):\n",
    "        dq = deque(points)\n",
    "        dq.rotate(neg(i+1))\n",
    "        zip_list.append(list(dq))\n",
    "    return np.asarray(list(zip(zip_list)))"
   ],
   "metadata": {
    "collapsed": false,
    "pycharm": {
     "name": "#%%\n"
    }
   }
  },
  {
   "cell_type": "code",
   "execution_count": 50,
   "outputs": [],
   "source": [
    "print(coor_list)\n",
    "zcl = points_to_point_chain(coor_list)"
   ],
   "metadata": {
    "collapsed": false,
    "pycharm": {
     "name": "#%%\n"
    }
   }
  },
  {
   "cell_type": "code",
   "execution_count": 50,
   "outputs": [],
   "source": [
    "class VertexChain:\n",
    "    def __init__(self):\n",
    "\n",
    "\n"
   ],
   "metadata": {
    "collapsed": false,
    "pycharm": {
     "name": "#%%\n"
    }
   }
  },
  {
   "cell_type": "code",
   "execution_count": 51,
   "outputs": [
    {
     "name": "stdout",
     "output_type": "stream",
     "text": [
      "[[[[ 390638.30219235 6169388.15990775]\n",
      "   [ 390729.22685795 6169068.27879321]\n",
      "   [ 390688.94853555 6169051.094     ]\n",
      "   [ 390779.71763066 6168708.40441365]\n",
      "   [ 391376.94128866 6168878.90884414]\n",
      "   [ 391679.81934693 6169195.94232304]\n",
      "   [ 391371.67693938 6169504.3343689 ]\n",
      "   [ 391167.04851379 6169300.7556492 ]\n",
      "   [ 390888.98718101 6169257.28255305]\n",
      "   [ 390787.08946968 6169633.43989709]\n",
      "   [ 390723.15643382 6169615.51090337]\n",
      "   [ 390713.85588373 6169648.53411279]\n",
      "   [ 390648.147767   6169630.10508873]\n",
      "   [ 390710.60008596 6169408.42804939]]]\n",
      "\n",
      "\n",
      " [[[ 390729.22685795 6169068.27879321]\n",
      "   [ 390688.94853555 6169051.094     ]\n",
      "   [ 390779.71763066 6168708.40441365]\n",
      "   [ 391376.94128866 6168878.90884414]\n",
      "   [ 391679.81934693 6169195.94232304]\n",
      "   [ 391371.67693938 6169504.3343689 ]\n",
      "   [ 391167.04851379 6169300.7556492 ]\n",
      "   [ 390888.98718101 6169257.28255305]\n",
      "   [ 390787.08946968 6169633.43989709]\n",
      "   [ 390723.15643382 6169615.51090337]\n",
      "   [ 390713.85588373 6169648.53411279]\n",
      "   [ 390648.147767   6169630.10508873]\n",
      "   [ 390710.60008596 6169408.42804939]\n",
      "   [ 390638.30219235 6169388.15990775]]]\n",
      "\n",
      "\n",
      " [[[ 390688.94853555 6169051.094     ]\n",
      "   [ 390779.71763066 6168708.40441365]\n",
      "   [ 391376.94128866 6168878.90884414]\n",
      "   [ 391679.81934693 6169195.94232304]\n",
      "   [ 391371.67693938 6169504.3343689 ]\n",
      "   [ 391167.04851379 6169300.7556492 ]\n",
      "   [ 390888.98718101 6169257.28255305]\n",
      "   [ 390787.08946968 6169633.43989709]\n",
      "   [ 390723.15643382 6169615.51090337]\n",
      "   [ 390713.85588373 6169648.53411279]\n",
      "   [ 390648.147767   6169630.10508873]\n",
      "   [ 390710.60008596 6169408.42804939]\n",
      "   [ 390638.30219235 6169388.15990775]\n",
      "   [ 390729.22685795 6169068.27879321]]]]\n"
     ]
    }
   ],
   "source": [
    "print(zcl)"
   ],
   "metadata": {
    "collapsed": false,
    "pycharm": {
     "name": "#%%\n"
    }
   }
  },
  {
   "cell_type": "code",
   "execution_count": null,
   "outputs": [],
   "source": [],
   "metadata": {
    "collapsed": false,
    "pycharm": {
     "name": "#%%\n"
    }
   }
  }
 ],
 "metadata": {
  "kernelspec": {
   "display_name": "Python 3",
   "language": "python",
   "name": "python3"
  },
  "language_info": {
   "codemirror_mode": {
    "name": "ipython",
    "version": 2
   },
   "file_extension": ".py",
   "mimetype": "text/x-python",
   "name": "python",
   "nbconvert_exporter": "python",
   "pygments_lexer": "ipython2",
   "version": "2.7.6"
  }
 },
 "nbformat": 4,
 "nbformat_minor": 0
}