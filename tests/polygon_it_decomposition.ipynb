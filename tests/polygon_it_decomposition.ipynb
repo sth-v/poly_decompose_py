{
 "cells": [
  {
   "cell_type": "code",
   "execution_count": 787,
   "metadata": {
    "pycharm": {
     "name": "#%%\n"
    }
   },
   "outputs": [
    {
     "name": "stderr",
     "output_type": "stream",
     "text": [
      "/opt/anaconda3/envs/tests/lib/python3.10/site-packages/osmnx/geocoder.py:110: FutureWarning: The frame.append method is deprecated and will be removed from pandas in a future version. Use pandas.concat instead.\n",
      "  gdf = gdf.append(_geocode_query_to_gdf(q, wr, by_osmid))\n",
      "/opt/anaconda3/envs/tests/lib/python3.10/site-packages/osmnx/geocoder.py:110: FutureWarning: The frame.append method is deprecated and will be removed from pandas in a future version. Use pandas.concat instead.\n",
      "  gdf = gdf.append(_geocode_query_to_gdf(q, wr, by_osmid))\n",
      "/opt/anaconda3/envs/tests/lib/python3.10/site-packages/osmnx/geocoder.py:110: FutureWarning: The frame.append method is deprecated and will be removed from pandas in a future version. Use pandas.concat instead.\n",
      "  gdf = gdf.append(_geocode_query_to_gdf(q, wr, by_osmid))\n"
     ]
    }
   ],
   "source": [
    "from basepolygon_class import GoalPolygon\n",
    "from shapely.geometry import Polygon, LineString\n",
    "place_one = GoalPolygon('Жилой комплекс «Одинцово-1»')\n",
    "v = place_one.polygon"
   ]
  },
  {
   "cell_type": "markdown",
   "metadata": {
    "pycharm": {
     "name": "#%% md\n"
    }
   },
   "source": [
    "Геометрическое упрощение"
   ]
  },
  {
   "cell_type": "markdown",
   "metadata": {
    "pycharm": {
     "name": "#%% md\n"
    }
   },
   "source": [
    "Здесь полигон в нуле не от центра"
   ]
  },
  {
   "cell_type": "code",
   "execution_count": 788,
   "metadata": {
    "pycharm": {
     "name": "#%%\n"
    }
   },
   "outputs": [],
   "source": [
    "from shapely.affinity import translate\n",
    "from shapely.geometry import MultiPoint\n",
    "import numpy as np\n",
    "\n",
    "s = v.simplify(10, preserve_topology=True)\n",
    "x, y, _, _ = v.bounds\n",
    "#x, y = get_xy(s)\n",
    "st = translate(s, 0-x, 0-y)\n",
    "from shapely.geometry import MultiLineString\n"
   ]
  },
  {
   "cell_type": "code",
   "execution_count": 789,
   "outputs": [
    {
     "data": {
      "text/plain": "[(0.0, 679.7554941019043),\n (90.92466560343746, 359.8743795603514),\n (50.64634319592733, 342.689586349763),\n (141.4154383126297, 0.0),\n (738.6390963118174, 170.50443049520254),\n (1041.5171545767225, 487.5379093941301),\n (733.3747470285161, 795.9299552580342),\n (528.746321437764, 592.3512355554849),\n (250.68498866126174, 548.8781394008547),\n (148.7872773281997, 925.0354834403843),\n (84.8542414731346, 907.106489722617),\n (75.55369137861999, 940.1296991426498),\n (9.845574646664318, 921.7006750889122),\n (72.29789360892028, 700.0236357413232)]"
     },
     "execution_count": 789,
     "metadata": {},
     "output_type": "execute_result"
    }
   ],
   "source": [
    "coor_list = (list(st.boundary.coords[0:len(st.boundary.coords) - 1]))\n",
    "coor_list"
   ],
   "metadata": {
    "collapsed": false,
    "pycharm": {
     "name": "#%%\n"
    }
   }
  },
  {
   "cell_type": "code",
   "execution_count": 790,
   "metadata": {
    "pycharm": {
     "name": "#%%\n"
    }
   },
   "outputs": [
    {
     "data": {
      "text/plain": "<shapely.geometry.polygon.Polygon at 0x7fbb7e91e170>",
      "image/svg+xml": "<svg xmlns=\"http://www.w3.org/2000/svg\" xmlns:xlink=\"http://www.w3.org/1999/xlink\" width=\"300\" height=\"300\" viewBox=\"-41.660686183068904 -41.660686183068904 1124.8385269428604 1023.4510715087877\" preserveAspectRatio=\"xMinYMin meet\"><g transform=\"matrix(1,0,0,-1,0,940.1296991426498)\"><path fill-rule=\"evenodd\" fill=\"#66cc99\" stroke=\"#555555\" stroke-width=\"7.498923512952403\" opacity=\"0.6\" d=\"M 0.0,679.7554941019043 L 90.92466560343746,359.8743795603514 L 50.64634319592733,342.689586349763 L 141.4154383126297,0.0 L 738.6390963118174,170.50443049520254 L 1041.5171545767225,487.5379093941301 L 733.3747470285161,795.9299552580342 L 528.746321437764,592.3512355554849 L 250.68498866126174,548.8781394008547 L 148.7872773281997,925.0354834403843 L 84.8542414731346,907.106489722617 L 75.55369137861999,940.1296991426498 L 9.845574646664318,921.7006750889122 L 72.29789360892028,700.0236357413232 L 0.0,679.7554941019043 z\" /></g></svg>"
     },
     "execution_count": 790,
     "metadata": {},
     "output_type": "execute_result"
    }
   ],
   "source": [
    "st"
   ]
  },
  {
   "cell_type": "markdown",
   "metadata": {
    "pycharm": {
     "name": "#%% md\n"
    }
   },
   "source": [
    "разбиение точек на группы по сегментам"
   ]
  },
  {
   "cell_type": "code",
   "execution_count": 791,
   "metadata": {
    "pycharm": {
     "name": "#%%\n"
    }
   },
   "outputs": [
    {
     "data": {
      "text/plain": "array([[ -90.9246656 ,  319.88111454],\n       [  40.27832241,   17.18479321],\n       [ -90.76909512,  342.68958635],\n       [-597.223658  , -170.5044305 ],\n       [-302.87805826, -317.0334789 ],\n       [ 308.14240755, -308.39204586],\n       [ 204.62842559,  203.5787197 ],\n       [ 278.06133278,   43.47309615],\n       [ 101.89771133, -376.15734404],\n       [  63.93303586,   17.92899372],\n       [   9.30055009,  -33.02320942],\n       [  65.70811673,   18.42902405],\n       [ -62.45231896,  221.67703935],\n       [  72.29789361,   20.26814164]])"
     },
     "execution_count": 791,
     "metadata": {},
     "output_type": "execute_result"
    }
   ],
   "source": [
    "def vec_from_point_chain(point_chain):\n",
    "    ptch = np.asarray(point_chain).copy()\n",
    "    return ptch - np.roll(ptch, -1, axis=0)\n",
    "\n"
   ]
  },
  {
   "cell_type": "code",
   "execution_count": 792,
   "outputs": [],
   "source": [
    "def unit(vec):\n",
    "    return vec / np.linalg.norm(vec)\n",
    "\n",
    "\n",
    "def modx(vecs):\n",
    "    return np.where(vecs[:, 0] < 0.0, vecs.T, vecs.T * (-1)).T\n",
    "\n",
    "\n",
    "def mody(vecs):\n",
    "    return np.where(vecs[:, 1] < 0.0, vecs.T, vecs.T * (-1)).T\n",
    "\n",
    "\n",
    "def angle(A, B):\n",
    "    return np.arccos(np.dot(unit(A), unit(B)))\n",
    "\n",
    "\n",
    "def theta(xaxis):\n",
    "    return angle(np.array([1, 0]), xaxis)\n",
    "\n",
    "\n",
    "def rot_matrix(theta):\n",
    "    rot = np.array([\n",
    "        [np.cos(theta), -np.sin(theta)],\n",
    "        [np.sin(theta), np.cos(theta)]\n",
    "\n",
    "    ])\n",
    "    return rot\n",
    "\n",
    "\n",
    "def rot_matrix_affine(theta):\n",
    "    rot = np.array([\n",
    "        [np.cos(theta), -np.sin(theta), 0.0],\n",
    "        [np.sin(theta), np.cos(theta), 0.0]\n",
    "\n",
    "    ])\n",
    "    return rot\n",
    "\n",
    "\n",
    "def rotate2d(vec, theta):\n",
    "    return rot_matrix(theta) @ np.asarray(vec)\n",
    "\n",
    "\n",
    "def choise_axis_2d(vecs, k=(0, 3, 4, 7)):\n",
    "    labels = []\n",
    "    for vec in vecs[..., :2]:\n",
    "        ang = angle(np.array([1, 0]), np.asarray(vec))\n",
    "        aa, _ = divmod(ang, pi / 4)\n",
    "        labels.append(0) if aa in k else labels.append(1)\n",
    "    return labels\n",
    "\n",
    "\n",
    "def basis_to_custom_canonical_form(vecs):\n",
    "    x_like = [0, 3, 4, 7]  # y_like = [1, 2, 5, 6]\n",
    "\n",
    "    l, th, thr, axis = [], [], [], []\n",
    "\n",
    "    for vec in vecs[..., :2]:\n",
    "\n",
    "        ang = angle(np.array([1, 0]), np.asarray(vec))\n",
    "        aa, bb = divmod(ang, pi / 4)\n",
    "\n",
    "        if aa in x_like:\n",
    "            vec_x = vec * (-1) if vec[0] < 0.0 else vec\n",
    "            l.append([vec_x, rotate2d(vec_x, theta=0.5 * pi)])\n",
    "            th_ = theta(vec_x)\n",
    "            th.append(th_)\n",
    "            thr.append(rot_matrix_affine(th_))\n",
    "            axis.append(0)\n",
    "        else:\n",
    "            vec_y = vec * (-1) if vec[1] < 0.0 else vec\n",
    "            l.append([rotate2d(vec_y, theta=-0.5 * pi), vec_y])\n",
    "            th_ = theta(rotate2d(vec_y, theta=-0.5 * pi))\n",
    "            th.append(th_)\n",
    "            thr.append(rot_matrix_affine(th_))\n",
    "            axis.append(1)\n",
    "    return np.asarray(l), np.asarray(th), np.asarray(thr), np.asarray(axis)"
   ],
   "metadata": {
    "collapsed": false,
    "pycharm": {
     "name": "#%%\n"
    }
   }
  },
  {
   "cell_type": "code",
   "execution_count": 793,
   "outputs": [],
   "source": [
    "from math import pi\n",
    "def cross_m(va, vb):\n",
    "    v_o_norm, v_t_norm = va / np.linalg.norm(va), vb / np.linalg.norm(vb)\n",
    "    return np.cross(v_o_norm, v_t_norm)\n",
    "\n",
    "def perimetr_decomposition_metric(va, vb, k=0.125, const=pi/2):\n",
    "    _cross=cross_m(va, vb)\n",
    "    ang = angle(va, vb)\n",
    "    return (_cross < -k) or (ang - (const * (round(ang / const))) > k)\n",
    "\n",
    "def pdm_solve(Va, Vb, **kwargs):\n",
    "    _labels=[]\n",
    "    for va, vb in zip(Va, Vb):\n",
    "        _labels.append(perimetr_decomposition_metric(va, vb, **kwargs))\n",
    "\n",
    "    return np.asarray(_labels)\n"
   ],
   "metadata": {
    "collapsed": false,
    "pycharm": {
     "name": "#%%\n"
    }
   }
  },
  {
   "cell_type": "code",
   "execution_count": 794,
   "outputs": [],
   "source": [
    "def pointorder(indices):\n",
    "    return [*indices, indices[0] + indices[-1] + 1]\n",
    "\n",
    "def get_parts(indices, order):\n",
    "    return [(np.tile(indices,2)[order[c]:order[c + 1]+1]).tolist() for c in range(len(order) - 1)]\n",
    "def get_vectors(indices, order):\n",
    "    return [(np.tile(indices,2)[order[c]:order[c + 1]]).tolist() for c in range(len(order) - 1)]\n",
    "def get_linestring (indices, order):\n",
    "    return [LineString(np.tile(indices,2)[order[c]:order[c + 1]+1]).tolist() for c in range(len(order) - 1)]\n",
    "def part_data_from_index(data, indices):\n",
    "    part_data=[]\n",
    "    for i in indices:\n",
    "        part=[]\n",
    "        for j in i:\n",
    "            part.append(data[j])\n",
    "        part_data.append(part)\n",
    "    return part_data"
   ],
   "metadata": {
    "collapsed": false,
    "pycharm": {
     "name": "#%%\n"
    }
   }
  },
  {
   "cell_type": "code",
   "execution_count": 795,
   "outputs": [
    {
     "data": {
      "text/plain": "[[1, 2, 3], [4, 5, 6], [7], [8, 9], [10, 11, 12], [13, 0]]"
     },
     "execution_count": 795,
     "metadata": {},
     "output_type": "execute_result"
    }
   ],
   "source": [
    "def perimetr_decomposition(point_list, k=0.125, **kwargs):\n",
    "    Va=vec_from_point_chain(point_list)\n",
    "    Vb=np.roll(vvvv,-1, axis=0)\n",
    "    return pdm_solve(Va,Vb, k=k, **kwargs)\n",
    "\n",
    "pdm=perimetr_decomposition(coor_list)\n",
    "indices = np.arange(len(pdm))\n",
    "order=pointorder([i+1 for i in indices[pdm]])\n",
    "ixs=get_parts(indices, order)\n",
    "vixs=get_vectors(indices, order)\n",
    "parts = part_data_from_index(coor_list,ixs)\n",
    "vixs"
   ],
   "metadata": {
    "collapsed": false,
    "pycharm": {
     "name": "#%%\n"
    }
   }
  },
  {
   "cell_type": "code",
   "execution_count": 818,
   "outputs": [],
   "source": [
    "\n",
    "def batch_point_to_vector(points):\n",
    "    for batch in points:\n",
    "        yield vec_from_point_chain(batch)\n",
    "\n",
    "vector_chains=list(batch_point_to_vector(parts))"
   ],
   "metadata": {
    "collapsed": false,
    "pycharm": {
     "name": "#%%\n"
    }
   }
  },
  {
   "cell_type": "code",
   "execution_count": 819,
   "outputs": [
    {
     "data": {
      "text/plain": "[array([[  40.27832241,   17.18479321],\n        [ -90.76909512,  342.68958635],\n        [-597.223658  , -170.5044305 ],\n        [ 647.71443071, -189.36994907]]),\n array([[-302.87805826, -317.0334789 ],\n        [ 308.14240755, -308.39204586],\n        [ 204.62842559,  203.5787197 ],\n        [-209.89277487,  421.84680506]]),\n array([[ 278.06133278,   43.47309615],\n        [-278.06133278,  -43.47309615]]),\n array([[ 101.89771133, -376.15734404],\n        [  63.93303586,   17.92899372],\n        [-165.83074719,  358.22835032]]),\n array([[   9.30055009,  -33.02320942],\n        [  65.70811673,   18.42902405],\n        [ -62.45231896,  221.67703935],\n        [ -12.55634786, -207.08285398]]),\n array([[  72.29789361,   20.26814164],\n        [ -90.9246656 ,  319.88111454],\n        [  18.62677199, -340.14925618]])]"
     },
     "execution_count": 819,
     "metadata": {},
     "output_type": "execute_result"
    }
   ],
   "source": [
    "vector_chains"
   ],
   "metadata": {
    "collapsed": false,
    "pycharm": {
     "name": "#%%\n"
    }
   }
  },
  {
   "cell_type": "markdown",
   "metadata": {
    "pycharm": {
     "name": "#%% md\n"
    }
   },
   "source": []
  },
  {
   "cell_type": "markdown",
   "metadata": {
    "pycharm": {
     "name": "#%% md\n"
    }
   },
   "source": [
    "SVD"
   ]
  },
  {
   "cell_type": "code",
   "execution_count": 797,
   "metadata": {
    "pycharm": {
     "name": "#%%\n"
    }
   },
   "outputs": [],
   "source": [
    "from scipy.linalg import svd\n",
    "import numpy as np\n",
    "import torch\n",
    "\n"
   ]
  },
  {
   "cell_type": "code",
   "execution_count": 798,
   "metadata": {
    "pycharm": {
     "name": "#%%\n"
    }
   },
   "outputs": [],
   "source": [
    "class SvdItem:\n",
    "    keys=[\"A\", \"U\", \"S\", \"Vh\", \"Sigma\"]\n",
    "    def __init__(self, m, collection=None, **kwargs):\n",
    "        self.A = torch.tensor(m)\n",
    "        #self.A = m\n",
    "        self.collection=collection\n",
    "        self.U = None\n",
    "        self.S = None\n",
    "        self.Vh = None\n",
    "        self.Sigma = None\n",
    "        self.svd(**kwargs)\n",
    "        if collection is not None:\n",
    "            self.id = f'{collection.id}:{len(collection.matrices)}'\n",
    "            print(f'set item id: {self.id}')\n",
    "            collection.A.append(self.A)\n",
    "\n",
    "\n",
    "\n",
    "    def svd(self, **kwargs):\n",
    "        #U, S, Vh = svd(self.A, **kwargs)\n",
    "        U, S, Vh = torch.linalg.svd(self.A, **kwargs)\n",
    "        #Sigma = np.diag(S)\n",
    "        Sigma = torch.diag(S)\n",
    "        self.U, self.S, self.Vh, self.Sigma=U, S, Vh, Sigma\n",
    "        print(self.U, self.S, self.Vh, self.Sigma)\n",
    "        if self.collection:\n",
    "            for v, k in zip([self.A, U, S, Vh, Sigma], self.__class__.keys):\n",
    "                (self.collection.__dict__[k]).append(v)\n",
    "\n",
    "        return U, S, Vh, Sigma\n",
    "    def pack(self):\n",
    "        self.collection.__dict__[self.__class__.__name__][self.collection.id]|={self.id:self}\n",
    "        return self.id, self\n",
    "\n",
    "\n",
    "\n",
    "class SvdPack:\n",
    "    def __init__(self):\n",
    "        self._matrices = []\n",
    "        self.id = f'{0}:{0}'\n",
    "        self.A, self.U, self.S, self.Vh, self.Sigma = [], [], [], [], []\n",
    "        self.tree= {self.id:{}}\n",
    "\n",
    "\n",
    "\n",
    "    @property\n",
    "    def matrices(self):\n",
    "        return self._matrices\n",
    "    @matrices.setter\n",
    "    def matrices(self, val, **kwargs):\n",
    "        if len(val.shape) == 2:\n",
    "            self._matrices.append(SvdItem(val, collection=self, **kwargs))\n",
    "        else:\n",
    "            for v in val:\n",
    "                self._matrices.append(SvdItem(v, collection=self, **kwargs))"
   ]
  },
  {
   "cell_type": "code",
   "execution_count": 799,
   "metadata": {
    "pycharm": {
     "name": "#%%\n"
    }
   },
   "outputs": [],
   "source": [
    "pck = SvdPack()"
   ]
  },
  {
   "cell_type": "code",
   "execution_count": 800,
   "outputs": [],
   "source": [
    "pck_all = SvdPack()\n",
    "\n"
   ],
   "metadata": {
    "collapsed": false,
    "pycharm": {
     "name": "#%%\n"
    }
   }
  },
  {
   "cell_type": "code",
   "execution_count": 801,
   "outputs": [
    {
     "data": {
      "text/plain": "[[array([40.27832241, 17.18479321]),\n  array([342.68958635,  90.76909512]),\n  array([597.223658 , 170.5044305])],\n [array([ 317.0334789 , -302.87805826]),\n  array([308.39204586, 308.14240755]),\n  array([204.62842559, 203.5787197 ])],\n [array([278.06133278,  43.47309615])],\n [array([376.15734404, 101.89771133]), array([63.93303586, 17.92899372])],\n [array([33.02320942,  9.30055009]),\n  array([65.70811673, 18.42902405]),\n  array([221.67703935,  62.45231896])],\n [array([72.29789361, 20.26814164]), array([319.88111454,  90.9246656 ])]]"
     },
     "execution_count": 801,
     "metadata": {},
     "output_type": "execute_result"
    }
   ],
   "source": [
    "\n",
    "a,b,c,d = basis_to_custom_canonical_form(vvvv)\n",
    "partsv=part_data_from_index(a[:,0,:],vixs)\n",
    "\n",
    "partsv"
   ],
   "metadata": {
    "collapsed": false,
    "pycharm": {
     "name": "#%%\n"
    }
   }
  },
  {
   "cell_type": "code",
   "execution_count": 802,
   "outputs": [
    {
     "name": "stdout",
     "output_type": "stream",
     "text": [
      "tensor([[-0.0401, -0.0102, -0.5576, -0.5531, -0.1441, -0.0962, -0.2831, -0.3548,\n",
      "         -0.0599, -0.0309, -0.0616, -0.2075, -0.0677, -0.2989],\n",
      "        [-0.3260,  0.0291, -0.2152,  0.6358, -0.5308, -0.3505, -0.0317, -0.1251,\n",
      "         -0.0224, -0.0117, -0.0230, -0.0783, -0.0253, -0.1145],\n",
      "        [-0.5714,  0.0249,  0.6924, -0.2717, -0.0982, -0.0654, -0.1531, -0.1952,\n",
      "         -0.0330, -0.0170, -0.0339, -0.1144, -0.0373, -0.1649],\n",
      "        [-0.1976,  0.8375, -0.1306,  0.1878,  0.3482,  0.2293, -0.1286, -0.0926,\n",
      "         -0.0146, -0.0075, -0.0150, -0.0501, -0.0165, -0.0707],\n",
      "        [-0.3542, -0.4483, -0.1771,  0.2334,  0.7254, -0.1815, -0.0526, -0.1070,\n",
      "         -0.0187, -0.0097, -0.0192, -0.0650, -0.0211, -0.0945],\n",
      "        [-0.2348, -0.2956, -0.1174,  0.1534, -0.1813,  0.8802, -0.0350, -0.0710,\n",
      "         -0.0124, -0.0064, -0.0127, -0.0431, -0.0140, -0.0627],\n",
      "        [-0.2564,  0.0868, -0.1402, -0.1875, -0.0092, -0.0063,  0.9244, -0.0899,\n",
      "         -0.0151, -0.0078, -0.0155, -0.0523, -0.0171, -0.0752],\n",
      "        [-0.3584,  0.0272, -0.1933, -0.1805, -0.0562, -0.0375, -0.0971,  0.8772,\n",
      "         -0.0208, -0.0107, -0.0213, -0.0719, -0.0235, -0.1036],\n",
      "        [-0.0611,  0.0033, -0.0329, -0.0296, -0.0102, -0.0068, -0.0164, -0.0209,\n",
      "          0.9965, -0.0018, -0.0036, -0.0122, -0.0040, -0.0176],\n",
      "        [-0.0316,  0.0016, -0.0170, -0.0152, -0.0053, -0.0035, -0.0085, -0.0108,\n",
      "         -0.0018,  0.9991, -0.0019, -0.0063, -0.0021, -0.0091],\n",
      "        [-0.0628,  0.0034, -0.0338, -0.0305, -0.0105, -0.0070, -0.0169, -0.0215,\n",
      "         -0.0036, -0.0019,  0.9963, -0.0126, -0.0041, -0.0181],\n",
      "        [-0.2119,  0.0110, -0.1141, -0.1023, -0.0356, -0.0237, -0.0569, -0.0724,\n",
      "         -0.0122, -0.0063, -0.0126,  0.9576, -0.0139, -0.0612],\n",
      "        [-0.0691,  0.0038, -0.0372, -0.0335, -0.0115, -0.0077, -0.0186, -0.0236,\n",
      "         -0.0040, -0.0021, -0.0041, -0.0138,  0.9955, -0.0199],\n",
      "        [-0.3059,  0.0142, -0.1647, -0.1462, -0.0522, -0.0348, -0.0821, -0.1046,\n",
      "         -0.0177, -0.0091, -0.0182, -0.0613, -0.0200,  0.9117]],\n",
      "       dtype=torch.float64) tensor([1086.8395,  456.4418], dtype=torch.float64) tensor([[-0.9564, -0.2921],\n",
      "        [ 0.2921, -0.9564]], dtype=torch.float64) tensor([[1086.8395,    0.0000],\n",
      "        [   0.0000,  456.4418]], dtype=torch.float64)\n",
      "set item id: 0:0:0\n"
     ]
    },
    {
     "data": {
      "text/plain": "array([[  40.27832241,   17.18479321],\n       [ 342.68958635,   90.76909512],\n       [ 597.223658  ,  170.5044305 ],\n       [ 317.0334789 , -302.87805826],\n       [ 308.39204586,  308.14240755],\n       [ 204.62842559,  203.5787197 ],\n       [ 278.06133278,   43.47309615],\n       [ 376.15734404,  101.89771133],\n       [  63.93303586,   17.92899372],\n       [  33.02320942,    9.30055009],\n       [  65.70811673,   18.42902405],\n       [ 221.67703935,   62.45231896],\n       [  72.29789361,   20.26814164],\n       [ 319.88111454,   90.9246656 ]])"
     },
     "execution_count": 802,
     "metadata": {},
     "output_type": "execute_result"
    }
   ],
   "source": [
    "\n",
    "b_ = np.asarray(np.concatenate(partsv))\n",
    "pck_all.matrices = b_\n",
    "b_"
   ],
   "metadata": {
    "collapsed": false,
    "pycharm": {
     "name": "#%%\n"
    }
   }
  },
  {
   "cell_type": "code",
   "execution_count": 803,
   "outputs": [
    {
     "name": "stdout",
     "output_type": "stream",
     "text": [
      "tensor([[-0.0606,  0.6910, -0.7203],\n",
      "        [-0.4948, -0.6476, -0.5795],\n",
      "        [-0.8669,  0.3213,  0.3811]], dtype=torch.float64) tensor([716.4313,   8.1783], dtype=torch.float64) tensor([[-0.9627, -0.2705],\n",
      "        [-0.2705,  0.9627]], dtype=torch.float64) tensor([[716.4313,   0.0000],\n",
      "        [  0.0000,   8.1783]], dtype=torch.float64)\n",
      "set item id: 0:0:0\n",
      "tensor([[-0.0671,  0.9977, -0.0012],\n",
      "        [-0.8319, -0.0566, -0.5520],\n",
      "        [-0.5509, -0.0360,  0.8338]], dtype=torch.float64) tensor([523.2039, 438.0382], dtype=torch.float64) tensor([[-0.7464, -0.6655],\n",
      "        [ 0.6655, -0.7464]], dtype=torch.float64) tensor([[523.2039,   0.0000],\n",
      "        [  0.0000, 438.0382]], dtype=torch.float64)\n",
      "set item id: 0:0:1\n",
      "tensor([[-1.]], dtype=torch.float64) tensor([281.4392], dtype=torch.float64) tensor([[-0.9880, -0.1545],\n",
      "        [-0.1545,  0.9880]], dtype=torch.float64) tensor([[281.4392]], dtype=torch.float64)\n",
      "set item id: 0:0:2\n",
      "tensor([[-0.9858, -0.1680],\n",
      "        [-0.1680,  0.9858]], dtype=torch.float64) tensor([395.3303,   0.5805], dtype=torch.float64) tensor([[-0.9651, -0.2617],\n",
      "        [-0.2617,  0.9651]], dtype=torch.float64) tensor([[395.3303,   0.0000],\n",
      "        [  0.0000,   0.5805]], dtype=torch.float64)\n",
      "set item id: 0:0:3\n",
      "tensor([[-0.1414,  0.0048, -0.9899],\n",
      "        [-0.2813, -0.9590,  0.0355],\n",
      "        [-0.9492,  0.2834,  0.1369]], dtype=torch.float64) tensor([2.4264e+02, 7.6322e-02], dtype=torch.float64) tensor([[-0.9626, -0.2711],\n",
      "        [-0.2711,  0.9626]], dtype=torch.float64) tensor([[2.4264e+02, 0.0000e+00],\n",
      "        [0.0000e+00, 7.6322e-02]], dtype=torch.float64)\n",
      "set item id: 0:0:4\n",
      "tensor([[-0.2202, -0.9754],\n",
      "        [-0.9754,  0.2202]], dtype=torch.float64) tensor([3.4092e+02, 2.6477e-01], dtype=torch.float64) tensor([[-0.9619, -0.2732],\n",
      "        [-0.2732,  0.9619]], dtype=torch.float64) tensor([[3.4092e+02, 0.0000e+00],\n",
      "        [0.0000e+00, 2.6477e-01]], dtype=torch.float64)\n",
      "set item id: 0:0:5\n"
     ]
    },
    {
     "data": {
      "text/plain": "array([list([array([40.27832241, 17.18479321]), array([342.68958635,  90.76909512]), array([597.223658 , 170.5044305])]),\n       list([array([ 317.0334789 , -302.87805826]), array([308.39204586, 308.14240755]), array([204.62842559, 203.5787197 ])]),\n       list([array([278.06133278,  43.47309615])]),\n       list([array([376.15734404, 101.89771133]), array([63.93303586, 17.92899372])]),\n       list([array([33.02320942,  9.30055009]), array([65.70811673, 18.42902405]), array([221.67703935,  62.45231896])]),\n       list([array([72.29789361, 20.26814164]), array([319.88111454,  90.9246656 ])])],\n      dtype=object)"
     },
     "execution_count": 803,
     "metadata": {},
     "output_type": "execute_result"
    }
   ],
   "source": [
    "mata=np.asarray(partsv, dtype=object)\n",
    "pck.matrices = mata\n",
    "mata"
   ],
   "metadata": {
    "collapsed": false,
    "pycharm": {
     "name": "#%%\n"
    }
   }
  },
  {
   "cell_type": "code",
   "execution_count": 804,
   "outputs": [
    {
     "data": {
      "text/plain": "([tensor([[-0.9564, -0.2921],\n          [ 0.2921, -0.9564]], dtype=torch.float64)],\n [tensor([[-0.9627, -0.2705],\n          [-0.2705,  0.9627]], dtype=torch.float64),\n  tensor([[-0.7464, -0.6655],\n          [ 0.6655, -0.7464]], dtype=torch.float64),\n  tensor([[-0.9880, -0.1545],\n          [-0.1545,  0.9880]], dtype=torch.float64),\n  tensor([[-0.9651, -0.2617],\n          [-0.2617,  0.9651]], dtype=torch.float64),\n  tensor([[-0.9626, -0.2711],\n          [-0.2711,  0.9626]], dtype=torch.float64),\n  tensor([[-0.9619, -0.2732],\n          [-0.2732,  0.9619]], dtype=torch.float64)])"
     },
     "execution_count": 804,
     "metadata": {},
     "output_type": "execute_result"
    }
   ],
   "source": [
    "pck_ah = pck.Vh\n",
    "pck_all.Vh, pck_ah"
   ],
   "metadata": {
    "collapsed": false,
    "pycharm": {
     "name": "#%%\n"
    }
   }
  },
  {
   "cell_type": "code",
   "execution_count": 805,
   "outputs": [
    {
     "name": "stdout",
     "output_type": "stream",
     "text": [
      "tensor([[-0.7464, -0.6655],\n",
      "        [ 0.6655, -0.7464]], dtype=torch.float64)\n"
     ]
    }
   ],
   "source": [
    "def matricies_check(matricies_list):\n",
    "    matrix_checked = []\n",
    "    for i in matricies_list:\n",
    "        if i[0][1]+ i[1][0] == 0:\n",
    "            print (i)\n",
    "            matrix_checked.append(i)\n",
    "        else:\n",
    "            #ii = np.fliplr(i)\n",
    "            i[1]*= -1\n",
    "            matrix_checked.append(i)\n",
    "    return matrix_checked\n",
    "\n",
    "identical_matricies = matricies_check(pck_ah)"
   ],
   "metadata": {
    "collapsed": false,
    "pycharm": {
     "name": "#%%\n"
    }
   }
  },
  {
   "cell_type": "code",
   "execution_count": 806,
   "outputs": [],
   "source": [
    "def transform_chains_from_vh(coor_list, chains, t):\n",
    "    chains_t=[]\n",
    "    for i, clust in enumerate(chains):\n",
    "        _t=[]\n",
    "        for j in clust:\n",
    "            _ = t[i] @ np.asarray(coor_list[j])\n",
    "            _t.append(np.asarray(_).tolist())\n",
    "        chains_t.append(_t)\n",
    "    return chains_t\n",
    "\n",
    "p_ta = transform_chains_from_vh(coor_list, ixs, pck_ah)\n",
    "pt_b =[(pck_all.Vh[0] @ np.asarray(i)).tolist() for i in coor_list]"
   ],
   "metadata": {
    "collapsed": false,
    "pycharm": {
     "name": "#%%\n"
    }
   }
  },
  {
   "cell_type": "code",
   "execution_count": 807,
   "outputs": [
    {
     "data": {
      "text/plain": "[[-198.54299384118383, -650.1139987404546],\n [-192.07190790968014, -317.6243788990073],\n [-148.53063197695704, -312.95344068442046],\n [-135.2488606311659, 41.30462312047695],\n [-756.230852245163, 52.67232225169358],\n [-1138.5007182373984, -162.07193139751223],\n [-933.8703564426389, -547.0184371791274],\n [-678.7037060604588, -412.0848675671983],\n [-400.06992486718156, -451.7236219958049],\n [-412.48361881586754, -841.240491017337],\n [-346.1017534655098, -842.7668730087632],\n [-346.8521836665056, -877.0665734006523],\n [-278.6265929505532, -878.6331950821381],\n [-273.60817636348213, -648.3815557554343]]"
     },
     "execution_count": 807,
     "metadata": {},
     "output_type": "execute_result"
    }
   ],
   "source": [
    "pt_b"
   ],
   "metadata": {
    "collapsed": false,
    "pycharm": {
     "name": "#%%\n"
    }
   }
  },
  {
   "cell_type": "markdown",
   "source": [
    "Вкорячивание повернутого баундинг ректангла"
   ],
   "metadata": {
    "collapsed": false
   }
  },
  {
   "cell_type": "code",
   "execution_count": 808,
   "outputs": [
    {
     "data": {
      "text/plain": "[[-1129.4782423340453, 78.58006907988769],\n [-1164.1583181066107, -846.4242978782402],\n [-169.92893640373123, -883.6997438376509],\n [-135.24886063116588, 41.30462312047695],\n [-1129.4782423340453, 78.58006907988769]]"
     },
     "execution_count": 808,
     "metadata": {},
     "output_type": "execute_result"
    }
   ],
   "source": [
    "def bounding_rectangle (points):\n",
    "    bound_rec = np.asarray(MultiPoint([i for i in points]).minimum_rotated_rectangle.exterior.coords)\n",
    "    return bound_rec\n",
    "\n",
    "v = bounding_rectangle(pt_b)\n",
    "v.tolist()"
   ],
   "metadata": {
    "collapsed": false,
    "pycharm": {
     "name": "#%%\n"
    }
   }
  },
  {
   "cell_type": "code",
   "execution_count": 809,
   "outputs": [
    {
     "data": {
      "text/plain": "[[[-43.42497300039571, -5.650848924623688],\n  [-5.296056490406386, -354.4673934320716],\n  [621.0804736228524, 2.627503917685935]],\n [[437.051813436825, 35.08642604567632],\n  [-24.780513831966346, 435.25087411279594],\n  [-288.2151809707, -15.782811330866977]],\n [[-281.43918503775285, 0.0]],\n [[0.09749821437554829, 389.7146155122839],\n  [-66.3969457509927, -0.5722624542247559]],\n [[-0.0003672859066341516, 34.30790859736305],\n  [-68.24353577478854, 0.07319145241206115],\n  [0.021633113108464386, -230.30632090692666]],\n [[-75.08472736484697, 0.2582679788633868],\n  [0.0583125253329797, -332.5525805870291]]]"
     },
     "execution_count": 809,
     "metadata": {},
     "output_type": "execute_result"
    }
   ],
   "source": [
    "def chains_tovec (point_list):\n",
    "    vectors =[]\n",
    "    for i in point_list:\n",
    "        temp =[]\n",
    "        for l in range(len(i)-1):\n",
    "            vec = [i[l][0] - i[l+1][0], i[l][1] - i[l+1][1]]\n",
    "            temp.append(vec)\n",
    "        vectors.append(temp)\n",
    "    return vectors\n",
    "\n",
    "def chains_base (point_list, parts):\n",
    "    vectors =[]\n",
    "    for i in parts:\n",
    "        temp =[]\n",
    "        for l in range(len(i)-1):\n",
    "            vec = [point_list[i[l]][0] - point_list[i[l+1]][0], point_list[i[l]][1] - point_list[i[l+1]][1]]\n",
    "            temp.append(vec)\n",
    "        vectors.append(temp)\n",
    "    return vectors\n",
    "\n",
    "v_t = chains_tovec(p_ta)\n",
    "v_ = chains_base(pt_b, ixs)\n",
    "v_t"
   ],
   "metadata": {
    "collapsed": false,
    "pycharm": {
     "name": "#%%\n"
    }
   }
  },
  {
   "cell_type": "code",
   "execution_count": 810,
   "outputs": [
    {
     "data": {
      "text/plain": "[0.02253447181991805,\n 0.4317198234096262,\n 0.1413129058003907,\n 0.031608502834788665,\n 0.021885838291758036,\n 0.01963541160992082]"
     },
     "execution_count": 810,
     "metadata": {},
     "output_type": "execute_result"
    }
   ],
   "source": [
    "def unit_vector(vector):\n",
    "    return vector / np.linalg.norm(vector)\n",
    "\n",
    "def angle_between(v1, v2):\n",
    "    v1_u = unit_vector(v1)\n",
    "    v2_u = unit_vector(v2)\n",
    "    return np.arccos(np.clip(np.dot(v1_u, v2_u), -1.0, 1.0))\n",
    "\n",
    "def angle (v_tr, v_b):\n",
    "    ang =[]\n",
    "    for j, i in enumerate(v_tr):\n",
    "        for ind, val in enumerate(i):\n",
    "            ang.append(angle_between(val, v_b[j][ind]))\n",
    "            break\n",
    "    return ang\n",
    "\n",
    "angl = angle(v_t, v_)\n",
    "aa,bb=np.divmod(angl, pi/2)\n",
    "huy = np.abs(bb-aa*pi/2)\n",
    "angl"
   ],
   "metadata": {
    "collapsed": false,
    "pycharm": {
     "name": "#%%\n"
    }
   }
  },
  {
   "cell_type": "markdown",
   "source": [
    "Хуй знает какой лучше, просто дерьмо какое-то"
   ],
   "metadata": {
    "collapsed": false
   }
  },
  {
   "cell_type": "code",
   "execution_count": 811,
   "outputs": [
    {
     "data": {
      "text/plain": "[0, 1, 0, 0, 0, 0]"
     },
     "execution_count": 811,
     "metadata": {},
     "output_type": "execute_result"
    }
   ],
   "source": [
    "def  clusterize(angles, eps=0.2):\n",
    "    points_sorted = sorted(angles)\n",
    "    curr_point = points_sorted[0]\n",
    "    curr_cluster = 0\n",
    "    angles[angles.index(points_sorted[0])] = 0\n",
    "    for point in points_sorted[1:]:\n",
    "        if point <= curr_point + eps:\n",
    "            angles[angles.index(point)] = curr_cluster\n",
    "        else:\n",
    "            curr_cluster+=1\n",
    "            angles[angles.index(point)] = curr_cluster\n",
    "        curr_point = point\n",
    "    return angles\n",
    "\n",
    "\n",
    "labels = clusterize(angl)\n",
    "labels"
   ],
   "metadata": {
    "collapsed": false,
    "pycharm": {
     "name": "#%%\n"
    }
   }
  },
  {
   "cell_type": "code",
   "execution_count": 812,
   "outputs": [
    {
     "name": "stdout",
     "output_type": "stream",
     "text": [
      "[0, 1, 0, 0, 0, 0]\n"
     ]
    }
   ],
   "source": [
    "scope = np.asarray(angl)/np.linalg.norm(angl)\n",
    "r = np.round(scope*len(angl),0)\n",
    "labells=[]\n",
    "l = np.unique(r).tolist()\n",
    "for i in r:\n",
    "    labells.append(l.index(i))\n",
    "print(labells)"
   ],
   "metadata": {
    "collapsed": false,
    "pycharm": {
     "name": "#%%\n"
    }
   }
  },
  {
   "cell_type": "markdown",
   "source": [
    "Работа с транспортированными точками"
   ],
   "metadata": {
    "collapsed": false,
    "pycharm": {
     "name": "#%% md\n"
    }
   }
  },
  {
   "cell_type": "code",
   "execution_count": 812,
   "outputs": [],
   "source": [
    "from collections import defaultdict\n",
    "\n",
    "d_ = defaultdict(list)\n",
    "for la, l in zip(labels, ll):\n",
    "    d_[la].append(l)\n",
    "\n",
    "print(d_)"
   ],
   "metadata": {
    "collapsed": false,
    "pycharm": {
     "name": "#%%\n"
    }
   }
  },
  {
   "cell_type": "code",
   "execution_count": 813,
   "outputs": [
    {
     "ename": "NameError",
     "evalue": "name 'cc' is not defined",
     "output_type": "error",
     "traceback": [
      "\u001B[0;31m---------------------------------------------------------------------------\u001B[0m",
      "\u001B[0;31mNameError\u001B[0m                                 Traceback (most recent call last)",
      "Input \u001B[0;32mIn [813]\u001B[0m, in \u001B[0;36m<cell line: 4>\u001B[0;34m()\u001B[0m\n\u001B[1;32m      1\u001B[0m v\u001B[38;5;241m=\u001B[39mtorch\u001B[38;5;241m.\u001B[39mtensor(c, requires_grad\u001B[38;5;241m=\u001B[39m\u001B[38;5;28;01mTrue\u001B[39;00m)\n\u001B[1;32m      2\u001B[0m interp\u001B[38;5;241m=\u001B[39mtorch\u001B[38;5;241m.\u001B[39mnn\u001B[38;5;241m.\u001B[39mfunctional\u001B[38;5;241m.\u001B[39minterpolate(v\u001B[38;5;241m.\u001B[39mT, scale_factor\u001B[38;5;241m=\u001B[39m\u001B[38;5;241m3\u001B[39m, mode\u001B[38;5;241m=\u001B[39m\u001B[38;5;124m'\u001B[39m\u001B[38;5;124mlinear\u001B[39m\u001B[38;5;124m'\u001B[39m)\n\u001B[0;32m----> 4\u001B[0m ag \u001B[38;5;241m=\u001B[39m torch\u001B[38;5;241m.\u001B[39mtensor(\u001B[43mcc\u001B[49m, requires_grad\u001B[38;5;241m=\u001B[39m\u001B[38;5;28;01mTrue\u001B[39;00m)\n\u001B[1;32m      6\u001B[0m aff\u001B[38;5;241m=\u001B[39m torch\u001B[38;5;241m.\u001B[39mnn\u001B[38;5;241m.\u001B[39mfunctional\u001B[38;5;241m.\u001B[39maffine_grid(theta\u001B[38;5;241m=\u001B[39mag, size\u001B[38;5;241m=\u001B[39m[\u001B[38;5;241m14\u001B[39m,\u001B[38;5;241m2\u001B[39m,\u001B[38;5;241m4\u001B[39m,\u001B[38;5;241m4\u001B[39m])\n",
      "\u001B[0;31mNameError\u001B[0m: name 'cc' is not defined"
     ]
    }
   ],
   "source": [
    "\n",
    "v=torch.tensor(c, requires_grad=True)\n",
    "interp=torch.nn.functional.interpolate(v.T, scale_factor=3, mode='linear')\n",
    "\n",
    "ag = torch.tensor(cc, requires_grad=True)\n",
    "\n",
    "aff= torch.nn.functional.affine_grid(theta=ag, size=[14,2,4,4])"
   ],
   "metadata": {
    "collapsed": false,
    "pycharm": {
     "name": "#%%\n"
    }
   }
  },
  {
   "cell_type": "code",
   "execution_count": null,
   "outputs": [],
   "source": [
    "aff.shape\n",
    "aff"
   ],
   "metadata": {
    "collapsed": false,
    "pycharm": {
     "name": "#%%\n"
    }
   }
  },
  {
   "cell_type": "code",
   "execution_count": null,
   "outputs": [],
   "source": [
    "interp.T"
   ],
   "metadata": {
    "collapsed": false,
    "pycharm": {
     "name": "#%%\n"
    }
   }
  },
  {
   "cell_type": "code",
   "execution_count": null,
   "outputs": [],
   "source": [
    "aann=aff*torch.norm(torch.tensor(coor_list))\n",
    "affnp=aff.detach().numpy()\n",
    "affnp.tolist()\n",
    "\n",
    "mg=torch.stack(torch.meshgrid(torch.linspace(0,1,8),torch.linspace(0,1,8)))\n",
    "mg.shape"
   ],
   "metadata": {
    "collapsed": false,
    "pycharm": {
     "name": "#%%\n"
    }
   }
  },
  {
   "cell_type": "code",
   "execution_count": null,
   "outputs": [],
   "source": [
    "U, S, Vh=v.svd()"
   ],
   "metadata": {
    "collapsed": false,
    "pycharm": {
     "name": "#%%\n"
    }
   }
  },
  {
   "cell_type": "code",
   "execution_count": null,
   "outputs": [],
   "source": [
    "S[0]"
   ],
   "metadata": {
    "collapsed": false,
    "pycharm": {
     "name": "#%%\n"
    }
   }
  },
  {
   "cell_type": "markdown",
   "metadata": {
    "pycharm": {
     "name": "#%% md\n"
    }
   },
   "source": [
    "Работа с транспортированными точками"
   ]
  },
  {
   "cell_type": "markdown",
   "metadata": {
    "pycharm": {
     "name": "#%% md\n"
    }
   },
   "source": [
    "import matplotlib.pyplot as plt\n",
    "\n",
    "\n",
    "fig, ax = plt.subplots(figsize=(10, 10))\n",
    "ax.set_xlabel('X coordinate', fontsize=15)\n",
    "ax.set_ylabel('Y coordinate', fontsize=15)\n",
    "for d in d_[0]:\n",
    "    ax.plot(*d.xy, label='LineString', color='#ff00b4')\n",
    "for d in d_[1]:\n",
    "    ax.plot(*d.xy, label='LineString', color='#ffa200')\n",
    "for d in d_[2]:\n",
    "    ax.plot(*d.xy, label='LineString', color='#ff0000')\n",
    "for d in d_[3]:\n",
    "    ax.plot(*d.xy, label='LineString', color='#00ff54')\n",
    "for d in d_[4]:\n",
    "    ax.plot(*d.xy, label='LineString', color='#0012ff')\n",
    "for d in d_[5]:\n",
    "    ax.plot(*d.xy, label='LineString', color='#ffcc00')\n",
    "for d in d_[6]:\n",
    "    ax.plot(*d.xy, label='LineString', color='#9c00ff')\n",
    "\n",
    "plt.show()"
   ]
  },
  {
   "cell_type": "code",
   "execution_count": null,
   "metadata": {
    "pycharm": {
     "name": "#%%\n"
    }
   },
   "outputs": [],
   "source": []
  },
  {
   "cell_type": "code",
   "execution_count": null,
   "metadata": {
    "pycharm": {
     "name": "#%%\n"
    }
   },
   "outputs": [],
   "source": []
  }
 ],
 "metadata": {
  "kernelspec": {
   "display_name": "Python 3 (ipykernel)",
   "language": "python",
   "name": "python3"
  },
  "language_info": {
   "codemirror_mode": {
    "name": "ipython",
    "version": 3
   },
   "file_extension": ".py",
   "mimetype": "text/x-python",
   "name": "python",
   "nbconvert_exporter": "python",
   "pygments_lexer": "ipython3",
   "version": "3.9.12"
  }
 },
 "nbformat": 4,
 "nbformat_minor": 1
}