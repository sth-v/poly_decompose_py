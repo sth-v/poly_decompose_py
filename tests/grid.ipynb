{
 "cells": [
  {
   "cell_type": "code",
   "execution_count": 276,
   "metadata": {
    "collapsed": true
   },
   "outputs": [],
   "source": [
    "import math\n",
    "import numpy as np\n",
    "from shapely.geometry import MultiPoint\n",
    "from itertools import product, chain, pairwise"
   ]
  },
  {
   "cell_type": "code",
   "execution_count": 338,
   "outputs": [],
   "source": [
    "breakpoints = [([-37.647863, 363.520713], 1), ([-101.993307, 618.306022], 0), ([-116.276208, 686.644227], 0), ([-43.256272, 704.133424], 0), ([-97.187671, 928.036095], 1), ([-30.823008, 943.939461], 0), ([-22.791816, 910.584813], 0), ([41.779946, 926.056381], 0), ([129.221734, 546.278255], 1)]\n",
    "\n",
    "Cxy = list(range(58, 109))\n",
    "Ch = [9, 12]"
   ],
   "metadata": {
    "collapsed": false,
    "pycharm": {
     "name": "#%%\n"
    }
   }
  },
  {
   "cell_type": "code",
   "execution_count": 339,
   "outputs": [],
   "source": [
    "class BaseSection:\n",
    "    def __init__(self, angle, leng, widt, road):\n",
    "        self.angle = angle\n",
    "        self.an_normalized = self.angle_normalized()\n",
    "        self.length, self.width, self.road = leng, widt, road\n",
    "\n",
    "    def angle_normalized(self):\n",
    "        if self.angle > math.pi / 4:\n",
    "            if self.angle < math.pi / 2:\n",
    "                ang = (math.pi / 2) - self.angle\n",
    "            elif 3 * math.pi / 4 > self.angle > math.pi / 2:\n",
    "                ang = self.angle - (math.pi / 2)\n",
    "            else:\n",
    "                ang = math.pi - self.angle\n",
    "        else:\n",
    "            ang = self.angle\n",
    "        return ang"
   ],
   "metadata": {
    "collapsed": false,
    "pycharm": {
     "name": "#%%\n"
    }
   }
  },
  {
   "cell_type": "code",
   "execution_count": 340,
   "outputs": [],
   "source": [
    "class PolyClusters:\n",
    "    def __init__(self, split_points, cells, road, height):\n",
    "        self.split_points = split_points\n",
    "        self.cells = cells\n",
    "        self.road = road\n",
    "        self.height = height\n",
    "        self.bound_rec = np.asarray(MultiPoint([i[0] for i in self.split_points]).minimum_rotated_rectangle.exterior.coords)\n",
    "        self.projection = self.points_projected()\n",
    "        self.distances, self.coordinates = self.distances()\n",
    "        self.coordinates_dist = self.coordinates_dist()\n",
    "\n",
    "    def cells_by_height(self):\n",
    "\n",
    "\n",
    "    #считаем точки спроецированные на баундинг ректангл\n",
    "    def points_projected(self):\n",
    "        points = []\n",
    "        for i, v in enumerate(self.bound_rec[0:4]):\n",
    "            if i != len(self.bound_rec)-1:\n",
    "                temp =[]\n",
    "                length = np.sum((v-self.bound_rec[i+1])**2)\n",
    "                for sp in self.split_points:\n",
    "                    if sp[1] == 1:\n",
    "                        t = max(0, min(1, np.sum((np.asarray(sp[0]) - v) * (self.bound_rec[i+1] - v)) / length))\n",
    "                        projection = np.asarray(v + t * (self.bound_rec[i+1] - v))\n",
    "                        temp.append(projection)\n",
    "                    else:\n",
    "                        pass\n",
    "                points.append(np.asarray(sorted(temp, key=lambda k: [k[1], k[0]])))\n",
    "        return np.asarray(points)\n",
    "\n",
    "\n",
    "\n",
    "    #считпем расстояния между точками и убиваем мелкие недоразумения вне зависимости от веса. Сейчас 58, возможно надо сделать ключем\n",
    "    #возвращаем длины и тюпли точек из которых можно сразу считать вектора\n",
    "    def distances(self):\n",
    "        arr = np.delete(self.projection, -1, axis=1)\n",
    "        shift_arr = np.delete(np.roll(self.projection, -1, axis=1), -1, axis=1)\n",
    "        dist = np.linalg.norm(arr-shift_arr, axis = 2 )\n",
    "        values = []\n",
    "        distance = []\n",
    "\n",
    "        for p, i in enumerate(dist):\n",
    "            values_to_del = []\n",
    "            d =[]\n",
    "            sum = 0\n",
    "            for v in range(len(i)):\n",
    "                if i[v] < 98 and v!=len(i)-1:\n",
    "                    sum+=i[v]\n",
    "                    values_to_del.append(v+1)\n",
    "                elif i[v] < 98 and v==len(i)-1:\n",
    "                    sum+=i[v]\n",
    "                    d[-1]+=sum\n",
    "                    values_to_del.append(v)\n",
    "                else:\n",
    "                    d.append(sum + i[v])\n",
    "                    sum = 0\n",
    "            values.append(d)\n",
    "            clear_list = np.delete(self.projection[p], values_to_del, axis=0)\n",
    "            distance.append(np.stack((np.delete(clear_list, -1, axis=0), np.delete(np.roll(clear_list, -1, axis=0), -1, axis=0)), axis = 1))\n",
    "\n",
    "        return values, np.asarray(distance)\n",
    "\n",
    "\n",
    "    #комбинации ячеек\n",
    "    def find_numbers(self, ans, temp, dist, index):\n",
    "        if dist == 0:\n",
    "            ans.append(list(temp))\n",
    "        for i in range(index, len(self.cells)):\n",
    "            if (dist - self.road -self.cells[i]) >= 0:\n",
    "                temp.append([self.road//2,self.cells[i],self.road//2])\n",
    "                find_numbers(ans, self.cells, self.road, temp, dist - self.road -self.cells[i], i)\n",
    "                temp.remove([self.road//2,self.cells[i],self.road//2])\n",
    "\n",
    "    def grid_options(self, dist):\n",
    "        ans = []\n",
    "        temp = []\n",
    "        find_numbers(ans, self.cells, self.road, temp, dist, 0)\n",
    "        combinations = []\n",
    "        for i in ans:\n",
    "            combinations.append([item for sublist in i for item in sublist])\n",
    "        return combinations\n",
    "\n",
    "    #функция просчета ячеек будет внутри расчета координат, чтобы не терять структуру\n",
    "    def coordinates_dist(self):\n",
    "        fin =[]\n",
    "        for i,v in enumerate(self.distances[0:2]):\n",
    "            coordinates =[]\n",
    "            for ii, vv in enumerate(v):\n",
    "                kk =[]\n",
    "                options = self.grid_options(round(vv))\n",
    "                vec_one = self.coordinates[i][ii][1] - self.coordinates[i][ii][0]\n",
    "                vec_two = self.coordinates[i+2][ii][1] - self.coordinates[i+2][ii][0]\n",
    "                for o in options:\n",
    "                    dist_l = 0\n",
    "                    opt = []\n",
    "                    for oo in o:\n",
    "                        dist_l+=oo\n",
    "                        p_one = self.coordinates[i][ii][0] + vec_one / np.linalg.norm(vec_one)*dist_l\n",
    "                        p_two = self.coordinates[i+2][ii][0] + vec_two / np.linalg.norm(vec_two)*dist_l\n",
    "                        opt.append([p_one.tolist(),p_two.tolist()])\n",
    "                    kk.append(opt)\n",
    "                coordinates.append(kk)\n",
    "\n",
    "            fin.append(list(product(*coordinates)))\n",
    "        j = list(product(fin[0], fin[1]))\n",
    "\n",
    "        return j\n",
    "\n",
    "\n",
    "\n",
    "\n",
    "\n",
    "\n"
   ],
   "metadata": {
    "collapsed": false,
    "pycharm": {
     "name": "#%%\n"
    }
   }
  },
  {
   "cell_type": "code",
   "execution_count": 343,
   "outputs": [
    {
     "name": "stderr",
     "output_type": "stream",
     "text": [
      "/var/folders/l7/52t7xngd2973k8x9_y55rmyh0000gn/T/ipykernel_14570/1773365292.py:58: VisibleDeprecationWarning: Creating an ndarray from ragged nested sequences (which is a list-or-tuple of lists-or-tuples-or ndarrays with different lengths or shapes) is deprecated. If you meant to do this, you must specify 'dtype=object' when creating the ndarray.\n",
      "  return values, np.asarray(distance)\n",
      "IOPub data rate exceeded.\n",
      "The notebook server will temporarily stop sending output\n",
      "to the client in order to avoid crashing it.\n",
      "To change this limit, set the config variable\n",
      "`--NotebookApp.iopub_data_rate_limit`.\n",
      "\n",
      "Current values:\n",
      "NotebookApp.iopub_data_rate_limit=1000000.0 (bytes/sec)\n",
      "NotebookApp.rate_limit_window=3.0 (secs)\n",
      "\n"
     ]
    }
   ],
   "source": [
    "p_c = PolyClusters(breakpoints, Cxy, 40)\n",
    "#v = p_c.coordinates_dist\n",
    "v = p_c.coordinates_dist\n",
    "#print(p_c.projection)\n",
    "#list(product(*v[0]))\n",
    "print(v)"
   ],
   "metadata": {
    "collapsed": false,
    "pycharm": {
     "name": "#%%\n"
    }
   }
  },
  {
   "cell_type": "code",
   "execution_count": 206,
   "outputs": [
    {
     "name": "stdout",
     "output_type": "stream",
     "text": [
      "[(0, 1, 2), (0, 1, 3), (0, 1, 4), (0, 1, 5), (0, 11, 2), (0, 11, 3), (0, 11, 4), (0, 11, 5)]\n"
     ]
    }
   ],
   "source": [],
   "metadata": {
    "collapsed": false,
    "pycharm": {
     "name": "#%%\n"
    }
   }
  },
  {
   "cell_type": "code",
   "execution_count": 187,
   "outputs": [],
   "source": [],
   "metadata": {
    "collapsed": false,
    "pycharm": {
     "name": "#%%\n"
    }
   }
  },
  {
   "cell_type": "code",
   "execution_count": null,
   "outputs": [],
   "source": [],
   "metadata": {
    "collapsed": false,
    "pycharm": {
     "name": "#%%\n"
    }
   }
  }
 ],
 "metadata": {
  "kernelspec": {
   "display_name": "Python 3",
   "language": "python",
   "name": "python3"
  },
  "language_info": {
   "codemirror_mode": {
    "name": "ipython",
    "version": 2
   },
   "file_extension": ".py",
   "mimetype": "text/x-python",
   "name": "python",
   "nbconvert_exporter": "python",
   "pygments_lexer": "ipython2",
   "version": "2.7.6"
  }
 },
 "nbformat": 4,
 "nbformat_minor": 0
}