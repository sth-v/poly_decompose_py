{
 "cells": [
  {
   "cell_type": "code",
   "execution_count": 56,
   "metadata": {
    "collapsed": true
   },
   "outputs": [],
   "source": [
    "import math\n",
    "import numpy as np\n",
    "from shapely.geometry import MultiPoint"
   ]
  },
  {
   "cell_type": "code",
   "execution_count": 57,
   "outputs": [],
   "source": [
    "breakpoints = [([-37.647863, 363.520713], 1), ([-86.993307, 566.306022], 1), ([-116.276208, 686.644227], 1), ([-43.256272, 704.133424], 0), ([-97.187671, 928.036095], 0), ([-30.823008, 943.939461], 1), ([-22.791816, 910.584813], 0), ([41.779946, 926.056381], 0), ([129.221734, 546.278255], 1)]\n",
    "\n",
    "Cxy = list(range(58, 109))\n",
    "Ch = [9, 12]"
   ],
   "metadata": {
    "collapsed": false,
    "pycharm": {
     "name": "#%%\n"
    }
   }
  },
  {
   "cell_type": "code",
   "execution_count": 58,
   "outputs": [],
   "source": [
    "class BaseSection:\n",
    "    def __init__(self, angle, leng, widt, road):\n",
    "        self.angle = angle\n",
    "        self.an_normalized = self.angle_normalized()\n",
    "        self.length, self.width, self.road = leng, widt, road\n",
    "        self.length_dep = self.length_dependency()\n",
    "        self.length_r, self.width_r = self.possible_combinations()\n",
    "        self.flat_length, self.flat_width = self.flat_dictionary()\n",
    "\n",
    "    def angle_normalized(self):\n",
    "        if self.angle > math.pi / 4:\n",
    "            if self.angle < math.pi / 2:\n",
    "                ang = (math.pi / 2) - self.angle\n",
    "            elif 3 * math.pi / 4 > self.angle > math.pi / 2:\n",
    "                ang = self.angle - (math.pi / 2)\n",
    "            else:\n",
    "                ang = math.pi - self.angle\n",
    "        else:\n",
    "            ang = self.angle\n",
    "        return ang"
   ],
   "metadata": {
    "collapsed": false,
    "pycharm": {
     "name": "#%%\n"
    }
   }
  },
  {
   "cell_type": "code",
   "execution_count": 271,
   "outputs": [],
   "source": [
    "class PolyClusters:\n",
    "    def __init__(self, split_points):\n",
    "        self.split_points = split_points\n",
    "        self.bound_rec = np.asarray(MultiPoint([i[0] for i in self.split_points]).minimum_rotated_rectangle.exterior.coords)\n",
    "        self.projection = self.points_projected()\n",
    "\n",
    "    #считаем точки спроецированные на баундинг ректангл\n",
    "    def points_projected(self):\n",
    "        points = []\n",
    "        for i, v in enumerate(self.bound_rec[0:4]):\n",
    "            if i != len(self.bound_rec)-1:\n",
    "                temp =[]\n",
    "                length = np.sum((v-self.bound_rec[i+1])**2)\n",
    "                for sp in self.split_points:\n",
    "                    if sp[1] == 1:\n",
    "                        t = max(0, min(1, np.sum((np.asarray(sp[0]) - v) * (self.bound_rec[i+1] - v)) / length))\n",
    "                        projection = np.asarray(v + t * (self.bound_rec[i+1] - v))\n",
    "                        temp.append(projection)\n",
    "                    else:\n",
    "                        pass\n",
    "            points.append(np.asarray(temp))\n",
    "        return np.asarray(points)\n",
    "\n",
    "    def distances(self):\n",
    "        arr = np.delete(self.projection, 4, axis=1)\n",
    "        shift_arr = np.delete(np.roll(self.projection, -1, axis=1), 4, axis=1)\n",
    "        dist = np.linalg.norm(arr-shift_arr, axis = 2 )\n",
    "        dist_point = np.stack((arr, shift_arr), axis = 2)\n",
    "        values = []\n",
    "        for i in dist:\n",
    "            d =[]\n",
    "            sum = 0\n",
    "            for v in range(len(i)):\n",
    "                if i[v] < 58 and v!=len(i)-1:\n",
    "                    sum+=i[v]\n",
    "                elif i[v] < 58 and v==len(i)-1:\n",
    "                    sum+=i[v]\n",
    "                    d[-1]+=sum\n",
    "                else:\n",
    "                    d.append(sum + i[v])\n",
    "                    sum = 0\n",
    "\n",
    "            values.append(d)\n",
    "        return values, dist\n",
    "\n",
    "\n",
    "\n",
    "\n",
    "\n",
    "\n",
    "\n",
    "\n",
    "\n",
    "\n",
    "\n"
   ],
   "metadata": {
    "collapsed": false,
    "pycharm": {
     "name": "#%%\n"
    }
   }
  },
  {
   "cell_type": "code",
   "execution_count": 272,
   "outputs": [
    {
     "data": {
      "text/plain": "([[[208.6867483082789, 0],\n   [123.84027628145742, 1],\n   [231.56154456452532, 2],\n   [423.4319528758201, 3]],\n  [[145.12783227425433, 2], [66.73930987798941, 3]],\n  [[208.68674830827885, 0],\n   [123.84027628145742, 1],\n   [231.5615445645252, 2],\n   [423.43195287581995, 3]],\n  [[145.12783227425442, 2], [66.73930987798934, 3]]],\n array([[208.68674831, 123.84027628, 231.56154456, 423.43195288],\n        [  2.58756069,   1.53552731, 141.00474428,  66.73930988],\n        [208.68674831, 123.84027628, 231.56154456, 423.43195288],\n        [  2.58756069,   1.53552731, 141.00474428,  66.73930988]]))"
     },
     "execution_count": 272,
     "metadata": {},
     "output_type": "execute_result"
    }
   ],
   "source": [
    "p_c = PolyClusters(breakpoints)\n",
    "v, b = p_c.distances()\n",
    "\n",
    "#print(p_c.projection)\n",
    "v, b"
   ],
   "metadata": {
    "collapsed": false,
    "pycharm": {
     "name": "#%%\n"
    }
   }
  },
  {
   "cell_type": "code",
   "execution_count": 273,
   "outputs": [
    {
     "data": {
      "text/plain": "[72, 72, 86]"
     },
     "execution_count": 273,
     "metadata": {},
     "output_type": "execute_result"
    }
   ],
   "source": [
    "i = [7,5,60,72,1,5,74,2,4]\n",
    "\n",
    "d =[]\n",
    "sum = 0\n",
    "for v in range(len(i)):\n",
    "    if i[v] < 58 and v!=len(i)-1:\n",
    "        sum+=i[v]\n",
    "    elif i[v] < 58 and v==len(i)-1:\n",
    "        sum+=i[v]\n",
    "        d[-1]+=sum\n",
    "    else:\n",
    "        d.append(sum + i[v])\n",
    "        sum = 0\n",
    "d"
   ],
   "metadata": {
    "collapsed": false,
    "pycharm": {
     "name": "#%%\n"
    }
   }
  },
  {
   "cell_type": "code",
   "execution_count": null,
   "outputs": [],
   "source": [],
   "metadata": {
    "collapsed": false,
    "pycharm": {
     "name": "#%%\n"
    }
   }
  }
 ],
 "metadata": {
  "kernelspec": {
   "display_name": "Python 3",
   "language": "python",
   "name": "python3"
  },
  "language_info": {
   "codemirror_mode": {
    "name": "ipython",
    "version": 2
   },
   "file_extension": ".py",
   "mimetype": "text/x-python",
   "name": "python",
   "nbconvert_exporter": "python",
   "pygments_lexer": "ipython2",
   "version": "2.7.6"
  }
 },
 "nbformat": 4,
 "nbformat_minor": 0
}