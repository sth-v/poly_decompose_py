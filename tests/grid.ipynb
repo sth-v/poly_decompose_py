{
 "cells": [
  {
   "cell_type": "code",
   "execution_count": 1,
   "metadata": {
    "collapsed": true
   },
   "outputs": [],
   "source": [
    "import math\n",
    "import numpy as np\n",
    "from shapely.geometry import MultiPoint"
   ]
  },
  {
   "cell_type": "code",
   "execution_count": 2,
   "outputs": [],
   "source": [
    "breakpoints = [([-37.647863, 363.520713], 1), ([-86.993307, 566.306022], 1), ([-116.276208, 686.644227], 1), ([-43.256272, 704.133424], 0), ([-97.187671, 928.036095], 0), ([-30.823008, 943.939461], 1), ([-22.791816, 910.584813], 0), ([41.779946, 926.056381], 0), ([129.221734, 546.278255], 1)]\n",
    "\n",
    "Cxy = list(range(58, 109))\n",
    "Ch = [9, 12]"
   ],
   "metadata": {
    "collapsed": false,
    "pycharm": {
     "name": "#%%\n"
    }
   }
  },
  {
   "cell_type": "code",
   "execution_count": 3,
   "outputs": [],
   "source": [
    "class BaseSection:\n",
    "    def __init__(self, angle, leng, widt, road):\n",
    "        self.angle = angle\n",
    "        self.an_normalized = self.angle_normalized()\n",
    "        self.length, self.width, self.road = leng, widt, road\n",
    "\n",
    "    def angle_normalized(self):\n",
    "        if self.angle > math.pi / 4:\n",
    "            if self.angle < math.pi / 2:\n",
    "                ang = (math.pi / 2) - self.angle\n",
    "            elif 3 * math.pi / 4 > self.angle > math.pi / 2:\n",
    "                ang = self.angle - (math.pi / 2)\n",
    "            else:\n",
    "                ang = math.pi - self.angle\n",
    "        else:\n",
    "            ang = self.angle\n",
    "        return ang"
   ],
   "metadata": {
    "collapsed": false,
    "pycharm": {
     "name": "#%%\n"
    }
   }
  },
  {
   "cell_type": "code",
   "execution_count": 173,
   "outputs": [],
   "source": [
    "class PolyClusters:\n",
    "    def __init__(self, split_points, cells, road):\n",
    "        self.split_points = split_points\n",
    "        self.cells = cells\n",
    "        self.road = road\n",
    "        self.bound_rec = np.asarray(MultiPoint([i[0] for i in self.split_points]).minimum_rotated_rectangle.exterior.coords)\n",
    "        self.projection = self.points_projected()\n",
    "        self.distances, self.coordinates = self.distances()\n",
    "\n",
    "    #считаем точки спроецированные на баундинг ректангл\n",
    "    def points_projected(self):\n",
    "        points = []\n",
    "        for i, v in enumerate(self.bound_rec[0:4]):\n",
    "            if i != len(self.bound_rec)-1:\n",
    "                temp =[]\n",
    "                length = np.sum((v-self.bound_rec[i+1])**2)\n",
    "                for sp in self.split_points:\n",
    "                    if sp[1] == 1:\n",
    "                        t = max(0, min(1, np.sum((np.asarray(sp[0]) - v) * (self.bound_rec[i+1] - v)) / length))\n",
    "                        projection = np.asarray(v + t * (self.bound_rec[i+1] - v))\n",
    "                        temp.append(projection)\n",
    "                    else:\n",
    "                        pass\n",
    "                points.append(np.asarray(temp))\n",
    "        return np.asarray(points)\n",
    "\n",
    "\n",
    "\n",
    "    #считпем расстояния между точками и убиваем мелкие недоразумения вне зависимости от веса. Сейчас 58, возможно надо сделать ключем\n",
    "    #возвращаем длины и тюпли точек из которых можно сразу считать вектора\n",
    "    def distances(self):\n",
    "        arr = np.delete(self.projection, -1, axis=1)\n",
    "        shift_arr = np.delete(np.roll(self.projection, -1, axis=1), -1, axis=1)\n",
    "        dist = np.linalg.norm(arr-shift_arr, axis = 2 )\n",
    "        values = []\n",
    "        distance = []\n",
    "\n",
    "        for p, i in enumerate(dist):\n",
    "            values_to_del = []\n",
    "            d =[]\n",
    "            sum = 0\n",
    "            for v in range(len(i)):\n",
    "                if i[v] < 58 and v!=len(i)-1:\n",
    "                    sum+=i[v]\n",
    "                    values_to_del.append(v+1)\n",
    "                elif i[v] < 58 and v==len(i)-1:\n",
    "                    sum+=i[v]\n",
    "                    d[-1]+=sum\n",
    "                    values_to_del.append(v)\n",
    "                else:\n",
    "                    d.append(sum + i[v])\n",
    "                    sum = 0\n",
    "            values.append(d)\n",
    "            clear_list = np.delete(self.projection[p], values_to_del, axis=0)\n",
    "            distance.append(np.stack((np.delete(clear_list, -1, axis=0), np.delete(np.roll(clear_list, -1, axis=0), -1, axis=0)), axis = 1))\n",
    "\n",
    "        return values, np.asarray(distance)\n",
    "\n",
    "\n",
    "    #комбинации ячеек\n",
    "    def grid_options(self):\n",
    "        ans = []\n",
    "        temp = []\n",
    "        wd = round(length[0])\n",
    "        def find_numbers(ans, values, r, temp, wd, index):\n",
    "            if wd == 0:\n",
    "                ans.append(list(temp))\n",
    "            for i in range(index, len(values)):\n",
    "                if (wd - r-values[i]) >= 0:\n",
    "                    temp.append([r//2,values[i],r//2])\n",
    "                    find_numbers(ans, values, r, temp, wd - r -values[i], i)\n",
    "                    temp.remove([r//2,values[i],r//2])\n",
    "\n",
    "        find_numbers(ans, values, r, temp, wd, 0)\n",
    "        combinations = []\n",
    "        for i in ans:\n",
    "            combinations.append([item for sublist in i for item in sublist])\n",
    "        return combinations\n",
    "\n",
    "    #функция просчета ячеек будет внутри расчета координат, чтобы не терять структуру\n",
    "    def coordinates(self):\n",
    "\n",
    "\n",
    "\n",
    "\n",
    "\n",
    "\n"
   ],
   "metadata": {
    "collapsed": false,
    "pycharm": {
     "name": "#%%\n"
    }
   }
  },
  {
   "cell_type": "code",
   "execution_count": 176,
   "outputs": [
    {
     "name": "stdout",
     "output_type": "stream",
     "text": [
      "[[208.6867483082789, 123.84027628145742, 231.56154456452532, 423.4319528758201], [145.12783227425433, 66.73930987798941], [208.68674830827885, 123.84027628145742, 231.5615445645252, 423.43195287581995], [145.12783227425442, 66.73930987798934]]\n"
     ]
    },
    {
     "name": "stderr",
     "output_type": "stream",
     "text": [
      "/var/folders/l7/52t7xngd2973k8x9_y55rmyh0000gn/T/ipykernel_14306/2205715497.py:56: VisibleDeprecationWarning: Creating an ndarray from ragged nested sequences (which is a list-or-tuple of lists-or-tuples-or ndarrays with different lengths or shapes) is deprecated. If you meant to do this, you must specify 'dtype=object' when creating the ndarray.\n",
      "  return values, np.asarray(distance)\n"
     ]
    }
   ],
   "source": [
    "p_c = PolyClusters(breakpoints, Cxy)\n",
    "v = p_c.distances\n",
    "#v = p_c.projection\n",
    "#print(p_c.projection)\n",
    "print(v)"
   ],
   "metadata": {
    "collapsed": false,
    "pycharm": {
     "name": "#%%\n"
    }
   }
  },
  {
   "cell_type": "code",
   "execution_count": 216,
   "outputs": [
    {
     "data": {
      "text/plain": "[[20, 58, 20, 20, 71, 20],\n [20, 59, 20, 20, 70, 20],\n [20, 60, 20, 20, 69, 20],\n [20, 61, 20, 20, 68, 20],\n [20, 62, 20, 20, 67, 20],\n [20, 63, 20, 20, 66, 20],\n [20, 64, 20, 20, 65, 20]]"
     },
     "execution_count": 216,
     "metadata": {},
     "output_type": "execute_result"
    }
   ],
   "source": [
    "ii = [208.68, 123.84, 231.56, 423.43, 146]\n",
    "cx = list(range(58,109))\n",
    "r = 40\n",
    "\n",
    "def grid_options(length, values, r):\n",
    "    ans = []\n",
    "    temp = []\n",
    "    wd = round(length[0])\n",
    "    def find_numbers(ans, values, r, temp, wd, index):\n",
    "        if wd == 0:\n",
    "            ans.append(list(temp))\n",
    "        for i in range(index, len(values)):\n",
    "            if (wd - r-values[i]) >= 0:\n",
    "                temp.append([r//2,values[i],r//2])\n",
    "                find_numbers(ans, values, r, temp, wd - r -values[i], i)\n",
    "                temp.remove([r//2,values[i],r//2])\n",
    "\n",
    "    find_numbers(ans, values, r, temp, wd, 0)\n",
    "    combinations = []\n",
    "    for i in ans:\n",
    "        combinations.append([item for sublist in i for item in sublist])\n",
    "    return combinations\n",
    "\n",
    "v = grid_options(ii,cx,r)\n",
    "v"
   ],
   "metadata": {
    "collapsed": false,
    "pycharm": {
     "name": "#%%\n"
    }
   }
  },
  {
   "cell_type": "code",
   "execution_count": 187,
   "outputs": [],
   "source": [],
   "metadata": {
    "collapsed": false,
    "pycharm": {
     "name": "#%%\n"
    }
   }
  },
  {
   "cell_type": "code",
   "execution_count": null,
   "outputs": [],
   "source": [],
   "metadata": {
    "collapsed": false,
    "pycharm": {
     "name": "#%%\n"
    }
   }
  }
 ],
 "metadata": {
  "kernelspec": {
   "display_name": "Python 3",
   "language": "python",
   "name": "python3"
  },
  "language_info": {
   "codemirror_mode": {
    "name": "ipython",
    "version": 2
   },
   "file_extension": ".py",
   "mimetype": "text/x-python",
   "name": "python",
   "nbconvert_exporter": "python",
   "pygments_lexer": "ipython2",
   "version": "2.7.6"
  }
 },
 "nbformat": 4,
 "nbformat_minor": 0
}