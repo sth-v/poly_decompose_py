{
 "cells": [
  {
   "cell_type": "code",
   "execution_count": 56,
   "metadata": {
    "collapsed": true
   },
   "outputs": [],
   "source": [
    "import math\n",
    "import numpy as np\n",
    "from shapely.geometry import MultiPoint"
   ]
  },
  {
   "cell_type": "code",
   "execution_count": 57,
   "outputs": [],
   "source": [
    "breakpoints = [([-37.647863, 363.520713], 1), ([-86.993307, 566.306022], 1), ([-116.276208, 686.644227], 1), ([-43.256272, 704.133424], 0), ([-97.187671, 928.036095], 0), ([-30.823008, 943.939461], 1), ([-22.791816, 910.584813], 0), ([41.779946, 926.056381], 0), ([129.221734, 546.278255], 1)]\n",
    "\n",
    "Cxy = list(range(58, 109))\n",
    "Ch = [9, 12]"
   ],
   "metadata": {
    "collapsed": false,
    "pycharm": {
     "name": "#%%\n"
    }
   }
  },
  {
   "cell_type": "code",
   "execution_count": 58,
   "outputs": [],
   "source": [
    "class BaseSection:\n",
    "    def __init__(self, angle, leng, widt, road):\n",
    "        self.angle = angle\n",
    "        self.an_normalized = self.angle_normalized()\n",
    "        self.length, self.width, self.road = leng, widt, road\n",
    "        self.length_dep = self.length_dependency()\n",
    "        self.length_r, self.width_r = self.possible_combinations()\n",
    "        self.flat_length, self.flat_width = self.flat_dictionary()\n",
    "\n",
    "    def angle_normalized(self):\n",
    "        if self.angle > math.pi / 4:\n",
    "            if self.angle < math.pi / 2:\n",
    "                ang = (math.pi / 2) - self.angle\n",
    "            elif 3 * math.pi / 4 > self.angle > math.pi / 2:\n",
    "                ang = self.angle - (math.pi / 2)\n",
    "            else:\n",
    "                ang = math.pi - self.angle\n",
    "        else:\n",
    "            ang = self.angle\n",
    "        return ang"
   ],
   "metadata": {
    "collapsed": false,
    "pycharm": {
     "name": "#%%\n"
    }
   }
  },
  {
   "cell_type": "code",
   "execution_count": 302,
   "outputs": [],
   "source": [
    "class PolyClusters:\n",
    "    def __init__(self, split_points, cells):\n",
    "        self.split_points = split_points\n",
    "        self.cells = cells\n",
    "        self.bound_rec = np.asarray(MultiPoint([i[0] for i in self.split_points]).minimum_rotated_rectangle.exterior.coords)\n",
    "        self.projection = self.points_projected()\n",
    "        self.distances = self.distances()\n",
    "\n",
    "    #считаем точки спроецированные на баундинг ректангл\n",
    "    def points_projected(self):\n",
    "        points = []\n",
    "        for i, v in enumerate(self.bound_rec[0:4]):\n",
    "            if i != len(self.bound_rec)-1:\n",
    "                temp =[]\n",
    "                length = np.sum((v-self.bound_rec[i+1])**2)\n",
    "                for sp in self.split_points:\n",
    "                    if sp[1] == 1:\n",
    "                        t = max(0, min(1, np.sum((np.asarray(sp[0]) - v) * (self.bound_rec[i+1] - v)) / length))\n",
    "                        projection = np.asarray(v + t * (self.bound_rec[i+1] - v))\n",
    "                        temp.append(projection)\n",
    "                    else:\n",
    "                        pass\n",
    "            points.append(np.asarray(temp))\n",
    "        return np.asarray(points)\n",
    "\n",
    "\n",
    "    #дописать часть которая удаляет точки\n",
    "    #считпем расстояния между точками и убиваем мелкие недоразумения вне зависимости от веса. Сейчас 58, возможно надо сделать ключем\n",
    "    def distances(self):\n",
    "        arr = np.delete(self.projection, 4, axis=1)\n",
    "        shift_arr = np.delete(np.roll(self.projection, -1, axis=1), 4, axis=1)\n",
    "        dist = np.linalg.norm(arr-shift_arr, axis = 2 )\n",
    "        dist_point = np.stack((arr, shift_arr), axis = 2)\n",
    "        values = []\n",
    "        points_to_cull =[]\n",
    "        for p, i in enumerate(dist):\n",
    "            d =[]\n",
    "            sum = 0\n",
    "            for v in range(len(i)):\n",
    "                if i[v] < 58 and v!=len(i)-1:\n",
    "                    sum+=i[v]\n",
    "                elif i[v] < 58 and v==len(i)-1:\n",
    "                    sum+=i[v]\n",
    "                    d[-1]+=sum\n",
    "                else:\n",
    "                    d.append(sum + i[v])\n",
    "                    sum = 0\n",
    "            values.append(d)\n",
    "        return values\n",
    "\n",
    "\n",
    "    '''def grid_options(self):\n",
    "\n",
    "        def combination_sum():\n",
    "            ans = []\n",
    "            temp = []\n",
    "            arr = values\n",
    "            wd = length\n",
    "            find_numbers(ans, arr, temp, wd, 0, k)\n",
    "            #a = (np.argmin([val[1] for  val in ans]))\n",
    "            return ans\n",
    "\n",
    "        def find_numbers(ans, arr, temp, wd, index,k):\n",
    "                if k >= wd >= 0:\n",
    "                    ans.append([list(temp), wd])\n",
    "                for i in range(index, len(arr)):\n",
    "                    if (wd - arr[i]) >= 0:\n",
    "                        temp.append(arr[i])\n",
    "                        find_numbers(ans, arr, temp, wd - arr[i], i, k)\n",
    "                        temp.remove(arr[i])\n",
    "\n",
    "        return combination_sum()'''\n",
    "\n",
    "\n",
    "\n",
    "\n",
    "\n",
    "\n",
    "\n",
    "\n"
   ],
   "metadata": {
    "collapsed": false,
    "pycharm": {
     "name": "#%%\n"
    }
   }
  },
  {
   "cell_type": "code",
   "execution_count": 303,
   "outputs": [
    {
     "data": {
      "text/plain": "[[208.6867483082789,\n  123.84027628145742,\n  231.56154456452532,\n  423.4319528758201],\n [145.12783227425433, 66.73930987798941],\n [208.68674830827885,\n  123.84027628145742,\n  231.5615445645252,\n  423.43195287581995],\n [145.12783227425442, 66.73930987798934]]"
     },
     "execution_count": 303,
     "metadata": {},
     "output_type": "execute_result"
    }
   ],
   "source": [
    "p_c = PolyClusters(breakpoints, Cxy)\n",
    "v = p_c.distances\n",
    "\n",
    "#print(p_c.projection)\n",
    "v"
   ],
   "metadata": {
    "collapsed": false,
    "pycharm": {
     "name": "#%%\n"
    }
   }
  },
  {
   "cell_type": "code",
   "execution_count": 316,
   "outputs": [
    {
     "data": {
      "text/plain": "[[[58, 71], 0],\n [[59, 70], 0],\n [[60, 69], 0],\n [[61, 68], 0],\n [[62, 67], 0],\n [[63, 66], 0],\n [[64, 65], 0]]"
     },
     "execution_count": 316,
     "metadata": {},
     "output_type": "execute_result"
    }
   ],
   "source": [
    "ii = [208.68, 123.84, 231.56, 423.43, 146]\n",
    "cx = list(range(58,109))\n",
    "r = 40\n",
    "\n",
    "def grid_options(length, values, r):\n",
    "    ans = []\n",
    "    temp = []\n",
    "    wd = round(length[0])\n",
    "    def find_numbers(ans, values, r, temp, wd, index):\n",
    "        if wd == 0:\n",
    "            ans.append([list(temp), wd])\n",
    "        for i in range(index, len(values)):\n",
    "            if (wd - r-values[i]) >= 0:\n",
    "                temp.append(values[i])\n",
    "                find_numbers(ans, values, r, temp, wd - r -values[i], i)\n",
    "                temp.remove(values[i])\n",
    "\n",
    "    find_numbers(ans, values, r, temp, wd, 0)\n",
    "    return ans\n",
    "\n",
    "v = grid_options(ii,cx,r)\n",
    "v"
   ],
   "metadata": {
    "collapsed": false,
    "pycharm": {
     "name": "#%%\n"
    }
   }
  },
  {
   "cell_type": "code",
   "execution_count": null,
   "outputs": [],
   "source": [],
   "metadata": {
    "collapsed": false,
    "pycharm": {
     "name": "#%%\n"
    }
   }
  }
 ],
 "metadata": {
  "kernelspec": {
   "display_name": "Python 3",
   "language": "python",
   "name": "python3"
  },
  "language_info": {
   "codemirror_mode": {
    "name": "ipython",
    "version": 2
   },
   "file_extension": ".py",
   "mimetype": "text/x-python",
   "name": "python",
   "nbconvert_exporter": "python",
   "pygments_lexer": "ipython2",
   "version": "2.7.6"
  }
 },
 "nbformat": 4,
 "nbformat_minor": 0
}