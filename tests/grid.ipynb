{
 "cells": [
  {
   "cell_type": "code",
   "execution_count": 89,
   "metadata": {
    "collapsed": true,
    "pycharm": {
     "name": "#%%\n"
    }
   },
   "outputs": [],
   "source": [
    "import math\n",
    "import numpy as np\n",
    "from shapely.geometry import MultiPoint\n",
    "from itertools import product, chain, pairwise"
   ]
  },
  {
   "cell_type": "code",
   "execution_count": 90,
   "outputs": [],
   "source": [
    "breakpoints = [([-116.276208, 686.644227], 0),\n",
    "([-43.256272, 704.133424], 0),\n",
    "([-97.187671, 928.036095], 0),\n",
    "([-30.823008, 943.939461], 0),\n",
    "([-22.791816, 910.584813], 0),\n",
    "([41.779946, 926.056381], 0),\n",
    "([129.221734, 546.278255], 0),\n",
    "([-37.647863, 363.520713], 0),\n",
    "([-101.383804, 618.480078], 0)]\n",
    "\n",
    "\n",
    "\n",
    "Cxy = list(range(58, 109))\n",
    "Ch = [9, 12]"
   ],
   "metadata": {
    "collapsed": false,
    "pycharm": {
     "name": "#%%\n"
    }
   }
  },
  {
   "cell_type": "code",
   "execution_count": 91,
   "outputs": [],
   "source": [
    "class BaseSection:\n",
    "    def __init__(self, angle, leng, widt, road):\n",
    "        self.angle = angle\n",
    "        self.an_normalized = self.angle_normalized()\n",
    "        self.length, self.width, self.road = leng, widt, road\n",
    "\n",
    "    def angle_normalized(self):\n",
    "        if self.angle > math.pi / 4:\n",
    "            if self.angle < math.pi / 2:\n",
    "                ang = (math.pi / 2) - self.angle\n",
    "            elif 3 * math.pi / 4 > self.angle > math.pi / 2:\n",
    "                ang = self.angle - (math.pi / 2)\n",
    "            else:\n",
    "                ang = math.pi - self.angle\n",
    "        else:\n",
    "            ang = self.angle\n",
    "        return ang"
   ],
   "metadata": {
    "collapsed": false,
    "pycharm": {
     "name": "#%%\n"
    }
   }
  },
  {
   "cell_type": "code",
   "execution_count": 92,
   "outputs": [],
   "source": [
    "class PolyClusters:\n",
    "    def __init__(self, split_points, cells, road):\n",
    "        self.split_points = split_points\n",
    "        self.cells = cells\n",
    "        self.road = road\n",
    "        self.bound_rec = np.asarray(MultiPoint([i[0] for i in self.split_points]).minimum_rotated_rectangle.exterior.coords)\n",
    "       self.projection = self.points_projected()\n",
    "        #self.grids = self.grid_options()\n",
    "        #self.distances, self.coordinates = self.distances()\n",
    "        #self.coordinates_dist = self.coordinates_dist()\n",
    "\n",
    "\n",
    "\n",
    "    #считаем точки спроецированные на баундинг ректангл\n",
    "    def points_projected(self):\n",
    "        points = []\n",
    "        for i, v in enumerate(self.bound_rec[0:4]):\n",
    "            if i != len(self.bound_rec)-1:\n",
    "                temp =[]\n",
    "                length = np.sum((v-self.bound_rec[i+1])**2)\n",
    "                for sp in self.split_points:\n",
    "                    if sp[1] == 1:\n",
    "                        t = max(0, min(1, np.sum((np.asarray(sp[0]) - v) * (self.bound_rec[i+1] - v)) / length))\n",
    "                        projection = np.asarray(v + t * (self.bound_rec[i+1] - v))\n",
    "                        temp.append(projection)\n",
    "                    else:\n",
    "                        pass\n",
    "                points.append(np.asarray(sorted(temp, key=lambda k: [k[1], k[0]])))\n",
    "        return np.asarray(points)\n",
    "\n",
    "\n",
    "\n",
    "    #считпем расстояния между точками и убиваем мелкие недоразумения вне зависимости от веса. Сейчас 58, возможно надо сделать ключем\n",
    "    #возвращаем длины и тюпли точек из которых можно сразу считать вектора'''\n",
    "\n",
    "    def distances(self):\n",
    "        arr = np.delete(self.projection, -1, axis=1)\n",
    "        shift_arr = np.delete(np.roll(self.projection, -1, axis=1), -1, axis=1)\n",
    "        dist = np.linalg.norm(arr-shift_arr, axis = 2 )\n",
    "        values = []\n",
    "        distance = []\n",
    "\n",
    "        for p, i in enumerate(dist):\n",
    "            values_to_del = []\n",
    "            d =[]\n",
    "            sum = 0\n",
    "            for v in range(len(i)):\n",
    "\n",
    "                if i[v] < 98 and v!=len(i)-1:\n",
    "                    sum+=i[v]\n",
    "                    values_to_del.append(v+1)\n",
    "\n",
    "                elif i[v] < 98 and v==len(i)-1:\n",
    "                    sum+=i[v]\n",
    "                    d[-1]+=sum\n",
    "                    values_to_del.append(v)\n",
    "\n",
    "                else:\n",
    "                    d.append(sum + i[v])\n",
    "                    sum = 0\n",
    "            values.append(d)\n",
    "            clear_list = np.delete(self.projection[p], values_to_del, axis=0)\n",
    "            distance.append(np.stack((np.delete(clear_list, -1, axis=0), np.delete(np.roll(clear_list, -1, axis=0), -1, axis=0)), axis = 1))\n",
    "\n",
    "        return values, np.asarray(distance)\n",
    "\n",
    "\n",
    "\n",
    "    #комбинации ячеек\n",
    "    def find_numbers(self, ans, temp, dist, index):\n",
    "        if dist == 0:\n",
    "            ans.append(list(temp))\n",
    "        for i in range(index, len(self.cells)):\n",
    "            if (dist - self.road -self.cells[i]) >= 0:\n",
    "                temp.append([self.road//2,self.cells[i],self.road//2])\n",
    "                self.find_numbers(ans, temp, (dist - self.road -self.cells[i]), i)\n",
    "                temp.remove([self.road//2,self.cells[i],self.road//2])\n",
    "\n",
    "    def grid_options(self, dist):\n",
    "        ans = []\n",
    "        temp = []\n",
    "        self.find_numbers(ans, temp, dist, 0)\n",
    "        combinations = []\n",
    "        for i in ans:\n",
    "            combinations.append([item for sublist in i for item in sublist])\n",
    "        return combinations\n",
    "\n",
    "    #функция просчета ячеек будет внутри расчета координат, чтобы не терять структуру\n",
    "    def coordinates_dist(self):\n",
    "        fin =[]\n",
    "        for i,v in enumerate(self.distances[0:2]):\n",
    "            coordinates =[]\n",
    "            for ii, vv in enumerate(v):\n",
    "                kk =[]\n",
    "                options = self.grid_options(round(vv))\n",
    "                vec_one = self.coordinates[i][ii][1] - self.coordinates[i][ii][0]\n",
    "                vec_two = self.coordinates[i+2][ii][1] - self.coordinates[i+2][ii][0]\n",
    "                for o in options:\n",
    "                    dist_l = 0\n",
    "                    opt = []\n",
    "                    for oo in o:\n",
    "                        dist_l+=oo\n",
    "                        p_one = self.coordinates[i][ii][0] + vec_one / np.linalg.norm(vec_one)*dist_l\n",
    "                        p_two = self.coordinates[i+2][ii][0] + vec_two / np.linalg.norm(vec_two)*dist_l\n",
    "                        opt.append([p_one.tolist(),p_two.tolist()])\n",
    "                    kk.append(opt)\n",
    "                coordinates.append(kk)\n",
    "\n",
    "            fin.append(list(product(*coordinates)))\n",
    "        j = list(product(fin[0], fin[1]))\n",
    "\n",
    "        return j\n",
    "\n",
    "\n",
    "\n",
    "\n",
    "\n",
    "\n"
   ],
   "metadata": {
    "collapsed": false,
    "pycharm": {
     "name": "#%%\n"
    }
   }
  },
  {
   "cell_type": "code",
   "execution_count": 93,
   "outputs": [
    {
     "data": {
      "text/plain": "[[-168.99420679403624, 912.1263157830638],\n [-42.427458888215924, 362.420237796794],\n [160.781406482799, 409.20794174552753],\n [34.21465857697868, 958.9140197317973],\n [-168.99420679403624, 912.1263157830638]]"
     },
     "execution_count": 93,
     "metadata": {},
     "output_type": "execute_result"
    }
   ],
   "source": [
    "p_c = PolyClusters(breakpoints, Cxy, 40)\n",
    "v = p_c.bound_rec\n",
    "#list(product(*v[0]))\n",
    "v.tolist()"
   ],
   "metadata": {
    "collapsed": false,
    "pycharm": {
     "name": "#%%\n"
    }
   }
  },
  {
   "cell_type": "code",
   "execution_count": 93,
   "outputs": [],
   "source": [],
   "metadata": {
    "collapsed": false,
    "pycharm": {
     "name": "#%%\n"
    }
   }
  },
  {
   "cell_type": "code",
   "execution_count": 93,
   "outputs": [],
   "source": [],
   "metadata": {
    "collapsed": false,
    "pycharm": {
     "name": "#%%\n"
    }
   }
  },
  {
   "cell_type": "code",
   "execution_count": 93,
   "outputs": [],
   "source": [],
   "metadata": {
    "collapsed": false,
    "pycharm": {
     "name": "#%%\n"
    }
   }
  }
 ],
 "metadata": {
  "kernelspec": {
   "display_name": "Python 3",
   "language": "python",
   "name": "python3"
  },
  "language_info": {
   "codemirror_mode": {
    "name": "ipython",
    "version": 2
   },
   "file_extension": ".py",
   "mimetype": "text/x-python",
   "name": "python",
   "nbconvert_exporter": "python",
   "pygments_lexer": "ipython2",
   "version": "2.7.6"
  }
 },
 "nbformat": 4,
 "nbformat_minor": 0
}