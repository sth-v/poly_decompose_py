{
 "cells": [
  {
   "cell_type": "code",
   "execution_count": 41,
   "metadata": {
    "collapsed": true
   },
   "outputs": [
    {
     "name": "stderr",
     "output_type": "stream",
     "text": [
      "/opt/anaconda3/envs/tests/lib/python3.10/site-packages/osmnx/geocoder.py:110: FutureWarning: The frame.append method is deprecated and will be removed from pandas in a future version. Use pandas.concat instead.\n",
      "  gdf = gdf.append(_geocode_query_to_gdf(q, wr, by_osmid))\n",
      "/opt/anaconda3/envs/tests/lib/python3.10/site-packages/osmnx/geocoder.py:110: FutureWarning: The frame.append method is deprecated and will be removed from pandas in a future version. Use pandas.concat instead.\n",
      "  gdf = gdf.append(_geocode_query_to_gdf(q, wr, by_osmid))\n",
      "/opt/anaconda3/envs/tests/lib/python3.10/site-packages/osmnx/geocoder.py:110: FutureWarning: The frame.append method is deprecated and will be removed from pandas in a future version. Use pandas.concat instead.\n",
      "  gdf = gdf.append(_geocode_query_to_gdf(q, wr, by_osmid))\n"
     ]
    }
   ],
   "source": [
    "from basepolygon_class import GoalPolygon\n",
    "from shapely.geometry import Polygon, LineString\n",
    "from sklearn.neighbors import KernelDensity\n",
    "\n",
    "place_one = GoalPolygon('Жилой комплекс «Одинцово-1»')\n",
    "v = place_one.polygon"
   ]
  },
  {
   "cell_type": "markdown",
   "source": [
    "Геометрическое упрощение"
   ],
   "metadata": {
    "collapsed": false
   }
  },
  {
   "cell_type": "code",
   "execution_count": 42,
   "outputs": [
    {
     "data": {
      "text/plain": "'def get_xy(s):\\n\\n    x, y = s.centroid.coords.xy\\n    return x[0], y[0]'"
     },
     "execution_count": 42,
     "metadata": {},
     "output_type": "execute_result"
    }
   ],
   "source": [
    "'''def get_xy(s):\n",
    "\n",
    "    x, y = s.centroid.coords.xy\n",
    "    return x[0], y[0]'''"
   ],
   "metadata": {
    "collapsed": false,
    "pycharm": {
     "name": "#%%\n"
    }
   }
  },
  {
   "cell_type": "markdown",
   "source": [
    "Здесь полигон в нуле не от центра"
   ],
   "metadata": {
    "collapsed": false
   }
  },
  {
   "cell_type": "code",
   "execution_count": 43,
   "outputs": [
    {
     "data": {
      "text/plain": "<shapely.geometry.polygon.Polygon at 0x7f9a7593a5f0>",
      "image/svg+xml": "<svg xmlns=\"http://www.w3.org/2000/svg\" xmlns:xlink=\"http://www.w3.org/1999/xlink\" width=\"300\" height=\"300\" viewBox=\"-41.660686183068904 -41.660686183068904 1124.8385269428604 1023.4510715087877\" preserveAspectRatio=\"xMinYMin meet\"><g transform=\"matrix(1,0,0,-1,0,940.1296991426498)\"><path fill-rule=\"evenodd\" fill=\"#66cc99\" stroke=\"#555555\" stroke-width=\"7.498923512952403\" opacity=\"0.6\" d=\"M 0.0,679.7554941019043 L 90.92466560343746,359.8743795603514 L 50.64634319592733,342.689586349763 L 141.4154383126297,0.0 L 738.6390963118174,170.50443049520254 L 1041.5171545767225,487.5379093941301 L 733.3747470285161,795.9299552580342 L 528.746321437764,592.3512355554849 L 250.68498866126174,548.8781394008547 L 148.7872773281997,925.0354834403843 L 84.8542414731346,907.106489722617 L 75.55369137861999,940.1296991426498 L 9.845574646664318,921.7006750889122 L 72.29789360892028,700.0236357413232 L 0.0,679.7554941019043 z\" /></g></svg>"
     },
     "execution_count": 43,
     "metadata": {},
     "output_type": "execute_result"
    }
   ],
   "source": [
    "from shapely.affinity import translate\n",
    "import numpy as np\n",
    "\n",
    "s = v.simplify(10, preserve_topology=True)\n",
    "x, y, _, _ = v.bounds\n",
    "#x, y = get_xy(s)\n",
    "st = translate(s, 0-x, 0-y)\n",
    "st"
   ],
   "metadata": {
    "collapsed": false,
    "pycharm": {
     "name": "#%%\n"
    }
   }
  },
  {
   "cell_type": "code",
   "execution_count": 44,
   "outputs": [
    {
     "data": {
      "text/plain": "[(0.0, 679.7554941019043),\n (90.92466560343746, 359.8743795603514),\n (50.64634319592733, 342.689586349763),\n (141.4154383126297, 0.0),\n (738.6390963118174, 170.50443049520254),\n (1041.5171545767225, 487.5379093941301),\n (733.3747470285161, 795.9299552580342),\n (528.746321437764, 592.3512355554849),\n (250.68498866126174, 548.8781394008547),\n (148.7872773281997, 925.0354834403843),\n (84.8542414731346, 907.106489722617),\n (75.55369137861999, 940.1296991426498),\n (9.845574646664318, 921.7006750889122),\n (72.29789360892028, 700.0236357413232)]"
     },
     "execution_count": 44,
     "metadata": {},
     "output_type": "execute_result"
    }
   ],
   "source": [
    "coor_list = (list(st.boundary.coords[0:len(st.boundary.coords) - 1]))\n",
    "coor_list"
   ],
   "metadata": {
    "collapsed": false,
    "pycharm": {
     "name": "#%%\n"
    }
   }
  },
  {
   "cell_type": "markdown",
   "source": [
    "разбиение точек на группы по сегментам"
   ],
   "metadata": {
    "collapsed": false
   }
  },
  {
   "cell_type": "code",
   "execution_count": 45,
   "outputs": [],
   "source": [
    "from itertools import islice, cycle\n",
    "\n",
    "def vec_search(point_list, key):\n",
    "    cr = []\n",
    "    n = list(islice(cycle(range(len(point_list))), 0, len(point_list) *2))\n",
    "    for i in range(len(point_list)):\n",
    "        v_one = [point_list[n[i]][0] - point_list[n[i + 1]][0], point_list[n[i]][1] - point_list[n[i + 1]][1], 0]\n",
    "        v_two = [point_list[n[i + 1]][0] - point_list[n[i + 2]][0], point_list[n[i + 1]][1] - point_list[n[i + 2]][1],0]\n",
    "        v_o_norm, v_t_norm = v_one / np.linalg.norm(v_one), v_two / np.linalg.norm(v_two)\n",
    "        if np.cross(v_o_norm, v_t_norm)[2] < key:\n",
    "            cr.append(n[i + 1])\n",
    "        else:\n",
    "            pass\n",
    "    print (cr)\n",
    "    cross = [*cr, cr[0] + cr[-1] + 1]\n",
    "    print(cross)\n",
    "    double_points = [*range(len(point_list)), *range(len(point_list))]\n",
    "    points = [*point_list, *point_list]\n",
    "    segments = [double_points[cross[c]:cross[c + 1]] for c in range(len(cross) - 1)]\n",
    "    lines = [LineString(points[cross[c]:cross[c + 1]+1]) for c in range(len(cross) - 1)]\n",
    "    return segments, lines\n"
   ],
   "metadata": {
    "collapsed": false,
    "pycharm": {
     "name": "#%%\n"
    }
   }
  },
  {
   "cell_type": "code",
   "execution_count": 46,
   "outputs": [
    {
     "name": "stdout",
     "output_type": "stream",
     "text": [
      "[1, 4, 7, 8, 10, 13]\n",
      "[1, 4, 7, 8, 10, 13, 15]\n"
     ]
    },
    {
     "data": {
      "text/plain": "[[1, 2, 3], [4, 5, 6], [7], [8, 9], [10, 11, 12], [13, 0]]"
     },
     "execution_count": 46,
     "metadata": {},
     "output_type": "execute_result"
    }
   ],
   "source": [
    "bb, ll = vec_search(coor_list, 0.7)\n",
    "bb"
   ],
   "metadata": {
    "collapsed": false,
    "pycharm": {
     "name": "#%%\n"
    }
   }
  },
  {
   "cell_type": "code",
   "execution_count": 47,
   "outputs": [],
   "source": [
    "def chains_base (point_list, parts):\n",
    "    vectors =[]\n",
    "    for i in parts:\n",
    "        temp =[]\n",
    "        for l in range(len(i)-1):\n",
    "            vec = [point_list[i[l]][0] - point_list[i[l+1]][0], point_list[i[l]][1] - point_list[i[l+1]][1]]\n",
    "            temp.append(vec)\n",
    "        vectors.append(temp)\n",
    "    return vectors"
   ],
   "metadata": {
    "collapsed": false,
    "pycharm": {
     "name": "#%%\n"
    }
   }
  },
  {
   "cell_type": "code",
   "execution_count": 48,
   "outputs": [
    {
     "data": {
      "text/plain": "[[[40.27832240751013, 17.184793210588396],\n  [-90.76909511670237, 342.689586349763]],\n [[-302.8780582649051, -317.03347889892757],\n  [308.1424075482064, -308.39204586390406]],\n [],\n [[101.89771133306203, -376.15734403952956]],\n [[9.30055009451462, -33.0232094200328],\n  [65.70811673195567, 18.42902405373752]],\n [[72.29789360892028, 20.2681416394189]]]"
     },
     "execution_count": 48,
     "metadata": {},
     "output_type": "execute_result"
    }
   ],
   "source": [
    "res_vec = chains_base(coor_list, bb)\n",
    "res_vec"
   ],
   "metadata": {
    "collapsed": false,
    "pycharm": {
     "name": "#%%\n"
    }
   }
  },
  {
   "cell_type": "markdown",
   "source": [
    "Tests of clusterized x or y"
   ],
   "metadata": {
    "collapsed": false
   }
  },
  {
   "cell_type": "code",
   "execution_count": 49,
   "outputs": [],
   "source": [
    "#res_vec = chains_base(coor_list, bb)\n",
    "#res_vec = [[[ -17.18479321 ,  40.27832241],[ -90.76909512 , 342.68958635],[-170.5044305 ,  597.223658  ]],[[ 302.87805826 , 317.0334789 ], [-308.14240755 , 308.39204586], [-203.5787197 ,  204.62842559]],[[ -43.47309615 , 278.06133278]],[[-101.89771133,  376.15734404],[ -17.92899372,   63.93303586]],[[  -9.30055009,   33.02320942], [ -18.42902405 ,  65.70811673],[ -62.45231896 , 221.67703935]],[[ -20.26814164 ,  72.29789361],[ -90.9246656  , 319.88111454]]]"
   ],
   "metadata": {
    "collapsed": false,
    "pycharm": {
     "name": "#%%\n"
    }
   }
  },
  {
   "cell_type": "code",
   "execution_count": 68,
   "outputs": [],
   "source": [
    "res_vec = [[[40.27832240751013, 17.184793210588396], [342.689586349763, 90.76909511670239], [597.2236579991877, 170.50443049520254]], [[317.03347889892757, -302.8780582649051], [308.39204586390406, 308.1424075482064], [204.62842559075216, 203.57871970254928]], [[278.06133277650224, 43.473096154630184]], [[376.15734403952956, 101.89771133306206], [63.9330358550651, 17.928993717767298]], [[33.0232094200328, 9.300550094514621], [65.70811673195567, 18.42902405373752], [221.67703934758902, 62.45231896225597]], [[72.29789360892028, 20.2681416394189], [319.88111454155296, 90.92466560343748]]]\n"
   ],
   "metadata": {
    "collapsed": false,
    "pycharm": {
     "name": "#%%\n"
    }
   }
  },
  {
   "cell_type": "markdown",
   "source": [
    "Test of merged vecs"
   ],
   "metadata": {
    "collapsed": false
   }
  },
  {
   "cell_type": "code",
   "execution_count": 69,
   "outputs": [],
   "source": [
    "all_vec = [[40.27832240751013, 17.184793210588396], [342.689586349763, 90.76909511670239], [597.2236579991877, 170.50443049520254], [317.03347889892757, -302.8780582649051], [308.39204586390406, 308.1424075482064], [204.62842559075216, 203.57871970254928], [278.06133277650224, 43.473096154630184], [376.15734403952956, 101.89771133306206], [63.9330358550651, 17.928993717767298], [33.0232094200328, 9.300550094514621], [65.70811673195567, 18.42902405373752], [221.67703934758902, 62.45231896225597], [72.29789360892028, 20.2681416394189], [319.88111454155296, 90.92466560343748]]"
   ],
   "metadata": {
    "collapsed": false,
    "pycharm": {
     "name": "#%%\n"
    }
   }
  },
  {
   "cell_type": "markdown",
   "source": [
    "SVD"
   ],
   "metadata": {
    "collapsed": false
   }
  },
  {
   "cell_type": "code",
   "execution_count": 77,
   "outputs": [],
   "source": [
    "from scipy.linalg import svd\n",
    "import numpy as np\n",
    "import torch\n",
    "\n",
    "#A = np.asarray(res_vec)\n",
    "#B = np.asarray(all_vec)"
   ],
   "metadata": {
    "collapsed": false,
    "pycharm": {
     "name": "#%%\n"
    }
   }
  },
  {
   "cell_type": "code",
   "execution_count": 78,
   "outputs": [],
   "source": [
    "class SvdItem:\n",
    "    keys=[\"A\", \"U\", \"S\", \"Vh\", \"Sigma\"]\n",
    "    def __init__(self, m, collection=None, **kwargs):\n",
    "        self.A = torch.tensor(m)\n",
    "        #self.A = m\n",
    "        self.collection=collection\n",
    "        self.U = None\n",
    "        self.S = None\n",
    "        self.Vh = None\n",
    "        self.Sigma = None\n",
    "        self.svd(**kwargs)\n",
    "        if collection is not None:\n",
    "            self.id = f'{collection.id}:{len(collection.matrices)}'\n",
    "            print(f'set item id: {self.id}')\n",
    "            collection.A.append(self.A)\n",
    "\n",
    "\n",
    "\n",
    "    def svd(self, **kwargs):\n",
    "        #U, S, Vh = svd(self.A, **kwargs)\n",
    "        U, S, Vh = torch.linalg.svd(self.A, **kwargs)\n",
    "        #Sigma = np.diag(S)\n",
    "        Sigma = torch.diag(S)\n",
    "        self.U, self.S, self.Vh, self.Sigma=U, S, Vh, Sigma\n",
    "        print(self.U, self.S, self.Vh, self.Sigma)\n",
    "        if self.collection:\n",
    "            for v, k in zip([A, U, S, Vh, Sigma], self.__class__.keys):\n",
    "                (self.collection.__dict__[k]).append(v)\n",
    "\n",
    "        return U, S, Vh, Sigma\n",
    "    def pack(self):\n",
    "        self.collection.__dict__[self.__class__.__name__][self.collection.id]|={self.id:self}\n",
    "        return self.id, self\n",
    "\n",
    "\n",
    "\n",
    "class SvdPack:\n",
    "    def __init__(self):\n",
    "        self._matrices = []\n",
    "        self.id = f'{0}:{0}'\n",
    "        self.A, self.U, self.S, self.Vh, self.Sigma = [], [], [], [], []\n",
    "        self.tree= {self.id:{}}\n",
    "\n",
    "\n",
    "\n",
    "    @property\n",
    "    def matrices(self):\n",
    "        return self._matrices\n",
    "    @matrices.setter\n",
    "    def matrices(self, val, **kwargs):\n",
    "        if len(val.shape) == 2:\n",
    "            self._matrices.append(SvdItem(val, collection=self, **kwargs))\n",
    "        else:\n",
    "            for v in val:\n",
    "                self._matrices.append(SvdItem(v, collection=self, **kwargs))"
   ],
   "metadata": {
    "collapsed": false,
    "pycharm": {
     "name": "#%%\n"
    }
   }
  },
  {
   "cell_type": "code",
   "execution_count": 79,
   "outputs": [],
   "source": [
    "pck = SvdPack()\n",
    "pck_all = SvdPack()"
   ],
   "metadata": {
    "collapsed": false,
    "pycharm": {
     "name": "#%%\n"
    }
   }
  },
  {
   "cell_type": "code",
   "execution_count": 80,
   "outputs": [
    {
     "name": "stdout",
     "output_type": "stream",
     "text": [
      "tensor([[-0.0606,  0.6910, -0.7203],\n",
      "        [-0.4948, -0.6476, -0.5795],\n",
      "        [-0.8669,  0.3213,  0.3811]]) tensor([716.4312,   8.1783]) tensor([[-0.9627, -0.2705],\n",
      "        [-0.2705,  0.9627]]) tensor([[716.4312,   0.0000],\n",
      "        [  0.0000,   8.1783]])\n",
      "set item id: 0:0:0\n",
      "tensor([[-0.0671,  0.9977, -0.0012],\n",
      "        [-0.8319, -0.0566, -0.5520],\n",
      "        [-0.5509, -0.0360,  0.8338]]) tensor([523.2039, 438.0382]) tensor([[-0.7464, -0.6655],\n",
      "        [ 0.6655, -0.7464]]) tensor([[523.2039,   0.0000],\n",
      "        [  0.0000, 438.0382]])\n",
      "set item id: 0:0:1\n",
      "tensor([[-1.]]) tensor([281.4392]) tensor([[-0.9880, -0.1545],\n",
      "        [-0.1545,  0.9880]]) tensor([[281.4392]])\n",
      "set item id: 0:0:2\n",
      "tensor([[-0.9858, -0.1680],\n",
      "        [-0.1680,  0.9858]]) tensor([395.3303,   0.5805]) tensor([[-0.9651, -0.2617],\n",
      "        [-0.2617,  0.9651]]) tensor([[395.3303,   0.0000],\n",
      "        [  0.0000,   0.5805]])\n",
      "set item id: 0:0:3\n",
      "tensor([[-0.1414,  0.0047, -0.9899],\n",
      "        [-0.2813, -0.9590,  0.0356],\n",
      "        [-0.9492,  0.2835,  0.1369]]) tensor([2.4264e+02, 7.6324e-02]) tensor([[-0.9626, -0.2711],\n",
      "        [-0.2711,  0.9626]]) tensor([[2.4264e+02, 0.0000e+00],\n",
      "        [0.0000e+00, 7.6324e-02]])\n",
      "set item id: 0:0:4\n",
      "tensor([[-0.2202, -0.9754],\n",
      "        [-0.9754,  0.2202]]) tensor([3.4092e+02, 2.6477e-01]) tensor([[-0.9619, -0.2732],\n",
      "        [-0.2732,  0.9619]]) tensor([[3.4092e+02, 0.0000e+00],\n",
      "        [0.0000e+00, 2.6477e-01]])\n",
      "set item id: 0:0:5\n",
      "tensor([[-0.0401, -0.0102, -0.5576, -0.5531, -0.1441, -0.0962, -0.2831, -0.3548,\n",
      "         -0.0599, -0.0309, -0.0616, -0.2075, -0.0677, -0.2989],\n",
      "        [-0.3260,  0.0291, -0.2152,  0.6358, -0.5308, -0.3505, -0.0317, -0.1251,\n",
      "         -0.0224, -0.0117, -0.0230, -0.0783, -0.0253, -0.1145],\n",
      "        [-0.5714,  0.0249,  0.6924, -0.2717, -0.0982, -0.0654, -0.1531, -0.1952,\n",
      "         -0.0330, -0.0170, -0.0339, -0.1144, -0.0373, -0.1649],\n",
      "        [-0.1976,  0.8375, -0.1306,  0.1878,  0.3482,  0.2293, -0.1286, -0.0926,\n",
      "         -0.0146, -0.0075, -0.0150, -0.0501, -0.0165, -0.0707],\n",
      "        [-0.3542, -0.4483, -0.1771,  0.2334,  0.7254, -0.1815, -0.0526, -0.1070,\n",
      "         -0.0187, -0.0097, -0.0192, -0.0650, -0.0211, -0.0945],\n",
      "        [-0.2348, -0.2956, -0.1174,  0.1534, -0.1813,  0.8802, -0.0350, -0.0710,\n",
      "         -0.0124, -0.0064, -0.0127, -0.0431, -0.0140, -0.0627],\n",
      "        [-0.2564,  0.0868, -0.1402, -0.1875, -0.0092, -0.0063,  0.9244, -0.0899,\n",
      "         -0.0151, -0.0078, -0.0155, -0.0523, -0.0171, -0.0752],\n",
      "        [-0.3584,  0.0272, -0.1933, -0.1805, -0.0562, -0.0375, -0.0971,  0.8772,\n",
      "         -0.0208, -0.0107, -0.0213, -0.0719, -0.0235, -0.1036],\n",
      "        [-0.0611,  0.0033, -0.0329, -0.0296, -0.0102, -0.0068, -0.0164, -0.0209,\n",
      "          0.9965, -0.0018, -0.0036, -0.0122, -0.0040, -0.0176],\n",
      "        [-0.0316,  0.0016, -0.0170, -0.0152, -0.0053, -0.0035, -0.0085, -0.0108,\n",
      "         -0.0018,  0.9991, -0.0019, -0.0063, -0.0021, -0.0091],\n",
      "        [-0.0628,  0.0034, -0.0338, -0.0305, -0.0105, -0.0070, -0.0169, -0.0215,\n",
      "         -0.0036, -0.0019,  0.9963, -0.0126, -0.0041, -0.0181],\n",
      "        [-0.2119,  0.0110, -0.1141, -0.1023, -0.0356, -0.0237, -0.0569, -0.0724,\n",
      "         -0.0122, -0.0063, -0.0126,  0.9576, -0.0139, -0.0612],\n",
      "        [-0.0691,  0.0038, -0.0372, -0.0335, -0.0115, -0.0077, -0.0186, -0.0236,\n",
      "         -0.0040, -0.0021, -0.0041, -0.0138,  0.9955, -0.0199],\n",
      "        [-0.3059,  0.0142, -0.1647, -0.1462, -0.0522, -0.0348, -0.0821, -0.1046,\n",
      "         -0.0177, -0.0091, -0.0182, -0.0613, -0.0200,  0.9117]],\n",
      "       dtype=torch.float64) tensor([1086.8395,  456.4418], dtype=torch.float64) tensor([[-0.9564, -0.2921],\n",
      "        [ 0.2921, -0.9564]], dtype=torch.float64) tensor([[1086.8395,    0.0000],\n",
      "        [   0.0000,  456.4418]], dtype=torch.float64)\n",
      "set item id: 0:0:0\n"
     ]
    },
    {
     "data": {
      "text/plain": "array([list([[40.27832240751013, 17.184793210588396], [342.689586349763, 90.76909511670239], [597.2236579991877, 170.50443049520254]]),\n       list([[317.03347889892757, -302.8780582649051], [308.39204586390406, 308.1424075482064], [204.62842559075216, 203.57871970254928]]),\n       list([[278.06133277650224, 43.473096154630184]]),\n       list([[376.15734403952956, 101.89771133306206], [63.9330358550651, 17.928993717767298]]),\n       list([[33.0232094200328, 9.300550094514621], [65.70811673195567, 18.42902405373752], [221.67703934758902, 62.45231896225597]]),\n       list([[72.29789360892028, 20.2681416394189], [319.88111454155296, 90.92466560343748]])],\n      dtype=object)"
     },
     "execution_count": 80,
     "metadata": {},
     "output_type": "execute_result"
    }
   ],
   "source": [
    "a_=np.asarray(res_vec, dtype=object)\n",
    "pck.matrices = a_\n",
    "\n",
    "b_=np.asarray(all_vec)\n",
    "pck_all.matrices = b_\n",
    "a_"
   ],
   "metadata": {
    "collapsed": false,
    "pycharm": {
     "name": "#%%\n"
    }
   }
  },
  {
   "cell_type": "code",
   "execution_count": 81,
   "outputs": [
    {
     "data": {
      "text/plain": "[tensor([[-0.9627, -0.2705],\n         [-0.2705,  0.9627]]),\n tensor([[-0.7464, -0.6655],\n         [ 0.6655, -0.7464]]),\n tensor([[-0.9880, -0.1545],\n         [-0.1545,  0.9880]]),\n tensor([[-0.9651, -0.2617],\n         [-0.2617,  0.9651]]),\n tensor([[-0.9626, -0.2711],\n         [-0.2711,  0.9626]]),\n tensor([[-0.9619, -0.2732],\n         [-0.2732,  0.9619]])]"
     },
     "execution_count": 81,
     "metadata": {},
     "output_type": "execute_result"
    }
   ],
   "source": [
    "pck_vh = pck.Vh\n",
    "pckall_vh = pck_all.Vh\n",
    "\n",
    "pck_vh"
   ],
   "metadata": {
    "collapsed": false,
    "pycharm": {
     "name": "#%%\n"
    }
   }
  },
  {
   "cell_type": "markdown",
   "source": [
    "Работа с транспортированными точками"
   ],
   "metadata": {
    "collapsed": false
   }
  },
  {
   "cell_type": "code",
   "execution_count": 75,
   "outputs": [
    {
     "data": {
      "text/plain": "[tensor([[-0.9627, -0.2705],\n         [ 0.2705, -0.9627]]),\n tensor([[-0.7464, -0.6655],\n         [ 0.6655, -0.7464]]),\n tensor([[-0.9880, -0.1545],\n         [ 0.1545, -0.9880]]),\n tensor([[-0.9651, -0.2617],\n         [ 0.2617, -0.9651]]),\n tensor([[-0.9626, -0.2711],\n         [ 0.2711, -0.9626]]),\n tensor([[-0.9619, -0.2732],\n         [ 0.2732, -0.9619]])]"
     },
     "execution_count": 75,
     "metadata": {},
     "output_type": "execute_result"
    }
   ],
   "source": [
    "def matricies_check(matricies_list):\n",
    "    matrix_checked = []\n",
    "    for i in matricies_list:\n",
    "        if i[0][1]<0 and i[1][0]>0 or i[0][1]>0 and i[1][0]<0 :\n",
    "            matrix_checked.append(i)\n",
    "        else:\n",
    "            #ii = np.fliplr(i)\n",
    "            i[1]*= -1\n",
    "            matrix_checked.append(i)\n",
    "    return matrix_checked\n",
    "\n",
    "identical_matricies = matricies_check(pck_vh)\n",
    "identical_matricies"
   ],
   "metadata": {
    "collapsed": false,
    "pycharm": {
     "name": "#%%\n"
    }
   }
  },
  {
   "cell_type": "code",
   "execution_count": 82,
   "outputs": [
    {
     "name": "stdout",
     "output_type": "stream",
     "text": [
      "[[-198.54299384118383, -650.1139987404546], [-192.07190790968014, -317.6243788990073], [-148.53063197695704, -312.95344068442046], [-135.2488606311659, 41.30462312047695], [-756.230852245163, 52.67232225169358], [-1138.5007182373984, -162.07193139751223], [-933.8703564426389, -547.0184371791274], [-678.7037060604588, -412.0848675671983], [-400.06992486718156, -451.7236219958049], [-412.48361881586754, -841.240491017337], [-346.1017534655098, -842.7668730087632], [-346.8521836665056, -877.0665734006523], [-278.6265929505532, -878.6331950821381], [-273.60817636348213, -648.3815557554343]]\n"
     ]
    }
   ],
   "source": [
    "def transform_chains_from_vh(chains, t):\n",
    "    chains_t=[]\n",
    "    for i, clust in enumerate(chains):\n",
    "        _t=[]\n",
    "        for j in clust:\n",
    "            _ = t[i] @ np.asarray(coor_list[j])\n",
    "            _t.append(np.asarray(_).tolist())\n",
    "        chains_t.append(_t)\n",
    "    return chains_t\n",
    "\n",
    "p_t = transform_chains_from_vh(bb, pck_vh)\n",
    "ptt = [(pckall_vh[0] @ np.asarray(i)).tolist() for i in coor_list]\n",
    "print (ptt)"
   ],
   "metadata": {
    "collapsed": false,
    "pycharm": {
     "name": "#%%\n"
    }
   }
  },
  {
   "cell_type": "code",
   "execution_count": 59,
   "outputs": [
    {
     "data": {
      "text/plain": "[[[-43.541275932723096, -4.67093821458684],\n  [-13.281771345791128, -354.2580638048974]],\n [[382.2698659922354, 214.7442536492058],\n  [-204.63036179475944, 384.9465057816152]],\n [],\n [[12.413693948685989, 389.51686902153216]],\n [[0.7504302009958224, 34.29970039188902],\n  [-68.22559071595242, 1.566621681485799]],\n [[-75.0651825222983, 1.7324429850202705]]]"
     },
     "execution_count": 59,
     "metadata": {},
     "output_type": "execute_result"
    }
   ],
   "source": [
    "def chains_tovec (point_list):\n",
    "    vectors =[]\n",
    "    for i in point_list:\n",
    "        temp =[]\n",
    "        for l in range(len(i)-1):\n",
    "            vec = [i[l][0] - i[l+1][0], i[l][1] - i[l+1][1]]\n",
    "            temp.append(vec)\n",
    "        vectors.append(temp)\n",
    "    return vectors\n",
    "\n",
    "\n",
    "#transformed chains\n",
    "v_t = chains_tovec(p_t)\n",
    "# merged vec\n",
    "v_ = chains_base(ptt,bb)\n",
    "v_\n",
    "\n"
   ],
   "metadata": {
    "collapsed": false,
    "pycharm": {
     "name": "#%%\n"
    }
   }
  },
  {
   "cell_type": "code",
   "execution_count": 60,
   "outputs": [
    {
     "data": {
      "text/plain": "[1.5482619460375535,\n 2.002516249114573,\n 1.53918785429961,\n 1.5489105845327773,\n 1.5511609618942102]"
     },
     "execution_count": 60,
     "metadata": {},
     "output_type": "execute_result"
    }
   ],
   "source": [
    "def unit_vector(vector):\n",
    "    return vector / np.linalg.norm(vector)\n",
    "\n",
    "def angle_between(v1, v2):\n",
    "    v1_u = unit_vector(v1)\n",
    "    v2_u = unit_vector(v2)\n",
    "    return np.arccos(np.clip(np.dot(v1_u, v2_u), -1.0, 1.0))\n",
    "\n",
    "def angle (v_tr, v_b):\n",
    "    ang =[]\n",
    "    for j, i in enumerate(v_tr):\n",
    "        for ind, val in enumerate(i):\n",
    "            ang.append(angle_between(val, v_b[j][ind]))\n",
    "            break\n",
    "    return ang\n",
    "\n",
    "angl = angle(v_t, v_)\n",
    "angl"
   ],
   "metadata": {
    "collapsed": false,
    "pycharm": {
     "name": "#%%\n"
    }
   }
  },
  {
   "cell_type": "code",
   "execution_count": 61,
   "outputs": [
    {
     "data": {
      "text/plain": "[0, 1, 0, 0, 0]"
     },
     "execution_count": 61,
     "metadata": {},
     "output_type": "execute_result"
    }
   ],
   "source": [
    "def  clusterize(angles, eps=0.2):\n",
    "    points_sorted = sorted(angles)\n",
    "    curr_point = points_sorted[0]\n",
    "    curr_cluster = 0\n",
    "    angles[angles.index(points_sorted[0])] = 0\n",
    "    for point in points_sorted[1:]:\n",
    "        if point <= curr_point + eps:\n",
    "            angles[angles.index(point)] = curr_cluster\n",
    "        else:\n",
    "            curr_cluster+=1\n",
    "            angles[angles.index(point)] = curr_cluster\n",
    "        curr_point = point\n",
    "    return angles\n",
    "\n",
    "\n",
    "labels = clusterize(angl)\n",
    "labels"
   ],
   "metadata": {
    "collapsed": false,
    "pycharm": {
     "name": "#%%\n"
    }
   }
  },
  {
   "cell_type": "code",
   "execution_count": 62,
   "outputs": [
    {
     "data": {
      "text/plain": "'scope = np.asarray(angl)/np.linalg.norm(angl)\\nr = np.round(scope*len(angl),0)\\nlabels=[]\\nl = np.unique(r).tolist()\\nfor i in r:\\n    labels.append(l.index(i))\\nprint(labels)'"
     },
     "execution_count": 62,
     "metadata": {},
     "output_type": "execute_result"
    }
   ],
   "source": [
    "#OLD\n",
    "'''scope = np.asarray(angl)/np.linalg.norm(angl)\n",
    "r = np.round(scope*len(angl),0)\n",
    "labels=[]\n",
    "l = np.unique(r).tolist()\n",
    "for i in r:\n",
    "    labels.append(l.index(i))\n",
    "print(labels)'''\n"
   ],
   "metadata": {
    "collapsed": false,
    "pycharm": {
     "name": "#%%\n"
    }
   }
  },
  {
   "cell_type": "markdown",
   "source": [],
   "metadata": {
    "collapsed": false
   }
  },
  {
   "cell_type": "markdown",
   "source": [
    "Display"
   ],
   "metadata": {
    "collapsed": false
   }
  },
  {
   "cell_type": "code",
   "execution_count": 63,
   "outputs": [
    {
     "name": "stdout",
     "output_type": "stream",
     "text": [
      "defaultdict(<class 'list'>, {0: [<shapely.geometry.linestring.LineString object at 0x7f9a74f2a440>, <shapely.geometry.linestring.LineString object at 0x7f9a74f2af20>, <shapely.geometry.linestring.LineString object at 0x7f9a74f2acb0>, <shapely.geometry.linestring.LineString object at 0x7f9a74f28a30>], 1: [<shapely.geometry.linestring.LineString object at 0x7f9a74f28160>]})\n"
     ]
    }
   ],
   "source": [
    "from collections import defaultdict\n",
    "\n",
    "d_ = defaultdict(list)\n",
    "for la, l in zip(labels, ll):\n",
    "    d_[la].append(l)\n",
    "\n",
    "print(d_)"
   ],
   "metadata": {
    "collapsed": false,
    "pycharm": {
     "name": "#%%\n"
    }
   }
  },
  {
   "cell_type": "code",
   "execution_count": 64,
   "outputs": [
    {
     "data": {
      "text/plain": "<Figure size 720x720 with 1 Axes>",
      "image/png": "[encoded data removed]"
     },
     "metadata": {
      "needs_background": "light"
     },
     "output_type": "display_data"
    }
   ],
   "source": [
    "import matplotlib.pyplot as plt\n",
    "\n",
    "\n",
    "fig, ax = plt.subplots(figsize=(10, 10))\n",
    "ax.set_xlabel('X coordinate', fontsize=15)\n",
    "ax.set_ylabel('Y coordinate', fontsize=15)\n",
    "for d in d_[0]:\n",
    "    ax.plot(*d.xy, label='LineString', color='#ff00b4')\n",
    "for d in d_[1]:\n",
    "    ax.plot(*d.xy, label='LineString', color='#ffa200')\n",
    "for d in d_[2]:\n",
    "    ax.plot(*d.xy, label='LineString', color='#ff0000')\n",
    "for d in d_[3]:\n",
    "    ax.plot(*d.xy, label='LineString', color='#00ff54')\n",
    "for d in d_[4]:\n",
    "    ax.plot(*d.xy, label='LineString', color='#0012ff')\n",
    "for d in d_[5]:\n",
    "    ax.plot(*d.xy, label='LineString', color='#ffcc00')\n",
    "for d in d_[6]:\n",
    "    ax.plot(*d.xy, label='LineString', color='#9c00ff')\n",
    "\n",
    "plt.show()"
   ],
   "metadata": {
    "collapsed": false,
    "pycharm": {
     "name": "#%%\n"
    }
   }
  },
  {
   "cell_type": "code",
   "execution_count": 64,
   "outputs": [],
   "source": [],
   "metadata": {
    "collapsed": false,
    "pycharm": {
     "name": "#%%\n"
    }
   }
  },
  {
   "cell_type": "code",
   "execution_count": 64,
   "outputs": [],
   "source": [],
   "metadata": {
    "collapsed": false,
    "pycharm": {
     "name": "#%%\n"
    }
   }
  }
 ],
 "metadata": {
  "kernelspec": {
   "display_name": "Python 3",
   "language": "python",
   "name": "python3"
  },
  "language_info": {
   "codemirror_mode": {
    "name": "ipython",
    "version": 2
   },
   "file_extension": ".py",
   "mimetype": "text/x-python",
   "name": "python",
   "nbconvert_exporter": "python",
   "pygments_lexer": "ipython2",
   "version": "2.7.6"
  }
 },
 "nbformat": 4,
 "nbformat_minor": 0
}