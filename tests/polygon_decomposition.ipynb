{
 "cells": [
  {
   "cell_type": "code",
   "execution_count": 1,
   "metadata": {
    "collapsed": true
   },
   "outputs": [
    {
     "name": "stderr",
     "output_type": "stream",
     "text": [
      "/opt/anaconda3/envs/tests/lib/python3.10/site-packages/osmnx/geocoder.py:110: FutureWarning: The frame.append method is deprecated and will be removed from pandas in a future version. Use pandas.concat instead.\n",
      "  gdf = gdf.append(_geocode_query_to_gdf(q, wr, by_osmid))\n",
      "/opt/anaconda3/envs/tests/lib/python3.10/site-packages/osmnx/geocoder.py:110: FutureWarning: The frame.append method is deprecated and will be removed from pandas in a future version. Use pandas.concat instead.\n",
      "  gdf = gdf.append(_geocode_query_to_gdf(q, wr, by_osmid))\n",
      "/opt/anaconda3/envs/tests/lib/python3.10/site-packages/osmnx/geocoder.py:110: FutureWarning: The frame.append method is deprecated and will be removed from pandas in a future version. Use pandas.concat instead.\n",
      "  gdf = gdf.append(_geocode_query_to_gdf(q, wr, by_osmid))\n"
     ]
    }
   ],
   "source": [
    "from basepolygon_class import GoalPolygon\n",
    "from shapely.geometry import Polygon, LineString\n",
    "place_one = GoalPolygon('Жилой комплекс \"Жулебино Парк\" стройка')\n",
    "v = place_one.polygon"
   ]
  },
  {
   "cell_type": "markdown",
   "source": [
    "Геометрическое упрощение"
   ],
   "metadata": {
    "collapsed": false
   }
  },
  {
   "cell_type": "code",
   "execution_count": 2,
   "outputs": [],
   "source": [
    "def get_xy(s):\n",
    "\n",
    "    x, y = s.centroid.coords.xy\n",
    "    return x[0], y[0]"
   ],
   "metadata": {
    "collapsed": false,
    "pycharm": {
     "name": "#%%\n"
    }
   }
  },
  {
   "cell_type": "markdown",
   "source": [
    "Здесь полигон в нуле не от центра"
   ],
   "metadata": {
    "collapsed": false
   }
  },
  {
   "cell_type": "code",
   "execution_count": 3,
   "outputs": [
    {
     "data": {
      "text/plain": "<shapely.geometry.polygon.Polygon at 0x7faf69053160>",
      "image/svg+xml": "<svg xmlns=\"http://www.w3.org/2000/svg\" xmlns:xlink=\"http://www.w3.org/1999/xlink\" width=\"300\" height=\"300\" viewBox=\"-28.16135916750878 -28.16135916750878 721.2831958739482 760.356697522737\" preserveAspectRatio=\"xMinYMin meet\"><g transform=\"matrix(1,0,0,-1,0,704.0339791877195)\"><path fill-rule=\"evenodd\" fill=\"#66cc99\" stroke=\"#555555\" stroke-width=\"5.0690446501515805\" opacity=\"0.6\" d=\"M 0.0,42.42240105941892 L 49.646892975317314,0.0 L 98.84738645789912,8.644872757606208 L 91.4870680613094,103.90478569734842 L 123.99432792240987,102.31525947432965 L 118.84098943317076,169.09848177898675 L 259.5926219234825,182.74853624869138 L 251.26317001710413,210.77966740820557 L 324.2408816458192,237.37195728812367 L 363.47268786811037,201.54586718510836 L 363.9113453243044,162.49007819592953 L 382.8016503081308,152.13047074340284 L 428.13861587963765,169.7247769329697 L 452.75512537162285,205.44482689723372 L 418.62160929798847,242.2890095654875 L 468.869841001404,276.86797133646905 L 373.6430417126394,516.6187753705308 L 325.4972854232765,497.4457708345726 L 303.76772698637797,550.6964679146186 L 427.32105774397496,598.1822010865435 L 561.7782090922119,553.6829920513555 L 646.1450598833035,565.1904505407438 L 653.429957066779,549.7999624321237 L 664.9604775389307,570.4281977945939 L 620.0133774741553,591.985123119317 L 616.5740414878237,634.2286564968526 L 534.9653862527339,680.0588067416102 L 469.36269571079174,692.9371331753209 L 447.92885945062153,672.5041266316548 L 414.77547417697497,704.0339791877195 L 262.5802838554955,643.69222803507 L 295.5449692333932,557.1087740799412 L 181.57467434561113,514.2564668776467 L 251.4879176306422,335.4356294348836 L 88.63919788587373,273.43698931019753 L 102.58079667651327,237.87792157381773 L 31.373416263901163,206.9413421181962 L 31.85410999529995,75.80640601925552 L 0.0,42.42240105941892 z\" /></g></svg>"
     },
     "execution_count": 3,
     "metadata": {},
     "output_type": "execute_result"
    }
   ],
   "source": [
    "from shapely.affinity import translate\n",
    "import numpy as np\n",
    "\n",
    "s = v.simplify(10, preserve_topology=True)\n",
    "x, y, _, _ = v.bounds\n",
    "#x, y = get_xy(s)\n",
    "st = translate(s, 0-x, 0-y)\n",
    "st"
   ],
   "metadata": {
    "collapsed": false,
    "pycharm": {
     "name": "#%%\n"
    }
   }
  },
  {
   "cell_type": "code",
   "execution_count": 4,
   "outputs": [],
   "source": [
    "coor_list = (list(st.boundary.coords[0:len(st.boundary.coords) - 1]))"
   ],
   "metadata": {
    "collapsed": false,
    "pycharm": {
     "name": "#%%\n"
    }
   }
  },
  {
   "cell_type": "markdown",
   "source": [
    "разбиение точек на группы по сегментам"
   ],
   "metadata": {
    "collapsed": false
   }
  },
  {
   "cell_type": "code",
   "execution_count": 5,
   "outputs": [],
   "source": [
    "from itertools import islice, cycle\n",
    "\n",
    "def vec_search(point_list, key):\n",
    "    cr = []\n",
    "    n = list(islice(cycle(range(len(point_list))), 0, len(point_list) *2))\n",
    "    for i in range(len(point_list)):\n",
    "        v_one = [point_list[n[i]][0] - point_list[n[i + 1]][0], point_list[n[i]][1] - point_list[n[i + 1]][1], 0]\n",
    "        v_two = [point_list[n[i + 1]][0] - point_list[n[i + 2]][0], point_list[n[i + 1]][1] - point_list[n[i + 2]][1],0]\n",
    "        v_o_norm, v_t_norm = v_one / np.linalg.norm(v_one), v_two / np.linalg.norm(v_two)\n",
    "        if np.cross(v_o_norm, v_t_norm)[2] < key:\n",
    "            cr.append(n[i + 1])\n",
    "        else:\n",
    "            pass\n",
    "    cross = [*cr, cr[0] + cr[-1] + 1]\n",
    "    double_points = [*range(len(point_list)), *range(len(point_list))]\n",
    "    points = [*point_list, *point_list]\n",
    "    segments = [double_points[cross[c]:cross[c + 1]+1] for c in range(len(cross) - 1)]\n",
    "    lines = [LineString(points[cross[c]:cross[c + 1]+1]) for c in range(len(cross) - 1)]\n",
    "    return segments, lines"
   ],
   "metadata": {
    "collapsed": false,
    "pycharm": {
     "name": "#%%\n"
    }
   }
  },
  {
   "cell_type": "code",
   "execution_count": 6,
   "outputs": [
    {
     "name": "stdout",
     "output_type": "stream",
     "text": [
      "[<shapely.geometry.linestring.LineString object at 0x7faf6957f7f0>, <shapely.geometry.linestring.LineString object at 0x7faf6957c220>, <shapely.geometry.linestring.LineString object at 0x7faf6957c130>, <shapely.geometry.linestring.LineString object at 0x7faf6957f340>, <shapely.geometry.linestring.LineString object at 0x7faf6957d2d0>, <shapely.geometry.linestring.LineString object at 0x7faf6957f370>, <shapely.geometry.linestring.LineString object at 0x7faf6957d300>, <shapely.geometry.linestring.LineString object at 0x7faf6957f3a0>, <shapely.geometry.linestring.LineString object at 0x7faf6957f550>, <shapely.geometry.linestring.LineString object at 0x7faf6957f5b0>, <shapely.geometry.linestring.LineString object at 0x7faf6957f400>, <shapely.geometry.linestring.LineString object at 0x7faf6957c940>, <shapely.geometry.linestring.LineString object at 0x7faf6957f730>, <shapely.geometry.linestring.LineString object at 0x7faf6957d210>, <shapely.geometry.linestring.LineString object at 0x7faf6957c5b0>, <shapely.geometry.linestring.LineString object at 0x7faf6957e020>, <shapely.geometry.linestring.LineString object at 0x7faf6957d330>, <shapely.geometry.linestring.LineString object at 0x7faf6957f8b0>]\n"
     ]
    }
   ],
   "source": [
    "bb, ll = vec_search(coor_list, 0.5)\n",
    "print(ll)"
   ],
   "metadata": {
    "collapsed": false,
    "pycharm": {
     "name": "#%%\n"
    }
   }
  },
  {
   "cell_type": "code",
   "execution_count": 7,
   "outputs": [],
   "source": [
    "def chains_base (point_list, parts):\n",
    "    vectors =[]\n",
    "    for i in parts:\n",
    "        temp =[]\n",
    "        for l in range(len(i)-1):\n",
    "            vec = [point_list[i[l]][0] - point_list[i[l+1]][0], point_list[i[l]][1] - point_list[i[l+1]][1]]\n",
    "            temp.append(vec)\n",
    "        vectors.append(temp)\n",
    "    return vectors"
   ],
   "metadata": {
    "collapsed": false,
    "pycharm": {
     "name": "#%%\n"
    }
   }
  },
  {
   "cell_type": "code",
   "execution_count": 8,
   "outputs": [],
   "source": [
    "res_vec = chains_base(coor_list, bb)"
   ],
   "metadata": {
    "collapsed": false,
    "pycharm": {
     "name": "#%%\n"
    }
   }
  },
  {
   "cell_type": "markdown",
   "source": [
    "SVD"
   ],
   "metadata": {
    "collapsed": false
   }
  },
  {
   "cell_type": "code",
   "execution_count": 9,
   "outputs": [
    {
     "name": "stderr",
     "output_type": "stream",
     "text": [
      "/var/folders/l7/52t7xngd2973k8x9_y55rmyh0000gn/T/ipykernel_23275/2655982256.py:5: VisibleDeprecationWarning: Creating an ndarray from ragged nested sequences (which is a list-or-tuple of lists-or-tuples-or ndarrays with different lengths or shapes) is deprecated. If you meant to do this, you must specify 'dtype=object' when creating the ndarray.\n",
      "  A = np.asarray(res_vec)\n"
     ]
    }
   ],
   "source": [
    "from scipy.linalg import svd\n",
    "import numpy as np\n",
    "import torch\n",
    "\n",
    "A = np.asarray(res_vec)"
   ],
   "metadata": {
    "collapsed": false,
    "pycharm": {
     "name": "#%%\n"
    }
   }
  },
  {
   "cell_type": "code",
   "execution_count": 10,
   "outputs": [],
   "source": [
    "class SvdItem:\n",
    "    keys=[\"A\", \"U\", \"S\", \"Vh\", \"Sigma\"]\n",
    "    def __init__(self, m, collection=None, **kwargs):\n",
    "        self.A = torch.tensor(m)\n",
    "        self.collection=collection\n",
    "        self.U = None\n",
    "        self.S = None\n",
    "        self.Vh = None\n",
    "        self.Sigma = None\n",
    "        self.svd(**kwargs)\n",
    "        if collection is not None:\n",
    "            self.id = f'{collection.id}:{len(collection.matrices)}'\n",
    "            print(f'set item id: {self.id}')\n",
    "            collection.A.append(self.A)\n",
    "\n",
    "\n",
    "\n",
    "    def svd(self, **kwargs):\n",
    "        U, S, Vh = torch.linalg.svd(self.A, **kwargs)\n",
    "        Sigma = torch.diag(S)\n",
    "        self.U, self.S, self.Vh, self.Sigma=U, S, Vh, Sigma\n",
    "        print(self.U, self.S, self.Vh, self.Sigma)\n",
    "        if self.collection:\n",
    "            for v, k in zip([A, U, S, Vh, Sigma], self.__class__.keys):\n",
    "                (self.collection.__dict__[k]).append(v)\n",
    "\n",
    "        return U, S, Vh, Sigma\n",
    "    def pack(self):\n",
    "        self.collection.__dict__[self.__class__.__name__][self.collection.id]|={self.id:self}\n",
    "        return self.id, self\n",
    "\n",
    "\n",
    "\n",
    "class SvdPack:\n",
    "    def __init__(self):\n",
    "        self._matrices = []\n",
    "        self.id = f'{0}:{0}'\n",
    "        self.A, self.U, self.S, self.Vh, self.Sigma = [], [], [], [], []\n",
    "        self.tree= {self.id:{}}\n",
    "\n",
    "\n",
    "\n",
    "    @property\n",
    "    def matrices(self):\n",
    "        return self._matrices\n",
    "    @matrices.setter\n",
    "    def matrices(self, val, **kwargs):\n",
    "        if len(val.shape) == 2:\n",
    "            self._matrices.append(SvdItem(val, collection=self, **kwargs))\n",
    "        else:\n",
    "            for v in val:\n",
    "                self._matrices.append(SvdItem(v, collection=self, **kwargs))"
   ],
   "metadata": {
    "collapsed": false,
    "pycharm": {
     "name": "#%%\n"
    }
   }
  },
  {
   "cell_type": "code",
   "execution_count": 11,
   "outputs": [],
   "source": [
    "pck = SvdPack()"
   ],
   "metadata": {
    "collapsed": false,
    "pycharm": {
     "name": "#%%\n"
    }
   }
  },
  {
   "cell_type": "code",
   "execution_count": 12,
   "outputs": [
    {
     "name": "stdout",
     "output_type": "stream",
     "text": [
      "tensor([[-0.0791,  0.9969],\n",
      "        [ 0.9969,  0.0791]]) tensor([67.1437, 32.2108]) tensor([[ 0.1148, -0.9934],\n",
      "        [-0.9934, -0.1148]]) tensor([[67.1437,  0.0000],\n",
      "        [ 0.0000, 32.2108]])\n",
      "set item id: 0:0:0\n",
      "tensor([[-0.9992,  0.0412],\n",
      "        [ 0.0412,  0.9992]]) tensor([141.5269,  28.6809]) tensor([[ 0.9961,  0.0882],\n",
      "        [ 0.0882, -0.9961]]) tensor([[141.5269,   0.0000],\n",
      "        [  0.0000,  28.6809]])\n",
      "set item id: 0:0:1\n",
      "tensor([[1.]]) tensor([77.6717]) tensor([[-0.9396, -0.3424],\n",
      "        [-0.3424,  0.9396]]) tensor([[77.6717]])\n",
      "set item id: 0:0:2\n",
      "tensor([[1.]]) tensor([53.1286]) tensor([[-0.7384,  0.6743],\n",
      "        [ 0.6743,  0.7384]]) tensor([[53.1286]])\n",
      "set item id: 0:0:3\n",
      "tensor([[ 0.5229,  0.2472, -0.1530,  0.2538,  0.7600],\n",
      "        [ 0.0302,  0.3351, -0.6743, -0.6557, -0.0466],\n",
      "        [-0.4987,  0.5425,  0.4969, -0.2824,  0.3610],\n",
      "        [-0.6228,  0.1332, -0.5169,  0.5644,  0.0927],\n",
      "        [-0.2984, -0.7173, -0.0879, -0.3277,  0.5303]]) tensor([68.2961, 63.9909]) tensor([[ 0.3947,  0.9188],\n",
      "        [-0.9188,  0.3947]]) tensor([[68.2961,  0.0000],\n",
      "        [ 0.0000, 63.9909]])\n",
      "set item id: 0:0:4\n",
      "tensor([[-0.0557,  0.7522,  0.6566],\n",
      "        [-0.9984, -0.0438, -0.0345],\n",
      "        [ 0.0029, -0.6575,  0.7534]]) tensor([258.3488,  78.8081]) tensor([[-0.3567,  0.9342],\n",
      "        [-0.9342, -0.3567]]) tensor([[258.3488,   0.0000],\n",
      "        [  0.0000,  78.8081]])\n",
      "set item id: 0:0:5\n",
      "tensor([[-1.]]) tensor([57.5136]) tensor([[-0.3778,  0.9259],\n",
      "        [ 0.9259,  0.3778]]) tensor([[57.5136]])\n",
      "set item id: 0:0:6\n",
      "tensor([[1.]]) tensor([132.3643]) tensor([[-0.9334, -0.3588],\n",
      "        [-0.3588,  0.9334]]) tensor([[132.3643]])\n",
      "set item id: 0:0:7\n",
      "tensor([[1.]]) tensor([141.6295]) tensor([[-0.9494,  0.3142],\n",
      "        [ 0.3142,  0.9494]]) tensor([[141.6295]])\n",
      "set item id: 0:0:8\n",
      "tensor([[1.]]) tensor([85.1480]) tensor([[-0.9908, -0.1351],\n",
      "        [-0.1351,  0.9908]]) tensor([[85.1480]])\n",
      "set item id: 0:0:9\n",
      "tensor([[-0.2668,  0.3877,  0.8823],\n",
      "        [-0.0041, -0.9159,  0.4013],\n",
      "        [ 0.9637,  0.1034,  0.2459]]) tensor([51.6501, 25.7996]) tensor([[ 0.8772, -0.4801],\n",
      "        [ 0.4801,  0.8772]]) tensor([[51.6501,  0.0000],\n",
      "        [ 0.0000, 25.7996]])\n",
      "set item id: 0:0:10\n",
      "tensor([[-0.2797, -0.9601],\n",
      "        [-0.9601,  0.2797]]) tensor([96.9850, 33.9208]) tensor([[-0.8178,  0.5755],\n",
      "        [ 0.5755,  0.8178]]) tensor([[96.9850,  0.0000],\n",
      "        [ 0.0000, 33.9208]])\n",
      "set item id: 0:0:11\n",
      "tensor([[-0.9601, -0.2796],\n",
      "        [-0.2796,  0.9601]]) tensor([69.2991, 23.3263]) tensor([[-0.9954,  0.0960],\n",
      "        [ 0.0960,  0.9954]]) tensor([[69.2991,  0.0000],\n",
      "        [ 0.0000, 23.3263]])\n",
      "set item id: 0:0:12\n",
      "tensor([[-0.1264,  0.4017,  0.9070],\n",
      "        [-0.9919, -0.0649, -0.1095],\n",
      "        [ 0.0149, -0.9135,  0.4066]]) tensor([164.9305, 101.3858]) tensor([[-0.9437, -0.3309],\n",
      "        [ 0.3309, -0.9437]]) tensor([[164.9305,   0.0000],\n",
      "        [  0.0000, 101.3858]])\n",
      "set item id: 0:0:13\n",
      "tensor([[-0.0138,  0.9999],\n",
      "        [ 0.9999,  0.0138]]) tensor([192.0130, 121.7429]) tensor([[-0.3723,  0.9281],\n",
      "        [ 0.9281,  0.3723]]) tensor([[192.0130,   0.0000],\n",
      "        [  0.0000, 121.7429]])\n",
      "set item id: 0:0:14\n",
      "tensor([[-1.0000,  0.0023],\n",
      "        [ 0.0023,  1.0000]]) tensor([174.2518,  38.1925]) tensor([[-0.9347, -0.3553],\n",
      "        [-0.3553,  0.9347]]) tensor([[174.2518,   0.0000],\n",
      "        [  0.0000,  38.1925]])\n",
      "set item id: 0:0:15\n",
      "tensor([[ 0.3071,  0.9517],\n",
      "        [ 0.9517, -0.3071]]) tensor([135.9947,  68.7721]) tensor([[ 0.1574,  0.9875],\n",
      "        [ 0.9875, -0.1574]]) tensor([[135.9947,   0.0000],\n",
      "        [  0.0000,  68.7721]])\n",
      "set item id: 0:0:16\n",
      "tensor([[-0.2363,  0.5035,  0.6459,  0.5230],\n",
      "        [-0.4645, -0.5311, -0.2822,  0.6500],\n",
      "        [-0.0134, -0.6624,  0.7084, -0.2433],\n",
      "        [ 0.8534, -0.1601,  0.0364,  0.4948]]) tensor([111.0665,  75.3785]) tensor([[ 0.2023, -0.9793],\n",
      "        [ 0.9793,  0.2023]]) tensor([[111.0665,   0.0000],\n",
      "        [  0.0000,  75.3785]])\n",
      "set item id: 0:0:17\n"
     ]
    }
   ],
   "source": [
    "a_=np.asarray(res_vec, dtype=object)\n",
    "pck.matrices = a_"
   ],
   "metadata": {
    "collapsed": false,
    "pycharm": {
     "name": "#%%\n"
    }
   }
  },
  {
   "cell_type": "code",
   "execution_count": 13,
   "outputs": [],
   "source": [
    "pck_vh = pck.Vh"
   ],
   "metadata": {
    "collapsed": false,
    "pycharm": {
     "name": "#%%\n"
    }
   }
  },
  {
   "cell_type": "markdown",
   "source": [
    "Работа с транспортированными точками"
   ],
   "metadata": {
    "collapsed": false
   }
  },
  {
   "cell_type": "code",
   "execution_count": 14,
   "outputs": [
    {
     "data": {
      "text/plain": "[tensor([[ 0.1148, -0.9934],\n         [ 0.9934,  0.1148]]),\n tensor([[ 0.9961,  0.0882],\n         [-0.0882,  0.9961]]),\n tensor([[-0.9396, -0.3424],\n         [ 0.3424, -0.9396]]),\n tensor([[-0.7384,  0.6743],\n         [-0.6743, -0.7384]]),\n tensor([[ 0.3947,  0.9188],\n         [-0.9188,  0.3947]]),\n tensor([[-0.3567,  0.9342],\n         [-0.9342, -0.3567]]),\n tensor([[-0.3778,  0.9259],\n         [-0.9259, -0.3778]]),\n tensor([[-0.9334, -0.3588],\n         [ 0.3588, -0.9334]]),\n tensor([[-0.9494,  0.3142],\n         [-0.3142, -0.9494]]),\n tensor([[-0.9908, -0.1351],\n         [ 0.1351, -0.9908]]),\n tensor([[ 0.8772, -0.4801],\n         [ 0.4801,  0.8772]]),\n tensor([[-0.8178,  0.5755],\n         [-0.5755, -0.8178]]),\n tensor([[-0.9954,  0.0960],\n         [-0.0960, -0.9954]]),\n tensor([[-0.9437, -0.3309],\n         [ 0.3309, -0.9437]]),\n tensor([[-0.3723,  0.9281],\n         [-0.9281, -0.3723]]),\n tensor([[-0.9347, -0.3553],\n         [ 0.3553, -0.9347]]),\n tensor([[ 0.1574,  0.9875],\n         [-0.9875,  0.1574]]),\n tensor([[ 0.2023, -0.9793],\n         [ 0.9793,  0.2023]])]"
     },
     "execution_count": 14,
     "metadata": {},
     "output_type": "execute_result"
    }
   ],
   "source": [
    "def matricies_check(matricies_list):\n",
    "    matrix_checked = []\n",
    "    for i in matricies_list:\n",
    "        if i[0][1]<0 and i[1][0]>0 or i[0][1]>0 and i[1][0]<0 :\n",
    "            matrix_checked.append(i)\n",
    "        else:\n",
    "            #ii = np.fliplr(i)*(-1)\n",
    "            i[1]*= -1\n",
    "            matrix_checked.append(i)\n",
    "    return matrix_checked\n",
    "\n",
    "identical_matricies = matricies_check(pck_vh)\n",
    "identical_matricies"
   ],
   "metadata": {
    "collapsed": false,
    "pycharm": {
     "name": "#%%\n"
    }
   }
  },
  {
   "cell_type": "code",
   "execution_count": 15,
   "outputs": [],
   "source": [
    "def transform_chains_from_vh(chains, t):\n",
    "    chains_t=[]\n",
    "    for i, clust in enumerate(chains):\n",
    "        _t=[]\n",
    "        for j in clust:\n",
    "            _ = t[i] @ np.asarray(coor_list[j])\n",
    "            _t.append(np.asarray(_).tolist())\n",
    "        chains_t.append(_t)\n",
    "    return chains_t\n",
    "\n",
    "p_t = transform_chains_from_vh(bb, identical_matricies)"
   ],
   "metadata": {
    "collapsed": false,
    "pycharm": {
     "name": "#%%\n"
    }
   }
  },
  {
   "cell_type": "code",
   "execution_count": 16,
   "outputs": [],
   "source": [
    "def chains_ (point_list):\n",
    "    vectors =[]\n",
    "    for i in point_list:\n",
    "        temp =[]\n",
    "        for l in range(len(i)-1):\n",
    "            vec = [i[l][0] - i[l+1][0], i[l][1] - i[l+1][1]]\n",
    "            temp.append(vec)\n",
    "        vectors.append(temp)\n",
    "    return vectors\n",
    "\n",
    "v_t = chains_(p_t)\n",
    "# not transformed vec\n",
    "v_ = res_vec"
   ],
   "metadata": {
    "collapsed": false,
    "pycharm": {
     "name": "#%%\n"
    }
   }
  },
  {
   "cell_type": "code",
   "execution_count": 17,
   "outputs": [],
   "source": [
    "def unit_vector(vector):\n",
    "    return vector / np.linalg.norm(vector)\n",
    "\n",
    "def angle_between(v1, v2):\n",
    "    v1_u = unit_vector(v1)\n",
    "    v2_u = unit_vector(v2)\n",
    "    return np.arccos(np.clip(np.dot(v1_u, v2_u), -1.0, 1.0))\n",
    "\n",
    "def angle (v_tr, v_b):\n",
    "    ang =[]\n",
    "    for j, i in enumerate(v_tr):\n",
    "        for ind, val in enumerate(i):\n",
    "            ang.append(angle_between(val, v_b[j][ind]))\n",
    "            break\n",
    "    return ang\n",
    "\n",
    "angl = angle(v_t, res_vec)"
   ],
   "metadata": {
    "collapsed": false,
    "pycharm": {
     "name": "#%%\n"
    }
   }
  },
  {
   "cell_type": "code",
   "execution_count": 18,
   "outputs": [
    {
     "name": "stdout",
     "output_type": "stream",
     "text": [
      "[3, 0, 5, 5, 2, 4, 4, 5, 5, 6, 1, 5, 6, 5, 4, 5, 3, 3]\n"
     ]
    }
   ],
   "source": [
    "\n",
    "scope = np.asarray(angl)/np.linalg.norm(angl)\n",
    "r = np.round(scope*len(angl),0)\n",
    "labels=[]\n",
    "l = np.unique(r).tolist()\n",
    "for i in r:\n",
    "    labels.append(l.index(i))\n",
    "print(labels)\n"
   ],
   "metadata": {
    "collapsed": false,
    "pycharm": {
     "name": "#%%\n"
    }
   }
  },
  {
   "cell_type": "markdown",
   "source": [
    "Display"
   ],
   "metadata": {
    "collapsed": false
   }
  },
  {
   "cell_type": "code",
   "execution_count": 30,
   "outputs": [
    {
     "data": {
      "text/plain": "defaultdict(list,\n            {3: [<shapely.geometry.linestring.LineString at 0x7faf6957f7f0>,\n              <shapely.geometry.linestring.LineString at 0x7faf6957d330>,\n              <shapely.geometry.linestring.LineString at 0x7faf6957f8b0>],\n             0: [<shapely.geometry.linestring.LineString at 0x7faf6957c220>],\n             5: [<shapely.geometry.linestring.LineString at 0x7faf6957c130>,\n              <shapely.geometry.linestring.LineString at 0x7faf6957f340>,\n              <shapely.geometry.linestring.LineString at 0x7faf6957f3a0>,\n              <shapely.geometry.linestring.LineString at 0x7faf6957f550>,\n              <shapely.geometry.linestring.LineString at 0x7faf6957c940>,\n              <shapely.geometry.linestring.LineString at 0x7faf6957d210>,\n              <shapely.geometry.linestring.LineString at 0x7faf6957e020>],\n             2: [<shapely.geometry.linestring.LineString at 0x7faf6957d2d0>],\n             4: [<shapely.geometry.linestring.LineString at 0x7faf6957f370>,\n              <shapely.geometry.linestring.LineString at 0x7faf6957d300>,\n              <shapely.geometry.linestring.LineString at 0x7faf6957c5b0>],\n             6: [<shapely.geometry.linestring.LineString at 0x7faf6957f5b0>,\n              <shapely.geometry.linestring.LineString at 0x7faf6957f730>],\n             1: [<shapely.geometry.linestring.LineString at 0x7faf6957f400>]})"
     },
     "execution_count": 30,
     "metadata": {},
     "output_type": "execute_result"
    }
   ],
   "source": [
    "from collections import defaultdict\n",
    "from shapely.geometry import MultiLineString\n",
    "d_ = defaultdict(list)\n",
    "\n",
    "for la, l in zip(labels, ll):\n",
    "    d_[la].append(l)\n",
    "\n",
    "d_\n"
   ],
   "metadata": {
    "collapsed": false,
    "pycharm": {
     "name": "#%%\n"
    }
   }
  },
  {
   "cell_type": "code",
   "execution_count": 42,
   "outputs": [
    {
     "data": {
      "text/plain": "<Figure size 720x720 with 1 Axes>",
      "image/png": "[encoded data removed]"
     },
     "metadata": {
      "needs_background": "light"
     },
     "output_type": "display_data"
    }
   ],
   "source": [
    "import matplotlib.pyplot as plt\n",
    "\n",
    "\n",
    "fig, ax = plt.subplots(figsize=(10, 10))\n",
    "ax.set_xlabel('X coordinate', fontsize=15)\n",
    "ax.set_ylabel('Y coordinate', fontsize=15)\n",
    "for d in d_[0]:\n",
    "    ax.plot(*d.xy, label='LineString', color='#ff00b4')\n",
    "for d in d_[1]:\n",
    "    ax.plot(*d.xy, label='LineString', color='#ffa200')\n",
    "for d in d_[2]:\n",
    "    ax.plot(*d.xy, label='LineString', color='#9c00ff')\n",
    "for d in d_[3]:\n",
    "    ax.plot(*d.xy, label='LineString', color='#9c00ff')\n",
    "for d in d_[4]:\n",
    "    ax.plot(*d.xy, label='LineString', color='#0012ff')\n",
    "for d in d_[5]:\n",
    "    ax.plot(*d.xy, label='LineString', color='#ffcc00')\n",
    "for d in d_[6]:\n",
    "    ax.plot(*d.xy, label='LineString', color='#9c00ff')\n",
    "\n",
    "plt.show()"
   ],
   "metadata": {
    "collapsed": false,
    "pycharm": {
     "name": "#%%\n"
    }
   }
  },
  {
   "cell_type": "code",
   "execution_count": null,
   "outputs": [],
   "source": [],
   "metadata": {
    "collapsed": false,
    "pycharm": {
     "name": "#%%\n"
    }
   }
  }
 ],
 "metadata": {
  "kernelspec": {
   "display_name": "Python 3",
   "language": "python",
   "name": "python3"
  },
  "language_info": {
   "codemirror_mode": {
    "name": "ipython",
    "version": 2
   },
   "file_extension": ".py",
   "mimetype": "text/x-python",
   "name": "python",
   "nbconvert_exporter": "python",
   "pygments_lexer": "ipython2",
   "version": "2.7.6"
  }
 },
 "nbformat": 4,
 "nbformat_minor": 0
}