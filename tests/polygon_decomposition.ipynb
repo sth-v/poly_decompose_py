{
 "cells": [
  {
   "cell_type": "code",
   "execution_count": 1,
   "metadata": {
    "collapsed": true
   },
   "outputs": [
    {
     "name": "stderr",
     "output_type": "stream",
     "text": [
      "/opt/anaconda3/envs/tests/lib/python3.10/site-packages/osmnx/geocoder.py:110: FutureWarning: The frame.append method is deprecated and will be removed from pandas in a future version. Use pandas.concat instead.\n",
      "  gdf = gdf.append(_geocode_query_to_gdf(q, wr, by_osmid))\n",
      "/opt/anaconda3/envs/tests/lib/python3.10/site-packages/osmnx/geocoder.py:110: FutureWarning: The frame.append method is deprecated and will be removed from pandas in a future version. Use pandas.concat instead.\n",
      "  gdf = gdf.append(_geocode_query_to_gdf(q, wr, by_osmid))\n",
      "/opt/anaconda3/envs/tests/lib/python3.10/site-packages/osmnx/geocoder.py:110: FutureWarning: The frame.append method is deprecated and will be removed from pandas in a future version. Use pandas.concat instead.\n",
      "  gdf = gdf.append(_geocode_query_to_gdf(q, wr, by_osmid))\n"
     ]
    }
   ],
   "source": [
    "from basepolygon_class import GoalPolygon\n",
    "from shapely.geometry import Polygon\n",
    "place_one = GoalPolygon('Жилой комплекс \"Жулебино Парк\" стройка')\n",
    "v = place_one.polygon"
   ]
  },
  {
   "cell_type": "markdown",
   "source": [
    "Геометрическое упрощение"
   ],
   "metadata": {
    "collapsed": false
   }
  },
  {
   "cell_type": "code",
   "execution_count": 2,
   "outputs": [],
   "source": [
    "def get_xy(s):\n",
    "\n",
    "    x, y = s.centroid.coords.xy\n",
    "    return x[0], y[0]"
   ],
   "metadata": {
    "collapsed": false,
    "pycharm": {
     "name": "#%%\n"
    }
   }
  },
  {
   "cell_type": "markdown",
   "source": [
    "Здесь полигон в нуле не от центра"
   ],
   "metadata": {
    "collapsed": false
   }
  },
  {
   "cell_type": "code",
   "execution_count": 8,
   "outputs": [
    {
     "data": {
      "text/plain": "<shapely.geometry.polygon.Polygon at 0x7f7f8dd3dcf0>",
      "image/svg+xml": "<svg xmlns=\"http://www.w3.org/2000/svg\" xmlns:xlink=\"http://www.w3.org/1999/xlink\" width=\"300\" height=\"300\" viewBox=\"-28.16135916750878 -28.16135916750878 721.2831958739482 760.356697522737\" preserveAspectRatio=\"xMinYMin meet\"><g transform=\"matrix(1,0,0,-1,0,704.0339791877195)\"><path fill-rule=\"evenodd\" fill=\"#66cc99\" stroke=\"#555555\" stroke-width=\"5.0690446501515805\" opacity=\"0.6\" d=\"M 0.0,42.42240105941892 L 49.646892975317314,0.0 L 98.84738645789912,8.644872757606208 L 91.4870680613094,103.90478569734842 L 123.99432792240987,102.31525947432965 L 118.84098943317076,169.09848177898675 L 259.5926219234825,182.74853624869138 L 251.26317001710413,210.77966740820557 L 324.2408816458192,237.37195728812367 L 363.47268786811037,201.54586718510836 L 363.9113453243044,162.49007819592953 L 382.8016503081308,152.13047074340284 L 428.13861587963765,169.7247769329697 L 452.75512537162285,205.44482689723372 L 418.62160929798847,242.2890095654875 L 468.869841001404,276.86797133646905 L 373.6430417126394,516.6187753705308 L 325.4972854232765,497.4457708345726 L 303.76772698637797,550.6964679146186 L 427.32105774397496,598.1822010865435 L 561.7782090922119,553.6829920513555 L 646.1450598833035,565.1904505407438 L 653.429957066779,549.7999624321237 L 664.9604775389307,570.4281977945939 L 620.0133774741553,591.985123119317 L 616.5740414878237,634.2286564968526 L 534.9653862527339,680.0588067416102 L 469.36269571079174,692.9371331753209 L 447.92885945062153,672.5041266316548 L 414.77547417697497,704.0339791877195 L 262.5802838554955,643.69222803507 L 295.5449692333932,557.1087740799412 L 181.57467434561113,514.2564668776467 L 251.4879176306422,335.4356294348836 L 88.63919788587373,273.43698931019753 L 102.58079667651327,237.87792157381773 L 31.373416263901163,206.9413421181962 L 31.85410999529995,75.80640601925552 L 0.0,42.42240105941892 z\" /></g></svg>"
     },
     "execution_count": 8,
     "metadata": {},
     "output_type": "execute_result"
    }
   ],
   "source": [
    "from shapely.affinity import translate\n",
    "import numpy as np\n",
    "\n",
    "s = v.simplify(10, preserve_topology=True)\n",
    "x, y, _, _ = v.bounds\n",
    "#x, y = get_xy(s)\n",
    "st = translate(s, 0-x, 0-y)\n",
    "st"
   ],
   "metadata": {
    "collapsed": false,
    "pycharm": {
     "name": "#%%\n"
    }
   }
  },
  {
   "cell_type": "code",
   "execution_count": 4,
   "outputs": [],
   "source": [
    "coor_list = (list(st.boundary.coords[0:len(st.boundary.coords) - 1]))"
   ],
   "metadata": {
    "collapsed": false,
    "pycharm": {
     "name": "#%%\n"
    }
   }
  },
  {
   "cell_type": "markdown",
   "source": [
    "разбиение точек на группы по сегментам"
   ],
   "metadata": {
    "collapsed": false
   }
  },
  {
   "cell_type": "code",
   "execution_count": 9,
   "outputs": [],
   "source": [
    "from itertools import islice, cycle\n",
    "\n",
    "def vec_search(point_list, key):\n",
    "    cr = []\n",
    "    n = list(islice(cycle(range(len(point_list))), 0, len(point_list) *2))\n",
    "    for i in range(len(point_list)):\n",
    "        v_one = [point_list[n[i]][0] - point_list[n[i + 1]][0], point_list[n[i]][1] - point_list[n[i + 1]][1], 0]\n",
    "        v_two = [point_list[n[i + 1]][0] - point_list[n[i + 2]][0], point_list[n[i + 1]][1] - point_list[n[i + 2]][1],0]\n",
    "        v_o_norm, v_t_norm = v_one / np.linalg.norm(v_one), v_two / np.linalg.norm(v_two)\n",
    "        if np.cross(v_o_norm, v_t_norm)[2] < key:\n",
    "            cr.append(n[i + 1])\n",
    "        else:\n",
    "            pass\n",
    "    cross = [*cr, cr[0] + cr[-1] + 1]\n",
    "    double_points = [*range(len(point_list)), *range(len(point_list))]\n",
    "    segments = [double_points[cross[c]:cross[c + 1]+1] for c in range(len(cross) - 1)]\n",
    "    return segments"
   ],
   "metadata": {
    "collapsed": false,
    "pycharm": {
     "name": "#%%\n"
    }
   }
  },
  {
   "cell_type": "code",
   "execution_count": 10,
   "outputs": [
    {
     "name": "stdout",
     "output_type": "stream",
     "text": [
      "[[3, 4, 5], [5, 6, 7], [7, 8], [8, 9], [9, 10, 11, 12, 13, 14], [14, 15, 16, 17], [17, 18], [18, 19], [19, 20], [20, 21], [21, 22, 23, 24], [24, 25, 26], [26, 27, 28], [28, 29, 30, 31], [31, 32, 33], [33, 34, 35], [35, 36, 37], [37, 0, 1, 2, 3]]\n"
     ]
    }
   ],
   "source": [
    "bb = vec_search(coor_list, 0.5)\n",
    "print(bb)"
   ],
   "metadata": {
    "collapsed": false,
    "pycharm": {
     "name": "#%%\n"
    }
   }
  },
  {
   "cell_type": "code",
   "execution_count": 11,
   "outputs": [],
   "source": [
    "def chains_base (point_list, parts):\n",
    "    vectors =[]\n",
    "    for i in parts:\n",
    "        temp =[]\n",
    "        for l in range(len(i)-1):\n",
    "            vec = [point_list[i[l]][0] - point_list[i[l+1]][0], point_list[i[l]][1] - point_list[i[l+1]][1]]\n",
    "            temp.append(vec)\n",
    "        vectors.append(temp)\n",
    "    return vectors"
   ],
   "metadata": {
    "collapsed": false,
    "pycharm": {
     "name": "#%%\n"
    }
   }
  },
  {
   "cell_type": "code",
   "execution_count": 14,
   "outputs": [],
   "source": [
    "res_vec = chains_base(coor_list, bb)"
   ],
   "metadata": {
    "collapsed": false,
    "pycharm": {
     "name": "#%%\n"
    }
   }
  },
  {
   "cell_type": "markdown",
   "source": [
    "SVD"
   ],
   "metadata": {
    "collapsed": false
   }
  },
  {
   "cell_type": "code",
   "execution_count": 15,
   "outputs": [
    {
     "name": "stderr",
     "output_type": "stream",
     "text": [
      "/var/folders/l7/52t7xngd2973k8x9_y55rmyh0000gn/T/ipykernel_21055/2655982256.py:5: VisibleDeprecationWarning: Creating an ndarray from ragged nested sequences (which is a list-or-tuple of lists-or-tuples-or ndarrays with different lengths or shapes) is deprecated. If you meant to do this, you must specify 'dtype=object' when creating the ndarray.\n",
      "  A = np.asarray(res_vec)\n"
     ]
    }
   ],
   "source": [
    "from scipy.linalg import svd\n",
    "import numpy as np\n",
    "import torch\n",
    "\n",
    "A = np.asarray(res_vec)"
   ],
   "metadata": {
    "collapsed": false,
    "pycharm": {
     "name": "#%%\n"
    }
   }
  },
  {
   "cell_type": "code",
   "execution_count": 16,
   "outputs": [],
   "source": [
    "class SvdItem:\n",
    "    keys=[\"A\", \"U\", \"S\", \"Vh\", \"Sigma\"]\n",
    "    def __init__(self, m, collection=None, **kwargs):\n",
    "        self.A = torch.tensor(m)\n",
    "        self.collection=collection\n",
    "        self.U = None\n",
    "        self.S = None\n",
    "        self.Vh = None\n",
    "        self.Sigma = None\n",
    "        self.svd(**kwargs)\n",
    "        if collection is not None:\n",
    "            self.id = f'{collection.id}:{len(collection.matrices)}'\n",
    "            print(f'set item id: {self.id}')\n",
    "            collection.A.append(self.A)\n",
    "\n",
    "\n",
    "\n",
    "    def svd(self, **kwargs):\n",
    "        U, S, Vh = torch.linalg.svd(self.A, **kwargs)\n",
    "        Sigma = torch.diag(S)\n",
    "        self.U, self.S, self.Vh, self.Sigma=U, S, Vh, Sigma\n",
    "        print(self.U, self.S, self.Vh, self.Sigma)\n",
    "        if self.collection:\n",
    "            for v, k in zip([A, U, S, Vh, Sigma], self.__class__.keys):\n",
    "                (self.collection.__dict__[k]).append(v)\n",
    "\n",
    "        return U, S, Vh, Sigma\n",
    "    def pack(self):\n",
    "        self.collection.__dict__[self.__class__.__name__][self.collection.id]|={self.id:self}\n",
    "        return self.id, self\n",
    "\n",
    "\n",
    "\n",
    "class SvdPack:\n",
    "    def __init__(self):\n",
    "        self._matrices = []\n",
    "        self.id = f'{0}:{0}'\n",
    "        self.A, self.U, self.S, self.Vh, self.Sigma = [], [], [], [], []\n",
    "        self.tree= {self.id:{}}\n",
    "\n",
    "\n",
    "\n",
    "    @property\n",
    "    def matrices(self):\n",
    "        return self._matrices\n",
    "    @matrices.setter\n",
    "    def matrices(self, val, **kwargs):\n",
    "        if len(val.shape) == 2:\n",
    "            self._matrices.append(SvdItem(val, collection=self, **kwargs))\n",
    "        else:\n",
    "            for v in val:\n",
    "                self._matrices.append(SvdItem(v, collection=self, **kwargs))"
   ],
   "metadata": {
    "collapsed": false,
    "pycharm": {
     "name": "#%%\n"
    }
   }
  },
  {
   "cell_type": "code",
   "execution_count": 17,
   "outputs": [],
   "source": [
    "pck = SvdPack()"
   ],
   "metadata": {
    "collapsed": false,
    "pycharm": {
     "name": "#%%\n"
    }
   }
  },
  {
   "cell_type": "code",
   "execution_count": null,
   "outputs": [],
   "source": [
    "a_=np.asarray(res_vec, dtype=object)\n",
    "pck.matrices = a_"
   ],
   "metadata": {
    "collapsed": false,
    "pycharm": {
     "name": "#%%\n",
     "is_executing": true
    }
   }
  },
  {
   "cell_type": "code",
   "execution_count": null,
   "outputs": [],
   "source": [
    "pck_vh = pck.Vh"
   ],
   "metadata": {
    "collapsed": false,
    "pycharm": {
     "name": "#%%\n",
     "is_executing": true
    }
   }
  },
  {
   "cell_type": "markdown",
   "source": [
    "Работа с транспортированными точками"
   ],
   "metadata": {
    "collapsed": false
   }
  },
  {
   "cell_type": "code",
   "execution_count": null,
   "outputs": [],
   "source": [
    "def matricies_check(matricies_list):\n",
    "    matrix_checked = []\n",
    "    for i in matricies_list:\n",
    "        if i[0][1]<0 and i[1][0]>0 or i[0][1]>0 and i[1][0]<0 :\n",
    "            matrix_checked.append(i)\n",
    "        else:\n",
    "            #ii = np.fliplr(i)*(-1)\n",
    "            i[1]*= -1\n",
    "            matrix_checked.append(i)\n",
    "    return matrix_checked\n",
    "\n",
    "identical_matricies = matricies_check(pck_vh)\n",
    "identical_matricies"
   ],
   "metadata": {
    "collapsed": false,
    "pycharm": {
     "name": "#%%\n",
     "is_executing": true
    }
   }
  },
  {
   "cell_type": "code",
   "execution_count": 21,
   "outputs": [],
   "source": [
    "def transform_chains_from_vh(chains, t):\n",
    "    chains_t=[]\n",
    "    for i, clust in enumerate(chains):\n",
    "        _t=[]\n",
    "        for j in clust:\n",
    "            _ = t[i] @ np.asarray(coor_list[j])\n",
    "            _t.append(np.asarray(_).tolist())\n",
    "        chains_t.append(_t)\n",
    "    return chains_t\n",
    "\n",
    "p_t = transform_chains_from_vh(bb, identical_matricies)"
   ],
   "metadata": {
    "collapsed": false,
    "pycharm": {
     "name": "#%%\n"
    }
   }
  },
  {
   "cell_type": "code",
   "execution_count": 23,
   "outputs": [],
   "source": [
    "def chains_ (point_list):\n",
    "    vectors =[]\n",
    "    for i in point_list:\n",
    "        temp =[]\n",
    "        for l in range(len(i)-1):\n",
    "            vec = [i[l][0] - i[l+1][0], i[l][1] - i[l+1][1]]\n",
    "            temp.append(vec)\n",
    "        vectors.append(temp)\n",
    "    return vectors\n",
    "\n",
    "v_t = chains_(p_t)\n",
    "# not transformed vec\n",
    "v_ = res_vec"
   ],
   "metadata": {
    "collapsed": false,
    "pycharm": {
     "name": "#%%\n"
    }
   }
  },
  {
   "cell_type": "code",
   "execution_count": 26,
   "outputs": [],
   "source": [
    "def unit_vector(vector):\n",
    "    return vector / np.linalg.norm(vector)\n",
    "\n",
    "def angle_between(v1, v2):\n",
    "    v1_u = unit_vector(v1)\n",
    "    v2_u = unit_vector(v2)\n",
    "    return np.arccos(np.clip(np.dot(v1_u, v2_u), -1.0, 1.0))\n",
    "\n",
    "def angle (v_tr, v_b):\n",
    "    ang =[]\n",
    "    for j, i in enumerate(v_tr):\n",
    "        for ind, val in enumerate(i):\n",
    "            ang.append(angle_between(val, v_b[j][ind]))\n",
    "            break\n",
    "    return ang\n",
    "\n",
    "angl = angle(v_t, res_vec)"
   ],
   "metadata": {
    "collapsed": false,
    "pycharm": {
     "name": "#%%\n"
    }
   }
  },
  {
   "cell_type": "code",
   "execution_count": 25,
   "outputs": [
    {
     "name": "stdout",
     "output_type": "stream",
     "text": [
      "[3, 0, 5, 5, 2, 4, 4, 5, 5, 6, 1, 5, 6, 5, 4, 5, 3, 3]\n"
     ]
    }
   ],
   "source": [
    "\n",
    "scope = np.asarray(angl)/np.linalg.norm(angl)\n",
    "r = np.round(scope*len(angl),0)\n",
    "labels=[]\n",
    "l = np.unique(r).tolist()\n",
    "for i in r:\n",
    "    labels.append(l.index(i))\n",
    "print(labels)"
   ],
   "metadata": {
    "collapsed": false,
    "pycharm": {
     "name": "#%%\n"
    }
   }
  },
  {
   "cell_type": "markdown",
   "source": [
    "Display"
   ],
   "metadata": {
    "collapsed": false
   }
  },
  {
   "cell_type": "code",
   "execution_count": null,
   "outputs": [],
   "source": [],
   "metadata": {
    "collapsed": false,
    "pycharm": {
     "name": "#%%\n"
    }
   }
  }
 ],
 "metadata": {
  "kernelspec": {
   "display_name": "Python 3",
   "language": "python",
   "name": "python3"
  },
  "language_info": {
   "codemirror_mode": {
    "name": "ipython",
    "version": 2
   },
   "file_extension": ".py",
   "mimetype": "text/x-python",
   "name": "python",
   "nbconvert_exporter": "python",
   "pygments_lexer": "ipython2",
   "version": "2.7.6"
  }
 },
 "nbformat": 4,
 "nbformat_minor": 0
}