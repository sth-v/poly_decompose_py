{
 "cells": [
  {
   "cell_type": "code",
   "execution_count": 9,
   "metadata": {
    "collapsed": true
   },
   "outputs": [],
   "source": [
    "class FunctionalZones:\n",
    "    def __init__(self, value):\n",
    "        self.value = value\n",
    "\n",
    "    def __call__(self, s_site, kit, liv_dens, child, child_dens, pupil, pupil_dens, parking_perc, mm, mm_dens, green):\n",
    "        #1\n",
    "        s_housing = s_site /(kit / (liv_dens/10000) * child * (child_dens / 10000) + kit / (liv_dens / 10000) * pupil * (pupil_dens / 10000) + kit / (liv_dens / 10000) * parking_perc * mm * (mm_dens / 10000) + kit / (liv_dens / 10000) * green / 10000 + 1)\n",
    "        #2\n",
    "        s_parking = s_housing * (kit / (liv_dens / 10000) * parking_perc * mm * (mm_dens / 10000))\n",
    "        #3\n",
    "        s_green = s_housing * (kit / (liv_dens / 10000) * green / 10000 )\n",
    "        #4\n",
    "        s_school = s_housing * (kit / (liv_dens / 10000) * pupil * (pupil_dens / 10000))\n",
    "        #5\n",
    "        s_kindgard = s_housing * (kit / (liv_dens/10000) * child * (child_dens / 10000))\n",
    "\n",
    "        return s_housing, s_parking, s_green, s_school, s_kindgard\n"
   ]
  },
  {
   "cell_type": "code",
   "execution_count": 13,
   "outputs": [
    {
     "data": {
      "text/plain": "(16.58108686350021,\n 4.456996148908857,\n 5.305947796320067,\n 2.6441306518328336,\n 2.011838539438026)"
     },
     "execution_count": 13,
     "metadata": {},
     "output_type": "execute_result"
    }
   ],
   "source": [
    "s_h = FunctionalZones(4)\n",
    "\n",
    "a,b,c,d,e = s_h(31, 1.6, 30, 0.065, 35, 0.13, 23, 0.8, 0.42, 15, 6)\n",
    "a,b,c,d,e"
   ],
   "metadata": {
    "collapsed": false,
    "pycharm": {
     "name": "#%%\n"
    }
   }
  },
  {
   "cell_type": "code",
   "execution_count": null,
   "outputs": [],
   "source": [],
   "metadata": {
    "collapsed": false,
    "pycharm": {
     "name": "#%%\n"
    }
   }
  }
 ],
 "metadata": {
  "kernelspec": {
   "display_name": "Python 3",
   "language": "python",
   "name": "python3"
  },
  "language_info": {
   "codemirror_mode": {
    "name": "ipython",
    "version": 2
   },
   "file_extension": ".py",
   "mimetype": "text/x-python",
   "name": "python",
   "nbconvert_exporter": "python",
   "pygments_lexer": "ipython2",
   "version": "2.7.6"
  }
 },
 "nbformat": 4,
 "nbformat_minor": 0
}