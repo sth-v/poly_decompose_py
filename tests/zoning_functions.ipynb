{
 "cells": [
  {
   "cell_type": "code",
   "execution_count": 283,
   "outputs": [],
   "source": [
    "import shapely.geometry as shg\n",
    "import numpy as np\n",
    "from shapely.geometry import CAP_STYLE, JOIN_STYLE\n",
    "import copy\n",
    "import pandas as pd\n",
    "import math"
   ],
   "metadata": {
    "collapsed": false,
    "pycharm": {
     "name": "#%%\n"
    }
   }
  },
  {
   "cell_type": "code",
   "execution_count": 284,
   "metadata": {
    "collapsed": true,
    "pycharm": {
     "name": "#%%\n"
    }
   },
   "outputs": [],
   "source": [
    "class FunctionalZones:\n",
    "    def __init__(self, value):\n",
    "        self.value = value\n",
    "\n",
    "    def __call__(self, s_site, kit = 1.6, liv_dens = 30, child = 0.065, child_dens = 35, pupil = 0.13, pupil_dens = 23, parking_perc = 0.8, mm = 0.42, mm_dens = 15, green = 6, places_insch = 550, places_inkind = 300):\n",
    "        #1\n",
    "        s_housing = s_site /(kit / (liv_dens/10000) * child * (child_dens / 10000) + kit / (liv_dens / 10000) * pupil * (pupil_dens / 10000) + kit / (liv_dens / 10000) * parking_perc * mm * (mm_dens / 10000) + kit / (liv_dens / 10000) * green / 10000 + 1)\n",
    "        #2\n",
    "        s_parking = s_housing * (kit / (liv_dens / 10000) * parking_perc * mm * (mm_dens / 10000))\n",
    "        #3\n",
    "        s_green = s_housing * (kit / (liv_dens / 10000) * green / 10000 )\n",
    "        #4\n",
    "        s_school = s_housing * (kit / (liv_dens / 10000) * pupil * (pupil_dens / 10000))\n",
    "        #5\n",
    "        s_kindgard = s_housing * (kit / (liv_dens/10000) * child * (child_dens / 10000))\n",
    "        #6\n",
    "        places_gou = s_housing*(kit/(liv_dens/10000)*pupil)\n",
    "        #7\n",
    "        places_dou = s_housing*(kit/(s_housing/10000)*child)\n",
    "        #8\n",
    "        people = s_housing*(kit/(s_housing/10000))\n",
    "        #9\n",
    "        def amount_gou():\n",
    "            am_gou = round(places_gou / places_insch)\n",
    "            if math.ceil((places_gou-(places_insch*am_gou)) / 275)<2:\n",
    "                return am_gou\n",
    "            else:\n",
    "                return am_gou+1\n",
    "        #10\n",
    "        def amount_dou():\n",
    "            am_dou = round(places_dou / places_inkind)\n",
    "            if math.ceil(places_dou-(places_inkind*am_dou)) >= 250:\n",
    "                return am_dou+1\n",
    "            else:\n",
    "                return am_dou\n",
    "\n",
    "\n",
    "        return s_housing, s_parking, s_green, s_school, s_kindgard, places_gou, places_dou, people, amount_gou(), amount_dou()\n"
   ]
  },
  {
   "cell_type": "code",
   "execution_count": 285,
   "outputs": [
    {
     "data": {
      "text/plain": "26.743688489516472"
     },
     "execution_count": 285,
     "metadata": {},
     "output_type": "execute_result"
    }
   ],
   "source": [
    "s_h = FunctionalZones(5)\n",
    "\n",
    "a,b,c,d,e,f,g,h,i,j = s_h(50, 1.6, 30, 0.065, 35, 0.13, 23, 0.8, 0.42, 15, 6, 1600, 300)\n",
    "a"
   ],
   "metadata": {
    "collapsed": false,
    "pycharm": {
     "name": "#%%\n"
    }
   }
  },
  {
   "cell_type": "code",
   "execution_count": 286,
   "outputs": [],
   "source": [
    "class Build:\n",
    "    def __init__(self, **kwargs):\n",
    "        self.__dict__|= kwargs\n",
    "    def __call__(self):\n",
    "        ans = copy.deepcopy(self.__dict__)\n",
    "        ans.__delitem__('section')\n",
    "        return np.asarray(list(ans.values()), dtype=float), np.asarray(ans.keys(), dtype=str)\n",
    "    def __str__(self):\n",
    "        return self.__dict__.__str__()\n",
    "\n",
    "\n",
    "class Section:\n",
    "    def __init__(self, depth=16.0, eak=0.75):\n",
    "        self.section_depth = depth\n",
    "        self.eak=eak\n",
    "\n",
    "\n",
    "    def generate_section(self, cx, cy):\n",
    "        CAP_STYLE.square\n",
    "        JOIN_STYLE.mitre\n",
    "\n",
    "        cell_rect = shg.box(minx= -cx / 2 , miny= -cy / 2, maxx= cx / 2 , maxy= cy / 2)\n",
    "        w=list(cell_rect.boundary.coords)[:-1]\n",
    "\n",
    "        ls=shg.LineString([*w])\n",
    "        return ls.buffer(self.section_depth,  single_sided=True)\n",
    "\n",
    "    def __call__(self, **kwargs):\n",
    "        kwargs|={'section_depth':self.section_depth, 'eak':self.eak}\n",
    "        ss = self.generate_section(kwargs['cx'],kwargs['cy'])\n",
    "        nkwargs={}\n",
    "        nkwargs.update(kwargs)\n",
    "        nkwargs.update({'section': ss, 'area': ss.area*kwargs['floor']*self.eak, 'area_all':ss.area*kwargs['floor']})\n",
    "        return Build(**nkwargs)\n",
    "\n",
    "\n"
   ],
   "metadata": {
    "collapsed": false,
    "pycharm": {
     "name": "#%%\n"
    }
   }
  },
  {
   "cell_type": "code",
   "execution_count": 287,
   "outputs": [
    {
     "data": {
      "text/plain": "    floor   Сx    Сy     Ax    Ay   Bx     By   r  KZ       KPZ     Lx     Ly  \\\n0       5   70  60.0   34.6  60.0   70   51.2  90  22  10867.05  104.6  111.2   \n1       5   70  60.0   34.6  60.0   70   28.3  90  27  13577.67  104.6   88.3   \n2       5   70  60.0   27.8  60.0   70   26.5  90  30  14949.07   97.8   86.5   \n3       5   70  75.0   32.6  75.0   70   61.0  90  22  10778.57  102.6  136.0   \n4       5   70  75.0   32.6  75.0   70   34.6  90  27  13374.84  102.6  109.6   \n..    ...  ...   ...    ...   ...  ...    ...  ..  ..       ...    ...    ...   \n67     16   90  92.0   77.8  92.0   90   60.2  90  15  24257.89  167.8  152.2   \n68     16   90  92.0   42.6  92.0   90   41.6  90  22  34970.90  132.6  133.6   \n69     24  100  80.0  115.0  80.0  100  117.9  90   9  17143.78  215.0  197.9   \n70     24  100  80.0   77.8  80.0  100   81.8  90  13  25361.48  177.8  161.8   \n71     24  100  80.0   42.6  80.0  100   45.8  90  20  40671.03  142.6  125.8   \n\n        Slot       kit  \n0   1.163152  0.611270  \n1   0.923618  0.769799  \n2   0.845970  0.840455  \n3   1.395360  0.606295  \n4   1.124496  0.752337  \n..       ...       ...  \n67  2.553916  1.364493  \n68  1.771536  1.967107  \n69  4.254850  1.157456  \n70  2.876804  1.711900  \n71  1.793908  2.745291  \n\n[72 rows x 14 columns]",
      "text/html": "<div>\n<style scoped>\n    .dataframe tbody tr th:only-of-type {\n        vertical-align: middle;\n    }\n\n    .dataframe tbody tr th {\n        vertical-align: top;\n    }\n\n    .dataframe thead th {\n        text-align: right;\n    }\n</style>\n<table border=\"1\" class=\"dataframe\">\n  <thead>\n    <tr style=\"text-align: right;\">\n      <th></th>\n      <th>floor</th>\n      <th>Сx</th>\n      <th>Сy</th>\n      <th>Ax</th>\n      <th>Ay</th>\n      <th>Bx</th>\n      <th>By</th>\n      <th>r</th>\n      <th>KZ</th>\n      <th>KPZ</th>\n      <th>Lx</th>\n      <th>Ly</th>\n      <th>Slot</th>\n      <th>kit</th>\n    </tr>\n  </thead>\n  <tbody>\n    <tr>\n      <th>0</th>\n      <td>5</td>\n      <td>70</td>\n      <td>60.0</td>\n      <td>34.6</td>\n      <td>60.0</td>\n      <td>70</td>\n      <td>51.2</td>\n      <td>90</td>\n      <td>22</td>\n      <td>10867.05</td>\n      <td>104.6</td>\n      <td>111.2</td>\n      <td>1.163152</td>\n      <td>0.611270</td>\n    </tr>\n    <tr>\n      <th>1</th>\n      <td>5</td>\n      <td>70</td>\n      <td>60.0</td>\n      <td>34.6</td>\n      <td>60.0</td>\n      <td>70</td>\n      <td>28.3</td>\n      <td>90</td>\n      <td>27</td>\n      <td>13577.67</td>\n      <td>104.6</td>\n      <td>88.3</td>\n      <td>0.923618</td>\n      <td>0.769799</td>\n    </tr>\n    <tr>\n      <th>2</th>\n      <td>5</td>\n      <td>70</td>\n      <td>60.0</td>\n      <td>27.8</td>\n      <td>60.0</td>\n      <td>70</td>\n      <td>26.5</td>\n      <td>90</td>\n      <td>30</td>\n      <td>14949.07</td>\n      <td>97.8</td>\n      <td>86.5</td>\n      <td>0.845970</td>\n      <td>0.840455</td>\n    </tr>\n    <tr>\n      <th>3</th>\n      <td>5</td>\n      <td>70</td>\n      <td>75.0</td>\n      <td>32.6</td>\n      <td>75.0</td>\n      <td>70</td>\n      <td>61.0</td>\n      <td>90</td>\n      <td>22</td>\n      <td>10778.57</td>\n      <td>102.6</td>\n      <td>136.0</td>\n      <td>1.395360</td>\n      <td>0.606295</td>\n    </tr>\n    <tr>\n      <th>4</th>\n      <td>5</td>\n      <td>70</td>\n      <td>75.0</td>\n      <td>32.6</td>\n      <td>75.0</td>\n      <td>70</td>\n      <td>34.6</td>\n      <td>90</td>\n      <td>27</td>\n      <td>13374.84</td>\n      <td>102.6</td>\n      <td>109.6</td>\n      <td>1.124496</td>\n      <td>0.752337</td>\n    </tr>\n    <tr>\n      <th>...</th>\n      <td>...</td>\n      <td>...</td>\n      <td>...</td>\n      <td>...</td>\n      <td>...</td>\n      <td>...</td>\n      <td>...</td>\n      <td>...</td>\n      <td>...</td>\n      <td>...</td>\n      <td>...</td>\n      <td>...</td>\n      <td>...</td>\n      <td>...</td>\n    </tr>\n    <tr>\n      <th>67</th>\n      <td>16</td>\n      <td>90</td>\n      <td>92.0</td>\n      <td>77.8</td>\n      <td>92.0</td>\n      <td>90</td>\n      <td>60.2</td>\n      <td>90</td>\n      <td>15</td>\n      <td>24257.89</td>\n      <td>167.8</td>\n      <td>152.2</td>\n      <td>2.553916</td>\n      <td>1.364493</td>\n    </tr>\n    <tr>\n      <th>68</th>\n      <td>16</td>\n      <td>90</td>\n      <td>92.0</td>\n      <td>42.6</td>\n      <td>92.0</td>\n      <td>90</td>\n      <td>41.6</td>\n      <td>90</td>\n      <td>22</td>\n      <td>34970.90</td>\n      <td>132.6</td>\n      <td>133.6</td>\n      <td>1.771536</td>\n      <td>1.967107</td>\n    </tr>\n    <tr>\n      <th>69</th>\n      <td>24</td>\n      <td>100</td>\n      <td>80.0</td>\n      <td>115.0</td>\n      <td>80.0</td>\n      <td>100</td>\n      <td>117.9</td>\n      <td>90</td>\n      <td>9</td>\n      <td>17143.78</td>\n      <td>215.0</td>\n      <td>197.9</td>\n      <td>4.254850</td>\n      <td>1.157456</td>\n    </tr>\n    <tr>\n      <th>70</th>\n      <td>24</td>\n      <td>100</td>\n      <td>80.0</td>\n      <td>77.8</td>\n      <td>80.0</td>\n      <td>100</td>\n      <td>81.8</td>\n      <td>90</td>\n      <td>13</td>\n      <td>25361.48</td>\n      <td>177.8</td>\n      <td>161.8</td>\n      <td>2.876804</td>\n      <td>1.711900</td>\n    </tr>\n    <tr>\n      <th>71</th>\n      <td>24</td>\n      <td>100</td>\n      <td>80.0</td>\n      <td>42.6</td>\n      <td>80.0</td>\n      <td>100</td>\n      <td>45.8</td>\n      <td>90</td>\n      <td>20</td>\n      <td>40671.03</td>\n      <td>142.6</td>\n      <td>125.8</td>\n      <td>1.793908</td>\n      <td>2.745291</td>\n    </tr>\n  </tbody>\n</table>\n<p>72 rows × 14 columns</p>\n</div>"
     },
     "execution_count": 287,
     "metadata": {},
     "output_type": "execute_result"
    }
   ],
   "source": [
    "df = pd.read_csv('/Users/sofyadobycina/Downloads/aff_grid - aff_grid.csv')\n",
    "\n",
    "for i in df:\n",
    "    if df[i].dtype == object:\n",
    "        df[i] = df[i].str.replace(',', '.').astype(float)\n",
    "\n",
    "build =[]\n",
    "for i,v in enumerate (df.Сx):\n",
    "    cell = Section()\n",
    "    build.append(cell(cx=v, cy=df.Сy[i], floor = df.floor[i]))\n",
    "\n",
    "df['kit'] = [(v.area * 0.75) / (df.Slot[i]) for i, v in enumerate(build)]\n",
    "df.Slot = df.Slot/10000\n",
    "df"
   ],
   "metadata": {
    "collapsed": false,
    "pycharm": {
     "name": "#%%\n"
    }
   }
  },
  {
   "cell_type": "code",
   "execution_count": 288,
   "outputs": [
    {
     "data": {
      "text/plain": "array([[ 5.00762787,  5.22857666,  7.93608042, 17.371231  ],\n       [ 1.60950676,  1.68052214,  2.55074368,  5.58330502],\n       [ 2.65578095,  2.77296051,  0.        ,  0.        ],\n       [ 0.        ,  2.98504361,  0.        ,  0.        ]])"
     },
     "execution_count": 288,
     "metadata": {},
     "output_type": "execute_result"
    }
   ],
   "source": [
    "width = np.asarray([123.93118099999998, 129.39932800000003, 196.405932, 429.911573])\n",
    "height = np.asarray([404.06521, 129.87100999999996, 214.29481500000009, 230.68462999999997])\n",
    "mask = np.array([[False, False, False, False], [False, False, False, False], [False, False, True, True], [True, False, True, True]])\n",
    "area = np.outer(height, width)/10000\n",
    "area[mask] = 0\n",
    "\n",
    "area"
   ],
   "metadata": {
    "collapsed": false,
    "pycharm": {
     "name": "#%%\n"
    }
   }
  },
  {
   "cell_type": "code",
   "execution_count": 289,
   "outputs": [],
   "source": [
    "def types_calc (w, h, fl, site_area, sec_data, housing_area, kit=1.6):\n",
    "    site_perc = site_area * 100 / np.sum(site_area)\n",
    "    house_perc_area = housing_area * site_perc / 100\n",
    "    Val = sec_data[(sec_data['floor'] == 12) & (kit-0.5>=sec_data['kit'] >= kit+0.5)]\n",
    "\n",
    "    return Val\n"
   ],
   "metadata": {
    "collapsed": false,
    "pycharm": {
     "name": "#%%\n"
    }
   }
  },
  {
   "cell_type": "code",
   "execution_count": 290,
   "outputs": [
    {
     "data": {
      "text/plain": "    floor  Сx     Сy    Ax     Ay  Bx    By   r  KZ       KPZ     Lx     Ly  \\\n35     12  75   65.0  40.6   65.0  75  33.6  90  24  29152.18  115.6   98.6   \n38     12  75   81.5  40.8   81.5  75  33.8  90  25  29648.63  115.8  115.3   \n41     12  75   98.0  40.8   98.0  75  33.8  90  25  30091.87  115.8  131.8   \n44     12  75  114.5  40.8  114.5  75  33.8  90  25  30436.54  115.8  148.3   \n47     12  75  130.0  40.6  130.0  75  33.8  90  26  30697.07  115.6  163.8   \n50     12  75   92.0  40.6   92.0  75  34.8  90  25  29733.91  115.6  126.8   \n\n        Slot       kit  \n35  1.139816  1.639212  \n38  1.335174  1.666300  \n41  1.526244  1.691211  \n44  1.717314  1.710578  \n47  1.893528  1.728203  \n50  1.465808  1.672525  ",
      "text/html": "<div>\n<style scoped>\n    .dataframe tbody tr th:only-of-type {\n        vertical-align: middle;\n    }\n\n    .dataframe tbody tr th {\n        vertical-align: top;\n    }\n\n    .dataframe thead th {\n        text-align: right;\n    }\n</style>\n<table border=\"1\" class=\"dataframe\">\n  <thead>\n    <tr style=\"text-align: right;\">\n      <th></th>\n      <th>floor</th>\n      <th>Сx</th>\n      <th>Сy</th>\n      <th>Ax</th>\n      <th>Ay</th>\n      <th>Bx</th>\n      <th>By</th>\n      <th>r</th>\n      <th>KZ</th>\n      <th>KPZ</th>\n      <th>Lx</th>\n      <th>Ly</th>\n      <th>Slot</th>\n      <th>kit</th>\n    </tr>\n  </thead>\n  <tbody>\n    <tr>\n      <th>35</th>\n      <td>12</td>\n      <td>75</td>\n      <td>65.0</td>\n      <td>40.6</td>\n      <td>65.0</td>\n      <td>75</td>\n      <td>33.6</td>\n      <td>90</td>\n      <td>24</td>\n      <td>29152.18</td>\n      <td>115.6</td>\n      <td>98.6</td>\n      <td>1.139816</td>\n      <td>1.639212</td>\n    </tr>\n    <tr>\n      <th>38</th>\n      <td>12</td>\n      <td>75</td>\n      <td>81.5</td>\n      <td>40.8</td>\n      <td>81.5</td>\n      <td>75</td>\n      <td>33.8</td>\n      <td>90</td>\n      <td>25</td>\n      <td>29648.63</td>\n      <td>115.8</td>\n      <td>115.3</td>\n      <td>1.335174</td>\n      <td>1.666300</td>\n    </tr>\n    <tr>\n      <th>41</th>\n      <td>12</td>\n      <td>75</td>\n      <td>98.0</td>\n      <td>40.8</td>\n      <td>98.0</td>\n      <td>75</td>\n      <td>33.8</td>\n      <td>90</td>\n      <td>25</td>\n      <td>30091.87</td>\n      <td>115.8</td>\n      <td>131.8</td>\n      <td>1.526244</td>\n      <td>1.691211</td>\n    </tr>\n    <tr>\n      <th>44</th>\n      <td>12</td>\n      <td>75</td>\n      <td>114.5</td>\n      <td>40.8</td>\n      <td>114.5</td>\n      <td>75</td>\n      <td>33.8</td>\n      <td>90</td>\n      <td>25</td>\n      <td>30436.54</td>\n      <td>115.8</td>\n      <td>148.3</td>\n      <td>1.717314</td>\n      <td>1.710578</td>\n    </tr>\n    <tr>\n      <th>47</th>\n      <td>12</td>\n      <td>75</td>\n      <td>130.0</td>\n      <td>40.6</td>\n      <td>130.0</td>\n      <td>75</td>\n      <td>33.8</td>\n      <td>90</td>\n      <td>26</td>\n      <td>30697.07</td>\n      <td>115.6</td>\n      <td>163.8</td>\n      <td>1.893528</td>\n      <td>1.728203</td>\n    </tr>\n    <tr>\n      <th>50</th>\n      <td>12</td>\n      <td>75</td>\n      <td>92.0</td>\n      <td>40.6</td>\n      <td>92.0</td>\n      <td>75</td>\n      <td>34.8</td>\n      <td>90</td>\n      <td>25</td>\n      <td>29733.91</td>\n      <td>115.6</td>\n      <td>126.8</td>\n      <td>1.465808</td>\n      <td>1.672525</td>\n    </tr>\n  </tbody>\n</table>\n</div>"
     },
     "execution_count": 290,
     "metadata": {},
     "output_type": "execute_result"
    }
   ],
   "source": [
    "types_calc(width, height, [9,12], area, df, a)"
   ],
   "metadata": {
    "collapsed": false,
    "pycharm": {
     "name": "#%%\n"
    }
   }
  },
  {
   "cell_type": "code",
   "execution_count": 290,
   "outputs": [],
   "source": [],
   "metadata": {
    "collapsed": false,
    "pycharm": {
     "name": "#%%\n"
    }
   }
  }
 ],
 "metadata": {
  "kernelspec": {
   "display_name": "Python 3",
   "language": "python",
   "name": "python3"
  },
  "language_info": {
   "codemirror_mode": {
    "name": "ipython",
    "version": 2
   },
   "file_extension": ".py",
   "mimetype": "text/x-python",
   "name": "python",
   "nbconvert_exporter": "python",
   "pygments_lexer": "ipython2",
   "version": "2.7.6"
  }
 },
 "nbformat": 4,
 "nbformat_minor": 0
}