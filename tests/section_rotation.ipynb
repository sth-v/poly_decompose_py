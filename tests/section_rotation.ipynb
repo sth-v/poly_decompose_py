{
 "cells": [
  {
   "cell_type": "code",
   "execution_count": 24,
   "outputs": [],
   "source": [
    "import math\n",
    "from itertools import product\n",
    "from collections import defaultdict\n",
    "import matplotlib as plt\n",
    "import shapely\n",
    "from shapely.geometry import LineString, MultiLineString\n",
    "from scipy.spatial import distance"
   ],
   "metadata": {
    "collapsed": false,
    "pycharm": {
     "name": "#%%\n"
    }
   }
  },
  {
   "cell_type": "code",
   "execution_count": 25,
   "outputs": [],
   "source": [
    "test = [2.8533979930661495, 0.8350593062280169, 1.8350735010944388]\n",
    "lines = [[[(90.92466560343746, 359.8743795603514), (50.64634319592733, 342.689586349763), (141.4154383126297, 0.0), (738.6390963118174, 170.50443049520254)], [(528.746321437764, 592.3512355554849), (250.68498866126174, 548.8781394008547)]], [[(738.6390963118174, 170.50443049520254), (1041.5171545767225, 487.5379093941301), (733.3747470285161, 795.9299552580342), (528.746321437764, 592.3512355554849)]], [[(250.68498866126174, 548.8781394008547), (148.7872773281997, 925.0354834403843), (84.8542414731346, 907.106489722617)], [(84.8542414731346, 907.106489722617), (75.55369137861999, 940.1296991426498), (9.845574646664318, 921.7006750889122), (72.29789360892028, 700.0236357413232)], [(72.29789360892028, 700.0236357413232), (0.0, 679.7554941019043), (90.92466560343746, 359.8743795603514)]]]\n",
    "breakpoints_w = [(-60.535736, 903.22364), (13.366294, 923.257259),(88.824077, 943.712617), (139.973454, 957.578368)]\n",
    "breakpoints_l =[(139.973454, 957.578368),(287.526276, 413.067021), (149.479903, 922.496904), (201.087197, 732.051494), (251.835744, 544.775104)]\n"
   ],
   "metadata": {
    "collapsed": false,
    "pycharm": {
     "name": "#%%\n"
    }
   }
  },
  {
   "cell_type": "markdown",
   "source": [],
   "metadata": {
    "collapsed": false
   }
  },
  {
   "cell_type": "markdown",
   "source": [],
   "metadata": {
    "collapsed": false
   }
  },
  {
   "cell_type": "markdown",
   "source": [
    "Хуй знает как лучше решить несколько словарей с одинаковыми ключами (то что раньше было args)"
   ],
   "metadata": {
    "collapsed": false
   }
  },
  {
   "cell_type": "code",
   "execution_count": 47,
   "outputs": [],
   "source": [
    "class BaseSection:\n",
    "    def __init__(self, angle, leng, widt, road):\n",
    "        self.angle = angle\n",
    "        self.an_normalized = self.angle_normalized()\n",
    "        self.length, self.width, self.road = leng, widt, road\n",
    "        self.length_dep = self.length_dependency()\n",
    "        self.length_r, self.width_r = self.possible_combinations()\n",
    "\n",
    "    def angle_normalized(self):\n",
    "        if self.angle > math.pi / 4:\n",
    "            if self.angle < math.pi / 2:\n",
    "                ang = (math.pi / 2) - self.angle\n",
    "            elif 3 * math.pi / 4 > self.angle > math.pi / 2:\n",
    "                ang = self.angle - (math.pi / 2)\n",
    "            else:\n",
    "                ang = math.pi - self.angle\n",
    "        else:\n",
    "            ang = self.angle\n",
    "        return ang\n",
    "\n",
    "    def length_dependency(self):\n",
    "        length = {}\n",
    "        for key, value in self.length.items():\n",
    "            new_w = value[0] + (((value[1] - value[0]) * self.an_normalized) / 0.872665)  # 50 degrees\n",
    "            length[key] = [round(new_w)]\n",
    "        return length\n",
    "\n",
    "    def possible_combinations(self):\n",
    "        new_length = defaultdict(list)\n",
    "        new_width = defaultdict(list)\n",
    "        for key in self.road.keys():\n",
    "            l = list(product(self.road[key], self.length[key], repeat = 1))\n",
    "            new_length[key] = [sum(i) for i in l]\n",
    "            w = list(product(self.road[key], self.width[key], repeat = 1))\n",
    "            new_width[key] = [sum(i) for i in w]\n",
    "\n",
    "        return new_length, new_width\n"
   ],
   "metadata": {
    "collapsed": false,
    "pycharm": {
     "name": "#%%\n"
    }
   }
  },
  {
   "cell_type": "code",
   "execution_count": 50,
   "outputs": [
    {
     "name": "stdout",
     "output_type": "stream",
     "text": [
      "defaultdict(<class 'list'>, {'9': [122.8, 142.8, 89.6, 109.6], '12': [138, 165, 102.6, 129.6]})\n"
     ]
    }
   ],
   "source": [
    "lengths = {'9':[54,74], '12':[62,89]}\n",
    "widths = {'9':[72, 90, 108, 126, 144], '12':[65, 81, 98, 114, 130]}\n",
    "roads = {'9':[68.8, 35.6], '12': [76, 40.6]}\n",
    "t = BaseSection(test[2], lengths, widths, roads)\n",
    "a = t.length_r\n",
    "print(a)"
   ],
   "metadata": {
    "collapsed": false,
    "pycharm": {
     "name": "#%%\n"
    }
   }
  },
  {
   "cell_type": "markdown",
   "source": [],
   "metadata": {
    "collapsed": false
   }
  },
  {
   "cell_type": "code",
   "execution_count": 39,
   "outputs": [],
   "source": [
    "class PolyClusters:\n",
    "    def __init__(self, coordinates, angle, leng, widt, road, *split_points):\n",
    "        self.coordinates = coordinates\n",
    "        self.angle = angle\n",
    "        self.split_points = split_points\n",
    "        self.line = MultiLineString([LineString(c) for c in coordinates])\n",
    "        self.boundrec = list(self.line.minimum_rotated_rectangle.exterior.coords)\n",
    "        self.length = self.distance_between_points()\n",
    "        self.basesec = BaseSection(angle, leng, widt, road)\n",
    "        self.sum = self.grid_options()\n",
    "\n",
    "    #думаю leng и widt уберутся, так как это точки по которым разбивать\n",
    "\n",
    "    def distance_between_points(self):\n",
    "        dist = []\n",
    "        for i, v in enumerate(self.split_points):\n",
    "            if i != len(self.split_points) - 1:\n",
    "                dist.append(round(distance.euclidean(v, self.split_points[i+1])))\n",
    "        return dist\n",
    "\n",
    "    def grid_options(self):\n",
    "\n",
    "        def combination_sum():\n",
    "            ans = []\n",
    "            temp = []\n",
    "            arr = sorted(list([i[0] for i in self.basesec.width_dep.values()]))\n",
    "            ln = 694\n",
    "            find_numbers(ans, arr, temp, ln, 0)\n",
    "            return ans\n",
    "\n",
    "        def find_numbers(ans, arr, temp, ln, index):\n",
    "            if arr[0] / 3 > ln >= 0:\n",
    "                ans.append([list(temp), ln])\n",
    "            for i in range(index, len(arr)):\n",
    "                if (ln - arr[i]) >= 0:\n",
    "                    temp.append(arr[i])\n",
    "                    find_numbers(ans, arr, temp, ln - arr[i], i)\n",
    "                    temp.remove(arr[i])\n",
    "\n",
    "        return combination_sum()\n"
   ],
   "metadata": {
    "collapsed": false,
    "pycharm": {
     "name": "#%%\n"
    }
   }
  },
  {
   "cell_type": "markdown",
   "source": [
    "вопрос как обойтись со стандартными параметрами типо ширин проездов и т д?"
   ],
   "metadata": {
    "collapsed": false
   }
  },
  {
   "cell_type": "code",
   "execution_count": 41,
   "outputs": [
    {
     "data": {
      "text/plain": "defaultdict(list,\n            {'9': [122.8, 142.8, 89.6, 109.6], '12': [138, 165, 102.6, 129.6]})"
     },
     "execution_count": 41,
     "metadata": {},
     "output_type": "execute_result"
    }
   ],
   "source": [
    "lengths = {'9':[54,74], '12':[62,89]}\n",
    "widths = {'9':[72, 90, 108, 126, 144], '12':[65, 81, 98, 114, 130]}\n",
    "roads = {'9':[68.8, 35.6], '12': [76, 40.6]}\n",
    "t = BaseSection(test[2], lengths, widths, roads)\n",
    "tes = PolyClusters(lines[2], test[2], lengths, widths, roads, *breakpoints_w)\n",
    "a = t.length_r\n",
    "a"
   ],
   "metadata": {
    "collapsed": false,
    "pycharm": {
     "name": "#%%\n"
    }
   }
  },
  {
   "cell_type": "code",
   "execution_count": null,
   "outputs": [],
   "source": [
    "\n",
    "\n"
   ],
   "metadata": {
    "collapsed": false,
    "pycharm": {
     "name": "#%%\n"
    }
   }
  },
  {
   "cell_type": "markdown",
   "source": [],
   "metadata": {
    "collapsed": false
   }
  },
  {
   "cell_type": "markdown",
   "source": [],
   "metadata": {
    "collapsed": false
   }
  },
  {
   "cell_type": "markdown",
   "source": [],
   "metadata": {
    "collapsed": false
   }
  },
  {
   "cell_type": "markdown",
   "source": [],
   "metadata": {
    "collapsed": false
   }
  },
  {
   "cell_type": "markdown",
   "source": [],
   "metadata": {
    "collapsed": false
   }
  },
  {
   "cell_type": "code",
   "execution_count": null,
   "outputs": [],
   "source": [
    "class PolyCddlusters:\n",
    "    def __init__(self, coordinates, angle, **kwargs):\n",
    "        self.coordinates = coordinates\n",
    "        self.angle = angle\n",
    "        self.line = MultiLineString([LineString(c) for c in coordinates])\n",
    "        self.boundrec = list(self.line.minimum_rotated_rectangle.exterior.coords)\n",
    "        self.length = self.seg_length()\n",
    "        self.basesec = BaseSection(angle, **kwargs)\n",
    "        self.sum = self.grid_options()\n",
    "\n",
    "    # dolzhno bit opisano ranee, pomoika\n",
    "    def seg_length(self):\n",
    "        l = LineString([self.boundrec[1], self.boundrec[2]]).length\n",
    "        return round(l)\n",
    "\n",
    "    def grid_options(self):\n",
    "\n",
    "        def combination_sum():\n",
    "            ans = []\n",
    "            temp = []\n",
    "            arr = sorted(list([i[0] for i in self.basesec.width_dep.values()]))\n",
    "            #arr_vals = list(self.basesec.width_dep.values())\n",
    "            #arr_keys = list(self.basesec.width_dep.keys())\n",
    "            ln = self.length\n",
    "            find_numbers(ans, arr, temp, ln, 0)\n",
    "            return ans\n",
    "\n",
    "        def find_numbers(ans, arr, temp, ln, index):\n",
    "            if arr[0] / 3 > ln >= 0:\n",
    "                ans.append([list(temp), ln])\n",
    "            for i in range(index, len(arr)):\n",
    "                if (ln - arr[i]) >= 0:\n",
    "                    #temp.append(int(arr_keys[arr_vals.index(arr[i])]) * 4.6)\n",
    "                    temp.append(arr[i])\n",
    "                    find_numbers(ans, arr, temp, ln - arr[i], i)\n",
    "                    #temp.remove(int(arr_keys[arr_vals.index(arr[i])]) * 4.6)\n",
    "                    temp.remove(arr[i])\n",
    "\n",
    "        return combination_sum()\n"
   ],
   "metadata": {
    "collapsed": false,
    "pycharm": {
     "name": "#%%\n"
    }
   }
  }
 ],
 "metadata": {
  "kernelspec": {
   "display_name": "Python 3",
   "language": "python",
   "name": "python3"
  },
  "language_info": {
   "codemirror_mode": {
    "name": "ipython",
    "version": 2
   },
   "file_extension": ".py",
   "mimetype": "text/x-python",
   "name": "python",
   "nbconvert_exporter": "python",
   "pygments_lexer": "ipython2",
   "version": "2.7.6"
  }
 },
 "nbformat": 4,
 "nbformat_minor": 0
}