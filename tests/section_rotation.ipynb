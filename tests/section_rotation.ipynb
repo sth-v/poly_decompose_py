{
 "cells": [
  {
   "cell_type": "code",
   "execution_count": 2,
   "outputs": [],
   "source": [
    "import math\n",
    "from itertools import product\n",
    "from collections import defaultdict\n",
    "import matplotlib as plt\n",
    "import numpy as np\n",
    "import shapely\n",
    "from shapely.geometry import LineString, MultiLineString\n",
    "from scipy.spatial import distance"
   ],
   "metadata": {
    "collapsed": false,
    "pycharm": {
     "name": "#%%\n"
    }
   }
  },
  {
   "cell_type": "code",
   "execution_count": 3,
   "outputs": [],
   "source": [
    "test = [2.8533979930661495, 0.8350593062280169, 1.8350735010944388]\n",
    "lines = [[[(90.92466560343746, 359.8743795603514), (50.64634319592733, 342.689586349763), (141.4154383126297, 0.0), (738.6390963118174, 170.50443049520254)], [(528.746321437764, 592.3512355554849), (250.68498866126174, 548.8781394008547)]], [[(738.6390963118174, 170.50443049520254), (1041.5171545767225, 487.5379093941301), (733.3747470285161, 795.9299552580342), (528.746321437764, 592.3512355554849)]], [[(250.68498866126174, 548.8781394008547), (148.7872773281997, 925.0354834403843), (84.8542414731346, 907.106489722617)], [(84.8542414731346, 907.106489722617), (75.55369137861999, 940.1296991426498), (9.845574646664318, 921.7006750889122), (72.29789360892028, 700.0236357413232)], [(72.29789360892028, 700.0236357413232), (0.0, 679.7554941019043), (90.92466560343746, 359.8743795603514)]]]\n",
    "#breakpoints = np.asarray([[[-60.535736, 903.22364], [13.366294, 923.257259], [88.824077, 943.712617], [139.973454, 957.578368]], [[-51.029288, 868.142176], [22.872742, 888.175795], [98.330525, 908.631153], [149.479903, 922.496904]], [[0.578007, 677.696767], [74.480037, 697.730385], [149.93782, 718.185743], [201.087197, 732.051494]], [[51.326554, 490.420376], [125.228584, 510.453995], [200.686367, 530.909353], [251.835744, 544.775104]], [[87.017085, 358.712293], [160.919115, 378.745912], [236.376898, 399.20127],[287.526276, 413.067021]]])\n",
    "breakpoints = np.asarray([[-60.535736, 903.22364], [139.973454, 957.578368], [287.526276, 413.067021], [87.017085, 358.712293]])\n",
    "#breakpoints = np.asarray([[422.854362, 486.544994], [732.932716, 796.372344], [1048.71745, 480.331781], [738.639096, 170.50443]])\n"
   ],
   "metadata": {
    "collapsed": false,
    "pycharm": {
     "name": "#%%\n"
    }
   }
  },
  {
   "cell_type": "markdown",
   "source": [],
   "metadata": {
    "collapsed": false,
    "pycharm": {
     "name": "#%% md\n"
    }
   }
  },
  {
   "cell_type": "markdown",
   "source": [],
   "metadata": {
    "collapsed": false,
    "pycharm": {
     "name": "#%% md\n"
    }
   }
  },
  {
   "cell_type": "markdown",
   "source": [
    "Хуй знает как лучше решить несколько словарей с одинаковыми ключами (то что раньше было args)"
   ],
   "metadata": {
    "collapsed": false,
    "pycharm": {
     "name": "#%% md\n"
    }
   }
  },
  {
   "cell_type": "code",
   "execution_count": 4,
   "outputs": [],
   "source": [
    "class BaseSection:\n",
    "    def __init__(self, angle, leng, widt, road):\n",
    "        self.angle = angle\n",
    "        self.an_normalized = self.angle_normalized()\n",
    "        self.length, self.width, self.road = leng, widt, road\n",
    "        self.length_dep = self.length_dependency()\n",
    "        self.length_r, self.width_r = self.possible_combinations()\n",
    "        self.flat_length, self.flat_width = self.flat_dictionary()\n",
    "\n",
    "    def angle_normalized(self):\n",
    "        if self.angle > math.pi / 4:\n",
    "            if self.angle < math.pi / 2:\n",
    "                ang = (math.pi / 2) - self.angle\n",
    "            elif 3 * math.pi / 4 > self.angle > math.pi / 2:\n",
    "                ang = self.angle - (math.pi / 2)\n",
    "            else:\n",
    "                ang = math.pi - self.angle\n",
    "        else:\n",
    "            ang = self.angle\n",
    "        return ang\n",
    "\n",
    "    def length_dependency(self):\n",
    "        length = {}\n",
    "        for key, value in self.length.items():\n",
    "            new_w = value[0] + (((value[1] - value[0]) * self.an_normalized) / 0.872665)  # 50 degrees\n",
    "            length[key] = [round(new_w)]\n",
    "        return length\n",
    "\n",
    "    def possible_combinations(self):\n",
    "        new_length = defaultdict(list)\n",
    "        new_width = defaultdict(list)\n",
    "        for key in self.road.keys():\n",
    "            l = list(product(self.road[key], self.length[key], repeat = 1))\n",
    "            new_length[key] = [sum(i) for i in l]\n",
    "            w = list(product(self.road[key], self.width[key], repeat = 1))\n",
    "            new_width[key] = [sum(i) for i in w]\n",
    "\n",
    "        return new_length, new_width\n",
    "\n",
    "    def flat_dictionary(self):\n",
    "        flat_length = []\n",
    "        flat_width = []\n",
    "        for i in self.length_dep.values():\n",
    "            for v in i:\n",
    "                flat_length.append(v)\n",
    "        for h in self.width.values():\n",
    "            for j in h:\n",
    "                flat_width.append(j)\n",
    "        return flat_length, flat_width\n"
   ],
   "metadata": {
    "collapsed": false,
    "pycharm": {
     "name": "#%%\n"
    }
   }
  },
  {
   "cell_type": "code",
   "execution_count": 4,
   "outputs": [],
   "source": [],
   "metadata": {
    "collapsed": false,
    "pycharm": {
     "name": "#%%\n"
    }
   }
  },
  {
   "cell_type": "markdown",
   "source": [],
   "metadata": {
    "collapsed": false,
    "pycharm": {
     "name": "#%% md\n"
    }
   }
  },
  {
   "cell_type": "code",
   "execution_count": 5,
   "outputs": [],
   "source": [
    "class PolyClusters:\n",
    "    def __init__(self, angle, leng, widt, road, split_points):\n",
    "        self.angle = angle\n",
    "        self.split_points = split_points\n",
    "        self.dist_l, self.dist_w = self.distance_between_points()\n",
    "        self.basesec = BaseSection(angle, leng, widt, road)\n",
    "        self.sum_length = self.grid_options(self.basesec.flat_length, self.dist_l, 20)\n",
    "        self.sum_width = self.grid_options(self.basesec.flat_width, self.dist_w, 0)\n",
    "\n",
    "    def distance_between_points(self):\n",
    "        dist_l = round(distance.euclidean(self.split_points[0], self.split_points[1]))\n",
    "        dist_w = round(distance.euclidean(self.split_points[1], self.split_points[2]))\n",
    "        return dist_l, dist_w\n",
    "\n",
    "    def grid_options(self, values, length, k):\n",
    "\n",
    "        def combination_sum():\n",
    "            ans = []\n",
    "            temp = []\n",
    "            arr = values\n",
    "            wd = length\n",
    "            find_numbers(ans, arr, temp, wd, 0, k)\n",
    "            #a = (np.argmin([val[1] for  val in ans]))\n",
    "            return ans\n",
    "\n",
    "        def find_numbers(ans, arr, temp, wd, index,k):\n",
    "                if k >= wd >= 0:\n",
    "                    ans.append([list(temp), wd])\n",
    "                for i in range(index, len(arr)):\n",
    "                    if (wd - arr[i]) >= 0:\n",
    "                        temp.append(arr[i])\n",
    "                        find_numbers(ans, arr, temp, wd - arr[i], i, k)\n",
    "                        temp.remove(arr[i])\n",
    "\n",
    "        return combination_sum()\n",
    "\n",
    "    def point_coordinates(self):\n",
    "        coor = []\n",
    "        print (type(self.split_points[1]))\n",
    "        vec_one = self.split_points[1] - self.split_points[0]\n",
    "        vec_two = self.split_points[2] - self.split_points[1]\n",
    "        vec_three = self.split_points[2] - self.split_points[3]\n",
    "        vec_four = self.split_points[3] - self.split_points[0]\n",
    "        dist_l = 0\n",
    "        dist_w = 0\n",
    "        for i in self.sum_length[1][0]:\n",
    "            dist_l+=i\n",
    "            p_one = self.split_points[0] + vec_one / np.linalg.norm(vec_one)*dist_l\n",
    "            p_three = self.split_points[3] + vec_three / np.linalg.norm(vec_three)*dist_l\n",
    "            coor.append(np.asarray([p_one, p_three]))\n",
    "        for i in self.sum_width[4][0]:\n",
    "            dist_w+=i\n",
    "            p_two = self.split_points[1] + vec_two / np.linalg.norm(vec_two)*dist_w\n",
    "            p_four = self.split_points[0] + vec_four / np.linalg.norm(vec_four)*dist_w\n",
    "            coor.append(np.asarray([p_two, p_four]))\n",
    "        return np.asarray(coor)\n",
    "\n"
   ],
   "metadata": {
    "collapsed": false,
    "pycharm": {
     "name": "#%%\n"
    }
   }
  },
  {
   "cell_type": "markdown",
   "source": [
    "вопрос как обойтись со стандартными параметрами типо ширин проездов и т д?"
   ],
   "metadata": {
    "collapsed": false,
    "pycharm": {
     "name": "#%% md\n"
    }
   }
  },
  {
   "cell_type": "code",
   "execution_count": 6,
   "outputs": [
    {
     "name": "stdout",
     "output_type": "stream",
     "text": [
      "<class 'numpy.ndarray'>\n"
     ]
    },
    {
     "data": {
      "text/plain": "array([200.50919 ,  54.354728])"
     },
     "execution_count": 6,
     "metadata": {},
     "output_type": "execute_result"
    }
   ],
   "source": [
    "lengths = {'9':[54,74], '12':[62,89]}\n",
    "widths = {'9':[72, 90, 108, 126, 144], '12':[65, 81, 98, 114, 130]}\n",
    "roads = {'9':[68.8, 35.6], '12': [76, 40.6]}\n",
    "#t = BaseSection(test[2], lengths, widths, roads)\n",
    "#tes = PolyClusters( test[2], lengths, widths, roads, breakpoints)\n",
    "t = BaseSection(test[2], lengths, widths, roads)\n",
    "tes = PolyClusters(test[2], lengths, widths, roads, breakpoints)\n",
    "a = tes.point_coordinates()\n",
    "tes.split_points[1] - tes.split_points[0]"
   ],
   "metadata": {
    "collapsed": false,
    "pycharm": {
     "name": "#%%\n"
    }
   }
  },
  {
   "cell_type": "code",
   "execution_count": 6,
   "outputs": [],
   "source": [],
   "metadata": {
    "collapsed": false,
    "pycharm": {
     "name": "#%%\n"
    }
   }
  },
  {
   "cell_type": "code",
   "execution_count": 6,
   "outputs": [],
   "source": [
    "\n",
    "\n"
   ],
   "metadata": {
    "collapsed": false,
    "pycharm": {
     "name": "#%%\n"
    }
   }
  },
  {
   "cell_type": "markdown",
   "source": [],
   "metadata": {
    "collapsed": false,
    "pycharm": {
     "name": "#%% md\n"
    }
   }
  },
  {
   "cell_type": "markdown",
   "source": [],
   "metadata": {
    "collapsed": false,
    "pycharm": {
     "name": "#%% md\n"
    }
   }
  },
  {
   "cell_type": "markdown",
   "source": [],
   "metadata": {
    "collapsed": false,
    "pycharm": {
     "name": "#%% md\n"
    }
   }
  },
  {
   "cell_type": "markdown",
   "source": [],
   "metadata": {
    "collapsed": false,
    "pycharm": {
     "name": "#%% md\n"
    }
   }
  },
  {
   "cell_type": "markdown",
   "source": [],
   "metadata": {
    "collapsed": false,
    "pycharm": {
     "name": "#%% md\n"
    }
   }
  },
  {
   "cell_type": "code",
   "execution_count": 7,
   "outputs": [],
   "source": [
    "class PoccclyClusters:\n",
    "    def __init__(self, coordinates, angle, leng, widt, road, split_points):\n",
    "        self.coordinates = coordinates\n",
    "        self.angle = angle\n",
    "        self.split_points = split_points\n",
    "        self.line = MultiLineString([LineString(c) for c in coordinates])\n",
    "        self.boundrec = list(self.line.minimum_rotated_rectangle.exterior.coords)\n",
    "        self.dist_l, self.dist_w = self.distance_between_points()\n",
    "        self.basesec = BaseSection(angle, leng, widt, road)\n",
    "        self.sum_length = self.grid_options(self.basesec.flat_length, self.dist_l)\n",
    "        self.sum_width = self.grid_options(self.basesec.flat_width, self.dist_w)\n",
    "\n",
    "    def distance_between_points(self):\n",
    "        dist_l = round(distance.euclidean(self.split_points[0], self.split_points[1]))\n",
    "        dist_w = round(distance.euclidean(self.split_points[1], self.split_points[2]))\n",
    "        return dist_l, dist_w\n",
    "\n",
    "    def grid_options(self, values, length):\n",
    "\n",
    "        def combination_sum():\n",
    "            ans = []\n",
    "            temp = []\n",
    "            arr = values\n",
    "            wd = length\n",
    "            find_numbers(ans, arr, temp, wd, 0)\n",
    "            a = (np.argmin([val[1] for  val in ans]))\n",
    "            return ans[a]\n",
    "\n",
    "        def find_numbers(ans, arr, temp, wd, index):\n",
    "                if 10 > wd >= 0:\n",
    "                    ans.append([list(temp), wd])\n",
    "                for i in range(index, len(arr)):\n",
    "                    if (wd - arr[i]) >= 0:\n",
    "                        temp.append(arr[i])\n",
    "                        find_numbers(ans, arr, temp, wd - arr[i], i)\n",
    "                        temp.remove(arr[i])\n",
    "\n",
    "        return combination_sum()\n",
    "\n",
    "    def point_coordinates(self):\n",
    "        coor = []\n",
    "        print (type(self.split_points[1]))\n",
    "        vec_one = self.split_points[1] - self.split_points[0]\n",
    "        vec_two = self.split_points[2] - self.split_points[1]\n",
    "        vec_three = self.split_points[2] - self.split_points[3]\n",
    "        vec_four = self.split_points[3] - self.split_points[0]\n",
    "        dist_l = 0\n",
    "        dist_w = 0\n",
    "        for i in self.sum_length[0]:\n",
    "            dist_l+=i\n",
    "            p_one = self.split_points[0] + vec_one / np.linalg.norm(vec_one)*dist_l\n",
    "            p_three = self.split_points[3] + vec_three / np.linalg.norm(vec_three)*dist_l\n",
    "            coor.append(np.asarray([p_one, p_three]))\n",
    "        for i in self.sum_width[0]:\n",
    "            dist_w+=i\n",
    "            p_two = self.split_points[1] + vec_two / np.linalg.norm(vec_two)*dist_w\n",
    "            p_four = self.split_points[0] + vec_four / np.linalg.norm(vec_four)*dist_w\n",
    "            coor.append(np.asarray([p_two, p_four]))\n",
    "        return np.asarray(coor)\n",
    "\n"
   ],
   "metadata": {
    "collapsed": false,
    "pycharm": {
     "name": "#%%\n"
    }
   }
  },
  {
   "cell_type": "code",
   "execution_count": 8,
   "outputs": [],
   "source": [
    "def distance_between_pointvvs(self):\n",
    "        dist_l = []\n",
    "        dist_w = []\n",
    "        for b in self.split_points:\n",
    "            d =[]\n",
    "            for i, v in enumerate(b):\n",
    "                if i != len(b) - 1:\n",
    "                    d.append(round(distance.euclidean(v, b[i+1])))\n",
    "            dist_l.append(np.asarray(d))\n",
    "        for b in self.split_points.transpose(1, 0, 2):\n",
    "            dd =[]\n",
    "            for i, v in enumerate(b):\n",
    "                if i != len(b) - 1:\n",
    "                    dd.append(round(distance.euclidean(v, b[i+1])))\n",
    "            dist_w.append(np.asarray(dd))\n",
    "        return np.asarray(dist_l), np.asarray(dist_w)"
   ],
   "metadata": {
    "collapsed": false,
    "pycharm": {
     "name": "#%%\n"
    }
   }
  }
 ],
 "metadata": {
  "kernelspec": {
   "display_name": "Python 3",
   "language": "python",
   "name": "python3"
  },
  "language_info": {
   "codemirror_mode": {
    "name": "ipython",
    "version": 2
   },
   "file_extension": ".py",
   "mimetype": "text/x-python",
   "name": "python",
   "nbconvert_exporter": "python",
   "pygments_lexer": "ipython2",
   "version": "2.7.6"
  }
 },
 "nbformat": 4,
 "nbformat_minor": 0
}