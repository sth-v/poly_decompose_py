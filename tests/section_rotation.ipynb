{
 "cells": [
  {
   "cell_type": "code",
   "execution_count": 3,
   "outputs": [],
   "source": [
    "import math"
   ],
   "metadata": {
    "collapsed": false,
    "pycharm": {
     "name": "#%%\n"
    }
   }
  },
  {
   "cell_type": "code",
   "execution_count": 4,
   "outputs": [],
   "source": [
    "test = [2.8533979930661495, 0.8350593062280169, 2.9865046080782, 1.8350735010944388, 1.2960796257017295, 1.8479314037072352]"
   ],
   "metadata": {
    "collapsed": false,
    "pycharm": {
     "name": "#%%\n"
    }
   }
  },
  {
   "cell_type": "code",
   "execution_count": 85,
   "metadata": {
    "collapsed": true
   },
   "outputs": [],
   "source": [
    "class BaseSection:\n",
    "    def __init__(self, angle, **kwargs):\n",
    "        self.angle = angle\n",
    "        self.an_normalized = self.angle_normalized()\n",
    "        self.new_width = self.width_dependency(**kwargs)\n",
    "\n",
    "    def angle_normalized(self):\n",
    "        if self.angle > math.pi/4:\n",
    "            if self.angle < math.pi/2:\n",
    "                ang = (math.pi/2) - self.angle\n",
    "            elif 3 * math.pi/4 > self.angle > math.pi/2:\n",
    "                ang = self.angle - (math.pi/2)\n",
    "            else:\n",
    "                ang = math.pi - self.angle\n",
    "        else:\n",
    "            ang = self.angle\n",
    "        return ang\n",
    "\n",
    "    def width_dependency (self, **kwargs):\n",
    "        width = {}\n",
    "        for key, value in kwargs.items():\n",
    "            new_w = value[0] + (((value[1]- value[0]) * self.an_normalized) / 0.872665) #50 degrees\n",
    "            width[key]=(round(new_w))\n",
    "        return width\n"
   ]
  },
  {
   "cell_type": "code",
   "execution_count": 86,
   "outputs": [
    {
     "name": "stdout",
     "output_type": "stream",
     "text": [
      "{'9': 61, '5': 48, '12': 71}\n",
      "{'9': 71, '5': 54, '12': 85}\n",
      "{'9': 58, '5': 46, '12': 67}\n",
      "{'9': 60, '5': 48, '12': 70}\n",
      "{'9': 60, '5': 48, '12': 70}\n",
      "{'9': 60, '5': 48, '12': 71}\n"
     ]
    }
   ],
   "source": [
    "input_types = {'9':[54,74], '5':[44,56], '12':[62,89]}\n",
    "\n",
    "for i in test:\n",
    "    i_b = BaseSection(i, **input_types)\n",
    "    print(i_b.new_width)"
   ],
   "metadata": {
    "collapsed": false,
    "pycharm": {
     "name": "#%%\n"
    }
   }
  },
  {
   "cell_type": "code",
   "execution_count": null,
   "outputs": [],
   "source": [],
   "metadata": {
    "collapsed": false,
    "pycharm": {
     "name": "#%%\n"
    }
   }
  }
 ],
 "metadata": {
  "kernelspec": {
   "display_name": "Python 3",
   "language": "python",
   "name": "python3"
  },
  "language_info": {
   "codemirror_mode": {
    "name": "ipython",
    "version": 2
   },
   "file_extension": ".py",
   "mimetype": "text/x-python",
   "name": "python",
   "nbconvert_exporter": "python",
   "pygments_lexer": "ipython2",
   "version": "2.7.6"
  }
 },
 "nbformat": 4,
 "nbformat_minor": 0
}