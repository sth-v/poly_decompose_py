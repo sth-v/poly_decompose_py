{
 "cells": [
  {
   "cell_type": "code",
   "execution_count": 268,
   "outputs": [],
   "source": [
    "import math\n",
    "import matplotlib as plt\n",
    "import shapely\n",
    "from shapely.geometry import LineString, MultiLineString"
   ],
   "metadata": {
    "collapsed": false,
    "pycharm": {
     "name": "#%%\n"
    }
   }
  },
  {
   "cell_type": "code",
   "execution_count": 269,
   "outputs": [],
   "source": [
    "test = [2.8533979930661495, 0.8350593062280169, 1.8350735010944388]\n",
    "lines = [[[(90.92466560343746, 359.8743795603514), (50.64634319592733, 342.689586349763), (141.4154383126297, 0.0), (738.6390963118174, 170.50443049520254)], [(528.746321437764, 592.3512355554849), (250.68498866126174, 548.8781394008547)]], [[(738.6390963118174, 170.50443049520254), (1041.5171545767225, 487.5379093941301), (733.3747470285161, 795.9299552580342), (528.746321437764, 592.3512355554849)]], [[(250.68498866126174, 548.8781394008547), (148.7872773281997, 925.0354834403843), (84.8542414731346, 907.106489722617)], [(84.8542414731346, 907.106489722617), (75.55369137861999, 940.1296991426498), (9.845574646664318, 921.7006750889122), (72.29789360892028, 700.0236357413232)], [(72.29789360892028, 700.0236357413232), (0.0, 679.7554941019043), (90.92466560343746, 359.8743795603514)]]]"
   ],
   "metadata": {
    "collapsed": false,
    "pycharm": {
     "name": "#%%\n"
    }
   }
  },
  {
   "cell_type": "code",
   "execution_count": 270,
   "metadata": {
    "collapsed": true
   },
   "outputs": [],
   "source": [
    "class PolyClusters:\n",
    "    def __init__(self, coordinates, angle, **kwargs):\n",
    "        self.coordinates = coordinates\n",
    "        self.angle = angle\n",
    "        self.line = MultiLineString([LineString(c) for c in coordinates])\n",
    "        self.boundrec =list(self.line.minimum_rotated_rectangle.exterior.coords)\n",
    "        self.length = self.seg_length()\n",
    "        self.basesec = self.BaseSection(angle, **kwargs)\n",
    "        self.sum = self.combination_sum()\n",
    "    #dolzhno bit opisano ranee, pomoika\n",
    "    def seg_length(self):\n",
    "        l = LineString([self.boundrec[0], self.boundrec[1]]).length\n",
    "        return round(l)\n",
    "\n",
    "\n",
    "    class BaseSection:\n",
    "        def __init__(self, angle, **kwargs):\n",
    "            self.angle = angle\n",
    "            self.an_normalized = self.angle_normalized()\n",
    "            self.types = kwargs\n",
    "            self.width_dep = self.width_dependency()\n",
    "\n",
    "        def angle_normalized(self):\n",
    "            if self.angle > math.pi/4:\n",
    "                if self.angle < math.pi/2:\n",
    "                    ang = (math.pi/2) - self.angle\n",
    "                elif 3 * math.pi/4 > self.angle > math.pi/2:\n",
    "                    ang = self.angle - (math.pi/2)\n",
    "                else:\n",
    "                    ang = math.pi - self.angle\n",
    "            else:\n",
    "                ang = self.angle\n",
    "            return ang\n",
    "\n",
    "        def width_dependency (self):\n",
    "            width = {}\n",
    "            for key, value in self.types.items():\n",
    "                new_w = value[0] + (((value[1]- value[0]) * self.an_normalized) / 0.872665) #50 degrees\n",
    "                width[key]=(round(new_w))\n",
    "            return width\n",
    "\n",
    "    def combination_sum(self):\n",
    "        ans = []\n",
    "        temp = []\n",
    "        arr = sorted(list(set(self.basesec.width_dep.values())))\n",
    "        ln = self.length\n",
    "        find_numbers(ans, arr, temp, ln, 0)\n",
    "        return ans\n",
    "\n",
    "    def find_numbers(ans, arr, temp, ln, index):\n",
    "        if 48>ln>=0:\n",
    "            ans.append(list(temp))\n",
    "        for i in range(index, len(arr)):\n",
    "            if(ln - arr[i]) >= 0:\n",
    "                temp.append(arr[i])\n",
    "                find_numbers(ans, arr, temp, ln-arr[i], i)\n",
    "                temp.remove(arr[i])\n",
    "\n"
   ]
  },
  {
   "cell_type": "code",
   "execution_count": 271,
   "outputs": [
    {
     "data": {
      "text/plain": "[[[48, 48, 48, 48, 48, 48, 48, 48, 48, 48, 48, 48], 45],\n [[48, 48, 48, 48, 48, 48, 48, 48, 48, 48, 48, 61], 32],\n [[48, 48, 48, 48, 48, 48, 48, 48, 48, 48, 48, 71], 22],\n [[48, 48, 48, 48, 48, 48, 48, 48, 48, 48, 61, 61], 19],\n [[48, 48, 48, 48, 48, 48, 48, 48, 48, 48, 61, 71], 9],\n [[48, 48, 48, 48, 48, 48, 48, 48, 48, 61, 61, 61], 6],\n [[48, 48, 48, 48, 48, 48, 48, 48, 48, 71, 71], 47],\n [[48, 48, 48, 48, 48, 48, 48, 48, 61, 61, 71], 44],\n [[48, 48, 48, 48, 48, 48, 48, 48, 61, 71, 71], 34],\n [[48, 48, 48, 48, 48, 48, 48, 48, 71, 71, 71], 24],\n [[48, 48, 48, 48, 48, 48, 48, 61, 61, 61, 61], 41],\n [[48, 48, 48, 48, 48, 48, 48, 61, 61, 61, 71], 31],\n [[48, 48, 48, 48, 48, 48, 48, 61, 61, 71, 71], 21],\n [[48, 48, 48, 48, 48, 48, 48, 61, 71, 71, 71], 11],\n [[48, 48, 48, 48, 48, 48, 48, 71, 71, 71, 71], 1],\n [[48, 48, 48, 48, 48, 48, 61, 61, 61, 61, 61], 28],\n [[48, 48, 48, 48, 48, 48, 61, 61, 61, 61, 71], 18],\n [[48, 48, 48, 48, 48, 48, 61, 61, 61, 71, 71], 8],\n [[48, 48, 48, 48, 48, 61, 61, 61, 61, 61, 61], 15],\n [[48, 48, 48, 48, 48, 61, 61, 61, 61, 61, 71], 5],\n [[48, 48, 48, 48, 48, 61, 61, 71, 71, 71], 46],\n [[48, 48, 48, 48, 48, 61, 71, 71, 71, 71], 36],\n [[48, 48, 48, 48, 48, 71, 71, 71, 71, 71], 26],\n [[48, 48, 48, 48, 61, 61, 61, 61, 61, 61, 61], 2],\n [[48, 48, 48, 48, 61, 61, 61, 61, 71, 71], 43],\n [[48, 48, 48, 48, 61, 61, 61, 71, 71, 71], 33],\n [[48, 48, 48, 48, 61, 61, 71, 71, 71, 71], 23],\n [[48, 48, 48, 48, 61, 71, 71, 71, 71, 71], 13],\n [[48, 48, 48, 48, 71, 71, 71, 71, 71, 71], 3],\n [[48, 48, 48, 61, 61, 61, 61, 61, 61, 71], 40],\n [[48, 48, 48, 61, 61, 61, 61, 61, 71, 71], 30],\n [[48, 48, 48, 61, 61, 61, 61, 71, 71, 71], 20],\n [[48, 48, 48, 61, 61, 61, 71, 71, 71, 71], 10],\n [[48, 48, 48, 61, 61, 71, 71, 71, 71, 71], 0],\n [[48, 48, 61, 61, 61, 61, 61, 61, 61, 61], 37],\n [[48, 48, 61, 61, 61, 61, 61, 61, 61, 71], 27],\n [[48, 48, 61, 61, 61, 61, 61, 61, 71, 71], 17],\n [[48, 48, 61, 61, 61, 61, 61, 71, 71, 71], 7],\n [[48, 48, 61, 71, 71, 71, 71, 71, 71], 38],\n [[48, 48, 71, 71, 71, 71, 71, 71, 71], 28],\n [[48, 61, 61, 61, 61, 61, 61, 61, 61, 61], 24],\n [[48, 61, 61, 61, 61, 61, 61, 61, 61, 71], 14],\n [[48, 61, 61, 61, 61, 61, 61, 61, 71, 71], 4],\n [[48, 61, 61, 61, 61, 71, 71, 71, 71], 45],\n [[48, 61, 61, 61, 71, 71, 71, 71, 71], 35],\n [[48, 61, 61, 71, 71, 71, 71, 71, 71], 25],\n [[48, 61, 71, 71, 71, 71, 71, 71, 71], 15],\n [[48, 71, 71, 71, 71, 71, 71, 71, 71], 5],\n [[61, 61, 61, 61, 61, 61, 61, 61, 61, 61], 11],\n [[61, 61, 61, 61, 61, 61, 61, 61, 61, 71], 1],\n [[61, 61, 61, 61, 61, 61, 71, 71, 71], 42],\n [[61, 61, 61, 61, 61, 71, 71, 71, 71], 32],\n [[61, 61, 61, 61, 71, 71, 71, 71, 71], 22],\n [[61, 61, 61, 71, 71, 71, 71, 71, 71], 12],\n [[61, 61, 71, 71, 71, 71, 71, 71, 71], 2]]"
     },
     "execution_count": 271,
     "metadata": {},
     "output_type": "execute_result"
    }
   ],
   "source": [
    "input_types = {'9':[54,74], '5':[44,56], '12':[62,89]}\n",
    "\n",
    "ii = PolyClusters(lines[0], test[0], **input_types)\n",
    "leng = ii.length\n",
    "iii = ii.basesec\n",
    "vals = iii.width_dep.values()\n",
    "dorg = ii.sum\n",
    "\n",
    "dorg"
   ],
   "metadata": {
    "collapsed": false,
    "pycharm": {
     "name": "#%%\n"
    }
   }
  },
  {
   "cell_type": "code",
   "execution_count": 272,
   "outputs": [
    {
     "data": {
      "text/plain": "'def combination_sum(arr, sum):\\n    ans = []\\n    temp = []\\n    arr = sorted(list(set(arr)))\\n    find_numbers(ans, arr, temp, sum, 0)\\n    return ans\\n\\ndef find_numbers(ans, arr, temp, sum, index):\\n    if 48>sum>=0:\\n        ans.append([list(temp), sum])\\n    for i in range(index, len(arr)):\\n        #print(arr[i], sum , sum - arr[i])\\n        if(sum - arr[i]) >= 0:\\n            temp.append(arr[i])\\n            find_numbers(ans, arr, temp, sum-arr[i], i)\\n            temp.remove(arr[i])\\n\\n\\n\\narr = [61,48,71]\\nsum = 621\\n\\nans = combination_sum(arr,sum)\\nfor i in ans:\\n    print (i)'"
     },
     "execution_count": 272,
     "metadata": {},
     "output_type": "execute_result"
    }
   ],
   "source": [
    "'''def combination_sum(arr, sum):\n",
    "    ans = []\n",
    "    temp = []\n",
    "    arr = sorted(list(set(arr)))\n",
    "    find_numbers(ans, arr, temp, sum, 0)\n",
    "    return ans\n",
    "\n",
    "def find_numbers(ans, arr, temp, sum, index):\n",
    "    if 48>sum>=0:\n",
    "        ans.append([list(temp), sum])\n",
    "    for i in range(index, len(arr)):\n",
    "        #print(arr[i], sum , sum - arr[i])\n",
    "        if(sum - arr[i]) >= 0:\n",
    "            temp.append(arr[i])\n",
    "            find_numbers(ans, arr, temp, sum-arr[i], i)\n",
    "            temp.remove(arr[i])\n",
    "\n",
    "\n",
    "\n",
    "arr = [61,48,71]\n",
    "sum = 621\n",
    "\n",
    "ans = combination_sum(arr,sum)\n",
    "for i in ans:\n",
    "    print (i)'''"
   ],
   "metadata": {
    "collapsed": false,
    "pycharm": {
     "name": "#%%\n"
    }
   }
  },
  {
   "cell_type": "code",
   "execution_count": 272,
   "outputs": [],
   "source": [],
   "metadata": {
    "collapsed": false,
    "pycharm": {
     "name": "#%%\n"
    }
   }
  }
 ],
 "metadata": {
  "kernelspec": {
   "display_name": "Python 3",
   "language": "python",
   "name": "python3"
  },
  "language_info": {
   "codemirror_mode": {
    "name": "ipython",
    "version": 2
   },
   "file_extension": ".py",
   "mimetype": "text/x-python",
   "name": "python",
   "nbconvert_exporter": "python",
   "pygments_lexer": "ipython2",
   "version": "2.7.6"
  }
 },
 "nbformat": 4,
 "nbformat_minor": 0
}