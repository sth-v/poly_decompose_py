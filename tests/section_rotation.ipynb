{
 "cells": [
  {
   "cell_type": "code",
   "execution_count": 1,
   "outputs": [],
   "source": [
    "import math\n",
    "import matplotlib as plt\n",
    "import shapely\n",
    "from shapely.geometry import LineString, MultiLineString"
   ],
   "metadata": {
    "collapsed": false,
    "pycharm": {
     "name": "#%%\n"
    }
   }
  },
  {
   "cell_type": "code",
   "execution_count": 2,
   "outputs": [],
   "source": [
    "test = [2.8533979930661495, 0.8350593062280169, 1.8350735010944388]\n",
    "lines = [[[(90.92466560343746, 359.8743795603514), (50.64634319592733, 342.689586349763), (141.4154383126297, 0.0), (738.6390963118174, 170.50443049520254)], [(528.746321437764, 592.3512355554849), (250.68498866126174, 548.8781394008547)]], [[(738.6390963118174, 170.50443049520254), (1041.5171545767225, 487.5379093941301), (733.3747470285161, 795.9299552580342), (528.746321437764, 592.3512355554849)]], [[(250.68498866126174, 548.8781394008547), (148.7872773281997, 925.0354834403843), (84.8542414731346, 907.106489722617)], [(84.8542414731346, 907.106489722617), (75.55369137861999, 940.1296991426498), (9.845574646664318, 921.7006750889122), (72.29789360892028, 700.0236357413232)], [(72.29789360892028, 700.0236357413232), (0.0, 679.7554941019043), (90.92466560343746, 359.8743795603514)]]]"
   ],
   "metadata": {
    "collapsed": false,
    "pycharm": {
     "name": "#%%\n"
    }
   }
  },
  {
   "cell_type": "code",
   "execution_count": 80,
   "metadata": {
    "collapsed": true
   },
   "outputs": [],
   "source": [
    "\n",
    "\n",
    "class PolyClusters:\n",
    "    def __init__(self, coordinates, angle, **kwargs):\n",
    "        self.coordinates = coordinates\n",
    "        self.angle = angle\n",
    "        self.line = MultiLineString([LineString(c) for c in coordinates])\n",
    "        self.boundrec =list(self.line.minimum_rotated_rectangle.exterior.coords)\n",
    "        self.length = self.seg_length()\n",
    "        self.basesec = self.BaseSection(angle, **kwargs)\n",
    "        self.sum = self.grid_options()\n",
    "    #dolzhno bit opisano ranee, pomoika\n",
    "    def seg_length(self):\n",
    "        l = LineString([self.boundrec[0], self.boundrec[1]]).length\n",
    "        return round(l)\n",
    "\n",
    "\n",
    "    class BaseSection:\n",
    "        def __init__(self, angle, **kwargs):\n",
    "            self.angle = angle\n",
    "            self.an_normalized = self.angle_normalized()\n",
    "            self.types = kwargs\n",
    "            self.width_dep = self.width_dependency()\n",
    "\n",
    "        def angle_normalized(self):\n",
    "            if self.angle > math.pi/4:\n",
    "                if self.angle < math.pi/2:\n",
    "                    ang = (math.pi/2) - self.angle\n",
    "                elif 3 * math.pi/4 > self.angle > math.pi/2:\n",
    "                    ang = self.angle - (math.pi/2)\n",
    "                else:\n",
    "                    ang = math.pi - self.angle\n",
    "            else:\n",
    "                ang = self.angle\n",
    "            return ang\n",
    "\n",
    "        def width_dependency (self):\n",
    "            width = {}\n",
    "            for key, value in self.types.items():\n",
    "                new_w = value[0] + (((value[1]- value[0]) * self.an_normalized) / 0.872665) #50 degrees\n",
    "                width[key]=round(new_w)\n",
    "            return width\n",
    "\n",
    "\n",
    "    def grid_options (self):\n",
    "\n",
    "        def combination_sum():\n",
    "            ans = []\n",
    "            temp = []\n",
    "            arr = sorted(list(set(self.basesec.width_dep.values())))\n",
    "            arr_vals = list(self.basesec.width_dep.values())\n",
    "            arr_keys = list(self.basesec.width_dep.keys())\n",
    "            ln = self.length\n",
    "            find_numbers(ans, arr, temp, ln, 0, arr_vals, arr_keys)\n",
    "            return ans\n",
    "\n",
    "        def find_numbers(ans, arr, temp, ln, index, arr_vals, arr_keys):\n",
    "            if arr[0]/3>ln>=0:\n",
    "                ans.append(sum(list(temp)) / 31)\n",
    "            for i in range(index, len(arr)):\n",
    "                if(ln - arr[i]) >= 0:\n",
    "                    temp.append(int(arr_keys[arr_vals.index(arr[i])])*4.6)\n",
    "                    find_numbers(ans, arr, temp, ln-arr[i], i, arr_vals, arr_keys)\n",
    "                    temp.remove(int(arr_keys[arr_vals.index(arr[i])])*4.6)\n",
    "        return combination_sum()\n"
   ]
  },
  {
   "cell_type": "code",
   "execution_count": 81,
   "outputs": [
    {
     "name": "stdout",
     "output_type": "stream",
     "text": [
      "dict_values([61, 48, 71])\n"
     ]
    },
    {
     "data": {
      "text/plain": "[10.535483870967742,\n 10.683870967741935,\n 11.870967741935484,\n 12.316129032258063,\n 12.019354838709676,\n 11.72258064516129,\n 12.167741935483871,\n 12.316129032258063,\n 13.206451612903225,\n 13.651612903225804,\n 13.35483870967742,\n 13.799999999999999,\n 13.503225806451614,\n 13.206451612903225,\n 13.651612903225805,\n 14.541935483870967,\n 14.987096774193546,\n 13.354838709677418,\n 13.799999999999999,\n 14.690322580645159,\n 15.13548387096774]"
     },
     "execution_count": 81,
     "metadata": {},
     "output_type": "execute_result"
    }
   ],
   "source": [
    "input_types = {'9':[54,74], '5':[44,56], '12':[62,89]}\n",
    "\n",
    "ii = PolyClusters(lines[0], test[0], **input_types)\n",
    "leng = ii.length\n",
    "iii = ii.basesec\n",
    "vals = iii.width_dep.values()\n",
    "dorg = ii.sum\n",
    "print(vals)\n",
    "dorg"
   ],
   "metadata": {
    "collapsed": false,
    "pycharm": {
     "name": "#%%\n"
    }
   }
  },
  {
   "cell_type": "code",
   "execution_count": null,
   "outputs": [],
   "source": [],
   "metadata": {
    "collapsed": false,
    "pycharm": {
     "name": "#%%\n"
    }
   }
  }
 ],
 "metadata": {
  "kernelspec": {
   "display_name": "Python 3",
   "language": "python",
   "name": "python3"
  },
  "language_info": {
   "codemirror_mode": {
    "name": "ipython",
    "version": 2
   },
   "file_extension": ".py",
   "mimetype": "text/x-python",
   "name": "python",
   "nbconvert_exporter": "python",
   "pygments_lexer": "ipython2",
   "version": "2.7.6"
  }
 },
 "nbformat": 4,
 "nbformat_minor": 0
}