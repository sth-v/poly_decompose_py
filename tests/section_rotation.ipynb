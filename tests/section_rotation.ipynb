{
 "cells": [
  {
   "cell_type": "code",
   "execution_count": 150,
   "outputs": [],
   "source": [
    "import math\n",
    "from itertools import product\n",
    "from collections import defaultdict\n",
    "import matplotlib as plt\n",
    "import shapely\n",
    "from shapely.geometry import LineString, MultiLineString"
   ],
   "metadata": {
    "collapsed": false,
    "pycharm": {
     "name": "#%%\n"
    }
   }
  },
  {
   "cell_type": "code",
   "execution_count": 30,
   "outputs": [],
   "source": [
    "test = [2.8533979930661495, 0.8350593062280169, 1.8350735010944388]\n",
    "lines = [[[(90.92466560343746, 359.8743795603514), (50.64634319592733, 342.689586349763), (141.4154383126297, 0.0), (738.6390963118174, 170.50443049520254)], [(528.746321437764, 592.3512355554849), (250.68498866126174, 548.8781394008547)]], [[(738.6390963118174, 170.50443049520254), (1041.5171545767225, 487.5379093941301), (733.3747470285161, 795.9299552580342), (528.746321437764, 592.3512355554849)]], [[(250.68498866126174, 548.8781394008547), (148.7872773281997, 925.0354834403843), (84.8542414731346, 907.106489722617)], [(84.8542414731346, 907.106489722617), (75.55369137861999, 940.1296991426498), (9.845574646664318, 921.7006750889122), (72.29789360892028, 700.0236357413232)], [(72.29789360892028, 700.0236357413232), (0.0, 679.7554941019043), (90.92466560343746, 359.8743795603514)]]]"
   ],
   "metadata": {
    "collapsed": false,
    "pycharm": {
     "name": "#%%\n"
    }
   }
  },
  {
   "cell_type": "markdown",
   "source": [],
   "metadata": {
    "collapsed": false
   }
  },
  {
   "cell_type": "markdown",
   "source": [],
   "metadata": {
    "collapsed": false
   }
  },
  {
   "cell_type": "code",
   "execution_count": 165,
   "outputs": [],
   "source": [
    "class BaseSection:\n",
    "    def __init__(self, angle, leng, widt, road):\n",
    "        self.angle = angle\n",
    "        self.an_normalized = self.angle_normalized()\n",
    "        self.length, self.width, self.road = leng, widt, road\n",
    "        self.width_dep = self.width_dependency()\n",
    "        self.length_r, self.width_r = self.possible_combinations()\n",
    "\n",
    "    def angle_normalized(self):\n",
    "        if self.angle > math.pi / 4:\n",
    "            if self.angle < math.pi / 2:\n",
    "                ang = (math.pi / 2) - self.angle\n",
    "            elif 3 * math.pi / 4 > self.angle > math.pi / 2:\n",
    "                ang = self.angle - (math.pi / 2)\n",
    "            else:\n",
    "                ang = math.pi - self.angle\n",
    "        else:\n",
    "            ang = self.angle\n",
    "        return ang\n",
    "\n",
    "    def width_dependency(self):\n",
    "        width = {}\n",
    "        for key, value in self.width.items():\n",
    "            new_w = value[0] + (((value[1] - value[0]) * self.an_normalized) / 0.872665)  # 50 degrees\n",
    "            width[key] = [round(new_w)]\n",
    "        return width\n",
    "\n",
    "    def possible_combinations(self):\n",
    "        new_length = defaultdict(list)\n",
    "        new_width = defaultdict(list)\n",
    "        for key in self.road.keys():\n",
    "            l = list(product(self.road[key], self.length[key], repeat = 1))\n",
    "            new_length[key] = [sum(i) for i in l]\n",
    "            w = list(product(self.road[key], self.width[key], repeat = 1))\n",
    "            new_width[key] = [sum(i) for i in w]\n",
    "\n",
    "        return new_length, new_width\n"
   ],
   "metadata": {
    "collapsed": false,
    "pycharm": {
     "name": "#%%\n"
    }
   }
  },
  {
   "cell_type": "code",
   "execution_count": 166,
   "outputs": [
    {
     "name": "stdout",
     "output_type": "stream",
     "text": [
      "defaultdict(<class 'list'>, {'9': [122.8, 142.8, 89.6, 109.6], '12': [138, 165, 102.6, 129.6]}) defaultdict(<class 'list'>, {'9': [140.8, 158.8, 176.8, 194.8, 212.8, 107.6, 125.6, 143.6, 161.6, 179.6], '12': [141, 157, 174, 190, 206, 105.6, 121.6, 138.6, 154.6, 170.6]})\n"
     ]
    }
   ],
   "source": [
    "input_types = {'9':[54,74], '12':[62,89]}\n",
    "widths = {'9':[72, 90, 108, 126, 144], '12':[65, 81, 98, 114, 130]}\n",
    "roads = {'9':[68.8, 35.6], '12': [76, 40.6]}\n",
    "\n",
    "tes = BaseSection(test[2], input_types, widths, roads)\n",
    "a, b = tes.length_r, tes.width_r\n",
    "print(a, b)"
   ],
   "metadata": {
    "collapsed": false,
    "pycharm": {
     "name": "#%%\n"
    }
   }
  },
  {
   "cell_type": "markdown",
   "source": [],
   "metadata": {
    "collapsed": false
   }
  },
  {
   "cell_type": "code",
   "execution_count": 100,
   "outputs": [],
   "source": [
    "class PolyClusters:\n",
    "    def __init__(self, coordinates, angle, **kwargs):\n",
    "        self.coordinates = coordinates\n",
    "        self.angle = angle\n",
    "        self.line = MultiLineString([LineString(c) for c in coordinates])\n",
    "        self.boundrec = list(self.line.minimum_rotated_rectangle.exterior.coords)\n",
    "        self.length = self.seg_length()\n",
    "        self.basesec = BaseSection(angle, **kwargs)\n",
    "        self.sum = self.grid_options()\n",
    "\n",
    "    # dolzhno bit opisano ranee, pomoika\n",
    "    def seg_length(self):\n",
    "        l = LineString([self.boundrec[1], self.boundrec[2]]).length\n",
    "        return round(l)\n",
    "\n",
    "    def grid_options(self):\n",
    "\n",
    "        def combination_sum():\n",
    "            ans = []\n",
    "            temp = []\n",
    "            arr = sorted(list([i[0] for i in self.basesec.width_dep.values()]))\n",
    "            #arr_vals = list(self.basesec.width_dep.values())\n",
    "            #arr_keys = list(self.basesec.width_dep.keys())\n",
    "            ln = self.length\n",
    "            find_numbers(ans, arr, temp, ln, 0)\n",
    "            return ans\n",
    "\n",
    "        def find_numbers(ans, arr, temp, ln, index):\n",
    "            if arr[0] / 3 > ln >= 0:\n",
    "                ans.append([list(temp), ln])\n",
    "            for i in range(index, len(arr)):\n",
    "                if (ln - arr[i]) >= 0:\n",
    "                    #temp.append(int(arr_keys[arr_vals.index(arr[i])]) * 4.6)\n",
    "                    temp.append(arr[i])\n",
    "                    find_numbers(ans, arr, temp, ln - arr[i], i)\n",
    "                    #temp.remove(int(arr_keys[arr_vals.index(arr[i])]) * 4.6)\n",
    "                    temp.remove(arr[i])\n",
    "\n",
    "        return combination_sum()\n"
   ],
   "metadata": {
    "collapsed": false,
    "pycharm": {
     "name": "#%%\n"
    }
   }
  },
  {
   "cell_type": "markdown",
   "source": [
    "вопрос как обойтись со стандартными параметрами типо ширин проездов и т д?"
   ],
   "metadata": {
    "collapsed": false
   }
  },
  {
   "cell_type": "code",
   "execution_count": 103,
   "outputs": [
    {
     "data": {
      "text/plain": "[[[60, 60, 70], 18], [[60, 70, 70], 8]]"
     },
     "execution_count": 103,
     "metadata": {},
     "output_type": "execute_result"
    }
   ],
   "source": [
    "input_types = {'9':[54,74], '12':[62,89]}\n",
    "widths = {'9':[72, 90, 108, 126, 144], '12':[65, 81, 98, 114, 130]}\n",
    "roads = {'9':[68.8, 35.6], '12': [76, 40.6]}\n",
    "\n",
    "\n",
    "ii = PolyClusters(lines[2], test[2], **input_types)\n",
    "leng = ii.length\n",
    "iii = BaseSection(test[2], **input_types)\n",
    "nt = iii.width_dep\n",
    "\n",
    "dorg = ii.sum\n",
    "dorg"
   ],
   "metadata": {
    "collapsed": false,
    "pycharm": {
     "name": "#%%\n"
    }
   }
  },
  {
   "cell_type": "code",
   "execution_count": 123,
   "outputs": [
    {
     "name": "stdout",
     "output_type": "stream",
     "text": [
      "[[128.8, 95.6], [146, 110.6]] [[140.8, 158.8, 176.8, 194.8, 212.8, 107.6, 125.6, 143.6, 161.6, 179.6], [141, 157, 174, 190, 206, 105.6, 121.6, 138.6, 154.6, 170.6]]\n"
     ]
    }
   ],
   "source": [
    "\n",
    "\n"
   ],
   "metadata": {
    "collapsed": false,
    "pycharm": {
     "name": "#%%\n"
    }
   }
  },
  {
   "cell_type": "code",
   "execution_count": null,
   "outputs": [],
   "source": [],
   "metadata": {
    "collapsed": false,
    "pycharm": {
     "name": "#%%\n"
    }
   }
  }
 ],
 "metadata": {
  "kernelspec": {
   "display_name": "Python 3",
   "language": "python",
   "name": "python3"
  },
  "language_info": {
   "codemirror_mode": {
    "name": "ipython",
    "version": 2
   },
   "file_extension": ".py",
   "mimetype": "text/x-python",
   "name": "python",
   "nbconvert_exporter": "python",
   "pygments_lexer": "ipython2",
   "version": "2.7.6"
  }
 },
 "nbformat": 4,
 "nbformat_minor": 0
}