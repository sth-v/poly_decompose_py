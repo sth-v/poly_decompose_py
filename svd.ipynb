{
 "cells": [
  {
   "cell_type": "code",
   "execution_count": 1,
   "metadata": {
    "collapsed": true,
    "pycharm": {
     "name": "#%%\n"
    }
   },
   "outputs": [],
   "source": [
    "import json\n",
    "from itertools import cycle, islice\n",
    "from shapely.geometry import LineString, Polygon\n",
    "import numpy as np\n",
    "from basepolygon_class import GoalPolygon\n",
    "from scipy.spatial import distance\n",
    "from itertools import combinations\n",
    "from sklearn.cluster import AffinityPropagation\n",
    "from scipy.spatial.distance import pdist\n"
   ]
  },
  {
   "cell_type": "code",
   "execution_count": 2,
   "outputs": [
    {
     "name": "stderr",
     "output_type": "stream",
     "text": [
      "/opt/anaconda3/envs/tests/lib/python3.10/site-packages/osmnx/geocoder.py:110: FutureWarning: The frame.append method is deprecated and will be removed from pandas in a future version. Use pandas.concat instead.\n",
      "  gdf = gdf.append(_geocode_query_to_gdf(q, wr, by_osmid))\n",
      "/opt/anaconda3/envs/tests/lib/python3.10/site-packages/osmnx/geocoder.py:110: FutureWarning: The frame.append method is deprecated and will be removed from pandas in a future version. Use pandas.concat instead.\n",
      "  gdf = gdf.append(_geocode_query_to_gdf(q, wr, by_osmid))\n"
     ]
    },
    {
     "name": "stdout",
     "output_type": "stream",
     "text": [
      "[(390638.30219235073, 6169388.159907748), (390729.22685795417, 6169068.278793206), (390688.94853554666, 6169051.093999996), (390779.71763066336, 6168708.404413646), (391376.94128866255, 6168878.908844141), (391679.81934692746, 6169195.94232304), (391371.67693937925, 6169504.334368904), (391167.0485137885, 6169300.755649202), (390888.987181012, 6169257.282553047), (390787.08946967893, 6169633.4398970865), (390723.15643382387, 6169615.510903369), (390713.85588372935, 6169648.534112789), (390648.1477669974, 6169630.105088735), (390710.60008595965, 6169408.428049387), (390638.30219235073, 6169388.159907748)]\n"
     ]
    },
    {
     "name": "stderr",
     "output_type": "stream",
     "text": [
      "/opt/anaconda3/envs/tests/lib/python3.10/site-packages/osmnx/geocoder.py:110: FutureWarning: The frame.append method is deprecated and will be removed from pandas in a future version. Use pandas.concat instead.\n",
      "  gdf = gdf.append(_geocode_query_to_gdf(q, wr, by_osmid))\n"
     ]
    }
   ],
   "source": [
    "place = GoalPolygon('Жилой комплекс «Одинцово-1»')\n",
    "v = place.polygon\n",
    "s = v.simplify(10, preserve_topology=True)\n",
    "coor_list = (list(s.boundary.coords[0:len(s.boundary.coords) - 1]))\n",
    "poly = Polygon(s)\n",
    "print(list(poly.boundary.coords))\n"
   ],
   "metadata": {
    "collapsed": false,
    "pycharm": {
     "name": "#%%\n"
    }
   }
  },
  {
   "cell_type": "code",
   "execution_count": 3,
   "outputs": [],
   "source": [
    "def vector_search(point_list, key):\n",
    "    cr = []\n",
    "    n = list(islice(cycle(range(len(point_list))), 0, len(point_list) + 2))\n",
    "    for i in range(len(point_list)):\n",
    "        v_one = [point_list[n[i]][0] - point_list[n[i + 1]][0], point_list[n[i]][1] - point_list[n[i + 1]][1], 0]\n",
    "        v_two = [point_list[n[i + 1]][0] - point_list[n[i + 2]][0], point_list[n[i + 1]][1] - point_list[n[i + 2]][1],\n",
    "                 0]\n",
    "        v_o_norm, v_t_norm = v_one / np.linalg.norm(v_one), v_two / np.linalg.norm(v_two)\n",
    "        if np.cross(v_o_norm, v_t_norm)[2] < key:\n",
    "            cr.append(n[i + 1])\n",
    "        else:\n",
    "            pass\n",
    "    cross = [*cr, cr[0] + cr[-1] + 1]\n",
    "    double_points = [*range(len(point_list)), *range(len(point_list))]\n",
    "    segments = [double_points[cross[c]:cross[c + 1]] for c in range(len(cross) - 1)]\n",
    "    return segments\n",
    "\n",
    "\n",
    "def clusterize(poly_edges):\n",
    "    lines = []\n",
    "    vectors_list = []\n",
    "    key_vals = vector_search(poly_edges.boundary.coords[0:len(s.boundary.coords) - 1], 0.7)\n",
    "    vertices = poly_edges.boundary.coords[0:len(s.boundary.coords)]\n",
    "    for k in range(len(vertices) - 1):\n",
    "        lines.append(LineString([vertices[k], vertices[k + 1]]))\n",
    "    for i in key_vals:\n",
    "        l=[]\n",
    "        for ii in i:\n",
    "            vect = [lines[ii].coords[0][0] - lines[ii].coords[1][0],\n",
    "                    lines[ii].coords[0][1] - lines[ii].coords[1][1]]\n",
    "            l.append(vect)\n",
    "            #l.append(list(vect / np.linalg.norm(vect)))\n",
    "        vectors_list.append(l)\n",
    "\n",
    "    return vectors_list\n"
   ],
   "metadata": {
    "collapsed": false,
    "pycharm": {
     "name": "#%%\n"
    }
   }
  },
  {
   "cell_type": "code",
   "execution_count": 152,
   "outputs": [
    {
     "name": "stdout",
     "output_type": "stream",
     "text": [
      "[[[40.27832240751013, 17.184793210588396], [-90.76909511670237, 342.689586349763], [-597.2236579991877, -170.50443049520254]], [[-302.8780582649051, -317.03347889892757], [308.1424075482064, -308.39204586390406], [204.62842559075216, 203.57871970254928]], [[278.06133277650224, 43.473096154630184]], [[101.89771133306203, -376.15734403952956], [63.9330358550651, 17.928993717767298]], [[9.30055009451462, -33.0232094200328], [65.70811673195567, 18.42902405373752], [-62.45231896225596, 221.67703934758902]], [[72.29789360892028, 20.2681416394189], [-90.92466560343746, 319.88111454155296]]]\n"
     ]
    }
   ],
   "source": [
    "v = clusterize(poly)\n",
    "print(v)"
   ],
   "metadata": {
    "collapsed": false,
    "pycharm": {
     "name": "#%%\n"
    }
   }
  },
  {
   "cell_type": "code",
   "execution_count": 121,
   "outputs": [
    {
     "name": "stderr",
     "output_type": "stream",
     "text": [
      "/var/folders/l7/52t7xngd2973k8x9_y55rmyh0000gn/T/ipykernel_11979/2796483893.py:3: VisibleDeprecationWarning: Creating an ndarray from ragged nested sequences (which is a list-or-tuple of lists-or-tuples-or ndarrays with different lengths or shapes) is deprecated. If you meant to do this, you must specify 'dtype=object' when creating the ndarray.\n",
      "  A = np.asarray(v)\n"
     ]
    }
   ],
   "source": [
    "from scipy.linalg import svd\n",
    "import numpy as np\n",
    "A = np.asarray(v)"
   ],
   "metadata": {
    "collapsed": false,
    "pycharm": {
     "name": "#%%\n"
    }
   }
  },
  {
   "cell_type": "markdown",
   "source": [
    "Пример с одной матрицей"
   ],
   "metadata": {
    "collapsed": false,
    "pycharm": {
     "name": "#%% md\n"
    }
   }
  },
  {
   "cell_type": "code",
   "execution_count": 43,
   "outputs": [],
   "source": [
    "a = np.asarray(A[0])"
   ],
   "metadata": {
    "collapsed": false,
    "pycharm": {
     "name": "#%%\n"
    }
   }
  },
  {
   "cell_type": "code",
   "execution_count": 44,
   "outputs": [],
   "source": [
    "U, s, Vh=svd(a)"
   ],
   "metadata": {
    "collapsed": false,
    "pycharm": {
     "name": "#%%\n"
    }
   }
  },
  {
   "cell_type": "markdown",
   "source": [
    "Получить Sigma из s Хуй знает зачем сайпи говорят что это полезно"
   ],
   "metadata": {
    "collapsed": false,
    "pycharm": {
     "name": "#%% md\n"
    }
   }
  },
  {
   "cell_type": "code",
   "execution_count": 45,
   "outputs": [],
   "source": [
    "sigma = np.zeros(a.shape)\n",
    "for i in range(min(a.shape)):\n",
    "           sigma[i, i] = s[i]"
   ],
   "metadata": {
    "collapsed": false,
    "pycharm": {
     "name": "#%%\n"
    }
   }
  },
  {
   "cell_type": "markdown",
   "source": [
    "А точно, как минимум для обратной проверки, \"B\" должно быть равно \"a\""
   ],
   "metadata": {
    "collapsed": false,
    "pycharm": {
     "name": "#%% md\n"
    }
   }
  },
  {
   "cell_type": "code",
   "execution_count": 46,
   "outputs": [],
   "source": [
    "B = U @ sigma @ Vh"
   ],
   "metadata": {
    "collapsed": false,
    "pycharm": {
     "name": "#%%\n"
    }
   }
  },
  {
   "cell_type": "code",
   "execution_count": 47,
   "outputs": [
    {
     "data": {
      "text/plain": "array([[  40.27832241,   17.18479321],\n       [ -90.76909512,  342.68958635],\n       [-597.223658  , -170.5044305 ]])"
     },
     "execution_count": 47,
     "metadata": {},
     "output_type": "execute_result"
    }
   ],
   "source": [
    "a"
   ],
   "metadata": {
    "collapsed": false,
    "pycharm": {
     "name": "#%%\n"
    }
   }
  },
  {
   "cell_type": "code",
   "execution_count": 37,
   "outputs": [
    {
     "data": {
      "text/plain": "array([[  40.27832241,   17.18479321],\n       [ -90.76909512,  342.68958635],\n       [-597.223658  , -170.5044305 ]])"
     },
     "execution_count": 37,
     "metadata": {},
     "output_type": "execute_result"
    }
   ],
   "source": [
    "B"
   ],
   "metadata": {
    "collapsed": false,
    "pycharm": {
     "name": "#%%\n"
    }
   }
  },
  {
   "cell_type": "markdown",
   "source": [
    "Функция итерирующая список матриц и вычисляющая свд для каждой"
   ],
   "metadata": {
    "collapsed": false,
    "pycharm": {
     "name": "#%% md\n"
    }
   }
  },
  {
   "cell_type": "code",
   "execution_count": 167,
   "outputs": [],
   "source": [
    "def csvd(aa):\n",
    "    svdd=[]\n",
    "    vh = []\n",
    "    for a_ in aa:\n",
    "        a=np.asarray(a_)\n",
    "        #print(f\"A:\\n{a}\")\n",
    "        U, s, Vh=svd(a)\n",
    "        #print(\"U\")\n",
    "        #print(U)\n",
    "        sigma = np.zeros(a.shape)\n",
    "        #print(\"s\")\n",
    "        #print(s)\n",
    "        #print(\"Vh\")\n",
    "        #print(Vh)\n",
    "        for i in range(min(a.shape)):\n",
    "            sigma[i, i] = s[i]\n",
    "        #print(\"Sigma\")\n",
    "        #print(sigma)\n",
    "        svdd.append((a, U.tolist(), s.tolist(), Vh, sigma))\n",
    "        vh.append(vh)\n",
    "\n",
    "    return np.asarray(vh)"
   ],
   "metadata": {
    "collapsed": false,
    "pycharm": {
     "name": "#%%\n"
    }
   }
  },
  {
   "cell_type": "code",
   "execution_count": null,
   "outputs": [],
   "source": [
    "\n",
    "\n",
    "n=csvd(A)\n",
    "print(n)"
   ],
   "metadata": {
    "collapsed": false,
    "pycharm": {
     "name": "#%%\n",
     "is_executing": true
    }
   }
  },
  {
   "cell_type": "code",
   "execution_count": 159,
   "outputs": [
    {
     "name": "stdout",
     "output_type": "stream",
     "text": [
      "1.0471975511965976\n",
      "nan\n",
      "2.0943951023931953\n",
      "2.0943951023931957\n",
      "2.078901238663254\n",
      "2.0943951023931957\n",
      "next\n",
      "nan\n",
      "1.047197551196598\n",
      "2.0943951023931957\n",
      "2.0943951023931957\n",
      "nan\n",
      "2.0943951023931957\n",
      "next\n",
      "2.0943951023931953\n",
      "2.0943951023931957\n",
      "1.0471975511965976\n",
      "1.9725443091137271\n",
      "2.0943951023931957\n",
      "1.9587076350192205\n",
      "next\n",
      "2.0943951023931957\n",
      "2.0943951023931957\n",
      "1.9725443091137271\n",
      "1.0471975511965979\n",
      "2.0943951023931957\n",
      "1.0472929986120654\n",
      "next\n",
      "2.078901238663254\n",
      "nan\n",
      "2.0943951023931957\n",
      "2.0943951023931957\n",
      "1.0471975511965979\n",
      "2.0943951023931957\n",
      "next\n",
      "2.0943951023931957\n",
      "2.0943951023931957\n",
      "1.9587076350192205\n",
      "1.0472929986120654\n",
      "2.0943951023931957\n",
      "1.0471975511965976\n",
      "next\n"
     ]
    },
    {
     "name": "stderr",
     "output_type": "stream",
     "text": [
      "/var/folders/l7/52t7xngd2973k8x9_y55rmyh0000gn/T/ipykernel_11979/375021768.py:5: RuntimeWarning: invalid value encountered in arccos\n",
      "  return np.arccos((np.trace(b)-1)/2)\n"
     ]
    }
   ],
   "source": [
    "import pandas as pd\n",
    "df = pd.DataFrame(data = d)\n",
    "\n"
   ],
   "metadata": {
    "collapsed": false,
    "pycharm": {
     "name": "#%%\n"
    }
   }
  },
  {
   "cell_type": "code",
   "execution_count": 134,
   "outputs": [
    {
     "name": "stdout",
     "output_type": "stream",
     "text": [
      "0.0\n",
      "2.723350242496944\n",
      "2.0\n",
      "1.9999999999999998\n",
      "1.9864767237547665\n",
      "2.0\n",
      "next\n",
      "2.723350242496944\n",
      "0.0\n",
      "2.0\n",
      "1.9999999999999998\n",
      "2.475056726357569\n",
      "2.0\n",
      "next\n",
      "2.0\n",
      "2.0\n",
      "0.0\n",
      "1.8878853195026353\n",
      "1.9999999999999998\n",
      "1.8743059913154232\n",
      "next\n",
      "1.9999999999999998\n",
      "1.9999999999999998\n",
      "1.8878853195026353\n",
      "0.0\n",
      "1.9999999999999998\n",
      "0.01818374702279813\n",
      "next\n",
      "1.9864767237547665\n",
      "2.475056726357569\n",
      "1.9999999999999998\n",
      "1.9999999999999998\n",
      "0.0\n",
      "2.0\n",
      "next\n",
      "2.0\n",
      "2.0\n",
      "1.8743059913154232\n",
      "0.01818374702279813\n",
      "2.0\n",
      "0.0\n",
      "next\n"
     ]
    }
   ],
   "source": [
    "import torch\n",
    "for nn in n:\n",
    "    n_t = torch.tensor(nn)\n",
    "    for mm in n:\n",
    "        m_t = torch.tensor(mm)\n",
    "        print (np.asarray(torch.dist(n_t, m_t, p=2)).tolist())\n",
    "    print ('next')"
   ],
   "metadata": {
    "collapsed": false,
    "pycharm": {
     "name": "#%%\n"
    }
   }
  },
  {
   "cell_type": "code",
   "execution_count": null,
   "outputs": [],
   "source": [],
   "metadata": {
    "collapsed": false,
    "pycharm": {
     "name": "#%%\n"
    }
   }
  }
 ],
 "metadata": {
  "kernelspec": {
   "display_name": "Python 3",
   "language": "python",
   "name": "python3"
  },
  "language_info": {
   "codemirror_mode": {
    "name": "ipython",
    "version": 2
   },
   "file_extension": ".py",
   "mimetype": "text/x-python",
   "name": "python",
   "nbconvert_exporter": "python",
   "pygments_lexer": "ipython2",
   "version": "2.7.6"
  }
 },
 "nbformat": 4,
 "nbformat_minor": 0
}