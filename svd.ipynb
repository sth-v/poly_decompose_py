{
 "cells": [
  {
   "cell_type": "markdown",
   "source": [
    "Получение исходных данных"
   ],
   "metadata": {
    "collapsed": false,
    "pycharm": {
     "name": "#%% md\n"
    }
   },
   "outputs": []
  },
  {
   "cell_type": "code",
   "execution_count": 1,
   "outputs": [
    {
     "name": "stderr",
     "output_type": "stream",
     "text": [
      "/opt/anaconda3/envs/tests/lib/python3.10/site-packages/osmnx/geocoder.py:110: FutureWarning: The frame.append method is deprecated and will be removed from pandas in a future version. Use pandas.concat instead.\n",
      "  gdf = gdf.append(_geocode_query_to_gdf(q, wr, by_osmid))\n",
      "/opt/anaconda3/envs/tests/lib/python3.10/site-packages/osmnx/geocoder.py:110: FutureWarning: The frame.append method is deprecated and will be removed from pandas in a future version. Use pandas.concat instead.\n",
      "  gdf = gdf.append(_geocode_query_to_gdf(q, wr, by_osmid))\n",
      "/opt/anaconda3/envs/tests/lib/python3.10/site-packages/osmnx/geocoder.py:110: FutureWarning: The frame.append method is deprecated and will be removed from pandas in a future version. Use pandas.concat instead.\n",
      "  gdf = gdf.append(_geocode_query_to_gdf(q, wr, by_osmid))\n"
     ]
    }
   ],
   "source": [
    "from basepolygon_class import GoalPolygon\n",
    "from shapely.geometry import Polygon\n",
    "place = GoalPolygon('Жилой комплекс \"Жулебино Парк\" стройка')\n",
    "v = place.polygon"
   ],
   "metadata": {
    "collapsed": false,
    "pycharm": {
     "name": "#%%\n"
    }
   }
  },
  {
   "cell_type": "markdown",
   "source": [
    "Геометрическое упрощение"
   ],
   "metadata": {
    "collapsed": false,
    "pycharm": {
     "name": "#%% md\n"
    }
   }
  },
  {
   "cell_type": "code",
   "execution_count": 2,
   "outputs": [],
   "source": [
    "def get_xy(s):\n",
    "\n",
    "    x, y = s.centroid.coords.xy\n",
    "    return x[0], y[0]"
   ],
   "metadata": {
    "collapsed": false,
    "pycharm": {
     "name": "#%%\n"
    }
   }
  },
  {
   "cell_type": "markdown",
   "source": [
    "Здесь полигон в нуле не от центра"
   ],
   "metadata": {
    "collapsed": false
   }
  },
  {
   "cell_type": "code",
   "execution_count": 3,
   "outputs": [
    {
     "data": {
      "text/plain": "<shapely.geometry.polygon.Polygon at 0x7fa2f5519f60>",
      "image/svg+xml": "<svg xmlns=\"http://www.w3.org/2000/svg\" xmlns:xlink=\"http://www.w3.org/1999/xlink\" width=\"300\" height=\"300\" viewBox=\"-28.16135916750878 -28.16135916750878 721.2831958739482 760.356697522737\" preserveAspectRatio=\"xMinYMin meet\"><g transform=\"matrix(1,0,0,-1,0,704.0339791877195)\"><path fill-rule=\"evenodd\" fill=\"#66cc99\" stroke=\"#555555\" stroke-width=\"5.0690446501515805\" opacity=\"0.6\" d=\"M 0.0,42.42240105941892 L 49.646892975317314,0.0 L 98.84738645789912,8.644872757606208 L 91.4870680613094,103.90478569734842 L 123.99432792240987,102.31525947432965 L 118.84098943317076,169.09848177898675 L 259.5926219234825,182.74853624869138 L 251.26317001710413,210.77966740820557 L 324.2408816458192,237.37195728812367 L 363.47268786811037,201.54586718510836 L 363.9113453243044,162.49007819592953 L 382.8016503081308,152.13047074340284 L 428.13861587963765,169.7247769329697 L 452.75512537162285,205.44482689723372 L 418.62160929798847,242.2890095654875 L 468.869841001404,276.86797133646905 L 373.6430417126394,516.6187753705308 L 325.4972854232765,497.4457708345726 L 303.76772698637797,550.6964679146186 L 427.32105774397496,598.1822010865435 L 561.7782090922119,553.6829920513555 L 646.1450598833035,565.1904505407438 L 653.429957066779,549.7999624321237 L 664.9604775389307,570.4281977945939 L 620.0133774741553,591.985123119317 L 616.5740414878237,634.2286564968526 L 534.9653862527339,680.0588067416102 L 469.36269571079174,692.9371331753209 L 447.92885945062153,672.5041266316548 L 414.77547417697497,704.0339791877195 L 262.5802838554955,643.69222803507 L 295.5449692333932,557.1087740799412 L 181.57467434561113,514.2564668776467 L 251.4879176306422,335.4356294348836 L 88.63919788587373,273.43698931019753 L 102.58079667651327,237.87792157381773 L 31.373416263901163,206.9413421181962 L 31.85410999529995,75.80640601925552 L 0.0,42.42240105941892 z\" /></g></svg>"
     },
     "execution_count": 3,
     "metadata": {},
     "output_type": "execute_result"
    }
   ],
   "source": [
    "from shapely.affinity import translate\n",
    "\n",
    "s = v.simplify(10, preserve_topology=True)\n",
    "x, y, _, _ = v.bounds\n",
    "#x, y = get_xy(s)\n",
    "st = translate(s, 0-x, 0-y)\n",
    "\n",
    "st"
   ],
   "metadata": {
    "collapsed": false,
    "pycharm": {
     "name": "#%%\n"
    }
   }
  },
  {
   "cell_type": "code",
   "execution_count": 4,
   "outputs": [],
   "source": [
    "# убрать бы эту ебань\n",
    "coor_list = (list(st.boundary.coords[0:len(st.boundary.coords) - 1]))"
   ],
   "metadata": {
    "collapsed": false,
    "pycharm": {
     "name": "#%%\n"
    }
   }
  },
  {
   "cell_type": "markdown",
   "source": [
    "Декомпозиция периметра"
   ],
   "metadata": {
    "collapsed": false,
    "pycharm": {
     "name": "#%% md\n"
    }
   }
  },
  {
   "cell_type": "code",
   "execution_count": 5,
   "outputs": [],
   "source": [
    "import numpy as np\n",
    "from math import pi, cos, sin\n",
    "\n",
    "target = pi/2\n",
    "basis = np.array([[1, 0, 0],[0, 1, 0]])\n",
    "tolerance=0.75"
   ],
   "metadata": {
    "collapsed": false,
    "pycharm": {
     "name": "#%%\n"
    }
   }
  },
  {
   "cell_type": "code",
   "execution_count": 6,
   "outputs": [],
   "source": [
    "transform = np.array(\n",
    "    [\n",
    "        [cos(target), -sin(target), 0],\n",
    "        [sin(target), cos(target), 0],\n",
    "        [0, 0, 1]\n",
    "    ]\n",
    ")"
   ],
   "metadata": {
    "collapsed": false,
    "pycharm": {
     "name": "#%%\n"
    }
   }
  },
  {
   "cell_type": "code",
   "execution_count": 7,
   "outputs": [
    {
     "name": "stderr",
     "output_type": "stream",
     "text": [
      "/var/folders/l7/52t7xngd2973k8x9_y55rmyh0000gn/T/ipykernel_2115/2402548898.py:1: DeprecationWarning: `np.complex` is a deprecated alias for the builtin `complex`. To silence this warning, use `complex` by itself. Doing this will not modify any behavior and is safe. If you specifically wanted the numpy scalar type, use `np.complex128` here.\n",
      "Deprecated in NumPy 1.20; for more details and guidance: https://numpy.org/devdocs/release/1.20.0-notes.html#deprecations\n",
      "  metric = np.complex(np.cross(basis[0], basis[1])[-1],\n"
     ]
    }
   ],
   "source": [
    "metric = np.complex(np.cross(basis[0], basis[1])[-1],\n",
    "                             np.cross(basis[1], basis[0])[-1])\n"
   ],
   "metadata": {
    "collapsed": false,
    "pycharm": {
     "name": "#%%\n"
    }
   }
  },
  {
   "cell_type": "markdown",
   "source": [
    "разбиение точек на группы по сегментам"
   ],
   "metadata": {
    "collapsed": false
   }
  },
  {
   "cell_type": "code",
   "execution_count": 8,
   "outputs": [],
   "source": [
    "from itertools import islice, cycle\n",
    "\n",
    "def vec_search(point_list, key):\n",
    "    cr = []\n",
    "    n = list(islice(cycle(range(len(point_list))), 0, len(point_list) *2))\n",
    "    for i in range(len(point_list)):\n",
    "        v_one = [point_list[n[i]][0] - point_list[n[i + 1]][0], point_list[n[i]][1] - point_list[n[i + 1]][1], 0]\n",
    "        v_two = [point_list[n[i + 1]][0] - point_list[n[i + 2]][0], point_list[n[i + 1]][1] - point_list[n[i + 2]][1],0]\n",
    "        v_o_norm, v_t_norm = v_one / np.linalg.norm(v_one), v_two / np.linalg.norm(v_two)\n",
    "        if np.cross(v_o_norm, v_t_norm)[2] < key:\n",
    "            cr.append(n[i + 1])\n",
    "        else:\n",
    "            pass\n",
    "    cross = [*cr, cr[0] + cr[-1] + 1]\n",
    "    double_points = [*range(len(point_list)), *range(len(point_list))]\n",
    "    segments = [double_points[cross[c]:cross[c + 1]+1] for c in range(len(cross) - 1)]\n",
    "    return segments"
   ],
   "metadata": {
    "collapsed": false,
    "pycharm": {
     "name": "#%%\n"
    }
   }
  },
  {
   "cell_type": "code",
   "execution_count": 9,
   "outputs": [
    {
     "name": "stdout",
     "output_type": "stream",
     "text": [
      "[[3, 4, 5], [5, 6, 7], [7, 8], [8, 9], [9, 10, 11, 12, 13, 14], [14, 15, 16, 17], [17, 18], [18, 19], [19, 20], [20, 21], [21, 22, 23, 24], [24, 25, 26], [26, 27, 28], [28, 29, 30, 31], [31, 32, 33], [33, 34, 35], [35, 36, 37], [37, 0, 1, 2, 3]]\n"
     ]
    }
   ],
   "source": [
    "bb = vec_search(coor_list, 0.5)\n",
    "print(bb)"
   ],
   "metadata": {
    "collapsed": false,
    "pycharm": {
     "name": "#%%\n"
    }
   }
  },
  {
   "cell_type": "markdown",
   "source": [
    "вектора разбитые по группам от исходных точек"
   ],
   "metadata": {
    "collapsed": false
   }
  },
  {
   "cell_type": "code",
   "execution_count": 10,
   "outputs": [],
   "source": [
    "def chains_base (point_list):\n",
    "    key_val = vec_search(point_list, 0.5)\n",
    "    vectors =[]\n",
    "    for i in key_val:\n",
    "        temp =[]\n",
    "        for l in range(len(i)-1):\n",
    "            vec = [point_list[i[l]][0] - point_list[i[l+1]][0], point_list[i[l]][1] - point_list[i[l+1]][1]]\n",
    "            temp.append(vec)\n",
    "        vectors.append(temp)\n",
    "    return vectors\n"
   ],
   "metadata": {
    "collapsed": false,
    "pycharm": {
     "name": "#%%\n"
    }
   }
  },
  {
   "cell_type": "code",
   "execution_count": 11,
   "outputs": [
    {
     "name": "stdout",
     "output_type": "stream",
     "text": [
      "[[[-32.507259861100465, 1.5895262230187654], [5.153338489239104, -66.7832223046571]], [[-140.75163249031175, -13.650054469704628], [8.329451906378381, -28.03113115951419]], [[-72.97771162871504, -26.5922898799181]], [[-39.2318062222912, 35.826090103015304]], [[-0.4386574561940506, 39.055788989178836], [-18.890304983826354, 10.359607452526689], [-45.33696557150688, -17.59430618956685], [-24.616509491985198, -35.720049964264035], [34.13351607363438, -36.84418266825378]], [[-50.24823170341551, -34.57896177098155], [95.2267992887646, -239.75080403406173], [48.14575628936291, 19.17300453595817]], [[21.729558436898515, -53.25069708004594]], [[-123.553330757597, -47.48573317192495]], [[-134.45715134823695, 44.49920903518796]], [[-84.36685079109157, -11.507458489388227]], [[-7.28489718347555, 15.390488108620048], [-11.530520472151693, -20.62823536247015], [44.94710006477544, -21.556925324723125]], [[3.439335986331571, -42.24353337753564], [81.60865523508983, -45.83015024475753]], [[65.60269054194214, -12.878326433710754], [21.43383626017021, 20.433006543666124]], [[33.15338527364656, -31.529852556064725], [152.19519032147946, 60.34175115264952], [-32.964685377897695, 86.58345395512879]], [[113.97029488778207, 42.85230720229447], [-69.91324328503106, 178.82083744276315]], [[162.84871974476846, 61.99864012468606], [-13.941598790639546, 35.5590677363798]], [[71.20738041261211, 30.93657945562154], [-0.48069373139878735, 131.13493609894067]], [[31.85410999529995, 33.3840049598366], [-49.646892975317314, 42.42240105941892], [-49.200493482581805, -8.644872757606208], [7.360318396589719, -95.25991293974221]]]\n"
     ]
    }
   ],
   "source": [
    "res_vec = chains_base(coor_list)\n",
    "print(res_vec)"
   ],
   "metadata": {
    "collapsed": false,
    "pycharm": {
     "name": "#%%\n"
    }
   }
  },
  {
   "cell_type": "markdown",
   "source": [
    "SVD\n",
    "Декомпозиция"
   ],
   "metadata": {
    "collapsed": false,
    "pycharm": {
     "name": "#%% md\n"
    }
   }
  },
  {
   "cell_type": "markdown",
   "source": [
    "# Это техническая часть для работы с локальными данными\n",
    "import json\n",
    "\n",
    "f = open(\"/Users/andrewastakhov/dumps/pl.json\", \"r\")\n",
    "points = json.load(f)['pts']"
   ],
   "metadata": {
    "collapsed": false,
    "pycharm": {
     "name": "#%% md\n"
    }
   }
  },
  {
   "cell_type": "code",
   "execution_count": 12,
   "outputs": [
    {
     "name": "stderr",
     "output_type": "stream",
     "text": [
      "/var/folders/l7/52t7xngd2973k8x9_y55rmyh0000gn/T/ipykernel_2115/1396746674.py:4: VisibleDeprecationWarning: Creating an ndarray from ragged nested sequences (which is a list-or-tuple of lists-or-tuples-or ndarrays with different lengths or shapes) is deprecated. If you meant to do this, you must specify 'dtype=object' when creating the ndarray.\n",
      "  A = np.asarray(res_vec)\n"
     ]
    }
   ],
   "source": [
    "from scipy.linalg import svd\n",
    "import numpy as np\n",
    "\n",
    "A = np.asarray(res_vec)"
   ],
   "metadata": {
    "collapsed": false,
    "pycharm": {
     "name": "#%%\n"
    }
   }
  },
  {
   "cell_type": "markdown",
   "source": [
    "Пример с одной матрицей"
   ],
   "metadata": {
    "collapsed": false,
    "pycharm": {
     "name": "#%% md\n"
    }
   }
  },
  {
   "cell_type": "code",
   "execution_count": 13,
   "outputs": [],
   "source": [
    "a = np.asarray(A[0])"
   ],
   "metadata": {
    "collapsed": false,
    "pycharm": {
     "name": "#%%\n"
    }
   }
  },
  {
   "cell_type": "code",
   "execution_count": 14,
   "outputs": [],
   "source": [
    "U, s, Vh=svd(a)"
   ],
   "metadata": {
    "collapsed": false,
    "pycharm": {
     "name": "#%%\n"
    }
   }
  },
  {
   "cell_type": "markdown",
   "source": [
    "Получить Sigma из s Хуй знает зачем сайпи говорят что это полезно"
   ],
   "metadata": {
    "collapsed": false,
    "pycharm": {
     "name": "#%% md\n"
    }
   }
  },
  {
   "cell_type": "code",
   "execution_count": 15,
   "outputs": [
    {
     "data": {
      "text/plain": "array([[67.1436619 ,  0.        ],\n       [ 0.        , 32.21075726]])"
     },
     "execution_count": 15,
     "metadata": {},
     "output_type": "execute_result"
    }
   ],
   "source": [
    "sigma = np.zeros(a.shape)\n",
    "for i in range(min(a.shape)):\n",
    "            sigma[i, i] = s[i]\n",
    "sigma"
   ],
   "metadata": {
    "collapsed": false,
    "pycharm": {
     "name": "#%%\n"
    }
   }
  },
  {
   "cell_type": "markdown",
   "source": [
    "А точно, как минимум для обратной проверки, \"B\" должно быть равно \"a\""
   ],
   "metadata": {
    "collapsed": false,
    "pycharm": {
     "name": "#%% md\n"
    }
   }
  },
  {
   "cell_type": "code",
   "execution_count": 16,
   "outputs": [],
   "source": [
    "B = U @ sigma @ Vh"
   ],
   "metadata": {
    "collapsed": false,
    "pycharm": {
     "name": "#%%\n"
    }
   }
  },
  {
   "cell_type": "markdown",
   "source": [
    "Теперь на торче\n",
    "Класс треннируется на основе отсортированых данных выпуклой декомпозиции периметра\n"
   ],
   "metadata": {
    "collapsed": false,
    "pycharm": {
     "name": "#%% md\n"
    }
   }
  },
  {
   "cell_type": "code",
   "execution_count": 17,
   "outputs": [
    {
     "name": "stderr",
     "output_type": "stream",
     "text": [
      "/opt/anaconda3/envs/tests/lib/python3.10/site-packages/osmnx/geocoder.py:110: FutureWarning: The frame.append method is deprecated and will be removed from pandas in a future version. Use pandas.concat instead.\n",
      "  gdf = gdf.append(_geocode_query_to_gdf(q, wr, by_osmid))\n",
      "/opt/anaconda3/envs/tests/lib/python3.10/site-packages/osmnx/geocoder.py:110: FutureWarning: The frame.append method is deprecated and will be removed from pandas in a future version. Use pandas.concat instead.\n",
      "  gdf = gdf.append(_geocode_query_to_gdf(q, wr, by_osmid))\n"
     ]
    },
    {
     "name": "stdout",
     "output_type": "stream",
     "text": [
      "[[1, 2, 3], [4, 5, 6], [7], [8, 9], [10, 11, 12], [13, 0]]\n"
     ]
    },
    {
     "name": "stderr",
     "output_type": "stream",
     "text": [
      "/opt/anaconda3/envs/tests/lib/python3.10/site-packages/osmnx/geocoder.py:110: FutureWarning: The frame.append method is deprecated and will be removed from pandas in a future version. Use pandas.concat instead.\n",
      "  gdf = gdf.append(_geocode_query_to_gdf(q, wr, by_osmid))\n"
     ]
    }
   ],
   "source": [
    "import torch\n",
    "from polygon_division import vector_search, points_to_point_chain"
   ],
   "metadata": {
    "collapsed": false,
    "pycharm": {
     "name": "#%%\n"
    }
   }
  },
  {
   "cell_type": "markdown",
   "source": [],
   "metadata": {
    "collapsed": false,
    "pycharm": {
     "name": "#%% md\n"
    }
   }
  },
  {
   "cell_type": "code",
   "execution_count": 18,
   "outputs": [],
   "source": [
    "class SvdItem:\n",
    "    keys=[\"A\", \"U\", \"S\", \"Vh\", \"Sigma\"]\n",
    "    def __init__(self, m, collection=None, **kwargs):\n",
    "        self.A = torch.tensor(m)\n",
    "        self.collection=collection\n",
    "        self.U = None\n",
    "        self.S = None\n",
    "        self.Vh = None\n",
    "        self.Sigma = None\n",
    "        self.svd(**kwargs)\n",
    "        if collection is not None:\n",
    "            self.id = f'{collection.id}:{len(collection.matrices)}'\n",
    "            print(f'set item id: {self.id}')\n",
    "            collection.A.append(self.A)\n",
    "\n",
    "\n",
    "\n",
    "    def svd(self, **kwargs):\n",
    "        U, S, Vh = torch.linalg.svd(self.A, **kwargs)\n",
    "        Sigma = torch.diag(S)\n",
    "        self.U, self.S, self.Vh, self.Sigma=U, S, Vh, Sigma\n",
    "        print(self.U, self.S, self.Vh, self.Sigma)\n",
    "        if self.collection:\n",
    "            for v, k in zip([A, U, S, Vh, Sigma], self.__class__.keys):\n",
    "                (self.collection.__dict__[k]).append(v)\n",
    "\n",
    "        return U, S, Vh, Sigma\n",
    "    def pack(self):\n",
    "        self.collection.__dict__[self.__class__.__name__][self.collection.id]|={self.id:self}\n",
    "        return self.id, self\n",
    "\n",
    "\n",
    "\n",
    "class SvdPack:\n",
    "    def __init__(self):\n",
    "        self._matrices = []\n",
    "        self.id = f'{0}:{0}'\n",
    "        self.A, self.U, self.S, self.Vh, self.Sigma = [], [], [], [], []\n",
    "        self.tree= {self.id:{}}\n",
    "\n",
    "\n",
    "\n",
    "    @property\n",
    "    def matrices(self):\n",
    "        return self._matrices\n",
    "    @matrices.setter\n",
    "    def matrices(self, val, **kwargs):\n",
    "        if len(val.shape) == 2:\n",
    "            self._matrices.append(SvdItem(val, collection=self, **kwargs))\n",
    "        else:\n",
    "            for v in val:\n",
    "                self._matrices.append(SvdItem(v, collection=self, **kwargs))\n"
   ],
   "metadata": {
    "collapsed": false,
    "pycharm": {
     "name": "#%%\n"
    }
   }
  },
  {
   "cell_type": "code",
   "execution_count": 19,
   "outputs": [],
   "source": [
    "pck = SvdPack()"
   ],
   "metadata": {
    "collapsed": false,
    "pycharm": {
     "name": "#%%\n"
    }
   }
  },
  {
   "cell_type": "code",
   "execution_count": 20,
   "outputs": [],
   "source": [
    "a_=np.asarray(res_vec, dtype=object)"
   ],
   "metadata": {
    "collapsed": false,
    "pycharm": {
     "name": "#%%\n"
    }
   }
  },
  {
   "cell_type": "code",
   "execution_count": 21,
   "outputs": [
    {
     "data": {
      "text/plain": "1"
     },
     "execution_count": 21,
     "metadata": {},
     "output_type": "execute_result"
    }
   ],
   "source": [
    "len(a_.shape)"
   ],
   "metadata": {
    "collapsed": false,
    "pycharm": {
     "name": "#%%\n"
    }
   }
  },
  {
   "cell_type": "code",
   "execution_count": 22,
   "outputs": [
    {
     "name": "stdout",
     "output_type": "stream",
     "text": [
      "tensor([[-0.0791,  0.9969],\n",
      "        [ 0.9969,  0.0791]]) tensor([67.1437, 32.2108]) tensor([[ 0.1148, -0.9934],\n",
      "        [-0.9934, -0.1148]]) tensor([[67.1437,  0.0000],\n",
      "        [ 0.0000, 32.2108]])\n",
      "set item id: 0:0:0\n",
      "tensor([[-0.9992,  0.0412],\n",
      "        [ 0.0412,  0.9992]]) tensor([141.5269,  28.6809]) tensor([[ 0.9961,  0.0882],\n",
      "        [ 0.0882, -0.9961]]) tensor([[141.5269,   0.0000],\n",
      "        [  0.0000,  28.6809]])\n",
      "set item id: 0:0:1\n",
      "tensor([[1.]]) tensor([77.6717]) tensor([[-0.9396, -0.3424],\n",
      "        [-0.3424,  0.9396]]) tensor([[77.6717]])\n",
      "set item id: 0:0:2\n",
      "tensor([[1.]]) tensor([53.1286]) tensor([[-0.7384,  0.6743],\n",
      "        [ 0.6743,  0.7384]]) tensor([[53.1286]])\n",
      "set item id: 0:0:3\n",
      "tensor([[ 0.5229,  0.2472, -0.1530,  0.2538,  0.7600],\n",
      "        [ 0.0302,  0.3351, -0.6743, -0.6557, -0.0466],\n",
      "        [-0.4987,  0.5425,  0.4969, -0.2824,  0.3610],\n",
      "        [-0.6228,  0.1332, -0.5169,  0.5644,  0.0927],\n",
      "        [-0.2984, -0.7173, -0.0879, -0.3277,  0.5303]]) tensor([68.2961, 63.9909]) tensor([[ 0.3947,  0.9188],\n",
      "        [-0.9188,  0.3947]]) tensor([[68.2961,  0.0000],\n",
      "        [ 0.0000, 63.9909]])\n",
      "set item id: 0:0:4\n",
      "tensor([[-0.0557,  0.7522,  0.6566],\n",
      "        [-0.9984, -0.0438, -0.0345],\n",
      "        [ 0.0029, -0.6575,  0.7534]]) tensor([258.3488,  78.8081]) tensor([[-0.3567,  0.9342],\n",
      "        [-0.9342, -0.3567]]) tensor([[258.3488,   0.0000],\n",
      "        [  0.0000,  78.8081]])\n",
      "set item id: 0:0:5\n",
      "tensor([[-1.]]) tensor([57.5136]) tensor([[-0.3778,  0.9259],\n",
      "        [ 0.9259,  0.3778]]) tensor([[57.5136]])\n",
      "set item id: 0:0:6\n",
      "tensor([[1.]]) tensor([132.3643]) tensor([[-0.9334, -0.3588],\n",
      "        [-0.3588,  0.9334]]) tensor([[132.3643]])\n",
      "set item id: 0:0:7\n",
      "tensor([[1.]]) tensor([141.6295]) tensor([[-0.9494,  0.3142],\n",
      "        [ 0.3142,  0.9494]]) tensor([[141.6295]])\n",
      "set item id: 0:0:8\n",
      "tensor([[1.]]) tensor([85.1480]) tensor([[-0.9908, -0.1351],\n",
      "        [-0.1351,  0.9908]]) tensor([[85.1480]])\n",
      "set item id: 0:0:9\n",
      "tensor([[-0.2668,  0.3877,  0.8823],\n",
      "        [-0.0041, -0.9159,  0.4013],\n",
      "        [ 0.9637,  0.1034,  0.2459]]) tensor([51.6501, 25.7996]) tensor([[ 0.8772, -0.4801],\n",
      "        [ 0.4801,  0.8772]]) tensor([[51.6501,  0.0000],\n",
      "        [ 0.0000, 25.7996]])\n",
      "set item id: 0:0:10\n",
      "tensor([[-0.2797, -0.9601],\n",
      "        [-0.9601,  0.2797]]) tensor([96.9850, 33.9208]) tensor([[-0.8178,  0.5755],\n",
      "        [ 0.5755,  0.8178]]) tensor([[96.9850,  0.0000],\n",
      "        [ 0.0000, 33.9208]])\n",
      "set item id: 0:0:11\n",
      "tensor([[-0.9601, -0.2796],\n",
      "        [-0.2796,  0.9601]]) tensor([69.2991, 23.3263]) tensor([[-0.9954,  0.0960],\n",
      "        [ 0.0960,  0.9954]]) tensor([[69.2991,  0.0000],\n",
      "        [ 0.0000, 23.3263]])\n",
      "set item id: 0:0:12\n",
      "tensor([[-0.1264,  0.4017,  0.9070],\n",
      "        [-0.9919, -0.0649, -0.1095],\n",
      "        [ 0.0149, -0.9135,  0.4066]]) tensor([164.9305, 101.3858]) tensor([[-0.9437, -0.3309],\n",
      "        [ 0.3309, -0.9437]]) tensor([[164.9305,   0.0000],\n",
      "        [  0.0000, 101.3858]])\n",
      "set item id: 0:0:13\n",
      "tensor([[-0.0138,  0.9999],\n",
      "        [ 0.9999,  0.0138]]) tensor([192.0130, 121.7429]) tensor([[-0.3723,  0.9281],\n",
      "        [ 0.9281,  0.3723]]) tensor([[192.0130,   0.0000],\n",
      "        [  0.0000, 121.7429]])\n",
      "set item id: 0:0:14\n",
      "tensor([[-1.0000,  0.0023],\n",
      "        [ 0.0023,  1.0000]]) tensor([174.2518,  38.1925]) tensor([[-0.9347, -0.3553],\n",
      "        [-0.3553,  0.9347]]) tensor([[174.2518,   0.0000],\n",
      "        [  0.0000,  38.1925]])\n",
      "set item id: 0:0:15\n",
      "tensor([[ 0.3071,  0.9517],\n",
      "        [ 0.9517, -0.3071]]) tensor([135.9947,  68.7721]) tensor([[ 0.1574,  0.9875],\n",
      "        [ 0.9875, -0.1574]]) tensor([[135.9947,   0.0000],\n",
      "        [  0.0000,  68.7721]])\n",
      "set item id: 0:0:16\n",
      "tensor([[-0.2363,  0.5035,  0.6459,  0.5230],\n",
      "        [-0.4645, -0.5311, -0.2822,  0.6500],\n",
      "        [-0.0134, -0.6624,  0.7084, -0.2433],\n",
      "        [ 0.8534, -0.1601,  0.0364,  0.4948]]) tensor([111.0665,  75.3785]) tensor([[ 0.2023, -0.9793],\n",
      "        [ 0.9793,  0.2023]]) tensor([[111.0665,   0.0000],\n",
      "        [  0.0000,  75.3785]])\n",
      "set item id: 0:0:17\n"
     ]
    }
   ],
   "source": [
    "pck.matrices = a_"
   ],
   "metadata": {
    "collapsed": false,
    "pycharm": {
     "name": "#%%\n"
    }
   }
  },
  {
   "cell_type": "code",
   "execution_count": 23,
   "outputs": [
    {
     "data": {
      "text/plain": "[<__main__.SvdItem at 0x7fa2f42a7640>,\n <__main__.SvdItem at 0x7fa2f551a4a0>,\n <__main__.SvdItem at 0x7fa2f42a5bd0>,\n <__main__.SvdItem at 0x7fa2f42a69e0>,\n <__main__.SvdItem at 0x7fa2f42a7370>,\n <__main__.SvdItem at 0x7fa2f42a57b0>,\n <__main__.SvdItem at 0x7fa2f42a6c80>,\n <__main__.SvdItem at 0x7fa2f42a6110>,\n <__main__.SvdItem at 0x7fa2f42a6680>,\n <__main__.SvdItem at 0x7fa2f42a5e70>,\n <__main__.SvdItem at 0x7fa2f42a5990>,\n <__main__.SvdItem at 0x7fa2f42a74c0>,\n <__main__.SvdItem at 0x7fa2f42a5c60>,\n <__main__.SvdItem at 0x7fa2f42a72b0>,\n <__main__.SvdItem at 0x7fa2f42a57e0>,\n <__main__.SvdItem at 0x7fa2f42a7070>,\n <__main__.SvdItem at 0x7fa2f42a6080>,\n <__main__.SvdItem at 0x7fa2f42a6fb0>]"
     },
     "execution_count": 23,
     "metadata": {},
     "output_type": "execute_result"
    }
   ],
   "source": [
    "pck.matrices"
   ],
   "metadata": {
    "collapsed": false,
    "pycharm": {
     "name": "#%%\n"
    }
   }
  },
  {
   "cell_type": "code",
   "execution_count": 24,
   "outputs": [
    {
     "data": {
      "text/plain": "[tensor([67.1437, 32.2108]),\n tensor([141.5269,  28.6809]),\n tensor([77.6717]),\n tensor([53.1286]),\n tensor([68.2961, 63.9909]),\n tensor([258.3488,  78.8081]),\n tensor([57.5136]),\n tensor([132.3643]),\n tensor([141.6295]),\n tensor([85.1480]),\n tensor([51.6501, 25.7996]),\n tensor([96.9850, 33.9208]),\n tensor([69.2991, 23.3263]),\n tensor([164.9305, 101.3858]),\n tensor([192.0130, 121.7429]),\n tensor([174.2518,  38.1925]),\n tensor([135.9947,  68.7721]),\n tensor([111.0665,  75.3785])]"
     },
     "execution_count": 24,
     "metadata": {},
     "output_type": "execute_result"
    }
   ],
   "source": [
    "pck.S"
   ],
   "metadata": {
    "collapsed": false,
    "pycharm": {
     "name": "#%%\n"
    }
   }
  },
  {
   "cell_type": "code",
   "execution_count": 25,
   "outputs": [
    {
     "data": {
      "text/plain": "[tensor([[67.1437,  0.0000],\n         [ 0.0000, 32.2108]]),\n tensor([[141.5269,   0.0000],\n         [  0.0000,  28.6809]]),\n tensor([[77.6717]]),\n tensor([[53.1286]]),\n tensor([[68.2961,  0.0000],\n         [ 0.0000, 63.9909]]),\n tensor([[258.3488,   0.0000],\n         [  0.0000,  78.8081]]),\n tensor([[57.5136]]),\n tensor([[132.3643]]),\n tensor([[141.6295]]),\n tensor([[85.1480]]),\n tensor([[51.6501,  0.0000],\n         [ 0.0000, 25.7996]]),\n tensor([[96.9850,  0.0000],\n         [ 0.0000, 33.9208]]),\n tensor([[69.2991,  0.0000],\n         [ 0.0000, 23.3263]]),\n tensor([[164.9305,   0.0000],\n         [  0.0000, 101.3858]]),\n tensor([[192.0130,   0.0000],\n         [  0.0000, 121.7429]]),\n tensor([[174.2518,   0.0000],\n         [  0.0000,  38.1925]]),\n tensor([[135.9947,   0.0000],\n         [  0.0000,  68.7721]]),\n tensor([[111.0665,   0.0000],\n         [  0.0000,  75.3785]])]"
     },
     "execution_count": 25,
     "metadata": {},
     "output_type": "execute_result"
    }
   ],
   "source": [
    "pck.Sigma"
   ],
   "metadata": {
    "collapsed": false,
    "pycharm": {
     "name": "#%%\n"
    }
   }
  },
  {
   "cell_type": "markdown",
   "source": [
    "VH"
   ],
   "metadata": {
    "collapsed": false
   }
  },
  {
   "cell_type": "code",
   "execution_count": 26,
   "outputs": [
    {
     "data": {
      "text/plain": "[tensor([[ 0.1148, -0.9934],\n         [-0.9934, -0.1148]]),\n tensor([[ 0.9961,  0.0882],\n         [ 0.0882, -0.9961]]),\n tensor([[-0.9396, -0.3424],\n         [-0.3424,  0.9396]]),\n tensor([[-0.7384,  0.6743],\n         [ 0.6743,  0.7384]]),\n tensor([[ 0.3947,  0.9188],\n         [-0.9188,  0.3947]]),\n tensor([[-0.3567,  0.9342],\n         [-0.9342, -0.3567]]),\n tensor([[-0.3778,  0.9259],\n         [ 0.9259,  0.3778]]),\n tensor([[-0.9334, -0.3588],\n         [-0.3588,  0.9334]]),\n tensor([[-0.9494,  0.3142],\n         [ 0.3142,  0.9494]]),\n tensor([[-0.9908, -0.1351],\n         [-0.1351,  0.9908]]),\n tensor([[ 0.8772, -0.4801],\n         [ 0.4801,  0.8772]]),\n tensor([[-0.8178,  0.5755],\n         [ 0.5755,  0.8178]]),\n tensor([[-0.9954,  0.0960],\n         [ 0.0960,  0.9954]]),\n tensor([[-0.9437, -0.3309],\n         [ 0.3309, -0.9437]]),\n tensor([[-0.3723,  0.9281],\n         [ 0.9281,  0.3723]]),\n tensor([[-0.9347, -0.3553],\n         [-0.3553,  0.9347]]),\n tensor([[ 0.1574,  0.9875],\n         [ 0.9875, -0.1574]]),\n tensor([[ 0.2023, -0.9793],\n         [ 0.9793,  0.2023]])]"
     },
     "execution_count": 26,
     "metadata": {},
     "output_type": "execute_result"
    }
   ],
   "source": [
    "pck_vh = pck.Vh\n",
    "pck_vh"
   ],
   "metadata": {
    "collapsed": false,
    "pycharm": {
     "name": "#%%\n"
    }
   }
  },
  {
   "cell_type": "markdown",
   "source": [
    "на данный момент не нужно, но если какая-то из матриц зеркальна, то вот"
   ],
   "metadata": {
    "collapsed": false
   }
  },
  {
   "cell_type": "code",
   "execution_count": 27,
   "outputs": [
    {
     "data": {
      "text/plain": "[tensor([[ 0.1148, -0.9934],\n         [ 0.9934,  0.1148]]),\n tensor([[ 0.9961,  0.0882],\n         [-0.0882,  0.9961]]),\n tensor([[-0.9396, -0.3424],\n         [ 0.3424, -0.9396]]),\n tensor([[-0.7384,  0.6743],\n         [-0.6743, -0.7384]]),\n tensor([[ 0.3947,  0.9188],\n         [-0.9188,  0.3947]]),\n tensor([[-0.3567,  0.9342],\n         [-0.9342, -0.3567]]),\n tensor([[-0.3778,  0.9259],\n         [-0.9259, -0.3778]]),\n tensor([[-0.9334, -0.3588],\n         [ 0.3588, -0.9334]]),\n tensor([[-0.9494,  0.3142],\n         [-0.3142, -0.9494]]),\n tensor([[-0.9908, -0.1351],\n         [ 0.1351, -0.9908]]),\n tensor([[ 0.8772, -0.4801],\n         [ 0.4801,  0.8772]]),\n tensor([[-0.8178,  0.5755],\n         [-0.5755, -0.8178]]),\n tensor([[-0.9954,  0.0960],\n         [-0.0960, -0.9954]]),\n tensor([[-0.9437, -0.3309],\n         [ 0.3309, -0.9437]]),\n tensor([[-0.3723,  0.9281],\n         [-0.9281, -0.3723]]),\n tensor([[-0.9347, -0.3553],\n         [ 0.3553, -0.9347]]),\n tensor([[ 0.1574,  0.9875],\n         [-0.9875,  0.1574]]),\n tensor([[ 0.2023, -0.9793],\n         [ 0.9793,  0.2023]])]"
     },
     "execution_count": 27,
     "metadata": {},
     "output_type": "execute_result"
    }
   ],
   "source": [
    "def matricies_check(matricies_list):\n",
    "    matrix_checked = []\n",
    "    for i in matricies_list:\n",
    "        if i[0][1]<0 and i[1][0]>0 or i[0][1]>0 and i[1][0]<0 :\n",
    "            matrix_checked.append(i)\n",
    "        else:\n",
    "            #ii = np.fliplr(i)*(-1)\n",
    "            i[1]*= -1\n",
    "            matrix_checked.append(i)\n",
    "    return matrix_checked\n",
    "\n",
    "\n",
    "\n",
    "huy = matricies_check(pck_vh)\n",
    "huy"
   ],
   "metadata": {
    "collapsed": false,
    "pycharm": {
     "name": "#%%\n"
    }
   }
  },
  {
   "cell_type": "markdown",
   "source": [
    "соответственно точки по паттерну"
   ],
   "metadata": {
    "collapsed": false
   }
  },
  {
   "cell_type": "code",
   "execution_count": 28,
   "outputs": [],
   "source": [
    "def transform_chains_fromvh(chains, t):\n",
    "    chains_t=[]\n",
    "    for i, clust in enumerate(chains):\n",
    "        _t=[]\n",
    "        for j in clust:\n",
    "            _ = t[i] @ np.asarray(coor_list[j])\n",
    "            _t.append(np.asarray(_).tolist())\n",
    "        chains_t.append(_t)\n",
    "    return chains_t\n",
    "\n",
    "p_tt = transform_chains_fromvh(bb, huy)"
   ],
   "metadata": {
    "collapsed": false,
    "pycharm": {
     "name": "#%%\n"
    }
   }
  },
  {
   "cell_type": "markdown",
   "source": [
    "РАЗГРУППИРОВКА ТОЧЕК ПО ПАТТЕРНУ"
   ],
   "metadata": {
    "collapsed": false
   }
  },
  {
   "cell_type": "code",
   "execution_count": 29,
   "outputs": [],
   "source": [
    "def transform_chains_vh(chains, t):\n",
    "    chains_t=[]\n",
    "    for i, clust in enumerate(chains):\n",
    "        _t=[]\n",
    "        for j in clust:\n",
    "            _ = t.Vh[i] @ np.asarray(coor_list[j])\n",
    "            _t.append(np.asarray(_).tolist())\n",
    "        chains_t.append(_t)\n",
    "    return chains_t\n",
    "\n",
    "p_t = transform_chains_vh(bb, pck)"
   ],
   "metadata": {
    "collapsed": false,
    "pycharm": {
     "name": "#%%\n"
    }
   }
  },
  {
   "cell_type": "code",
   "execution_count": 30,
   "outputs": [
    {
     "name": "stdout",
     "output_type": "stream",
     "text": [
      "tensor([67.1437, 32.2108]) [-92.71447284125091, 102.81105698298826]\n",
      "tensor([67.1437, 32.2108]) [-87.40342210331511, 134.92088742430636]\n",
      "tensor([67.1437, 32.2108]) [-154.33670074902503, 137.46875075577796]\n",
      "tensor([141.5269,  28.6809]) [133.2948663140078, 157.95555342686373]\n",
      "tensor([141.5269,  28.6809]) [274.70191488695633, 159.13584455028771]\n",
      "tensor([141.5269,  28.6809]) [268.87773080915366, 187.79248394991424]\n",
      "tensor([77.6717]) [-308.2425111087469, -112.01703665858616]\n"
     ]
    },
    {
     "ename": "ValueError",
     "evalue": "shapes (1,) and (2,) not aligned: 1 (dim 0) != 2 (dim 0)",
     "output_type": "error",
     "traceback": [
      "\u001B[0;31m---------------------------------------------------------------------------\u001B[0m",
      "\u001B[0;31mValueError\u001B[0m                                Traceback (most recent call last)",
      "Input \u001B[0;32mIn [30]\u001B[0m, in \u001B[0;36m<cell line: 12>\u001B[0;34m()\u001B[0m\n\u001B[1;32m      9\u001B[0m         chains_t\u001B[38;5;241m.\u001B[39mappend(_t)\n\u001B[1;32m     10\u001B[0m     \u001B[38;5;28;01mreturn\u001B[39;00m chains_t\n\u001B[0;32m---> 12\u001B[0m s_p_t \u001B[38;5;241m=\u001B[39m \u001B[43mtransform_chains_S\u001B[49m\u001B[43m(\u001B[49m\u001B[43mp_t\u001B[49m\u001B[43m,\u001B[49m\u001B[43m \u001B[49m\u001B[43mpck\u001B[49m\u001B[43m)\u001B[49m\n\u001B[1;32m     13\u001B[0m s_p_t\n",
      "Input \u001B[0;32mIn [30]\u001B[0m, in \u001B[0;36mtransform_chains_S\u001B[0;34m(points, t)\u001B[0m\n\u001B[1;32m      5\u001B[0m \u001B[38;5;28;01mfor\u001B[39;00m j, v \u001B[38;5;129;01min\u001B[39;00m \u001B[38;5;28menumerate\u001B[39m(clust):\n\u001B[1;32m      6\u001B[0m     \u001B[38;5;28mprint\u001B[39m (t\u001B[38;5;241m.\u001B[39mS[i],v)\n\u001B[0;32m----> 7\u001B[0m     _ \u001B[38;5;241m=\u001B[39m \u001B[43mnp\u001B[49m\u001B[38;5;241;43m.\u001B[39;49m\u001B[43mdot\u001B[49m\u001B[43m(\u001B[49m\u001B[43mt\u001B[49m\u001B[38;5;241;43m.\u001B[39;49m\u001B[43mS\u001B[49m\u001B[43m[\u001B[49m\u001B[43mi\u001B[49m\u001B[43m]\u001B[49m\u001B[43m,\u001B[49m\u001B[43mnp\u001B[49m\u001B[38;5;241;43m.\u001B[39;49m\u001B[43masarray\u001B[49m\u001B[43m(\u001B[49m\u001B[43mv\u001B[49m\u001B[43m)\u001B[49m\u001B[43m)\u001B[49m\n\u001B[1;32m      8\u001B[0m     _t\u001B[38;5;241m.\u001B[39mappend(np\u001B[38;5;241m.\u001B[39masarray(_)\u001B[38;5;241m.\u001B[39mtolist())\n\u001B[1;32m      9\u001B[0m chains_t\u001B[38;5;241m.\u001B[39mappend(_t)\n",
      "File \u001B[0;32m<__array_function__ internals>:5\u001B[0m, in \u001B[0;36mdot\u001B[0;34m(*args, **kwargs)\u001B[0m\n",
      "\u001B[0;31mValueError\u001B[0m: shapes (1,) and (2,) not aligned: 1 (dim 0) != 2 (dim 0)"
     ]
    }
   ],
   "source": [
    "\n",
    "def transform_chains_S(points, t):\n",
    "    chains_t=[]\n",
    "    for i, clust in enumerate(points):\n",
    "        _t=[]\n",
    "        for j, v in enumerate(clust):\n",
    "            print (t.S[i],v)\n",
    "            _ = np.dot(t.S[i],np.asarray(v))\n",
    "            _t.append(np.asarray(_).tolist())\n",
    "        chains_t.append(_t)\n",
    "    return chains_t\n",
    "\n",
    "s_p_t = transform_chains_S(p_t, pck)\n",
    "s_p_t"
   ],
   "metadata": {
    "collapsed": false,
    "pycharm": {
     "name": "#%%\n"
    }
   }
  },
  {
   "cell_type": "code",
   "execution_count": null,
   "outputs": [],
   "source": [],
   "metadata": {
    "collapsed": false,
    "pycharm": {
     "name": "#%%\n"
    }
   }
  },
  {
   "cell_type": "markdown",
   "source": [
    "ЦЕПОЧКИ ВЕКТОРОВ (ВХОДЯТ ТОЧКИ С ЗАДАННЫМ ПАТТЕРНОМ)"
   ],
   "metadata": {
    "collapsed": false
   }
  },
  {
   "cell_type": "code",
   "execution_count": 31,
   "outputs": [
    {
     "data": {
      "text/plain": "[[[-5.311050737935801, -32.109830441318095],\n  [66.93327864570992, -2.5478633314716035]],\n [[-141.40704857294853, -1.1802911234239843],\n  [5.82418407780267, -28.656639399626528]],\n [[77.67172704811145, 3.708712242200818e-06]],\n [[53.128549650116014, -4.413246813328442e-06]],\n [[35.71231137603547, 15.8170071518214],\n  [2.063321492594696, 21.445459663154395],\n  [-34.05900691935301, 34.71287706449641],\n  [-42.5357515852707, 8.52080573511472],\n  [-20.38204677485379, -45.9038407559446]],\n [[-14.383171343968797, 59.27658582963363],\n  [-257.94700772352974, -3.453986552428887],\n  [0.7402856985670496, -51.81765941214286]],\n [[-57.51357032147121, -5.27846054865222e-06]],\n [[132.36433659499932, 7.636941177224799e-07]],\n [[141.62947737064687, 3.5088328331767116e-06]],\n [[85.14803275661086, 5.839113441652444e-07]],\n [[-13.779334141363051, 10.003339403712744],\n  [-0.21123649374294473, -23.63117370514385],\n  [49.77770817980195, 2.6688161899307943]],\n [[-27.12418836786469, 32.56721499354603],\n  [-93.11485432037597, -9.48677535871525]],\n [[-66.53600372072964, 6.5211246682692945],\n  [-19.37331916374785, -22.396243160165568]],\n [[-20.852920540389846, 40.723877155293394],\n  [-163.58841186152563, -6.582797257326433],\n  [2.458165719383601, -92.61383280160413]],\n [[-2.6577899546811636, -121.73120856224614],\n  [191.99458419300686, -1.6851367196555884]],\n [[-174.25133228927217, -0.08687943703733936],\n  [0.3964147470497892, -38.19238416344126]],\n [[41.76039835491969, -65.44946118983965],\n  [129.42421438031153, 21.118117463170062]],\n [[-26.24784124988316, 37.950321632637085],\n  [-51.59074042335815, -40.035853173547935],\n  [-1.4895212919160077, -49.93199051610399],\n  [94.77869513416906, -12.067482209153525]]]"
     },
     "execution_count": 31,
     "metadata": {},
     "output_type": "execute_result"
    }
   ],
   "source": [
    "def chains_ (point_list):\n",
    "    vectors =[]\n",
    "    for i in point_list:\n",
    "        temp =[]\n",
    "        for l in range(len(i)-1):\n",
    "            vec = [i[l][0] - i[l+1][0], i[l][1] - i[l+1][1]]\n",
    "            temp.append(vec)\n",
    "        vectors.append(temp)\n",
    "    return vectors\n",
    "\n",
    "v_t = chains_(p_tt)\n",
    "# not transformed vec\n",
    "v_ = res_vec\n",
    "v_t"
   ],
   "metadata": {
    "collapsed": false,
    "pycharm": {
     "name": "#%%\n"
    }
   }
  },
  {
   "cell_type": "markdown",
   "source": [
    "замер угла между исходными векторами и транформированными"
   ],
   "metadata": {
    "collapsed": false
   }
  },
  {
   "cell_type": "code",
   "execution_count": 32,
   "outputs": [
    {
     "name": "stdout",
     "output_type": "stream",
     "text": [
      "[1.4557364255919356, 0.08833082543292194, 2.7921569456594812, 2.4015379932848413, 1.1650929429207746, 1.9354890896991184, 1.958232790774507, 2.774664061577831, 2.821984484836698, 3.0060313409264254, 0.500763585235646, 2.5283667942293695, 3.045446638819189, 2.804346131261661, 1.952269193869609, 2.778321261132088, 1.4127175920087731, 1.3670425611413168]\n"
     ]
    }
   ],
   "source": [
    "def unit_vector(vector):\n",
    "    return vector / np.linalg.norm(vector)\n",
    "\n",
    "def angle_between(v1, v2):\n",
    "    v1_u = unit_vector(v1)\n",
    "    v2_u = unit_vector(v2)\n",
    "    return np.arccos(np.clip(np.dot(v1_u, v2_u), -1.0, 1.0))\n",
    "\n",
    "\n",
    "ang =[]\n",
    "for j, i in enumerate(v_t):\n",
    "    for ind, val in enumerate(i):\n",
    "        ang.append(angle_between(val, v_[j][ind]))\n",
    "        break\n",
    "\n",
    "print(ang)\n",
    "\n"
   ],
   "metadata": {
    "collapsed": false,
    "pycharm": {
     "name": "#%%\n"
    }
   }
  },
  {
   "cell_type": "markdown",
   "source": [
    "Clusters"
   ],
   "metadata": {
    "collapsed": false
   }
  },
  {
   "cell_type": "code",
   "execution_count": 66,
   "outputs": [
    {
     "name": "stdout",
     "output_type": "stream",
     "text": [
      "[3, 0, 5, 5, 2, 4, 4, 5, 5, 6, 1, 5, 6, 5, 4, 5, 3, 3]\n"
     ]
    }
   ],
   "source": [
    "\n",
    "scope = np.asarray(ang)/np.linalg.norm(ang)\n",
    "r = np.round(scope*len(ang),0)\n",
    "labels=[]\n",
    "l = np.unique(r).tolist()\n",
    "for i in r:\n",
    "    labels.append(l.index(i))\n",
    "print(labels)"
   ],
   "metadata": {
    "collapsed": false,
    "pycharm": {
     "name": "#%%\n"
    }
   }
  },
  {
   "cell_type": "code",
   "execution_count": 64,
   "outputs": [
    {
     "name": "stdout",
     "output_type": "stream",
     "text": [
      "tensor(0.) tensor(0.)\n",
      "tensor([[1.0000, 0.0000],\n",
      "        [0.0000, 1.0000]])\n",
      "tensor(1.4092) tensor(1.9731)\n",
      "tensor([[ 0.0267, -0.9996],\n",
      "        [ 0.9996,  0.0267]])\n",
      "tensor(1.2971) tensor(1.7524)\n",
      "tensor([[ 0.2322,  0.9727],\n",
      "        [-0.9727,  0.2322]])\n",
      "tensor(2.0164) tensor(2.6493)\n",
      "tensor([[-0.7546,  0.6561],\n",
      "        [-0.6561, -0.7546]])\n",
      "tensor(2.2743) tensor(2.7331)\n",
      "tensor([[-0.8674, -0.4975],\n",
      "        [ 0.4975, -0.8674]])\n",
      "tensor(2.2944) tensor(2.8064)\n",
      "tensor([[-0.9690,  0.2470],\n",
      "        [-0.2470, -0.9690]])\n",
      "tensor(2.2849) tensor(2.8022)\n",
      "tensor([[-0.9631,  0.2690],\n",
      "        [-0.2690, -0.9631]])\n",
      "tensor(1.2865) tensor(1.7330)\n",
      "tensor([[ 0.2492,  0.9684],\n",
      "        [-0.9684,  0.2492]])\n",
      "tensor(1.7030) tensor(2.3842)\n",
      "tensor([[-0.4211,  0.9070],\n",
      "        [-0.9070, -0.4211]])\n",
      "tensor(1.4207) tensor(1.9794)\n",
      "tensor([[ 0.0205,  0.9998],\n",
      "        [-0.9998,  0.0205]])\n",
      "tensor(0.9500) tensor(1.2998)\n",
      "tensor([[ 0.5776, -0.8163],\n",
      "        [ 0.8163,  0.5776]])\n",
      "tensor(1.9214) tensor(2.5812)\n",
      "tensor([[-0.6656,  0.7463],\n",
      "        [-0.7463, -0.6656]])\n",
      "tensor(1.5555) tensor(2.1997)\n",
      "tensor([[-0.2096,  0.9778],\n",
      "        [-0.9778, -0.2096]])\n",
      "tensor(1.3045) tensor(1.7659)\n",
      "tensor([[ 0.2204,  0.9754],\n",
      "        [-0.9754,  0.2204]])\n",
      "tensor(2.2874) tensor(2.8034)\n",
      "tensor([[-0.9647,  0.2633],\n",
      "        [-0.2633, -0.9647]])\n",
      "tensor(1.2887) tensor(1.7370)\n",
      "tensor([[ 0.2457,  0.9694],\n",
      "        [-0.9694,  0.2457]])\n",
      "tensor(2.3557) tensor(2.8021)\n",
      "tensor([[-0.9629, -0.2698],\n",
      "        [ 0.2698, -0.9629]])\n",
      "tensor(0.1041) tensor(0.1254)\n",
      "tensor([[ 0.9961, -0.0886],\n",
      "        [ 0.0886,  0.9961]])\n",
      "end\n",
      "\n",
      "tensor(1.4092) tensor(1.9731)\n",
      "tensor([[ 0.0267,  0.9996],\n",
      "        [-0.9996,  0.0267]])\n",
      "tensor(0.) tensor(0.)\n",
      "tensor([[1., 0.],\n",
      "        [0., 1.]])\n",
      "tensor(2.3033) tensor(2.8044)\n",
      "tensor([[-0.9661,  0.2581],\n",
      "        [-0.2581, -0.9661]])\n",
      "tensor(2.0694) tensor(2.5893)\n",
      "tensor([[-0.6761, -0.7368],\n",
      "        [ 0.7368, -0.6761]])\n",
      "tensor(1.0496) tensor(1.4503)\n",
      "tensor([[ 0.4742, -0.8804],\n",
      "        [ 0.8804,  0.4742]])\n",
      "tensor(1.6670) tensor(2.2564)\n",
      "tensor([[-0.2729, -0.9621],\n",
      "        [ 0.9621, -0.2729]])\n",
      "tensor(1.6876) tensor(2.2757)\n",
      "tensor([[-0.2947, -0.9556],\n",
      "        [ 0.9556, -0.2947]])\n",
      "tensor(2.2963) tensor(2.8010)\n",
      "tensor([[-0.9614,  0.2750],\n",
      "        [-0.2750, -0.9614]])\n",
      "tensor(2.3137) tensor(2.7698)\n",
      "tensor([[-0.9179, -0.3967],\n",
      "        [ 0.3967, -0.9179]])\n",
      "tensor(2.3630) tensor(2.8276)\n",
      "tensor([[-0.9989,  0.0472],\n",
      "        [-0.0472, -0.9989]])\n",
      "tensor(0.6762) tensor(0.8211)\n",
      "tensor([[ 0.8314,  0.5556],\n",
      "        [-0.5556,  0.8314]])\n",
      "tensor(2.1599) tensor(2.6562)\n",
      "tensor([[-0.7638, -0.6454],\n",
      "        [ 0.6454, -0.7638]])\n",
      "tensor(2.3683) tensor(2.8164)\n",
      "tensor([[-0.9830, -0.1834],\n",
      "        [ 0.1834, -0.9830]])\n",
      "tensor(2.3080) tensor(2.8065)\n",
      "tensor([[-0.9692,  0.2464],\n",
      "        [-0.2464, -0.9692]])\n",
      "tensor(1.6822) tensor(2.2706)\n",
      "tensor([[-0.2890, -0.9573],\n",
      "        [ 0.9573, -0.2890]])\n",
      "tensor(2.2978) tensor(2.8017)\n",
      "tensor([[-0.9624,  0.2715],\n",
      "        [-0.2715, -0.9624]])\n",
      "tensor(1.2312) tensor(1.7391)\n",
      "tensor([[ 0.2439, -0.9698],\n",
      "        [ 0.9698,  0.2439]])\n",
      "tensor(1.3570) tensor(1.8813)\n",
      "tensor([[ 0.1152,  0.9933],\n",
      "        [-0.9933,  0.1152]])\n",
      "end\n",
      "\n",
      "tensor(1.2971) tensor(1.7524)\n",
      "tensor([[ 0.2322, -0.9727],\n",
      "        [ 0.9727,  0.2322]])\n",
      "tensor(2.3033) tensor(2.8044)\n",
      "tensor([[-0.9661, -0.2581],\n",
      "        [ 0.2581, -0.9661]])\n",
      "tensor(0.) tensor(0.)\n",
      "tensor([[ 1.0000e+00, -2.9802e-08],\n",
      "        [-2.9802e-08,  1.0000e+00]])\n",
      "tensor(1.2095) tensor(1.4657)\n",
      "tensor([[ 0.4629,  0.8864],\n",
      "        [-0.8864,  0.4629]])\n",
      "tensor(1.8374) tensor(2.5965)\n",
      "tensor([[-0.6854,  0.7282],\n",
      "        [-0.7282, -0.6854]])\n",
      "tensor(1.5344) tensor(1.9847)\n",
      "tensor([[ 0.0153,  0.9999],\n",
      "        [-0.9999,  0.0153]])\n",
      "tensor(1.5225) tensor(1.9616)\n",
      "tensor([[ 0.0380,  0.9993],\n",
      "        [-0.9993,  0.0380]])\n",
      "tensor(0.0196) tensor(0.0247)\n",
      "tensor([[ 0.9998, -0.0175],\n",
      "        [ 0.0175,  0.9998]])\n",
      "tensor(0.7808) tensor(0.9286)\n",
      "tensor([[ 0.7844,  0.6202],\n",
      "        [-0.6202,  0.7844]])\n",
      "tensor(0.2467) tensor(0.3019)\n",
      "tensor([[ 0.9772,  0.2122],\n",
      "        [-0.2122,  0.9772]])\n",
      "tensor(2.1605) tensor(2.5767)\n",
      "tensor([[-0.6598, -0.7514],\n",
      "        [ 0.7514, -0.6598]])\n",
      "tensor(1.0916) tensor(1.3094)\n",
      "tensor([[ 0.5713,  0.8207],\n",
      "        [-0.8207,  0.5713]])\n",
      "tensor(0.5213) tensor(0.6249)\n",
      "tensor([[ 0.9024,  0.4310],\n",
      "        [-0.4310,  0.9024]])\n",
      "tensor(0.0137) tensor(0.0172)\n",
      "tensor([[ 0.9999,  0.0122],\n",
      "        [-0.0122,  0.9999]])\n",
      "tensor(1.5257) tensor(1.9677)\n",
      "tensor([[ 0.0320,  0.9995],\n",
      "        [-0.9995,  0.0320]])\n",
      "tensor(0.0155) tensor(0.0196)\n",
      "tensor([[ 0.9999, -0.0138],\n",
      "        [ 0.0138,  0.9999]])\n",
      "tensor(1.7393) tensor(2.4380)\n",
      "tensor([[-0.4860,  0.8740],\n",
      "        [-0.8740, -0.4860]])\n",
      "tensor(1.3897) tensor(1.8491)\n",
      "tensor([[ 0.1452, -0.9894],\n",
      "        [ 0.9894,  0.1452]])\n",
      "end\n",
      "\n",
      "tensor(2.0164) tensor(2.6493)\n",
      "tensor([[-0.7546, -0.6561],\n",
      "        [ 0.6561, -0.7546]])\n",
      "tensor(2.0694) tensor(2.5893)\n",
      "tensor([[-0.6761,  0.7368],\n",
      "        [-0.7368, -0.6761]])\n",
      "tensor(1.2095) tensor(1.4657)\n",
      "tensor([[ 0.4629, -0.8864],\n",
      "        [ 0.8864,  0.4629]])\n",
      "tensor(0.) tensor(0.)\n",
      "tensor([[ 1.0000e+00, -8.9407e-08],\n",
      "        [-8.9407e-08,  1.0000e+00]])\n",
      "tensor(1.3482) tensor(1.6393)\n",
      "tensor([[ 0.3282,  0.9446],\n",
      "        [-0.9446,  0.3282]])\n",
      "tensor(0.4766) tensor(0.6531)\n",
      "tensor([[ 0.8934,  0.4494],\n",
      "        [-0.4494,  0.8934]])\n",
      "tensor(0.4522) tensor(0.6218)\n",
      "tensor([[ 0.9033,  0.4289],\n",
      "        [-0.4289,  0.9033]])\n",
      "tensor(1.2289) tensor(1.4868)\n",
      "tensor([[ 0.4474, -0.8944],\n",
      "        [ 0.8944,  0.4474]])\n",
      "tensor(0.4404) tensor(0.5902)\n",
      "tensor([[ 0.9129, -0.4082],\n",
      "        [ 0.4082,  0.9129]])\n",
      "tensor(0.9649) tensor(1.1991)\n",
      "tensor([[ 0.6405, -0.7679],\n",
      "        [ 0.7679,  0.6405]])\n",
      "tensor(2.0359) tensor(2.8082)\n",
      "tensor([[-0.9715,  0.2370],\n",
      "        [-0.2370, -0.9715]])\n",
      "tensor(0.1282) tensor(0.1792)\n",
      "tensor([[ 0.9920, -0.1265],\n",
      "        [ 0.1265,  0.9920]])\n",
      "tensor(0.6944) tensor(0.8950)\n",
      "tensor([[ 0.7998, -0.6003],\n",
      "        [ 0.6003,  0.7998]])\n",
      "tensor(1.1959) tensor(1.4509)\n",
      "tensor([[ 0.4737, -0.8807],\n",
      "        [ 0.8807,  0.4737]])\n",
      "tensor(0.4586) tensor(0.6300)\n",
      "tensor([[ 0.9008,  0.4343],\n",
      "        [-0.4343,  0.9008]])\n",
      "tensor(1.2249) tensor(1.4824)\n",
      "tensor([[ 0.4506, -0.8927],\n",
      "        [ 0.8927,  0.4506]])\n",
      "tensor(1.0693) tensor(1.3421)\n",
      "tensor([[ 0.5497,  0.8354],\n",
      "        [-0.8354,  0.5497]])\n",
      "tensor(2.0161) tensor(2.6906)\n",
      "tensor([[-0.8098, -0.5867],\n",
      "        [ 0.5867, -0.8098]])\n",
      "end\n",
      "\n",
      "tensor(2.2743) tensor(2.7331)\n",
      "tensor([[-0.8674,  0.4975],\n",
      "        [-0.4975, -0.8674]])\n",
      "tensor(1.0496) tensor(1.4503)\n",
      "tensor([[ 0.4742,  0.8804],\n",
      "        [-0.8804,  0.4742]])\n",
      "tensor(1.8374) tensor(2.5965)\n",
      "tensor([[-0.6854, -0.7282],\n",
      "        [ 0.7282, -0.6854]])\n",
      "tensor(1.3482) tensor(1.6393)\n",
      "tensor([[ 0.3282, -0.9446],\n",
      "        [ 0.9446,  0.3282]])\n",
      "tensor(0.) tensor(0.)\n",
      "tensor([[1.0000, 0.0000],\n",
      "        [0.0000, 1.0000]])\n",
      "tensor(0.8935) tensor(1.0628)\n",
      "tensor([[ 0.7176, -0.6964],\n",
      "        [ 0.6964,  0.7176]])\n",
      "tensor(0.9186) tensor(1.0925)\n",
      "tensor([[ 0.7016, -0.7126],\n",
      "        [ 0.7126,  0.7016]])\n",
      "tensor(1.8435) tensor(2.6062)\n",
      "tensor([[-0.6980, -0.7161],\n",
      "        [ 0.7161, -0.6980]])\n",
      "tensor(1.6144) tensor(2.0842)\n",
      "tensor([[-0.0860, -0.9963],\n",
      "        [ 0.9963, -0.0860]])\n",
      "tensor(1.7710) tensor(2.4619)\n",
      "tensor([[-0.5152, -0.8571],\n",
      "        [ 0.8571, -0.5152]])\n",
      "tensor(1.6695) tensor(2.0928)\n",
      "tensor([[-0.0949,  0.9955],\n",
      "        [-0.9955, -0.0949]])\n",
      "tensor(1.4442) tensor(1.7821)\n",
      "tensor([[ 0.2060, -0.9785],\n",
      "        [ 0.9785,  0.2060]])\n",
      "tensor(1.7016) tensor(2.2844)\n",
      "tensor([[-0.3046, -0.9525],\n",
      "        [ 0.9525, -0.3046]])\n",
      "tensor(1.8332) tensor(2.5896)\n",
      "tensor([[-0.6765, -0.7365],\n",
      "        [ 0.7365, -0.6765]])\n",
      "tensor(0.9121) tensor(1.0847)\n",
      "tensor([[ 0.7058, -0.7084],\n",
      "        [ 0.7084,  0.7058]])\n",
      "tensor(1.8422) tensor(2.6041)\n",
      "tensor([[-0.6954, -0.7186],\n",
      "        [ 0.7186, -0.6954]])\n",
      "tensor(0.2826) tensor(0.3493)\n",
      "tensor([[ 0.9695, -0.2451],\n",
      "        [ 0.2451,  0.9695]])\n",
      "tensor(2.2573) tensor(2.6981)\n",
      "tensor([[-0.8200,  0.5724],\n",
      "        [-0.5724, -0.8200]])\n",
      "end\n",
      "\n",
      "tensor(2.2944) tensor(2.8064)\n",
      "tensor([[-0.9690, -0.2470],\n",
      "        [ 0.2470, -0.9690]])\n",
      "tensor(1.6670) tensor(2.2564)\n",
      "tensor([[-0.2729,  0.9621],\n",
      "        [-0.9621, -0.2729]])\n",
      "tensor(1.5344) tensor(1.9847)\n",
      "tensor([[ 0.0153, -0.9999],\n",
      "        [ 0.9999,  0.0153]])\n",
      "tensor(0.4766) tensor(0.6531)\n",
      "tensor([[ 0.8934, -0.4494],\n",
      "        [ 0.4494,  0.8934]])\n",
      "tensor(0.8935) tensor(1.0628)\n",
      "tensor([[ 0.7176,  0.6964],\n",
      "        [-0.6964,  0.7176]])\n",
      "tensor(0.) tensor(0.)\n",
      "tensor([[1., 0.],\n",
      "        [0., 1.]])\n",
      "tensor(0.0253) tensor(0.0322)\n",
      "tensor([[ 0.9997, -0.0227],\n",
      "        [ 0.0227,  0.9997]])\n",
      "tensor(1.5526) tensor(2.0022)\n",
      "tensor([[-0.0022, -1.0000],\n",
      "        [ 1.0000, -0.0022]])\n",
      "tensor(0.8582) tensor(1.2130)\n",
      "tensor([[ 0.6321, -0.7749],\n",
      "        [ 0.7749,  0.6321]])\n",
      "tensor(1.3093) tensor(1.7583)\n",
      "tensor([[ 0.2271, -0.9739],\n",
      "        [ 0.9739,  0.2271]])\n",
      "tensor(1.8855) tensor(2.6543)\n",
      "tensor([[-0.7614,  0.6483],\n",
      "        [-0.6483, -0.7614]])\n",
      "tensor(0.5929) tensor(0.8262)\n",
      "tensor([[ 0.8293, -0.5587],\n",
      "        [ 0.5587,  0.8293]])\n",
      "tensor(1.0719) tensor(1.4904)\n",
      "tensor([[ 0.4447, -0.8957],\n",
      "        [ 0.8957,  0.4447]])\n",
      "tensor(1.5216) tensor(1.9724)\n",
      "tensor([[ 0.0274, -0.9996],\n",
      "        [ 0.9996,  0.0274]])\n",
      "tensor(0.0187) tensor(0.0237)\n",
      "tensor([[ 0.9999, -0.0168],\n",
      "        [ 0.0168,  0.9999]])\n",
      "tensor(1.5488) tensor(1.9986)\n",
      "tensor([[ 0.0014, -1.0000],\n",
      "        [ 1.0000,  0.0014]])\n",
      "tensor(0.6114) tensor(0.7309)\n",
      "tensor([[ 0.8664,  0.4993],\n",
      "        [-0.4993,  0.8664]])\n",
      "tensor(2.2797) tensor(2.8193)\n",
      "tensor([[-0.9871, -0.1602],\n",
      "        [ 0.1602, -0.9871]])\n",
      "end\n",
      "\n",
      "tensor(2.2849) tensor(2.8022)\n",
      "tensor([[-0.9631, -0.2690],\n",
      "        [ 0.2690, -0.9631]])\n",
      "tensor(1.6876) tensor(2.2757)\n",
      "tensor([[-0.2947,  0.9556],\n",
      "        [-0.9556, -0.2947]])\n",
      "tensor(1.5225) tensor(1.9616)\n",
      "tensor([[ 0.0380, -0.9993],\n",
      "        [ 0.9993,  0.0380]])\n",
      "tensor(0.4522) tensor(0.6218)\n",
      "tensor([[ 0.9033, -0.4289],\n",
      "        [ 0.4289,  0.9033]])\n",
      "tensor(0.9186) tensor(1.0925)\n",
      "tensor([[ 0.7016,  0.7126],\n",
      "        [-0.7126,  0.7016]])\n",
      "tensor(0.0253) tensor(0.0322)\n",
      "tensor([[ 0.9997,  0.0227],\n",
      "        [-0.0227,  0.9997]])\n",
      "tensor(0.) tensor(0.)\n",
      "tensor([[1.0000e+00, 5.9605e-08],\n",
      "        [5.9605e-08, 1.0000e+00]])\n",
      "tensor(1.5409) tensor(1.9794)\n",
      "tensor([[ 0.0205, -0.9998],\n",
      "        [ 0.9998,  0.0205]])\n",
      "tensor(0.8381) tensor(1.1839)\n",
      "tensor([[ 0.6496, -0.7603],\n",
      "        [ 0.7603,  0.6496]])\n",
      "tensor(1.2955) tensor(1.7330)\n",
      "tensor([[ 0.2492, -0.9684],\n",
      "        [ 0.9684,  0.2492]])\n",
      "tensor(1.8906) tensor(2.6653)\n",
      "tensor([[-0.7759,  0.6308],\n",
      "        [-0.6308, -0.7759]])\n",
      "tensor(0.5694) tensor(0.7954)\n",
      "tensor([[ 0.8418, -0.5397],\n",
      "        [ 0.5397,  0.8418]])\n",
      "tensor(1.0552) tensor(1.4629)\n",
      "tensor([[ 0.4650, -0.8853],\n",
      "        [ 0.8853,  0.4650]])\n",
      "tensor(1.5097) tensor(1.9492)\n",
      "tensor([[ 0.0502, -0.9987],\n",
      "        [ 0.9987,  0.0502]])\n",
      "tensor(0.0066) tensor(0.0084)\n",
      "tensor([[ 1.0000,  0.0060],\n",
      "        [-0.0060,  1.0000]])\n",
      "tensor(1.5371) tensor(1.9757)\n",
      "tensor([[ 0.0242, -0.9997],\n",
      "        [ 0.9997,  0.0242]])\n",
      "tensor(0.6365) tensor(0.7619)\n",
      "tensor([[ 0.8549,  0.5189],\n",
      "        [-0.5189,  0.8549]])\n",
      "tensor(2.2705) tensor(2.8165)\n",
      "tensor([[-0.9832, -0.1827],\n",
      "        [ 0.1827, -0.9832]])\n",
      "end\n",
      "\n",
      "tensor(1.2865) tensor(1.7330)\n",
      "tensor([[ 0.2492, -0.9684],\n",
      "        [ 0.9684,  0.2492]])\n",
      "tensor(2.2963) tensor(2.8010)\n",
      "tensor([[-0.9614, -0.2750],\n",
      "        [ 0.2750, -0.9614]])\n",
      "tensor(0.0196) tensor(0.0247)\n",
      "tensor([[ 0.9998,  0.0175],\n",
      "        [-0.0175,  0.9998]])\n",
      "tensor(1.2289) tensor(1.4868)\n",
      "tensor([[ 0.4474,  0.8944],\n",
      "        [-0.8944,  0.4474]])\n",
      "tensor(1.8435) tensor(2.6062)\n",
      "tensor([[-0.6980,  0.7161],\n",
      "        [-0.7161, -0.6980]])\n",
      "tensor(1.5526) tensor(2.0022)\n",
      "tensor([[-0.0022,  1.0000],\n",
      "        [-1.0000, -0.0022]])\n",
      "tensor(1.5409) tensor(1.9794)\n",
      "tensor([[ 0.0205,  0.9998],\n",
      "        [-0.9998,  0.0205]])\n",
      "tensor(0.) tensor(0.)\n",
      "tensor([[1.0000, 0.0000],\n",
      "        [0.0000, 1.0000]])\n",
      "tensor(0.8003) tensor(0.9520)\n",
      "tensor([[ 0.7734,  0.6339],\n",
      "        [-0.6339,  0.7734]])\n",
      "tensor(0.2662) tensor(0.3265)\n",
      "tensor([[ 0.9734,  0.2293],\n",
      "        [-0.2293,  0.9734]])\n",
      "tensor(2.1532) tensor(2.5664)\n",
      "tensor([[-0.6466, -0.7628],\n",
      "        [ 0.7628, -0.6466]])\n",
      "tensor(1.1111) tensor(1.3313)\n",
      "tensor([[ 0.5569,  0.8306],\n",
      "        [-0.8306,  0.5569]])\n",
      "tensor(0.5408) tensor(0.6491)\n",
      "tensor([[ 0.8947,  0.4467],\n",
      "        [-0.4467,  0.8947]])\n",
      "tensor(0.0333) tensor(0.0420)\n",
      "tensor([[ 0.9996,  0.0297],\n",
      "        [-0.0297,  0.9996]])\n",
      "tensor(1.5440) tensor(1.9854)\n",
      "tensor([[ 0.0145,  0.9999],\n",
      "        [-0.9999,  0.0145]])\n",
      "tensor(0.0041) tensor(0.0052)\n",
      "tensor([[ 1.0000,  0.0037],\n",
      "        [-0.0037,  1.0000]])\n",
      "tensor(1.7511) tensor(2.4505)\n",
      "tensor([[-0.5012,  0.8653],\n",
      "        [-0.8653, -0.5012]])\n",
      "tensor(1.3798) tensor(1.8304)\n",
      "tensor([[ 0.1625, -0.9867],\n",
      "        [ 0.9867,  0.1625]])\n",
      "end\n",
      "\n",
      "tensor(1.7030) tensor(2.3842)\n",
      "tensor([[-0.4211, -0.9070],\n",
      "        [ 0.9070, -0.4211]])\n",
      "tensor(2.3137) tensor(2.7698)\n",
      "tensor([[-0.9179,  0.3967],\n",
      "        [-0.3967, -0.9179]])\n",
      "tensor(0.7808) tensor(0.9286)\n",
      "tensor([[ 0.7844, -0.6202],\n",
      "        [ 0.6202,  0.7844]])\n",
      "tensor(0.4404) tensor(0.5902)\n",
      "tensor([[ 0.9129,  0.4082],\n",
      "        [-0.4082,  0.9129]])\n",
      "tensor(1.6144) tensor(2.0842)\n",
      "tensor([[-0.0860,  0.9963],\n",
      "        [-0.9963, -0.0860]])\n",
      "tensor(0.8582) tensor(1.2130)\n",
      "tensor([[ 0.6321,  0.7749],\n",
      "        [-0.7749,  0.6321]])\n",
      "tensor(0.8381) tensor(1.1839)\n",
      "tensor([[ 0.6496,  0.7603],\n",
      "        [-0.7603,  0.6496]])\n",
      "tensor(0.8003) tensor(0.9520)\n",
      "tensor([[ 0.7734, -0.6339],\n",
      "        [ 0.6339,  0.7734]])\n",
      "tensor(0.) tensor(0.)\n",
      "tensor([[1.0000e+00, 2.9802e-08],\n",
      "        [2.9802e-08, 1.0000e+00]])\n",
      "tensor(0.5344) tensor(0.6382)\n",
      "tensor([[ 0.8982, -0.4396],\n",
      "        [ 0.4396,  0.8982]])\n",
      "tensor(2.1913) tensor(2.8168)\n",
      "tensor([[-0.9836, -0.1802],\n",
      "        [ 0.1802, -0.9836]])\n",
      "tensor(0.3156) tensor(0.4137)\n",
      "tensor([[ 0.9572,  0.2894],\n",
      "        [-0.2894,  0.9572]])\n",
      "tensor(0.2596) tensor(0.3154)\n",
      "tensor([[ 0.9751, -0.2216],\n",
      "        [ 0.2216,  0.9751]])\n",
      "tensor(0.7671) tensor(0.9123)\n",
      "tensor([[ 0.7919, -0.6106],\n",
      "        [ 0.6106,  0.7919]])\n",
      "tensor(0.8434) tensor(1.1916)\n",
      "tensor([[ 0.6450,  0.7641],\n",
      "        [-0.7641,  0.6450]])\n",
      "tensor(0.7962) tensor(0.9471)\n",
      "tensor([[ 0.7758, -0.6310],\n",
      "        [ 0.6310,  0.7758]])\n",
      "tensor(1.3591) tensor(1.8321)\n",
      "tensor([[ 0.1608,  0.9870],\n",
      "        [-0.9870,  0.1608]])\n",
      "tensor(1.7377) tensor(2.4493)\n",
      "tensor([[-0.4998, -0.8661],\n",
      "        [ 0.8661, -0.4998]])\n",
      "end\n",
      "\n",
      "tensor(1.4207) tensor(1.9794)\n",
      "tensor([[ 0.0205, -0.9998],\n",
      "        [ 0.9998,  0.0205]])\n",
      "tensor(2.3630) tensor(2.8276)\n",
      "tensor([[-0.9989, -0.0472],\n",
      "        [ 0.0472, -0.9989]])\n",
      "tensor(0.2467) tensor(0.3019)\n",
      "tensor([[ 0.9772, -0.2122],\n",
      "        [ 0.2122,  0.9772]])\n",
      "tensor(0.9649) tensor(1.1991)\n",
      "tensor([[ 0.6405,  0.7679],\n",
      "        [-0.7679,  0.6405]])\n",
      "tensor(1.7710) tensor(2.4619)\n",
      "tensor([[-0.5152,  0.8571],\n",
      "        [-0.8571, -0.5152]])\n",
      "tensor(1.3093) tensor(1.7583)\n",
      "tensor([[ 0.2271,  0.9739],\n",
      "        [-0.9739,  0.2271]])\n",
      "tensor(1.2955) tensor(1.7330)\n",
      "tensor([[ 0.2492,  0.9684],\n",
      "        [-0.9684,  0.2492]])\n",
      "tensor(0.2662) tensor(0.3265)\n",
      "tensor([[ 0.9734, -0.2293],\n",
      "        [ 0.2293,  0.9734]])\n",
      "tensor(0.5344) tensor(0.6382)\n",
      "tensor([[ 0.8982,  0.4396],\n",
      "        [-0.4396,  0.8982]])\n",
      "tensor(0.) tensor(0.)\n",
      "tensor([[1., 0.],\n",
      "        [0., 1.]])\n",
      "tensor(2.2221) tensor(2.6865)\n",
      "tensor([[-0.8043, -0.5942],\n",
      "        [ 0.5942, -0.8043]])\n",
      "tensor(0.8459) tensor(1.0344)\n",
      "tensor([[ 0.7325,  0.6808],\n",
      "        [-0.6808,  0.7325]])\n",
      "tensor(0.2749) tensor(0.3270)\n",
      "tensor([[ 0.9733,  0.2296],\n",
      "        [-0.2296,  0.9733]])\n",
      "tensor(0.2330) tensor(0.2847)\n",
      "tensor([[ 0.9797, -0.2003],\n",
      "        [ 0.2003,  0.9797]])\n",
      "tensor(1.2992) tensor(1.7396)\n",
      "tensor([[ 0.2434,  0.9699],\n",
      "        [-0.9699,  0.2434]])\n",
      "tensor(0.2621) tensor(0.3213)\n",
      "tensor([[ 0.9742, -0.2257],\n",
      "        [ 0.2257,  0.9742]])\n",
      "tensor(1.6061) tensor(2.2711)\n",
      "tensor([[-0.2894,  0.9572],\n",
      "        [-0.9572, -0.2894]])\n",
      "tensor(1.5005) tensor(2.0670)\n",
      "tensor([[-0.0681, -0.9977],\n",
      "        [ 0.9977, -0.0681]])\n",
      "end\n",
      "\n",
      "tensor(0.9500) tensor(1.2998)\n",
      "tensor([[ 0.5776,  0.8163],\n",
      "        [-0.8163,  0.5776]])\n",
      "tensor(0.6762) tensor(0.8211)\n",
      "tensor([[ 0.8314, -0.5556],\n",
      "        [ 0.5556,  0.8314]])\n",
      "tensor(2.1605) tensor(2.5767)\n",
      "tensor([[-0.6598,  0.7514],\n",
      "        [-0.7514, -0.6598]])\n",
      "tensor(2.0359) tensor(2.8082)\n",
      "tensor([[-0.9715, -0.2370],\n",
      "        [ 0.2370, -0.9715]])\n",
      "tensor(1.6695) tensor(2.0928)\n",
      "tensor([[-0.0949, -0.9955],\n",
      "        [ 0.9955, -0.0949]])\n",
      "tensor(1.8855) tensor(2.6543)\n",
      "tensor([[-0.7614, -0.6483],\n",
      "        [ 0.6483, -0.7614]])\n",
      "tensor(1.8906) tensor(2.6653)\n",
      "tensor([[-0.7759, -0.6308],\n",
      "        [ 0.6308, -0.7759]])\n",
      "tensor(2.1532) tensor(2.5664)\n",
      "tensor([[-0.6466,  0.7628],\n",
      "        [-0.7628, -0.6466]])\n",
      "tensor(2.1913) tensor(2.8168)\n",
      "tensor([[-0.9836,  0.1802],\n",
      "        [-0.1802, -0.9836]])\n",
      "tensor(2.2221) tensor(2.6865)\n",
      "tensor([[-0.8043,  0.5942],\n",
      "        [-0.5942, -0.8043]])\n",
      "tensor(0.) tensor(0.)\n",
      "tensor([[1., 0.],\n",
      "        [0., 1.]])\n",
      "tensor(2.0876) tensor(2.8240)\n",
      "tensor([[-0.9937, -0.1122],\n",
      "        [ 0.1122, -0.9937]])\n",
      "tensor(2.2319) tensor(2.7707)\n",
      "tensor([[-0.9193,  0.3937],\n",
      "        [-0.3937, -0.9193]])\n",
      "tensor(2.1654) tensor(2.5838)\n",
      "tensor([[-0.6689,  0.7433],\n",
      "        [-0.7433, -0.6689]])\n",
      "tensor(1.8893) tensor(2.6625)\n",
      "tensor([[-0.7722, -0.6354],\n",
      "        [ 0.6354, -0.7722]])\n",
      "tensor(2.1548) tensor(2.5686)\n",
      "tensor([[-0.6494,  0.7605],\n",
      "        [-0.7605, -0.6494]])\n",
      "tensor(1.7700) tensor(2.3117)\n",
      "tensor([[-0.3360, -0.9419],\n",
      "        [ 0.9419, -0.3360]])\n",
      "tensor(0.8569) tensor(1.1872)\n",
      "tensor([[ 0.6477,  0.7619],\n",
      "        [-0.7619,  0.6477]])\n",
      "end\n",
      "\n",
      "tensor(1.9214) tensor(2.5812)\n",
      "tensor([[-0.6656, -0.7463],\n",
      "        [ 0.7463, -0.6656]])\n",
      "tensor(2.1599) tensor(2.6562)\n",
      "tensor([[-0.7638,  0.6454],\n",
      "        [-0.6454, -0.7638]])\n",
      "tensor(1.0916) tensor(1.3094)\n",
      "tensor([[ 0.5713, -0.8207],\n",
      "        [ 0.8207,  0.5713]])\n",
      "tensor(0.1282) tensor(0.1792)\n",
      "tensor([[ 0.9920,  0.1265],\n",
      "        [-0.1265,  0.9920]])\n",
      "tensor(1.4442) tensor(1.7821)\n",
      "tensor([[ 0.2060,  0.9785],\n",
      "        [-0.9785,  0.2060]])\n",
      "tensor(0.5929) tensor(0.8262)\n",
      "tensor([[ 0.8293,  0.5587],\n",
      "        [-0.5587,  0.8293]])\n",
      "tensor(0.5694) tensor(0.7954)\n",
      "tensor([[ 0.8418,  0.5397],\n",
      "        [-0.5397,  0.8418]])\n",
      "tensor(1.1111) tensor(1.3313)\n",
      "tensor([[ 0.5569, -0.8306],\n",
      "        [ 0.8306,  0.5569]])\n",
      "tensor(0.3156) tensor(0.4137)\n",
      "tensor([[ 0.9572, -0.2894],\n",
      "        [ 0.2894,  0.9572]])\n",
      "tensor(0.8459) tensor(1.0344)\n",
      "tensor([[ 0.7325, -0.6808],\n",
      "        [ 0.6808,  0.7325]])\n",
      "tensor(2.0876) tensor(2.8240)\n",
      "tensor([[-0.9937,  0.1122],\n",
      "        [-0.1122, -0.9937]])\n",
      "tensor(0.) tensor(0.)\n",
      "tensor([[1., 0.],\n",
      "        [0., 1.]])\n",
      "tensor(0.5729) tensor(0.7231)\n",
      "tensor([[ 0.8693, -0.4943],\n",
      "        [ 0.4943,  0.8693]])\n",
      "tensor(1.0780) tensor(1.2941)\n",
      "tensor([[ 0.5813, -0.8137],\n",
      "        [ 0.8137,  0.5813]])\n",
      "tensor(0.5755) tensor(0.8035)\n",
      "tensor([[ 0.8386,  0.5448],\n",
      "        [-0.5448,  0.8386]])\n",
      "tensor(1.1070) tensor(1.3268)\n",
      "tensor([[ 0.5599, -0.8285],\n",
      "        [ 0.8285,  0.5599]])\n",
      "tensor(1.1689) tensor(1.4972)\n",
      "tensor([[ 0.4396,  0.8982],\n",
      "        [-0.8982,  0.4396]])\n",
      "tensor(1.9293) tensor(2.6299)\n",
      "tensor([[-0.7291, -0.6844],\n",
      "        [ 0.6844, -0.7291]])\n",
      "end\n",
      "\n",
      "tensor(1.5555) tensor(2.1997)\n",
      "tensor([[-0.2096, -0.9778],\n",
      "        [ 0.9778, -0.2096]])\n",
      "tensor(2.3683) tensor(2.8164)\n",
      "tensor([[-0.9830,  0.1834],\n",
      "        [-0.1834, -0.9830]])\n",
      "tensor(0.5213) tensor(0.6249)\n",
      "tensor([[ 0.9024, -0.4310],\n",
      "        [ 0.4310,  0.9024]])\n",
      "tensor(0.6944) tensor(0.8950)\n",
      "tensor([[ 0.7998,  0.6003],\n",
      "        [-0.6003,  0.7998]])\n",
      "tensor(1.7016) tensor(2.2844)\n",
      "tensor([[-0.3046,  0.9525],\n",
      "        [-0.9525, -0.3046]])\n",
      "tensor(1.0719) tensor(1.4904)\n",
      "tensor([[ 0.4447,  0.8957],\n",
      "        [-0.8957,  0.4447]])\n",
      "tensor(1.0552) tensor(1.4629)\n",
      "tensor([[ 0.4650,  0.8853],\n",
      "        [-0.8853,  0.4650]])\n",
      "tensor(0.5408) tensor(0.6491)\n",
      "tensor([[ 0.8947, -0.4467],\n",
      "        [ 0.4467,  0.8947]])\n",
      "tensor(0.2596) tensor(0.3154)\n",
      "tensor([[ 0.9751,  0.2216],\n",
      "        [-0.2216,  0.9751]])\n",
      "tensor(0.2749) tensor(0.3270)\n",
      "tensor([[ 0.9733, -0.2296],\n",
      "        [ 0.2296,  0.9733]])\n",
      "tensor(2.2319) tensor(2.7707)\n",
      "tensor([[-0.9193, -0.3937],\n",
      "        [ 0.3937, -0.9193]])\n",
      "tensor(0.5729) tensor(0.7231)\n",
      "tensor([[ 0.8693,  0.4943],\n",
      "        [-0.4943,  0.8693]])\n",
      "tensor(0.) tensor(0.)\n",
      "tensor([[1.0000, 0.0000],\n",
      "        [0.0000, 1.0000]])\n",
      "tensor(0.5077) tensor(0.6081)\n",
      "tensor([[ 0.9075, -0.4200],\n",
      "        [ 0.4200,  0.9075]])\n",
      "tensor(1.0596) tensor(1.4701)\n",
      "tensor([[ 0.4597,  0.8881],\n",
      "        [-0.8881,  0.4597]])\n",
      "tensor(0.5368) tensor(0.6440)\n",
      "tensor([[ 0.8963, -0.4434],\n",
      "        [ 0.4434,  0.8963]])\n",
      "tensor(1.4798) tensor(2.0610)\n",
      "tensor([[-0.0619,  0.9981],\n",
      "        [-0.9981, -0.0619]])\n",
      "tensor(1.6142) tensor(2.2763)\n",
      "tensor([[-0.2954, -0.9554],\n",
      "        [ 0.9554, -0.2954]])\n",
      "end\n",
      "\n",
      "tensor(1.3045) tensor(1.7659)\n",
      "tensor([[ 0.2204, -0.9754],\n",
      "        [ 0.9754,  0.2204]])\n",
      "tensor(2.3080) tensor(2.8065)\n",
      "tensor([[-0.9692, -0.2464],\n",
      "        [ 0.2464, -0.9692]])\n",
      "tensor(0.0137) tensor(0.0172)\n",
      "tensor([[ 0.9999, -0.0122],\n",
      "        [ 0.0122,  0.9999]])\n",
      "tensor(1.1959) tensor(1.4509)\n",
      "tensor([[ 0.4737,  0.8807],\n",
      "        [-0.8807,  0.4737]])\n",
      "tensor(1.8332) tensor(2.5896)\n",
      "tensor([[-0.6765,  0.7365],\n",
      "        [-0.7365, -0.6765]])\n",
      "tensor(1.5216) tensor(1.9724)\n",
      "tensor([[ 0.0274,  0.9996],\n",
      "        [-0.9996,  0.0274]])\n",
      "tensor(1.5097) tensor(1.9492)\n",
      "tensor([[ 0.0502,  0.9987],\n",
      "        [-0.9987,  0.0502]])\n",
      "tensor(0.0333) tensor(0.0420)\n",
      "tensor([[ 0.9996, -0.0297],\n",
      "        [ 0.0297,  0.9996]])\n",
      "tensor(0.7671) tensor(0.9123)\n",
      "tensor([[ 0.7919,  0.6106],\n",
      "        [-0.6106,  0.7919]])\n",
      "tensor(0.2330) tensor(0.2847)\n",
      "tensor([[ 0.9797,  0.2003],\n",
      "        [-0.2003,  0.9797]])\n",
      "tensor(2.1654) tensor(2.5838)\n",
      "tensor([[-0.6689, -0.7433],\n",
      "        [ 0.7433, -0.6689]])\n",
      "tensor(1.0780) tensor(1.2941)\n",
      "tensor([[ 0.5813,  0.8137],\n",
      "        [-0.8137,  0.5813]])\n",
      "tensor(0.5077) tensor(0.6081)\n",
      "tensor([[ 0.9075,  0.4200],\n",
      "        [-0.4200,  0.9075]])\n",
      "tensor(0.) tensor(0.)\n",
      "tensor([[1., 0.],\n",
      "        [0., 1.]])\n",
      "tensor(1.5129) tensor(1.9553)\n",
      "tensor([[ 0.0442,  0.9990],\n",
      "        [-0.9990,  0.0442]])\n",
      "tensor(0.0292) tensor(0.0368)\n",
      "tensor([[ 0.9997, -0.0260],\n",
      "        [ 0.0260,  0.9997]])\n",
      "tensor(1.7312) tensor(2.4293)\n",
      "tensor([[-0.4753,  0.8798],\n",
      "        [-0.8798, -0.4753]])\n",
      "tensor(1.3965) tensor(1.8622)\n",
      "tensor([[ 0.1331, -0.9911],\n",
      "        [ 0.9911,  0.1331]])\n",
      "end\n",
      "\n",
      "tensor(2.2874) tensor(2.8034)\n",
      "tensor([[-0.9647, -0.2633],\n",
      "        [ 0.2633, -0.9647]])\n",
      "tensor(1.6822) tensor(2.2706)\n",
      "tensor([[-0.2890,  0.9573],\n",
      "        [-0.9573, -0.2890]])\n",
      "tensor(1.5257) tensor(1.9677)\n",
      "tensor([[ 0.0320, -0.9995],\n",
      "        [ 0.9995,  0.0320]])\n",
      "tensor(0.4586) tensor(0.6300)\n",
      "tensor([[ 0.9008, -0.4343],\n",
      "        [ 0.4343,  0.9008]])\n",
      "tensor(0.9121) tensor(1.0847)\n",
      "tensor([[ 0.7058,  0.7084],\n",
      "        [-0.7084,  0.7058]])\n",
      "tensor(0.0187) tensor(0.0237)\n",
      "tensor([[ 0.9999,  0.0168],\n",
      "        [-0.0168,  0.9999]])\n",
      "tensor(0.0066) tensor(0.0084)\n",
      "tensor([[ 1.0000, -0.0060],\n",
      "        [ 0.0060,  1.0000]])\n",
      "tensor(1.5440) tensor(1.9854)\n",
      "tensor([[ 0.0145, -0.9999],\n",
      "        [ 0.9999,  0.0145]])\n",
      "tensor(0.8434) tensor(1.1916)\n",
      "tensor([[ 0.6450, -0.7641],\n",
      "        [ 0.7641,  0.6450]])\n",
      "tensor(1.2992) tensor(1.7396)\n",
      "tensor([[ 0.2434, -0.9699],\n",
      "        [ 0.9699,  0.2434]])\n",
      "tensor(1.8893) tensor(2.6625)\n",
      "tensor([[-0.7722,  0.6354],\n",
      "        [-0.6354, -0.7722]])\n",
      "tensor(0.5755) tensor(0.8035)\n",
      "tensor([[ 0.8386, -0.5448],\n",
      "        [ 0.5448,  0.8386]])\n",
      "tensor(1.0596) tensor(1.4701)\n",
      "tensor([[ 0.4597, -0.8881],\n",
      "        [ 0.8881,  0.4597]])\n",
      "tensor(1.5129) tensor(1.9553)\n",
      "tensor([[ 0.0442, -0.9990],\n",
      "        [ 0.9990,  0.0442]])\n",
      "tensor(0.) tensor(0.)\n",
      "tensor([[1.0000, 0.0000],\n",
      "        [0.0000, 1.0000]])\n",
      "tensor(1.5402) tensor(1.9817)\n",
      "tensor([[ 0.0182, -0.9998],\n",
      "        [ 0.9998,  0.0182]])\n",
      "tensor(0.6300) tensor(0.7538)\n",
      "tensor([[ 0.8579,  0.5138],\n",
      "        [-0.5138,  0.8579]])\n",
      "tensor(2.2730) tensor(2.8173)\n",
      "tensor([[-0.9842, -0.1768],\n",
      "        [ 0.1768, -0.9842]])\n",
      "end\n",
      "\n",
      "tensor(1.2887) tensor(1.7370)\n",
      "tensor([[ 0.2457, -0.9694],\n",
      "        [ 0.9694,  0.2457]])\n",
      "tensor(2.2978) tensor(2.8017)\n",
      "tensor([[-0.9624, -0.2715],\n",
      "        [ 0.2715, -0.9624]])\n",
      "tensor(0.0155) tensor(0.0196)\n",
      "tensor([[ 0.9999,  0.0138],\n",
      "        [-0.0138,  0.9999]])\n",
      "tensor(1.2249) tensor(1.4824)\n",
      "tensor([[ 0.4506,  0.8927],\n",
      "        [-0.8927,  0.4506]])\n",
      "tensor(1.8422) tensor(2.6041)\n",
      "tensor([[-0.6954,  0.7186],\n",
      "        [-0.7186, -0.6954]])\n",
      "tensor(1.5488) tensor(1.9986)\n",
      "tensor([[ 0.0014,  1.0000],\n",
      "        [-1.0000,  0.0014]])\n",
      "tensor(1.5371) tensor(1.9757)\n",
      "tensor([[ 0.0242,  0.9997],\n",
      "        [-0.9997,  0.0242]])\n",
      "tensor(0.0041) tensor(0.0052)\n",
      "tensor([[ 1.0000, -0.0037],\n",
      "        [ 0.0037,  1.0000]])\n",
      "tensor(0.7962) tensor(0.9471)\n",
      "tensor([[ 0.7758,  0.6310],\n",
      "        [-0.6310,  0.7758]])\n",
      "tensor(0.2621) tensor(0.3213)\n",
      "tensor([[ 0.9742,  0.2257],\n",
      "        [-0.2257,  0.9742]])\n",
      "tensor(2.1548) tensor(2.5686)\n",
      "tensor([[-0.6494, -0.7605],\n",
      "        [ 0.7605, -0.6494]])\n",
      "tensor(1.1070) tensor(1.3268)\n",
      "tensor([[ 0.5599,  0.8285],\n",
      "        [-0.8285,  0.5599]])\n",
      "tensor(0.5368) tensor(0.6440)\n",
      "tensor([[ 0.8963,  0.4434],\n",
      "        [-0.4434,  0.8963]])\n",
      "tensor(0.0292) tensor(0.0368)\n",
      "tensor([[ 0.9997,  0.0260],\n",
      "        [-0.0260,  0.9997]])\n",
      "tensor(1.5402) tensor(1.9817)\n",
      "tensor([[ 0.0182,  0.9998],\n",
      "        [-0.9998,  0.0182]])\n",
      "tensor(0.) tensor(0.)\n",
      "tensor([[1.0000, 0.0000],\n",
      "        [0.0000, 1.0000]])\n",
      "tensor(1.7486) tensor(2.4479)\n",
      "tensor([[-0.4981,  0.8671],\n",
      "        [-0.8671, -0.4981]])\n",
      "tensor(1.3819) tensor(1.8343)\n",
      "tensor([[ 0.1588, -0.9873],\n",
      "        [ 0.9873,  0.1588]])\n",
      "end\n",
      "\n",
      "tensor(2.3557) tensor(2.8021)\n",
      "tensor([[-0.9629,  0.2698],\n",
      "        [-0.2698, -0.9629]])\n",
      "tensor(1.2312) tensor(1.7391)\n",
      "tensor([[ 0.2439,  0.9698],\n",
      "        [-0.9698,  0.2439]])\n",
      "tensor(1.7393) tensor(2.4380)\n",
      "tensor([[-0.4860, -0.8740],\n",
      "        [ 0.8740, -0.4860]])\n",
      "tensor(1.0693) tensor(1.3421)\n",
      "tensor([[ 0.5497, -0.8354],\n",
      "        [ 0.8354,  0.5497]])\n",
      "tensor(0.2826) tensor(0.3493)\n",
      "tensor([[ 0.9695,  0.2451],\n",
      "        [-0.2451,  0.9695]])\n",
      "tensor(0.6114) tensor(0.7309)\n",
      "tensor([[ 0.8664, -0.4993],\n",
      "        [ 0.4993,  0.8664]])\n",
      "tensor(0.6365) tensor(0.7619)\n",
      "tensor([[ 0.8549, -0.5189],\n",
      "        [ 0.5189,  0.8549]])\n",
      "tensor(1.7511) tensor(2.4505)\n",
      "tensor([[-0.5012, -0.8653],\n",
      "        [ 0.8653, -0.5012]])\n",
      "tensor(1.3591) tensor(1.8321)\n",
      "tensor([[ 0.1608, -0.9870],\n",
      "        [ 0.9870,  0.1608]])\n",
      "tensor(1.6061) tensor(2.2711)\n",
      "tensor([[-0.2894, -0.9572],\n",
      "        [ 0.9572, -0.2894]])\n",
      "tensor(1.7700) tensor(2.3117)\n",
      "tensor([[-0.3360,  0.9419],\n",
      "        [-0.9419, -0.3360]])\n",
      "tensor(1.1689) tensor(1.4972)\n",
      "tensor([[ 0.4396, -0.8982],\n",
      "        [ 0.8982,  0.4396]])\n",
      "tensor(1.4798) tensor(2.0610)\n",
      "tensor([[-0.0619, -0.9981],\n",
      "        [ 0.9981, -0.0619]])\n",
      "tensor(1.7312) tensor(2.4293)\n",
      "tensor([[-0.4753, -0.8798],\n",
      "        [ 0.8798, -0.4753]])\n",
      "tensor(0.6300) tensor(0.7538)\n",
      "tensor([[ 0.8579, -0.5138],\n",
      "        [ 0.5138,  0.8579]])\n",
      "tensor(1.7486) tensor(2.4479)\n",
      "tensor([[-0.4981, -0.8671],\n",
      "        [ 0.8671, -0.4981]])\n",
      "tensor(0.) tensor(0.)\n",
      "tensor([[1.0000, 0.0000],\n",
      "        [0.0000, 1.0000]])\n",
      "tensor(2.3390) tensor(2.7823)\n",
      "tensor([[-0.9352,  0.3540],\n",
      "        [-0.3540, -0.9352]])\n",
      "end\n",
      "\n",
      "tensor(0.1041) tensor(0.1254)\n",
      "tensor([[ 0.9961,  0.0886],\n",
      "        [-0.0886,  0.9961]])\n",
      "tensor(1.3570) tensor(1.8813)\n",
      "tensor([[ 0.1152, -0.9933],\n",
      "        [ 0.9933,  0.1152]])\n",
      "tensor(1.3897) tensor(1.8491)\n",
      "tensor([[ 0.1452,  0.9894],\n",
      "        [-0.9894,  0.1452]])\n",
      "tensor(2.0161) tensor(2.6906)\n",
      "tensor([[-0.8098,  0.5867],\n",
      "        [-0.5867, -0.8098]])\n",
      "tensor(2.2573) tensor(2.6981)\n",
      "tensor([[-0.8200, -0.5724],\n",
      "        [ 0.5724, -0.8200]])\n",
      "tensor(2.2797) tensor(2.8193)\n",
      "tensor([[-0.9871,  0.1602],\n",
      "        [-0.1602, -0.9871]])\n",
      "tensor(2.2705) tensor(2.8165)\n",
      "tensor([[-0.9832,  0.1827],\n",
      "        [-0.1827, -0.9832]])\n",
      "tensor(1.3798) tensor(1.8304)\n",
      "tensor([[ 0.1625,  0.9867],\n",
      "        [-0.9867,  0.1625]])\n",
      "tensor(1.7377) tensor(2.4493)\n",
      "tensor([[-0.4998,  0.8661],\n",
      "        [-0.8661, -0.4998]])\n",
      "tensor(1.5005) tensor(2.0670)\n",
      "tensor([[-0.0681,  0.9977],\n",
      "        [-0.9977, -0.0681]])\n",
      "tensor(0.8569) tensor(1.1872)\n",
      "tensor([[ 0.6477, -0.7619],\n",
      "        [ 0.7619,  0.6477]])\n",
      "tensor(1.9293) tensor(2.6299)\n",
      "tensor([[-0.7291,  0.6844],\n",
      "        [-0.6844, -0.7291]])\n",
      "tensor(1.6142) tensor(2.2763)\n",
      "tensor([[-0.2954,  0.9554],\n",
      "        [-0.9554, -0.2954]])\n",
      "tensor(1.3965) tensor(1.8622)\n",
      "tensor([[ 0.1331,  0.9911],\n",
      "        [-0.9911,  0.1331]])\n",
      "tensor(2.2730) tensor(2.8173)\n",
      "tensor([[-0.9842,  0.1768],\n",
      "        [-0.1768, -0.9842]])\n",
      "tensor(1.3819) tensor(1.8343)\n",
      "tensor([[ 0.1588,  0.9873],\n",
      "        [-0.9873,  0.1588]])\n",
      "tensor(2.3390) tensor(2.7823)\n",
      "tensor([[-0.9352, -0.3540],\n",
      "        [ 0.3540, -0.9352]])\n",
      "tensor(0.) tensor(0.)\n",
      "tensor([[1., 0.],\n",
      "        [0., 1.]])\n",
      "end\n",
      "\n"
     ]
    }
   ],
   "source": [
    "for i in pck.Vh:\n",
    "    for j in pck.Vh:\n",
    "\n",
    "        print(torch.dist(i, j, p=4), torch.dist(i, j, p=2))\n",
    "        print(i@j.T)\n",
    "    print('end\\n')\n"
   ],
   "metadata": {
    "collapsed": false,
    "pycharm": {
     "name": "#%%\n"
    }
   }
  },
  {
   "cell_type": "code",
   "execution_count": 35,
   "outputs": [
    {
     "data": {
      "text/plain": "[tensor([[-0.0791,  0.9969],\n         [ 0.9969,  0.0791]]),\n tensor([[-0.9992,  0.0412],\n         [ 0.0412,  0.9992]]),\n tensor([[1.]]),\n tensor([[1.]]),\n tensor([[ 0.5229,  0.2472, -0.1530,  0.2538,  0.7600],\n         [ 0.0302,  0.3351, -0.6743, -0.6557, -0.0466],\n         [-0.4987,  0.5425,  0.4969, -0.2824,  0.3610],\n         [-0.6228,  0.1332, -0.5169,  0.5644,  0.0927],\n         [-0.2984, -0.7173, -0.0879, -0.3277,  0.5303]]),\n tensor([[-0.0557,  0.7522,  0.6566],\n         [-0.9984, -0.0438, -0.0345],\n         [ 0.0029, -0.6575,  0.7534]]),\n tensor([[-1.]]),\n tensor([[1.]]),\n tensor([[1.]]),\n tensor([[1.]]),\n tensor([[-0.2668,  0.3877,  0.8823],\n         [-0.0041, -0.9159,  0.4013],\n         [ 0.9637,  0.1034,  0.2459]]),\n tensor([[-0.2797, -0.9601],\n         [-0.9601,  0.2797]]),\n tensor([[-0.9601, -0.2796],\n         [-0.2796,  0.9601]]),\n tensor([[-0.1264,  0.4017,  0.9070],\n         [-0.9919, -0.0649, -0.1095],\n         [ 0.0149, -0.9135,  0.4066]]),\n tensor([[-0.0138,  0.9999],\n         [ 0.9999,  0.0138]]),\n tensor([[-1.0000,  0.0023],\n         [ 0.0023,  1.0000]]),\n tensor([[ 0.3071,  0.9517],\n         [ 0.9517, -0.3071]]),\n tensor([[-0.2363,  0.5035,  0.6459,  0.5230],\n         [-0.4645, -0.5311, -0.2822,  0.6500],\n         [-0.0134, -0.6624,  0.7084, -0.2433],\n         [ 0.8534, -0.1601,  0.0364,  0.4948]])]"
     },
     "execution_count": 35,
     "metadata": {},
     "output_type": "execute_result"
    }
   ],
   "source": [
    "pck.U"
   ],
   "metadata": {
    "collapsed": false,
    "pycharm": {
     "name": "#%%\n"
    }
   }
  },
  {
   "cell_type": "code",
   "execution_count": 36,
   "outputs": [
    {
     "name": "stdout",
     "output_type": "stream",
     "text": [
      "tensor([[-0.0791,  0.9969],\n",
      "        [ 0.9969,  0.0791]]) \n",
      " tensor([67.1437, 32.2108]) \n",
      " tensor([[ 0.1148, -0.9934],\n",
      "        [ 0.9934,  0.1148]]) \n",
      "\n",
      "tensor([[-0.9992,  0.0412],\n",
      "        [ 0.0412,  0.9992]]) \n",
      " tensor([141.5269,  28.6809]) \n",
      " tensor([[ 0.9961,  0.0882],\n",
      "        [-0.0882,  0.9961]]) \n",
      "\n",
      "tensor([[1.]]) \n",
      " tensor([77.6717]) \n",
      " tensor([[-0.9396, -0.3424],\n",
      "        [ 0.3424, -0.9396]]) \n",
      "\n",
      "tensor([[1.]]) \n",
      " tensor([53.1286]) \n",
      " tensor([[-0.7384,  0.6743],\n",
      "        [-0.6743, -0.7384]]) \n",
      "\n",
      "tensor([[ 0.5229,  0.2472],\n",
      "        [ 0.0302,  0.3351],\n",
      "        [-0.4987,  0.5425],\n",
      "        [-0.6228,  0.1332],\n",
      "        [-0.2984, -0.7173]]) \n",
      " tensor([68.2961, 63.9909]) \n",
      " tensor([[ 0.3947,  0.9188],\n",
      "        [-0.9188,  0.3947]]) \n",
      "\n",
      "tensor([[-0.0557,  0.7522],\n",
      "        [-0.9984, -0.0438],\n",
      "        [ 0.0029, -0.6575]]) \n",
      " tensor([258.3488,  78.8081]) \n",
      " tensor([[-0.3567,  0.9342],\n",
      "        [-0.9342, -0.3567]]) \n",
      "\n",
      "tensor([[-1.]]) \n",
      " tensor([57.5136]) \n",
      " tensor([[-0.3778,  0.9259],\n",
      "        [-0.9259, -0.3778]]) \n",
      "\n",
      "tensor([[1.]]) \n",
      " tensor([132.3643]) \n",
      " tensor([[-0.9334, -0.3588],\n",
      "        [ 0.3588, -0.9334]]) \n",
      "\n",
      "tensor([[1.]]) \n",
      " tensor([141.6295]) \n",
      " tensor([[-0.9494,  0.3142],\n",
      "        [-0.3142, -0.9494]]) \n",
      "\n",
      "tensor([[1.]]) \n",
      " tensor([85.1480]) \n",
      " tensor([[-0.9908, -0.1351],\n",
      "        [ 0.1351, -0.9908]]) \n",
      "\n",
      "tensor([[-0.2668,  0.3877],\n",
      "        [-0.0041, -0.9159],\n",
      "        [ 0.9637,  0.1034]]) \n",
      " tensor([51.6501, 25.7996]) \n",
      " tensor([[ 0.8772, -0.4801],\n",
      "        [ 0.4801,  0.8772]]) \n",
      "\n",
      "tensor([[-0.2797, -0.9601],\n",
      "        [-0.9601,  0.2797]]) \n",
      " tensor([96.9850, 33.9208]) \n",
      " tensor([[-0.8178,  0.5755],\n",
      "        [-0.5755, -0.8178]]) \n",
      "\n",
      "tensor([[-0.9601, -0.2796],\n",
      "        [-0.2796,  0.9601]]) \n",
      " tensor([69.2991, 23.3263]) \n",
      " tensor([[-0.9954,  0.0960],\n",
      "        [-0.0960, -0.9954]]) \n",
      "\n",
      "tensor([[-0.1264,  0.4017],\n",
      "        [-0.9919, -0.0649],\n",
      "        [ 0.0149, -0.9135]]) \n",
      " tensor([164.9305, 101.3858]) \n",
      " tensor([[-0.9437, -0.3309],\n",
      "        [ 0.3309, -0.9437]]) \n",
      "\n",
      "tensor([[-0.0138,  0.9999],\n",
      "        [ 0.9999,  0.0138]]) \n",
      " tensor([192.0130, 121.7429]) \n",
      " tensor([[-0.3723,  0.9281],\n",
      "        [-0.9281, -0.3723]]) \n",
      "\n",
      "tensor([[-1.0000,  0.0023],\n",
      "        [ 0.0023,  1.0000]]) \n",
      " tensor([174.2518,  38.1925]) \n",
      " tensor([[-0.9347, -0.3553],\n",
      "        [ 0.3553, -0.9347]]) \n",
      "\n",
      "tensor([[ 0.3071,  0.9517],\n",
      "        [ 0.9517, -0.3071]]) \n",
      " tensor([135.9947,  68.7721]) \n",
      " tensor([[ 0.1574,  0.9875],\n",
      "        [-0.9875,  0.1574]]) \n",
      "\n",
      "tensor([[-0.2363,  0.5035],\n",
      "        [-0.4645, -0.5311],\n",
      "        [-0.0134, -0.6624],\n",
      "        [ 0.8534, -0.1601]]) \n",
      " tensor([111.0665,  75.3785]) \n",
      " tensor([[ 0.2023, -0.9793],\n",
      "        [ 0.9793,  0.2023]]) \n",
      "\n"
     ]
    }
   ],
   "source": [
    "for i in pck.matrices:\n",
    "    print(i.U[:,:2],'\\n' ,i.S,'\\n', i.Vh, '\\n')"
   ],
   "metadata": {
    "collapsed": false,
    "pycharm": {
     "name": "#%%\n"
    }
   }
  },
  {
   "cell_type": "code",
   "execution_count": 37,
   "outputs": [
    {
     "data": {
      "text/plain": "{'0:0': {}}"
     },
     "execution_count": 37,
     "metadata": {},
     "output_type": "execute_result"
    }
   ],
   "source": [
    "pck.tree"
   ],
   "metadata": {
    "collapsed": false,
    "pycharm": {
     "name": "#%%\n"
    }
   }
  },
  {
   "cell_type": "code",
   "execution_count": null,
   "outputs": [],
   "source": [
    "pck.matrices"
   ],
   "metadata": {
    "collapsed": false,
    "pycharm": {
     "name": "#%%\n"
    }
   }
  },
  {
   "cell_type": "code",
   "execution_count": null,
   "outputs": [],
   "source": [],
   "metadata": {
    "collapsed": false,
    "pycharm": {
     "name": "#%%\n"
    }
   }
  }
 ],
 "metadata": {
  "kernelspec": {
   "display_name": "Python 3",
   "language": "python",
   "name": "python3"
  },
  "language_info": {
   "codemirror_mode": {
    "name": "ipython",
    "version": 2
   },
   "file_extension": ".py",
   "mimetype": "text/x-python",
   "name": "python",
   "nbconvert_exporter": "python",
   "pygments_lexer": "ipython2",
   "version": "2.7.6"
  }
 },
 "nbformat": 4,
 "nbformat_minor": 0
}