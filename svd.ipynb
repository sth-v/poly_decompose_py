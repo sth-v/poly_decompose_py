{
 "cells": [
  {
   "cell_type": "markdown",
   "source": [
    "Получение исходных данных"
   ],
   "metadata": {
    "collapsed": false,
    "pycharm": {
     "name": "#%% md\n"
    }
   },
   "outputs": []
  },
  {

   "cell_type": "code",
   "execution_count": 75,
   "outputs": [
    {
     "name": "stderr",
     "output_type": "stream",
     "text": [
      "/opt/anaconda3/envs/tests/lib/python3.10/site-packages/osmnx/geocoder.py:110: FutureWarning: The frame.append method is deprecated and will be removed from pandas in a future version. Use pandas.concat instead.\n",
      "  gdf = gdf.append(_geocode_query_to_gdf(q, wr, by_osmid))\n",
      "/opt/anaconda3/envs/tests/lib/python3.10/site-packages/osmnx/geocoder.py:110: FutureWarning: The frame.append method is deprecated and will be removed from pandas in a future version. Use pandas.concat instead.\n",
      "  gdf = gdf.append(_geocode_query_to_gdf(q, wr, by_osmid))\n",
      "/opt/anaconda3/envs/tests/lib/python3.10/site-packages/osmnx/geocoder.py:110: FutureWarning: The frame.append method is deprecated and will be removed from pandas in a future version. Use pandas.concat instead.\n",
      "  gdf = gdf.append(_geocode_query_to_gdf(q, wr, by_osmid))\n"
     ]
    }
   ],
   "source": [
    "from basepolygon_class import GoalPolygon\n",
    "from shapely.geometry import Polygon\n",
    "place = GoalPolygon('Жилой комплекс \"Жулебино Парк\" стройка')\n",
    "v = place.polygon"
   ],
   "metadata": {
    "collapsed": false,
    "pycharm": {
     "name": "#%%\n"
    }
   }
  },
  {
   "cell_type": "markdown",
   "source": [
    "Геометрическое упрощение"
   ],
   "metadata": {
    "collapsed": false,
    "pycharm": {
     "name": "#%% md\n"
    }
   }
  },
  {
   "cell_type": "code",
   "execution_count": 76,
   "outputs": [],
   "source": [
    "def get_xy(s):\n",
    "\n",
    "    x, y = s.centroid.coords.xy\n",
    "    return x[0], y[0]"
   ],
   "metadata": {
    "collapsed": false,
    "pycharm": {
     "name": "#%%\n"
    }
   }
  },
  {
   "cell_type": "markdown",
   "source": [
    "Здесь полигон в нуле не от центра"
   ],
   "metadata": {
    "collapsed": false
   }
  },
  {
   "cell_type": "code",
   "execution_count": 77,
   "outputs": [
    {
     "data": {
      "text/plain": "<shapely.geometry.polygon.Polygon at 0x7f9cafb0b220>",
      "image/svg+xml": "<svg xmlns=\"http://www.w3.org/2000/svg\" xmlns:xlink=\"http://www.w3.org/1999/xlink\" width=\"300\" height=\"300\" viewBox=\"-28.16135916750878 -28.16135916750878 721.2831958739482 760.356697522737\" preserveAspectRatio=\"xMinYMin meet\"><g transform=\"matrix(1,0,0,-1,0,704.0339791877195)\"><path fill-rule=\"evenodd\" fill=\"#66cc99\" stroke=\"#555555\" stroke-width=\"5.0690446501515805\" opacity=\"0.6\" d=\"M 0.0,42.42240105941892 L 49.646892975317314,0.0 L 98.84738645789912,8.644872757606208 L 91.4870680613094,103.90478569734842 L 123.99432792240987,102.31525947432965 L 118.84098943317076,169.09848177898675 L 259.5926219234825,182.74853624869138 L 251.26317001710413,210.77966740820557 L 324.2408816458192,237.37195728812367 L 363.47268786811037,201.54586718510836 L 363.9113453243044,162.49007819592953 L 382.8016503081308,152.13047074340284 L 428.13861587963765,169.7247769329697 L 452.75512537162285,205.44482689723372 L 418.62160929798847,242.2890095654875 L 468.869841001404,276.86797133646905 L 373.6430417126394,516.6187753705308 L 325.4972854232765,497.4457708345726 L 303.76772698637797,550.6964679146186 L 427.32105774397496,598.1822010865435 L 561.7782090922119,553.6829920513555 L 646.1450598833035,565.1904505407438 L 653.429957066779,549.7999624321237 L 664.9604775389307,570.4281977945939 L 620.0133774741553,591.985123119317 L 616.5740414878237,634.2286564968526 L 534.9653862527339,680.0588067416102 L 469.36269571079174,692.9371331753209 L 447.92885945062153,672.5041266316548 L 414.77547417697497,704.0339791877195 L 262.5802838554955,643.69222803507 L 295.5449692333932,557.1087740799412 L 181.57467434561113,514.2564668776467 L 251.4879176306422,335.4356294348836 L 88.63919788587373,273.43698931019753 L 102.58079667651327,237.87792157381773 L 31.373416263901163,206.9413421181962 L 31.85410999529995,75.80640601925552 L 0.0,42.42240105941892 z\" /></g></svg>"
     },
     "execution_count": 77,
     "metadata": {},
     "output_type": "execute_result"
    }
   ],
   "source": [
    "from shapely.affinity import translate\n",
    "\n",
    "s = v.simplify(10, preserve_topology=True)\n",
    "x, y, _, _ = v.bounds\n",
    "#x, y = get_xy(s)\n",
    "st = translate(s, 0-x, 0-y)\n",
    "from shapely.geometry import MultiLineString\n",
    "\n",
    "\n",
    "st"
   ],
   "metadata": {
    "collapsed": false,
    "pycharm": {
     "name": "#%%\n"
    }
   }
  },
  {
   "cell_type": "code",
   "execution_count": 78,
   "outputs": [
    {
     "data": {
      "text/plain": "[(0.0, 42.42240105941892),\n (49.646892975317314, 0.0),\n (98.84738645789912, 8.644872757606208),\n (91.4870680613094, 103.90478569734842),\n (123.99432792240987, 102.31525947432965),\n (118.84098943317076, 169.09848177898675),\n (259.5926219234825, 182.74853624869138),\n (251.26317001710413, 210.77966740820557),\n (324.2408816458192, 237.37195728812367),\n (363.47268786811037, 201.54586718510836),\n (363.9113453243044, 162.49007819592953),\n (382.8016503081308, 152.13047074340284),\n (428.13861587963765, 169.7247769329697),\n (452.75512537162285, 205.44482689723372),\n (418.62160929798847, 242.2890095654875),\n (468.869841001404, 276.86797133646905),\n (373.6430417126394, 516.6187753705308),\n (325.4972854232765, 497.4457708345726),\n (303.76772698637797, 550.6964679146186),\n (427.32105774397496, 598.1822010865435),\n (561.7782090922119, 553.6829920513555),\n (646.1450598833035, 565.1904505407438),\n (653.429957066779, 549.7999624321237),\n (664.9604775389307, 570.4281977945939),\n (620.0133774741553, 591.985123119317),\n (616.5740414878237, 634.2286564968526),\n (534.9653862527339, 680.0588067416102),\n (469.36269571079174, 692.9371331753209),\n (447.92885945062153, 672.5041266316548),\n (414.77547417697497, 704.0339791877195),\n (262.5802838554955, 643.69222803507),\n (295.5449692333932, 557.1087740799412),\n (181.57467434561113, 514.2564668776467),\n (251.4879176306422, 335.4356294348836),\n (88.63919788587373, 273.43698931019753),\n (102.58079667651327, 237.87792157381773),\n (31.373416263901163, 206.9413421181962),\n (31.85410999529995, 75.80640601925552)]"
     },
     "execution_count": 78,
     "metadata": {},
     "output_type": "execute_result"
    }
   ],
   "source": [
    "# убрать бы эту ебань\n",
    "coor_list = (list(st.boundary.coords[0:len(st.boundary.coords) - 1]))\n",
    "coor_list"
   ],
   "metadata": {
    "collapsed": false,
    "pycharm": {
     "name": "#%%\n"
    }
   }
  },
  {
   "cell_type": "code",
   "execution_count": null,
   "outputs": [],
   "source": [],
   "metadata": {
    "collapsed": false,
    "pycharm": {
     "name": "#%%\n"
    }
   }
  },
  {
   "cell_type": "code",
   "execution_count": null,
   "outputs": [],
   "source": [],
   "metadata": {
    "collapsed": false,
    "pycharm": {
     "name": "#%%\n"
    }
   }
  },
  {
   "cell_type": "markdown",
   "source": [
    "Декомпозиция периметра"
   ],
   "metadata": {
    "collapsed": false,
    "pycharm": {
     "name": "#%% md\n"
    }
   }
  },
  {
   "cell_type": "code",
   "execution_count": 42,
   "outputs": [],
   "source": [
    "import numpy as np\n",
    "from math import pi, cos, sin\n",
    "\n",
    "target = pi/2\n",
    "basis = np.array([[1, 0, 0],[0, 1, 0]])\n",
    "tolerance=0.75"
   ],
   "metadata": {
    "collapsed": false,
    "pycharm": {
     "name": "#%%\n"
    }
   }
  },
  {
   "cell_type": "code",
   "execution_count": 43,
   "outputs": [],
   "source": [
    "transform = np.array(\n",
    "    [\n",
    "        [cos(target), -sin(target), 0],\n",
    "        [sin(target), cos(target), 0],\n",
    "        [0, 0, 1]\n",
    "    ]\n",
    ")"
   ],
   "metadata": {
    "collapsed": false,
    "pycharm": {
     "name": "#%%\n"
    }
   }
  },
  {
   "cell_type": "code",
   "execution_count": 44,
   "outputs": [
    {
     "name": "stderr",
     "output_type": "stream",
     "text": [
      "/var/folders/l7/52t7xngd2973k8x9_y55rmyh0000gn/T/ipykernel_92755/2402548898.py:1: DeprecationWarning: `np.complex` is a deprecated alias for the builtin `complex`. To silence this warning, use `complex` by itself. Doing this will not modify any behavior and is safe. If you specifically wanted the numpy scalar type, use `np.complex128` here.\n",
      "Deprecated in NumPy 1.20; for more details and guidance: https://numpy.org/devdocs/release/1.20.0-notes.html#deprecations\n",
      "  metric = np.complex(np.cross(basis[0], basis[1])[-1],\n"
     ]
    }
   ],
   "source": [
    "metric = np.complex(np.cross(basis[0], basis[1])[-1],\n",
    "                             np.cross(basis[1], basis[0])[-1])\n"
   ],
   "metadata": {
    "collapsed": false,
    "pycharm": {
     "name": "#%%\n"
    }
   }
  },
  {
   "cell_type": "markdown",
   "source": [
    "разбиение точек на группы по сегментам"
   ],
   "metadata": {
    "collapsed": false
   }
  },
  {
   "cell_type": "code",
   "execution_count": 45,
   "outputs": [],
   "source": [
    "from itertools import islice, cycle\n",
    "\n",
    "def vec_search(point_list, key):\n",
    "    cr = []\n",
    "    n = list(islice(cycle(range(len(point_list))), 0, len(point_list) *2))\n",
    "    for i in range(len(point_list)):\n",
    "        v_one = [point_list[n[i]][0] - point_list[n[i + 1]][0], point_list[n[i]][1] - point_list[n[i + 1]][1], 0]\n",
    "        v_two = [point_list[n[i + 1]][0] - point_list[n[i + 2]][0], point_list[n[i + 1]][1] - point_list[n[i + 2]][1],0]\n",
    "        v_o_norm, v_t_norm = v_one / np.linalg.norm(v_one), v_two / np.linalg.norm(v_two)\n",
    "        if np.cross(v_o_norm, v_t_norm)[2] < key:\n",
    "            cr.append(n[i + 1])\n",
    "        else:\n",
    "            pass\n",
    "    cross = [*cr, cr[0] + cr[-1] + 1]\n",
    "    double_points = [*range(len(point_list)), *range(len(point_list))]\n",
    "    segments = [double_points[cross[c]:cross[c + 1]+1] for c in range(len(cross) - 1)]\n",
    "    return segments"
   ],
   "metadata": {
    "collapsed": false,
    "pycharm": {
     "name": "#%%\n"
    }
   }
  },
  {
   "cell_type": "code",
   "execution_count": 46,
   "outputs": [
    {
     "name": "stdout",
     "output_type": "stream",
     "text": [
      "[[3, 4, 5], [5, 6, 7], [7, 8], [8, 9], [9, 10, 11, 12, 13, 14], [14, 15, 16, 17], [17, 18], [18, 19], [19, 20, 21], [21, 22, 23, 24], [24, 25, 26, 27, 28], [28, 29, 30, 31], [31, 32, 33], [33, 34, 35], [35, 36, 37], [37, 0, 1, 2, 3]]\n"
     ]
    }
   ],
   "source": [
    "bb = vec_search(coor_list, 0.3)\n",
    "print(bb)"
   ],
   "metadata": {
    "collapsed": false,
    "pycharm": {
     "name": "#%%\n"
    }
   }
  },
  {
   "cell_type": "markdown",
   "source": [
    "вектора разбитые по группам от исходных точек"
   ],
   "metadata": {
    "collapsed": false
   }
  },
  {
   "cell_type": "code",
   "execution_count": 47,
   "outputs": [],
   "source": [
    "def chains_base (point_list):\n",
    "    key_val = vec_search(point_list, 0.7)\n",
    "    vectors =[]\n",
    "    for i in key_val:\n",
    "        temp =[]\n",
    "        for l in range(len(i)-1):\n",
    "            vec = [point_list[i[l]][0] - point_list[i[l+1]][0], point_list[i[l]][1] - point_list[i[l+1]][1]]\n",
    "            temp.append(vec)\n",
    "        vectors.append(temp)\n",
    "    return vectors\n"
   ],
   "metadata": {
    "collapsed": false,
    "pycharm": {
     "name": "#%%\n"
    }
   }
  },
  {
   "cell_type": "code",
   "execution_count": 48,
   "outputs": [
    {
     "name": "stdout",
     "output_type": "stream",
     "text": [
      "[[[-32.507259861100465, 1.5895262230187654], [5.153338489239104, -66.7832223046571]], [[-140.75163249031175, -13.650054469704628], [8.329451906378381, -28.03113115951419]], [[-72.97771162871504, -26.5922898799181]], [[-39.2318062222912, 35.826090103015304]], [[-0.4386574561940506, 39.055788989178836], [-18.890304983826354, 10.359607452526689], [-45.33696557150688, -17.59430618956685]], [[-24.616509491985198, -35.720049964264035], [34.13351607363438, -36.84418266825378]], [[-50.24823170341551, -34.57896177098155], [95.2267992887646, -239.75080403406173], [48.14575628936291, 19.17300453595817]], [[21.729558436898515, -53.25069708004594]], [[-123.553330757597, -47.48573317192495]], [[-134.45715134823695, 44.49920903518796]], [[-84.36685079109157, -11.507458489388227]], [[-7.28489718347555, 15.390488108620048], [-11.530520472151693, -20.62823536247015], [44.94710006477544, -21.556925324723125]], [[3.439335986331571, -42.24353337753564], [81.60865523508983, -45.83015024475753]], [[65.60269054194214, -12.878326433710754], [21.43383626017021, 20.433006543666124]], [[33.15338527364656, -31.529852556064725], [152.19519032147946, 60.34175115264952], [-32.964685377897695, 86.58345395512879]], [[113.97029488778207, 42.85230720229447], [-69.91324328503106, 178.82083744276315]], [[162.84871974476846, 61.99864012468606], [-13.941598790639546, 35.5590677363798]], [[71.20738041261211, 30.93657945562154], [-0.48069373139878735, 131.13493609894067]], [[31.85410999529995, 33.3840049598366], [-49.646892975317314, 42.42240105941892], [-49.200493482581805, -8.644872757606208], [7.360318396589719, -95.25991293974221]]]\n"
     ]
    }
   ],
   "source": [
    "res_vec = chains_base(coor_list)\n",
    "print(res_vec)"
   ],
   "metadata": {
    "collapsed": false,
    "pycharm": {
     "name": "#%%\n"
    }
   }
  },
  {
   "cell_type": "markdown",
   "source": [
    "SVD\n",
    "Декомпозиция"
   ],
   "metadata": {
    "collapsed": false,
    "pycharm": {
     "name": "#%% md\n"
    }
   }
  },
  {
   "cell_type": "markdown",
   "source": [
    "# Это техническая часть для работы с локальными данными\n",
    "import json\n",
    "\n",
    "f = open(\"/Users/andrewastakhov/dumps/pl.json\", \"r\")\n",
    "points = json.load(f)['pts']"
   ],
   "metadata": {
    "collapsed": false,
    "pycharm": {
     "name": "#%% md\n"
    }
   }
  },
  {
   "cell_type": "code",
   "execution_count": 49,
   "outputs": [
    {
     "name": "stderr",
     "output_type": "stream",
     "text": [
      "/var/folders/l7/52t7xngd2973k8x9_y55rmyh0000gn/T/ipykernel_92755/1396746674.py:4: VisibleDeprecationWarning: Creating an ndarray from ragged nested sequences (which is a list-or-tuple of lists-or-tuples-or ndarrays with different lengths or shapes) is deprecated. If you meant to do this, you must specify 'dtype=object' when creating the ndarray.\n",
      "  A = np.asarray(res_vec)\n"
     ]
    }
   ],
   "source": [
    "from scipy.linalg import svd\n",
    "import numpy as np\n",
    "\n",
    "A = np.asarray(res_vec)"
   ],
   "metadata": {
    "collapsed": false,
    "pycharm": {
     "name": "#%%\n"
    }
   }
  },
  {
   "cell_type": "markdown",
   "source": [
    "Пример с одной матрицей"
   ],
   "metadata": {
    "collapsed": false,
    "pycharm": {
     "name": "#%% md\n"
    }
   }
  },
  {
   "cell_type": "code",
   "execution_count": 50,
   "outputs": [],
   "source": [
    "a = np.asarray(A[0])"
   ],
   "metadata": {
    "collapsed": false,
    "pycharm": {
     "name": "#%%\n"
    }
   }
  },
  {
   "cell_type": "code",
   "execution_count": 51,
   "outputs": [],
   "source": [
    "U, s, Vh=svd(a)"
   ],
   "metadata": {
    "collapsed": false,
    "pycharm": {
     "name": "#%%\n"
    }
   }
  },
  {
   "cell_type": "markdown",
   "source": [
    "Получить Sigma из s Хуй знает зачем сайпи говорят что это полезно"
   ],
   "metadata": {
    "collapsed": false,
    "pycharm": {
     "name": "#%% md\n"
    }
   }
  },
  {
   "cell_type": "code",
   "execution_count": 52,
   "outputs": [
    {
     "data": {
      "text/plain": "array([[67.1436619 ,  0.        ],\n       [ 0.        , 32.21075726]])"
     },
     "execution_count": 52,
     "metadata": {},
     "output_type": "execute_result"
    }
   ],
   "source": [
    "sigma = np.zeros(a.shape)\n",
    "for i in range(min(a.shape)):\n",
    "            sigma[i, i] = s[i]\n",
    "sigma"
   ],
   "metadata": {
    "collapsed": false,
    "pycharm": {
     "name": "#%%\n"
    }
   }
  },
  {
   "cell_type": "markdown",
   "source": [
    "А точно, как минимум для обратной проверки, \"B\" должно быть равно \"a\""
   ],
   "metadata": {
    "collapsed": false,
    "pycharm": {
     "name": "#%% md\n"
    }
   }
  },
  {
   "cell_type": "code",
   "execution_count": 53,
   "outputs": [],
   "source": [
    "B = U @ sigma @ Vh"
   ],
   "metadata": {
    "collapsed": false,
    "pycharm": {
     "name": "#%%\n"
    }
   }
  },
  {
   "cell_type": "markdown",
   "source": [
    "Теперь на торче\n",
    "Класс треннируется на основе отсортированых данных выпуклой декомпозиции периметра\n"
   ],
   "metadata": {
    "collapsed": false,
    "pycharm": {
     "name": "#%% md\n"
    }
   }
  },
  {
   "cell_type": "code",
   "execution_count": 54,
   "outputs": [],
   "source": [
    "import torch\n",
    "from polygon_division import vector_search, points_to_point_chain"
   ],
   "metadata": {
    "collapsed": false,
    "pycharm": {
     "name": "#%%\n"
    }
   }
  },
  {
   "cell_type": "markdown",
   "source": [],
   "metadata": {
    "collapsed": false,
    "pycharm": {
     "name": "#%% md\n"
    }
   }
  },
  {
   "cell_type": "code",
   "execution_count": 55,
   "outputs": [],
   "source": [
    "class SvdItem:\n",
    "    keys=[\"A\", \"U\", \"S\", \"Vh\", \"Sigma\"]\n",
    "    def __init__(self, m, collection=None, **kwargs):\n",
    "        self.A = torch.tensor(m)\n",
    "        self.collection=collection\n",
    "        self.U = None\n",
    "        self.S = None\n",
    "        self.Vh = None\n",
    "        self.Sigma = None\n",
    "        self.svd(**kwargs)\n",
    "        if collection is not None:\n",
    "            self.id = f'{collection.id}:{len(collection.matrices)}'\n",
    "            print(f'set item id: {self.id}')\n",
    "            collection.A.append(self.A)\n",
    "\n",
    "\n",
    "\n",
    "    def svd(self, **kwargs):\n",
    "        U, S, Vh = torch.linalg.svd(self.A, **kwargs)\n",
    "        Sigma = torch.diag(S)\n",
    "        self.U, self.S, self.Vh, self.Sigma=U, S, Vh, Sigma\n",
    "        print(self.U, self.S, self.Vh, self.Sigma)\n",
    "        if self.collection:\n",
    "            for v, k in zip([A, U, S, Vh, Sigma], self.__class__.keys):\n",
    "                (self.collection.__dict__[k]).append(v)\n",
   ],
   "metadata": {
    "collapsed": false,
    "pycharm": {
     "name": "#%%\n"
    }
   }
  },
  {

   ],
   "metadata": {
    "collapsed": false,
    "pycharm": {
     "name": "#%%\n"
    }
   }
  },
  {
   "cell_type": "code",

   ],
   "metadata": {
    "collapsed": false,
    "pycharm": {
     "name": "#%%\n"
    }
   }
  },
  {
   "cell_type": "code",
   "execution_count": 60,
   "outputs": [
    {
     "data": {
      "text/plain": "[<__main__.SvdItem at 0x7f9cb14f8dc0>,\n <__main__.SvdItem at 0x7f9cb14f8520>,\n <__main__.SvdItem at 0x7f9cb14f91e0>,\n <__main__.SvdItem at 0x7f9cb14f8d30>,\n <__main__.SvdItem at 0x7f9cb14f92d0>,\n <__main__.SvdItem at 0x7f9cb14f9150>,\n <__main__.SvdItem at 0x7f9cb14f85b0>,\n <__main__.SvdItem at 0x7f9cb14f8490>,\n <__main__.SvdItem at 0x7f9cb14f88b0>,\n <__main__.SvdItem at 0x7f9cb14f8c10>,\n <__main__.SvdItem at 0x7f9cb14f84c0>,\n <__main__.SvdItem at 0x7f9cb14f8c40>,\n <__main__.SvdItem at 0x7f9cb14f84f0>,\n <__main__.SvdItem at 0x7f9cb2022680>,\n <__main__.SvdItem at 0x7f9cb2022650>,\n <__main__.SvdItem at 0x7f9cb14f9ea0>,\n <__main__.SvdItem at 0x7f9cb14f9f00>,\n <__main__.SvdItem at 0x7f9cb14f8250>,\n <__main__.SvdItem at 0x7f9cb14f9ed0>]"
     },
     "execution_count": 60,
     "metadata": {},
     "output_type": "execute_result"
    }
   ],
   "source": [
    "pck.matrices"
   ],
   "metadata": {
    "collapsed": false,
    "pycharm": {
     "name": "#%%\n"
    }
   }
  },
  {
   "cell_type": "code",

   "source": [
    "pck.S"
   ],
   "metadata": {
    "collapsed": false,
    "pycharm": {
     "name": "#%%\n"
    }
   }
  },
  {
   "cell_type": "code",

   "source": [
    "pck.Sigma"
   ],
   "metadata": {
    "collapsed": false,
    "pycharm": {
     "name": "#%%\n"
    }
   }
  },
  {
   "cell_type": "code",
   "execution_count": null,
   "outputs": [],
   "source": [
    "s"
   ],
   "metadata": {
    "collapsed": false,
    "pycharm": {
     "name": "#%%\n"
    }
   }
  },
  {
   "cell_type": "markdown",
   "source": [
    "VH"
   ],
   "metadata": {
    "collapsed": false
   }
  },
  {
   "cell_type": "code",
   "execution_count": 63,
   "outputs": [
    {
     "data": {
      "text/plain": "[tensor([[ 0.1148, -0.9934],\n         [-0.9934, -0.1148]]),\n tensor([[ 0.9961,  0.0882],\n         [ 0.0882, -0.9961]]),\n tensor([[-0.9396, -0.3424],\n         [-0.3424,  0.9396]]),\n tensor([[-0.7384,  0.6743],\n         [ 0.6743,  0.7384]]),\n tensor([[ 0.8286,  0.5599],\n         [ 0.5599, -0.8286]]),\n tensor([[ 0.3524, -0.9359],\n         [-0.9359, -0.3524]]),\n tensor([[-0.3567,  0.9342],\n         [-0.9342, -0.3567]]),\n tensor([[-0.3778,  0.9259],\n         [ 0.9259,  0.3778]]),\n tensor([[-0.9334, -0.3588],\n         [-0.3588,  0.9334]]),\n tensor([[-0.9494,  0.3142],\n         [ 0.3142,  0.9494]]),\n tensor([[-0.9908, -0.1351],\n         [-0.1351,  0.9908]]),\n tensor([[ 0.8772, -0.4801],\n         [ 0.4801,  0.8772]]),\n tensor([[-0.8178,  0.5755],\n         [ 0.5755,  0.8178]]),\n tensor([[-0.9954,  0.0960],\n         [ 0.0960,  0.9954]]),\n tensor([[-0.9437, -0.3309],\n         [ 0.3309, -0.9437]]),\n tensor([[-0.3723,  0.9281],\n         [ 0.9281,  0.3723]]),\n tensor([[-0.9347, -0.3553],\n         [-0.3553,  0.9347]]),\n tensor([[ 0.1574,  0.9875],\n         [ 0.9875, -0.1574]]),\n tensor([[ 0.2023, -0.9793],\n         [ 0.9793,  0.2023]])]"
     },
     "execution_count": 63,
     "metadata": {},
     "output_type": "execute_result"
    }
   ],
   "source": [
    "pck_vh = pck.Vh\n",
    "pck_vh"
   ],
   "metadata": {
    "collapsed": false,
    "pycharm": {
     "name": "#%%\n"
    }
   }
  },
  {
   "cell_type": "markdown",
   "source": [
    "на данный момент не нужно, но если какая-то из матриц зеркальна, то вот"
   ],
   "metadata": {
    "collapsed": false
   }
  },
  {
   "cell_type": "code",

   ],
   "metadata": {
    "collapsed": false,
    "pycharm": {
     "name": "#%%\n"
    }
   }
  },
  {
   "cell_type": "markdown",
   "source": [
    "соответственно точки по паттерну"
   ],
   "metadata": {
    "collapsed": false
   }
  },
  {
   "cell_type": "code",
   "execution_count": 65,
   "outputs": [],
   "source": [
    "def transform_chains_fromvh(chains, t):\n",
    "    chains_t=[]\n",
    "    for i, clust in enumerate(chains):\n",
    "        _t=[]\n",
    "        for j in clust:\n",
    "            _ = t[i] @ np.asarray(coor_list[j])\n",
    "            _t.append(np.asarray(_).tolist())\n",
    "        chains_t.append(_t)\n",
    "    return chains_t\n",
    "\n",
    "p_tt = transform_chains_fromvh(bb, huy)"
   ],
   "metadata": {
    "collapsed": false,
    "pycharm": {
     "name": "#%%\n"
    }
   }
  },
  {
   "cell_type": "markdown",
   "source": [
    "РАЗГРУППИРОВКА ТОЧЕК ПО ПАТТЕРНУ"
   ],
   "metadata": {
    "collapsed": false
   }
  },
  {
   "cell_type": "code",

   "outputs": [],
   "source": [
    "def transform_chains_vh(chains, t):\n",
    "    chains_t=[]\n",
    "    for i, clust in enumerate(chains):\n",
    "        _t=[]\n",
    "        for j in clust:\n",
    "            _ = t.Vh[i] @ np.asarray(coor_list[j])\n",
    "            _t.append(np.asarray(_).tolist())\n",
    "        chains_t.append(_t)\n",
    "    return chains_t\n",
    "\n",
    "p_t = transform_chains_vh(bb, pck)"
   ],
   "metadata": {
    "collapsed": false,
    "pycharm": {
     "name": "#%%\n"
    }
   }
  },
  {
   "cell_type": "code",

   ],
   "metadata": {
    "collapsed": false,
    "pycharm": {
     "name": "#%%\n"
    }
   }
  },
  {
   "cell_type": "code",
   "execution_count": 73,
   "outputs": [
    {
     "data": {
      "text/plain": "{'0:0': {}}"
     },
     "execution_count": 73,
     "metadata": {},
     "output_type": "execute_result"
    }
   ],
   "source": [
    "pck.tree"
   ],
   "metadata": {
    "collapsed": false,
    "pycharm": {
     "name": "#%%\n"
    }
   }
  },
  {
   "cell_type": "code",
   "execution_count": 74,
   "outputs": [
    {
     "data": {
      "text/plain": "[<__main__.SvdItem at 0x7f9cb14f8dc0>,\n <__main__.SvdItem at 0x7f9cb14f8520>,\n <__main__.SvdItem at 0x7f9cb14f91e0>,\n <__main__.SvdItem at 0x7f9cb14f8d30>,\n <__main__.SvdItem at 0x7f9cb14f92d0>,\n <__main__.SvdItem at 0x7f9cb14f9150>,\n <__main__.SvdItem at 0x7f9cb14f85b0>,\n <__main__.SvdItem at 0x7f9cb14f8490>,\n <__main__.SvdItem at 0x7f9cb14f88b0>,\n <__main__.SvdItem at 0x7f9cb14f8c10>,\n <__main__.SvdItem at 0x7f9cb14f84c0>,\n <__main__.SvdItem at 0x7f9cb14f8c40>,\n <__main__.SvdItem at 0x7f9cb14f84f0>,\n <__main__.SvdItem at 0x7f9cb2022680>,\n <__main__.SvdItem at 0x7f9cb2022650>,\n <__main__.SvdItem at 0x7f9cb14f9ea0>,\n <__main__.SvdItem at 0x7f9cb14f9f00>,\n <__main__.SvdItem at 0x7f9cb14f8250>,\n <__main__.SvdItem at 0x7f9cb14f9ed0>]"
     },
     "execution_count": 74,
     "metadata": {},
     "output_type": "execute_result"
    }
   ],
   "source": [
    "pck.matrices"
   ],
   "metadata": {
    "collapsed": false,
    "pycharm": {
     "name": "#%%\n"
    }
   }
  },
  {
   "cell_type": "code",
   "execution_count": 74,
   "outputs": [],
   "source": [
    "pck = SvdPack()"
   ],
   "metadata": {
    "collapsed": false,
    "pycharm": {
     "name": "#%%\n"
    }
   }
  },
  {
   "cell_type": "code",
   "execution_count": null,
   "outputs": [],
   "source": [
    "a_=np.asarray(res_vec, dtype=object)"
   ],
   "metadata": {
    "collapsed": false,
    "pycharm": {
     "name": "#%%\n"
    }
   }
  },
  {
   "cell_type": "code",
   "execution_count": null,
   "outputs": [],
   "source": [
    "len(a_.shape)"
   ],
   "metadata": {
    "collapsed": false,
    "pycharm": {
     "name": "#%%\n"
    }
   }
  },
  {
   "cell_type": "code",
   "execution_count": null,
   "outputs": [],
   "source": [
    "pck.matrices = a_"
   ],
   "metadata": {
    "collapsed": false,
    "pycharm": {
     "name": "#%%\n"
    }
   }
  },
  {
   "cell_type": "code",
   "execution_count": null,
   "outputs": [],
   "source": [
    "pck.matrices"
   ],
   "metadata": {
    "collapsed": false,
    "pycharm": {
     "name": "#%%\n"
    }
   }
  },
  {
   "cell_type": "code",
   "execution_count": null,
   "outputs": [],
   "source": [
    "pck.S"
   ],
   "metadata": {
    "collapsed": false,
    "pycharm": {
     "name": "#%%\n"
    }
   }
  },
  {
   "cell_type": "code",
   "execution_count": null,
   "outputs": [],
   "source": [
    "pck.Vh"
   ],
   "metadata": {
    "collapsed": false,
    "pycharm": {
     "name": "#%%\n"
    }
   }
  },
  {
   "cell_type": "code",
   "execution_count": null,
   "outputs": [],
   "source": [
    "def chains_ (point_list):\n",
    "    vectors =[]\n",
    "    for i in point_list:\n",
    "        temp =[]\n",
    "        for l in range(len(i)-1):\n",
    "            vec = [i[l][0] - i[l+1][0], i[l][1] - i[l+1][1]]\n",
    "            temp.append(vec)\n",
    "        vectors.append(temp)\n",
    "    return vectors\n",
    "\n",
    "chains_(aa)\n"
   ],
   "metadata": {
    "collapsed": false,
    "pycharm": {
     "name": "#%%\n"
    }
   }
  },
  {
   "cell_type": "code",
   "execution_count": null,
   "outputs": [],
   "source": [
    "def transform_chains_vh(chains, t):\n",
    "    chains_t=[]\n",
    "    for i, clust in enumerate(chains):\n",
    "        _t=[]\n",
    "        for j in clust:\n",
    "            _ = t.Vh[i] @ np.asarray(coor_list[j])\n",
    "            _t.append(np.asarray(_).tolist())\n",
    "        chains_t.append(_t)\n",
    "    return chains_t\n",
    "\n",
    "aa = transform_chains_vh(bb, pck)\n",
    "aa"
   ],
   "metadata": {
    "collapsed": false,
    "pycharm": {
     "name": "#%%\n"
    }
   }
  },
  {
   "cell_type": "code",
   "execution_count": null,
   "outputs": [],
   "source": [
    "def angle(a, b):\n",
    "    return np.arccos(a @ b)\n",
    "\n",
    "for i, v_ in enumerate(aa):\n",
    "    va = np.asarray(v_)\n",
    "    vb = np.asarray(res_vec[i])\n",
    "    print(angle(va[1], vb[1]))\n",
    "\n",
    "\n",
    "\n",
    "\n"
   ],
   "metadata": {
    "collapsed": false,
    "pycharm": {
     "name": "#%%\n"
    }
   }
  }
 ],
 "metadata": {
  "kernelspec": {
   "display_name": "Python 3",
   "language": "python",
   "name": "python3"
  },
  "language_info": {
   "codemirror_mode": {
    "name": "ipython",
    "version": 2
   },
   "file_extension": ".py",
   "mimetype": "text/x-python",
   "name": "python",
   "nbconvert_exporter": "python",
   "pygments_lexer": "ipython2",
   "version": "2.7.6"
  }
 },
 "nbformat": 4,
 "nbformat_minor": 0
}