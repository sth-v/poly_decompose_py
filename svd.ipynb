{
 "cells": [
  {
   "cell_type": "code",
   "execution_count": 8,
   "metadata": {
    "collapsed": true,
    "pycharm": {
     "name": "#%%\n"
    }
   },
   "outputs": [],
   "source": [
    "import json\n",
    "\n",
    "f = open(\"/Users/andrewastakhov/dumps/pl.json\", \"r\")\n",
    "points = json.load(f)['pts']"
   ]
  },
  {
   "cell_type": "code",
   "execution_count": 9,
   "outputs": [
    {
     "name": "stderr",
     "output_type": "stream",
     "text": [
      "/var/folders/ck/jb6rmtxx78j862ljh049mjtw0000gn/T/ipykernel_1817/2552534424.py:3: VisibleDeprecationWarning: Creating an ndarray from ragged nested sequences (which is a list-or-tuple of lists-or-tuples-or ndarrays with different lengths or shapes) is deprecated. If you meant to do this, you must specify 'dtype=object' when creating the ndarray.\n",
      "  A = np.asarray(points)\n"
     ]
    }
   ],
   "source": [
    "from scipy.linalg import svd\n",
    "import numpy as np\n",
    "A = np.asarray(points)"
   ],
   "metadata": {
    "collapsed": false,
    "pycharm": {
     "name": "#%%\n"
    }
   }
  },
  {
   "cell_type": "markdown",
   "source": [
    "Пример с одной матрицей"
   ],
   "metadata": {
    "collapsed": false,
    "pycharm": {
     "name": "#%% md\n"
    }
   }
  },
  {
   "cell_type": "code",
   "execution_count": 10,
   "outputs": [],
   "source": [
    "a = np.asarray(A[0])"
   ],
   "metadata": {
    "collapsed": false,
    "pycharm": {
     "name": "#%%\n"
    }
   }
  },
  {
   "cell_type": "code",
   "execution_count": 11,
   "outputs": [],
   "source": [
    "U, s, Vh=svd(a)"
   ],
   "metadata": {
    "collapsed": false,
    "pycharm": {
     "name": "#%%\n"
    }
   }
  },
  {
   "cell_type": "markdown",
   "source": [
    "Получить Sigma из s Хуй знает зачем сайпи говорят что это полезно"
   ],
   "metadata": {
    "collapsed": false,
    "pycharm": {
     "name": "#%% md\n"
    }
   }
  },
  {
   "cell_type": "code",
   "execution_count": 12,
   "outputs": [],
   "source": [
    "sigma = np.zeros(a.shape)\n",
    "for i in range(min(a.shape)):\n",
    "            sigma[i, i] = s[i]"
   ],
   "metadata": {
    "collapsed": false,
    "pycharm": {
     "name": "#%%\n"
    }
   }
  },
  {
   "cell_type": "markdown",
   "source": [
    "А точно, как минимум для обратной проверки, \"B\" должно быть равно \"a\""
   ],
   "metadata": {
    "collapsed": false,
    "pycharm": {
     "name": "#%% md\n"
    }
   }
  },
  {
   "cell_type": "code",
   "execution_count": 15,
   "outputs": [],
   "source": [
    "B = U @ sigma @ Vh"
   ],
   "metadata": {
    "collapsed": false,
    "pycharm": {
     "name": "#%%\n"
    }
   }
  },
  {
   "cell_type": "code",
   "execution_count": 18,
   "outputs": [
    {
     "data": {
      "text/plain": "array([[367.5282953 , 411.27996727],\n       [411.27996727, 570.2315431 ],\n       [570.2315431 , 439.81468985]])"
     },
     "execution_count": 18,
     "metadata": {},
     "output_type": "execute_result"
    }
   ],
   "source": [
    "a"
   ],
   "metadata": {
    "collapsed": false,
    "pycharm": {
     "name": "#%%\n"
    }
   }
  },
  {
   "cell_type": "code",
   "execution_count": 19,
   "outputs": [
    {
     "data": {
      "text/plain": "array([[367.5282953 , 411.27996727],\n       [411.27996727, 570.2315431 ],\n       [570.2315431 , 439.81468985]])"
     },
     "execution_count": 19,
     "metadata": {},
     "output_type": "execute_result"
    }
   ],
   "source": [
    "B"
   ],
   "metadata": {
    "collapsed": false,
    "pycharm": {
     "name": "#%%\n"
    }
   }
  },
  {
   "cell_type": "markdown",
   "source": [
    "Функция итерирующая список матриц и вычисляющая свд для каждой"
   ],
   "metadata": {
    "collapsed": false,
    "pycharm": {
     "name": "#%% md\n"
    }
   }
  },
  {
   "cell_type": "code",
   "execution_count": 21,
   "outputs": [],
   "source": [
    "def csvd(aa):\n",
    "    svdd=[]\n",
    "    for j, a_ in enumerate(aa):\n",
    "\n",
    "        a=np.asarray(a_)\n",
    "        print(f\"A:\\n{a}\")\n",
    "        U, s, Vh=svd(a)\n",
    "        print(\"U\")\n",
    "        print(U)\n",
    "        sigma = np.zeros(a.shape)\n",
    "        print(\"s\")\n",
    "        print(s)\n",
    "        print(\"Vh\")\n",
    "        print(Vh)\n",
    "        for i in range(min(a.shape)):\n",
    "            sigma[i, i] = s[i]\n",
    "        print(\"Sigma\")\n",
    "        print(sigma)\n",
    "        svdd.append((a, U.tolist(), s.tolist(), Vh, sigma))\n",
    "\n",
    "\n",
    "    return svdd"
   ],
   "metadata": {
    "collapsed": false,
    "pycharm": {
     "name": "#%%\n"
    }
   }
  },
  {
   "cell_type": "code",
   "execution_count": 22,
   "outputs": [
    {
     "name": "stdout",
     "output_type": "stream",
     "text": [
      "A:\n",
      "[[367.5282953  411.27996727]\n",
      " [411.27996727 570.2315431 ]\n",
      " [570.2315431  439.81468985]]\n",
      "U\n",
      "[[-0.48428925 -0.12512533 -0.8659143 ]\n",
      " [-0.61181407 -0.65905685  0.43741012]\n",
      " [-0.62541783  0.74161157  0.24262071]]\n",
      "s\n",
      "[1138.29645279  146.37500898]\n",
      "Vh\n",
      "[[-0.69072503 -0.72311751]\n",
      " [ 0.72311751 -0.69072503]]\n",
      "Sigma\n",
      "[[1138.29645279    0.        ]\n",
      " [   0.          146.37500898]\n",
      " [   0.            0.        ]]\n",
      "A:\n",
      "[[439.81468985 606.41515894]\n",
      " [606.41515894 428.1395325 ]\n",
      " [428.1395325  139.62391838]]\n",
      "U\n",
      "[[-0.65213419  0.67449093  0.34609678]\n",
      " [-0.66082103 -0.28201777 -0.69554406]\n",
      " [-0.37153272 -0.68229609  0.62963122]]\n",
      "s\n",
      "[1118.05423503  254.89632419]\n",
      "Vh\n",
      "[[-0.75722439 -0.65315483]\n",
      " [-0.65315483  0.75722439]]\n",
      "Sigma\n",
      "[[1118.05423503    0.        ]\n",
      " [   0.          254.89632419]\n",
      " [   0.            0.        ]]\n",
      "A:\n",
      "[[139.62391838 193.96186923]]\n",
      "U\n",
      "[[-1.]]\n",
      "s\n",
      "[238.98963429]\n",
      "Vh\n",
      "[[-0.58422583 -0.81159114]\n",
      " [-0.81159114  0.58422583]]\n",
      "Sigma\n",
      "[[238.98963429   0.        ]]\n",
      "A:\n",
      "[[193.96186923 521.81483578]\n",
      " [521.81483578 545.58836872]]\n",
      "U\n",
      "[[-0.58339922 -0.81218554]\n",
      " [-0.81218554  0.58339922]]\n",
      "s\n",
      "[920.41204257 180.86180462]\n",
      "Vh\n",
      "[[-0.58339922 -0.81218554]\n",
      " [ 0.81218554 -0.58339922]]\n",
      "Sigma\n",
      "[[920.41204257   0.        ]\n",
      " [  0.         180.86180462]]\n",
      "A:\n",
      "[[545.58836872 577.05052458]\n",
      " [577.05052458 606.84387398]\n",
      " [606.84387398 419.82045167]]\n",
      "U\n",
      "[[-0.5812103  -0.37756025 -0.72086257]\n",
      " [-0.61298121 -0.3794932   0.69299275]\n",
      " [-0.53520896  0.84464973 -0.01087198]]\n",
      "s\n",
      "[1363.81199542  128.16517265]\n",
      "Vh\n",
      "[[-0.7300207  -0.68342504]\n",
      " [ 0.68342504 -0.7300207 ]]\n",
      "Sigma\n",
      "[[1363.81199542    0.        ]\n",
      " [   0.          128.16517265]\n",
      " [   0.            0.        ]]\n",
      "A:\n",
      "[[419.82045167 475.16768026]\n",
      " [475.16768026 367.5282953 ]]\n",
      "U\n",
      "[[-0.72627193 -0.68740751]\n",
      " [-0.68740751  0.72627193]]\n",
      "s\n",
      "[869.5608534   82.21210643]\n",
      "Vh\n",
      "[[-0.72627193 -0.68740751]\n",
      " [ 0.68740751 -0.72627193]]\n",
      "Sigma\n",
      "[[869.5608534    0.        ]\n",
      " [  0.          82.21210643]]\n"
     ]
    }
   ],
   "source": [
    "n=csvd(A)"
   ],
   "metadata": {
    "collapsed": false,
    "pycharm": {
     "name": "#%%\n"
    }
   }
  },
  {
   "cell_type": "code",
   "execution_count": null,
   "outputs": [],
   "source": [],
   "metadata": {
    "collapsed": false,
    "pycharm": {
     "name": "#%%\n"
    }
   }
  }
 ],
 "metadata": {
  "kernelspec": {
   "display_name": "Python 3",
   "language": "python",
   "name": "python3"
  },
  "language_info": {
   "codemirror_mode": {
    "name": "ipython",
    "version": 2
   },
   "file_extension": ".py",
   "mimetype": "text/x-python",
   "name": "python",
   "nbconvert_exporter": "python",
   "pygments_lexer": "ipython2",
   "version": "2.7.6"
  }
 },
 "nbformat": 4,
 "nbformat_minor": 0
}