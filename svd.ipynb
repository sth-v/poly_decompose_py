{
 "cells": [
  {
   "cell_type": "code",
   "execution_count": 2,
   "metadata": {
    "collapsed": true,
    "pycharm": {
     "name": "#%%\n"
    }
   },
   "outputs": [
    {
     "data": {
      "text/plain": "'f = open(\"/Users/andrewastakhov/dumps/pl.json\", \"r\")\\npoints = json.load(f)[\\'pts\\']'"
     },
     "execution_count": 2,
     "metadata": {},
     "output_type": "execute_result"
    }
   ],
   "source": [
    "import json\n",
    "from itertools import cycle, islice\n",
    "from shapely.geometry import LineString, Polygon\n",
    "import numpy as np\n",
    "from basepolygon_class import GoalPolygon\n",
    "from itertools import combinations\n",
    "\n",
    "'''f = open(\"/Users/andrewastakhov/dumps/pl.json\", \"r\")\n",
    "points = json.load(f)['pts']'''"
   ]
  },
  {
   "cell_type": "code",
   "execution_count": 3,
   "outputs": [
    {
     "name": "stderr",
     "output_type": "stream",
     "text": [
      "/opt/anaconda3/envs/tests/lib/python3.10/site-packages/osmnx/geocoder.py:110: FutureWarning: The frame.append method is deprecated and will be removed from pandas in a future version. Use pandas.concat instead.\n",
      "  gdf = gdf.append(_geocode_query_to_gdf(q, wr, by_osmid))\n",
      "/opt/anaconda3/envs/tests/lib/python3.10/site-packages/osmnx/geocoder.py:110: FutureWarning: The frame.append method is deprecated and will be removed from pandas in a future version. Use pandas.concat instead.\n",
      "  gdf = gdf.append(_geocode_query_to_gdf(q, wr, by_osmid))\n",
      "/opt/anaconda3/envs/tests/lib/python3.10/site-packages/osmnx/geocoder.py:110: FutureWarning: The frame.append method is deprecated and will be removed from pandas in a future version. Use pandas.concat instead.\n",
      "  gdf = gdf.append(_geocode_query_to_gdf(q, wr, by_osmid))\n"
     ]
    }
   ],
   "source": [
    "place = GoalPolygon('Жилой комплекс «Одинцово-1»')\n",
    "v = place.polygon\n",
    "s = v.simplify(10, preserve_topology=True)\n",
    "coor_list = (list(s.boundary.coords[0:len(s.boundary.coords) - 1]))\n",
    "poly = Polygon(s)"
   ],
   "metadata": {
    "collapsed": false,
    "pycharm": {
     "name": "#%%\n"
    }
   }
  },
  {
   "cell_type": "code",
   "execution_count": 10,
   "outputs": [],
   "source": [
    "def vector_search(point_list, key):\n",
    "    cr = []\n",
    "    n = list(islice(cycle(range(len(point_list))), 0, len(point_list) + 2))\n",
    "    for i in range(len(point_list)):\n",
    "        v_one = [point_list[n[i]][0] - point_list[n[i + 1]][0], point_list[n[i]][1] - point_list[n[i + 1]][1], 0]\n",
    "        v_two = [point_list[n[i + 1]][0] - point_list[n[i + 2]][0], point_list[n[i + 1]][1] - point_list[n[i + 2]][1],\n",
    "                 0]\n",
    "        v_o_norm, v_t_norm = v_one / np.linalg.norm(v_one), v_two / np.linalg.norm(v_two)\n",
    "        if np.cross(v_o_norm, v_t_norm)[2] < key:\n",
    "            cr.append(n[i + 1])\n",
    "        else:\n",
    "            pass\n",
    "    cross = [*cr, cr[0] + cr[-1] + 1]\n",
    "    double_points = [*range(len(point_list)), *range(len(point_list))]\n",
    "    segments = [double_points[cross[c]:cross[c + 1]] for c in range(len(cross) - 1)]\n",
    "    return segments\n",
    "\n",
    "\n",
    "def clusterize(poly_edges):\n",
    "    lines = []\n",
    "    vectors_list = []\n",
    "    key_vals = vector_search(poly_edges.boundary.coords[0:len(s.boundary.coords) - 1], 0.7)\n",
    "    vertices = poly_edges.boundary.coords[0:len(s.boundary.coords)]\n",
    "    for k in range(len(vertices) - 1):\n",
    "        lines.append(LineString([vertices[k], vertices[k + 1]]))\n",
    "    for i in key_vals:\n",
    "        l=[]\n",
    "        for ii in i:\n",
    "            vect = [lines[ii].coords[0][0] - lines[ii].coords[1][0],\n",
    "                    lines[ii].coords[0][1] - lines[ii].coords[1][1]]\n",
    "            l.append(vect)\n",
    "        vectors_list.append(l)\n",
    "\n",
    "    return vectors_list\n"
   ],
   "metadata": {
    "collapsed": false,
    "pycharm": {
     "name": "#%%\n"
    }
   }
  },
  {
   "cell_type": "code",
   "execution_count": 11,
   "outputs": [
    {
     "name": "stdout",
     "output_type": "stream",
     "text": [
      "[[1, 2, 3], [4, 5, 6], [7], [8, 9], [10, 11, 12], [13, 0]]\n",
      "[[[40.27832240751013, 17.184793210588396], [-90.76909511670237, 342.689586349763], [-597.2236579991877, -170.50443049520254]], [[-302.8780582649051, -317.03347889892757], [308.1424075482064, -308.39204586390406], [204.62842559075216, 203.57871970254928]], [[278.06133277650224, 43.473096154630184]], [[101.89771133306203, -376.15734403952956], [63.9330358550651, 17.928993717767298]], [[9.30055009451462, -33.0232094200328], [65.70811673195567, 18.42902405373752], [-62.45231896225596, 221.67703934758902]], [[72.29789360892028, 20.2681416394189], [-90.92466560343746, 319.88111454155296]]]\n"
     ]
    }
   ],
   "source": [
    "v = clusterize(poly)\n",
    "print(v)"
   ],
   "metadata": {
    "collapsed": false,
    "pycharm": {
     "name": "#%%\n"
    }
   }
  },
  {
   "cell_type": "code",
   "execution_count": 12,
   "outputs": [
    {
     "ename": "NameError",
     "evalue": "name 'points' is not defined",
     "output_type": "error",
     "traceback": [
      "\u001B[0;31m---------------------------------------------------------------------------\u001B[0m",
      "\u001B[0;31mNameError\u001B[0m                                 Traceback (most recent call last)",
      "Input \u001B[0;32mIn [12]\u001B[0m, in \u001B[0;36m<cell line: 3>\u001B[0;34m()\u001B[0m\n\u001B[1;32m      1\u001B[0m \u001B[38;5;28;01mfrom\u001B[39;00m \u001B[38;5;21;01mscipy\u001B[39;00m\u001B[38;5;21;01m.\u001B[39;00m\u001B[38;5;21;01mlinalg\u001B[39;00m \u001B[38;5;28;01mimport\u001B[39;00m svd\n\u001B[1;32m      2\u001B[0m \u001B[38;5;28;01mimport\u001B[39;00m \u001B[38;5;21;01mnumpy\u001B[39;00m \u001B[38;5;28;01mas\u001B[39;00m \u001B[38;5;21;01mnp\u001B[39;00m\n\u001B[0;32m----> 3\u001B[0m A \u001B[38;5;241m=\u001B[39m np\u001B[38;5;241m.\u001B[39masarray(\u001B[43mpoints\u001B[49m)\n",
      "\u001B[0;31mNameError\u001B[0m: name 'points' is not defined"
     ]
    }
   ],
   "source": [
    "from scipy.linalg import svd\n",
    "import numpy as np\n",
    "#A = np.asarray(points)"
   ],
   "metadata": {
    "collapsed": false,
    "pycharm": {
     "name": "#%%\n"
    }
   }
  },
  {
   "cell_type": "markdown",
   "source": [
    "Пример с одной матрицей"
   ],
   "metadata": {
    "collapsed": false,
    "pycharm": {
     "name": "#%% md\n"
    }
   }
  },
  {
   "cell_type": "code",
   "execution_count": 10,
   "outputs": [],
   "source": [
    "a = np.asarray(A[0])"
   ],
   "metadata": {
    "collapsed": false,
    "pycharm": {
     "name": "#%%\n"
    }
   }
  },
  {
   "cell_type": "code",
   "execution_count": 11,
   "outputs": [],
   "source": [
    "U, s, Vh=svd(a)"
   ],
   "metadata": {
    "collapsed": false,
    "pycharm": {
     "name": "#%%\n"
    }
   }
  },
  {
   "cell_type": "markdown",
   "source": [
    "Получить Sigma из s Хуй знает зачем сайпи говорят что это полезно"
   ],
   "metadata": {
    "collapsed": false,
    "pycharm": {
     "name": "#%% md\n"
    }
   }
  },
  {
   "cell_type": "code",
   "execution_count": 12,
   "outputs": [],
   "source": [
    "sigma = np.zeros(a.shape)\n",
    "for i in range(min(a.shape)):\n",
    "            sigma[i, i] = s[i]"
   ],
   "metadata": {
    "collapsed": false,
    "pycharm": {
     "name": "#%%\n"
    }
   }
  },
  {
   "cell_type": "markdown",
   "source": [
    "А точно, как минимум для обратной проверки, \"B\" должно быть равно \"a\""
   ],
   "metadata": {
    "collapsed": false,
    "pycharm": {
     "name": "#%% md\n"
    }
   }
  },
  {
   "cell_type": "code",
   "execution_count": 15,
   "outputs": [],
   "source": [
    "B = U @ sigma @ Vh"
   ],
   "metadata": {
    "collapsed": false,
    "pycharm": {
     "name": "#%%\n"
    }
   }
  },
  {
   "cell_type": "code",
   "execution_count": 18,
   "outputs": [
    {
     "data": {
      "text/plain": "array([[367.5282953 , 411.27996727],\n       [411.27996727, 570.2315431 ],\n       [570.2315431 , 439.81468985]])"
     },
     "execution_count": 18,
     "metadata": {},
     "output_type": "execute_result"
    }
   ],
   "source": [
    "a"
   ],
   "metadata": {
    "collapsed": false,
    "pycharm": {
     "name": "#%%\n"
    }
   }
  },
  {
   "cell_type": "code",
   "execution_count": 19,
   "outputs": [
    {
     "data": {
      "text/plain": "array([[367.5282953 , 411.27996727],\n       [411.27996727, 570.2315431 ],\n       [570.2315431 , 439.81468985]])"
     },
     "execution_count": 19,
     "metadata": {},
     "output_type": "execute_result"
    }
   ],
   "source": [
    "B"
   ],
   "metadata": {
    "collapsed": false,
    "pycharm": {
     "name": "#%%\n"
    }
   }
  },
  {
   "cell_type": "markdown",
   "source": [
    "Функция итерирующая список матриц и вычисляющая свд для каждой"
   ],
   "metadata": {
    "collapsed": false,
    "pycharm": {
     "name": "#%% md\n"
    }
   }
  },
  {
   "cell_type": "code",
   "execution_count": 21,
   "outputs": [],
   "source": [
    "def csvd(aa):\n",
    "    svdd=[]\n",
    "    for j, a_ in enumerate(aa):\n",
    "\n",
    "        a=np.asarray(a_)\n",
    "        print(f\"A:\\n{a}\")\n",
    "        U, s, Vh=svd(a)\n",
    "        print(\"U\")\n",
    "        print(U)\n",
    "        sigma = np.zeros(a.shape)\n",
    "        print(\"s\")\n",
    "        print(s)\n",
    "        print(\"Vh\")\n",
    "        print(Vh)\n",
    "        for i in range(min(a.shape)):\n",
    "            sigma[i, i] = s[i]\n",
    "        print(\"Sigma\")\n",
    "        print(sigma)\n",
    "        svdd.append((a, U.tolist(), s.tolist(), Vh, sigma))\n",
    "\n",
    "\n",
    "    return svdd"
   ],
   "metadata": {
    "collapsed": false,
    "pycharm": {
     "name": "#%%\n"
    }
   }
  },
  {
   "cell_type": "code",
   "execution_count": 22,
   "outputs": [
    {
     "name": "stdout",
     "output_type": "stream",
     "text": [
      "A:\n",
      "[[367.5282953  411.27996727]\n",
      " [411.27996727 570.2315431 ]\n",
      " [570.2315431  439.81468985]]\n",
      "U\n",
      "[[-0.48428925 -0.12512533 -0.8659143 ]\n",
      " [-0.61181407 -0.65905685  0.43741012]\n",
      " [-0.62541783  0.74161157  0.24262071]]\n",
      "s\n",
      "[1138.29645279  146.37500898]\n",
      "Vh\n",
      "[[-0.69072503 -0.72311751]\n",
      " [ 0.72311751 -0.69072503]]\n",
      "Sigma\n",
      "[[1138.29645279    0.        ]\n",
      " [   0.          146.37500898]\n",
      " [   0.            0.        ]]\n",
      "A:\n",
      "[[439.81468985 606.41515894]\n",
      " [606.41515894 428.1395325 ]\n",
      " [428.1395325  139.62391838]]\n",
      "U\n",
      "[[-0.65213419  0.67449093  0.34609678]\n",
      " [-0.66082103 -0.28201777 -0.69554406]\n",
      " [-0.37153272 -0.68229609  0.62963122]]\n",
      "s\n",
      "[1118.05423503  254.89632419]\n",
      "Vh\n",
      "[[-0.75722439 -0.65315483]\n",
      " [-0.65315483  0.75722439]]\n",
      "Sigma\n",
      "[[1118.05423503    0.        ]\n",
      " [   0.          254.89632419]\n",
      " [   0.            0.        ]]\n",
      "A:\n",
      "[[139.62391838 193.96186923]]\n",
      "U\n",
      "[[-1.]]\n",
      "s\n",
      "[238.98963429]\n",
      "Vh\n",
      "[[-0.58422583 -0.81159114]\n",
      " [-0.81159114  0.58422583]]\n",
      "Sigma\n",
      "[[238.98963429   0.        ]]\n",
      "A:\n",
      "[[193.96186923 521.81483578]\n",
      " [521.81483578 545.58836872]]\n",
      "U\n",
      "[[-0.58339922 -0.81218554]\n",
      " [-0.81218554  0.58339922]]\n",
      "s\n",
      "[920.41204257 180.86180462]\n",
      "Vh\n",
      "[[-0.58339922 -0.81218554]\n",
      " [ 0.81218554 -0.58339922]]\n",
      "Sigma\n",
      "[[920.41204257   0.        ]\n",
      " [  0.         180.86180462]]\n",
      "A:\n",
      "[[545.58836872 577.05052458]\n",
      " [577.05052458 606.84387398]\n",
      " [606.84387398 419.82045167]]\n",
      "U\n",
      "[[-0.5812103  -0.37756025 -0.72086257]\n",
      " [-0.61298121 -0.3794932   0.69299275]\n",
      " [-0.53520896  0.84464973 -0.01087198]]\n",
      "s\n",
      "[1363.81199542  128.16517265]\n",
      "Vh\n",
      "[[-0.7300207  -0.68342504]\n",
      " [ 0.68342504 -0.7300207 ]]\n",
      "Sigma\n",
      "[[1363.81199542    0.        ]\n",
      " [   0.          128.16517265]\n",
      " [   0.            0.        ]]\n",
      "A:\n",
      "[[419.82045167 475.16768026]\n",
      " [475.16768026 367.5282953 ]]\n",
      "U\n",
      "[[-0.72627193 -0.68740751]\n",
      " [-0.68740751  0.72627193]]\n",
      "s\n",
      "[869.5608534   82.21210643]\n",
      "Vh\n",
      "[[-0.72627193 -0.68740751]\n",
      " [ 0.68740751 -0.72627193]]\n",
      "Sigma\n",
      "[[869.5608534    0.        ]\n",
      " [  0.          82.21210643]]\n"
     ]
    }
   ],
   "source": [
    "n=csvd(A)"
   ],
   "metadata": {
    "collapsed": false,
    "pycharm": {
     "name": "#%%\n"
    }
   }
  },
  {
   "cell_type": "code",
   "execution_count": null,
   "outputs": [],
   "source": [],
   "metadata": {
    "collapsed": false,
    "pycharm": {
     "name": "#%%\n"
    }
   }
  }
 ],
 "metadata": {
  "kernelspec": {
   "display_name": "Python 3",
   "language": "python",
   "name": "python3"
  },
  "language_info": {
   "codemirror_mode": {
    "name": "ipython",
    "version": 2
   },
   "file_extension": ".py",
   "mimetype": "text/x-python",
   "name": "python",
   "nbconvert_exporter": "python",
   "pygments_lexer": "ipython2",
   "version": "2.7.6"
  }
 },
 "nbformat": 4,
 "nbformat_minor": 0
}