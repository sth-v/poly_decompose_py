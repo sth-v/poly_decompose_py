{
 "cells": [
  {
   "cell_type": "markdown",
   "source": [
    "Получение исходных данных"
   ],
   "metadata": {
    "collapsed": false,
    "pycharm": {
     "name": "#%% md\n"
    }
   },
   "outputs": []
  },
  {
   "cell_type": "code",
   "execution_count": 378,
   "outputs": [
    {
     "name": "stderr",
     "output_type": "stream",
     "text": [
      "/Users/andrewastakhov/opt/anaconda3/envs/work/lib/python3.9/site-packages/osmnx/geocoder.py:110: FutureWarning: The frame.append method is deprecated and will be removed from pandas in a future version. Use pandas.concat instead.\n",
      "  gdf = gdf.append(_geocode_query_to_gdf(q, wr, by_osmid))\n",
      "/Users/andrewastakhov/opt/anaconda3/envs/work/lib/python3.9/site-packages/osmnx/geocoder.py:110: FutureWarning: The frame.append method is deprecated and will be removed from pandas in a future version. Use pandas.concat instead.\n",
      "  gdf = gdf.append(_geocode_query_to_gdf(q, wr, by_osmid))\n",
      "/Users/andrewastakhov/opt/anaconda3/envs/work/lib/python3.9/site-packages/osmnx/geocoder.py:110: FutureWarning: The frame.append method is deprecated and will be removed from pandas in a future version. Use pandas.concat instead.\n",
      "  gdf = gdf.append(_geocode_query_to_gdf(q, wr, by_osmid))\n"
     ]
    }
   ],
   "source": [
    "from basepolygon_class import GoalPolygon\n",
    "\n",
    "place = GoalPolygon('Жилой комплекс «Одинцово-1»')\n",
    "v = place.polygon"
   ],
   "metadata": {
    "collapsed": false,
    "pycharm": {
     "name": "#%%\n"
    }
   }
  },
  {
   "cell_type": "markdown",
   "source": [
    "Геометрическое упрощение"
   ],
   "metadata": {
    "collapsed": false,
    "pycharm": {
     "name": "#%% md\n"
    }
   }
  },
  {
   "cell_type": "code",
   "execution_count": 379,
   "outputs": [],
   "source": [
    "def get_xy(s):\n",
    "    x, y = s.centroid.coords.xy\n",
    "    return x[0], y[0]"
   ],
   "metadata": {
    "collapsed": false,
    "pycharm": {
     "name": "#%%\n"
    }
   }
  },
  {
   "cell_type": "code",
   "execution_count": 380,
   "outputs": [
    {
     "data": {
      "text/plain": "<shapely.geometry.polygon.Polygon at 0x7fa051913c40>",
      "image/svg+xml": "<svg xmlns=\"http://www.w3.org/2000/svg\" xmlns:xlink=\"http://www.w3.org/1999/xlink\" width=\"300\" height=\"300\" viewBox=\"-498.67795826138695 -462.44168897466966 1124.8385269429232 1023.4510715087922\" preserveAspectRatio=\"xMinYMin meet\"><g transform=\"matrix(1,0,0,-1,0,98.56769355945289)\"><path fill-rule=\"evenodd\" fill=\"#66cc99\" stroke=\"#555555\" stroke-width=\"7.498923512952821\" opacity=\"0.6\" d=\"M -457.0172720783157,258.9744913103059 L -366.09260647482006,-60.90662323124707 L -406.3709288823302,-78.09141644183546 L -315.6018337656278,-420.78100279159844 L 281.6218242335599,-250.2765722963959 L 584.499882498465,66.75690660253167 L 276.3574749502586,375.14895246643573 L 71.72904935950646,171.57023276388645 L -206.33228341699578,128.09713660925627 L -308.2299947500578,504.25448064878583 L -372.1630306051229,486.32548693101853 L -381.46358069963753,519.3486963510513 L -447.1716974315932,500.9196722973138 L -384.71937846933724,279.2426329497248 L -457.0172720783157,258.9744913103059 z\" /></g></svg>"
     },
     "execution_count": 380,
     "metadata": {},
     "output_type": "execute_result"
    }
   ],
   "source": [
    "from shapely.affinity import translate\n",
    "\n",
    "s = v.simplify(10, preserve_topology=True)\n",
    "x, y = get_xy(s)\n",
    "st = translate(s, 0-x, 0-y)\n",
    "\n",
    "st"
   ],
   "metadata": {
    "collapsed": false,
    "pycharm": {
     "name": "#%%\n"
    }
   }
  },
  {
   "cell_type": "code",
   "execution_count": 476,
   "outputs": [
    {
     "name": "stdout",
     "output_type": "stream",
     "text": [
      "[(-457.0172720783157, 258.9744913103059), (-366.09260647482006, -60.90662323124707), (-406.3709288823302, -78.09141644183546), (-315.6018337656278, -420.78100279159844), (281.6218242335599, -250.2765722963959), (584.499882498465, 66.75690660253167), (276.3574749502586, 375.14895246643573), (71.72904935950646, 171.57023276388645), (-206.33228341699578, 128.09713660925627), (-308.2299947500578, 504.25448064878583), (-372.1630306051229, 486.32548693101853), (-381.46358069963753, 519.3486963510513), (-447.1716974315932, 500.9196722973138), (-384.71937846933724, 279.2426329497248)]\n"
     ]
    }
   ],
   "source": [
    "# убрать бы эту ебань\n",
    "coor_list = (list(st.boundary.coords[0:len(st.boundary.coords) - 1]))\n",
    "print (coor_list)"
   ],
   "metadata": {
    "collapsed": false,
    "pycharm": {
     "name": "#%%\n"
    }
   }
  },
  {
   "cell_type": "markdown",
   "source": [
    "Декомпозиция периметра"
   ],
   "metadata": {
    "collapsed": false,
    "pycharm": {
     "name": "#%% md\n"
    }
   }
  },
  {
   "cell_type": "code",
   "execution_count": 382,
   "outputs": [],
   "source": [
    "import numpy as np\n",
    "from math import pi, cos, sin\n",
    "\n",
    "target = pi/2\n",
    "basis = np.array([[1, 0, 0],[0, 1, 0]])\n",
    "tolerance=0.75"
   ],
   "metadata": {
    "collapsed": false,
    "pycharm": {
     "name": "#%%\n"
    }
   }
  },
  {
   "cell_type": "code",
   "execution_count": 383,
   "outputs": [
    {
     "data": {
      "text/plain": "array([[ 0., -1.,  0.],\n       [ 1.,  0.,  0.],\n       [ 0.,  0.,  1.]])"
     },
     "execution_count": 383,
     "metadata": {},
     "output_type": "execute_result"
    }
   ],
   "source": [
    "transform = np.array(\n",
    "    [\n",
    "        [cos(target), -sin(target), 0],\n",
    "        [sin(target), cos(target), 0],\n",
    "        [0, 0, 1]\n",
    "    ]\n",
    ")\n",
    "transform"
   ],
   "metadata": {
    "collapsed": false,
    "pycharm": {
     "name": "#%%\n"
    }
   }
  },
  {
   "cell_type": "code",
   "execution_count": 484,
   "outputs": [
    {
     "name": "stderr",
     "output_type": "stream",
     "text": [
      "/var/folders/ck/jb6rmtxx78j862ljh049mjtw0000gn/T/ipykernel_1817/2402548898.py:1: DeprecationWarning: `np.complex` is a deprecated alias for the builtin `complex`. To silence this warning, use `complex` by itself. Doing this will not modify any behavior and is safe. If you specifically wanted the numpy scalar type, use `np.complex128` here.\n",
      "Deprecated in NumPy 1.20; for more details and guidance: https://numpy.org/devdocs/release/1.20.0-notes.html#deprecations\n",
      "  metric = np.complex(np.cross(basis[0], basis[1])[-1],\n"
     ]
    }
   ],
   "source": [
    "metric = np.complex(np.cross(basis[0], basis[1])[-1],\n",
    "                             np.cross(basis[1], basis[0])[-1])\n"
   ],
   "metadata": {
    "collapsed": false,
    "pycharm": {
     "name": "#%%\n"
    }
   }
  },
  {
   "cell_type": "code",
   "execution_count": 503,
   "outputs": [],
   "source": [
    "from itertools import islice, cycle\n",
    "\n",
    "def vec_search(point_list, key):\n",
    "    cr = []\n",
    "    n = list(islice(cycle(range(len(point_list))), 0, len(point_list) + 2))\n",
    "    for i in range(len(point_list)):\n",
    "        v_one = [point_list[n[i]][0] - point_list[n[i + 1]][0], point_list[n[i]][1] - point_list[n[i + 1]][1], 0]\n",
    "        v_two = [point_list[n[i + 1]][0] - point_list[n[i + 2]][0], point_list[n[i + 1]][1] - point_list[n[i + 2]][1],0]\n",
    "        v_o_norm, v_t_norm = v_one / np.linalg.norm(v_one), v_two / np.linalg.norm(v_two)\n",
    "        if np.cross(v_o_norm, v_t_norm)[2] < key:\n",
    "            cr.append(n[i + 1])\n",
    "        else:\n",
    "            pass\n",
    "    cross = [*cr, cr[0] + cr[-1] + 1]\n",
    "    double_points = [*range(len(point_list)), *range(len(point_list))]\n",
    "    segments = [double_points[cross[c]:cross[c + 1]+1] for c in range(len(cross) - 1)]\n",
    "    return segments"
   ],
   "metadata": {
    "collapsed": false,
    "pycharm": {
     "name": "#%%\n"
    }
   }
  },
  {
   "cell_type": "code",
   "execution_count": 504,
   "outputs": [
    {
     "name": "stdout",
     "output_type": "stream",
     "text": [
      "[[1, 2, 3, 4], [4, 5, 6, 7], [7, 8], [8, 9, 10], [10, 11, 12, 13], [13, 0, 1]]\n"
     ]
    }
   ],
   "source": [
    "bb = vec_search(coor_list, 0.7)\n",
    "print(bb)"
   ],
   "metadata": {
    "collapsed": false,
    "pycharm": {
     "name": "#%%\n"
    }
   }
  },
  {
   "cell_type": "code",
   "execution_count": null,
   "outputs": [],
   "source": [],
   "metadata": {
    "collapsed": false,
    "pycharm": {
     "name": "#%%\n"
    }
   }
  },
  {
   "cell_type": "code",
   "execution_count": 535,
   "outputs": [],
   "source": [
    "def chains (point_list):\n",
    "    key_val = vec_search(point_list, 0.7)\n",
    "    vectors =[]\n",
    "    for i in key_val:\n",
    "        temp =[]\n",
    "        for l in range(len(i)-1):\n",
    "            vec = [point_list[i[l]][0] - point_list[i[l+1]][0], point_list[i[l]][1] - point_list[i[l+1]][1]]\n",
    "            temp.append(vec)\n",
    "        vectors.append(temp)\n",
    "    return vectors\n",
    "\n"
   ],
   "metadata": {
    "collapsed": false,
    "pycharm": {
     "name": "#%%\n"
    }
   }
  },
  {
   "cell_type": "code",
   "execution_count": 536,
   "outputs": [
    {
     "name": "stdout",
     "output_type": "stream",
     "text": [
      "[[[40.27832240751013, 17.184793210588396], [-90.76909511670237, 342.689586349763], [-597.2236579991877, -170.50443049520254]], [[-302.8780582649051, -317.03347889892757], [308.1424075482064, -308.39204586390406], [204.62842559075216, 203.57871970254928]], [[278.06133277650224, 43.473096154630184]], [[101.89771133306203, -376.15734403952956], [63.9330358550651, 17.928993717767298]], [[9.30055009451462, -33.0232094200328], [65.70811673195567, 18.42902405373752], [-62.45231896225596, 221.67703934758902]], [[72.29789360897848, 20.2681416394189], [-90.92466560349567, 319.88111454155296]]]\n"
     ]
    }
   ],
   "source": [
    "res_vec = chains(coor_list)\n",
    "print(res_vec)"
   ],
   "metadata": {
    "collapsed": false,
    "pycharm": {
     "name": "#%%\n"
    }
   }
  },
  {
   "cell_type": "markdown",
   "source": [
    "SVD\n",
    "Декомпозиция"
   ],
   "metadata": {
    "collapsed": false,
    "pycharm": {
     "name": "#%% md\n"
    }
   }
  },
  {
   "cell_type": "code",
   "execution_count": 540,
   "outputs": [],
   "source": [
    "# Это техническая часть для работы с локальными данными\n",
    "import json\n",
    "\n",
    "f = open(\"/Users/andrewastakhov/dumps/pl.json\", \"r\")\n",
    "points = json.load(f)['pts']"
   ],
   "metadata": {
    "collapsed": false,
    "pycharm": {
     "name": "#%%\n"
    }
   }
  },
  {
   "cell_type": "code",
   "execution_count": 541,
   "outputs": [
    {
     "name": "stderr",
     "output_type": "stream",
     "text": [
      "/var/folders/ck/jb6rmtxx78j862ljh049mjtw0000gn/T/ipykernel_1817/1396746674.py:4: VisibleDeprecationWarning: Creating an ndarray from ragged nested sequences (which is a list-or-tuple of lists-or-tuples-or ndarrays with different lengths or shapes) is deprecated. If you meant to do this, you must specify 'dtype=object' when creating the ndarray.\n",
      "  A = np.asarray(res_vec)\n"
     ]
    }
   ],
   "source": [
    "from scipy.linalg import svd\n",
    "import numpy as np\n",
    "\n",
    "A = np.asarray(res_vec)"
   ],
   "metadata": {
    "collapsed": false,
    "pycharm": {
     "name": "#%%\n"
    }
   }
  },
  {
   "cell_type": "code",
   "execution_count": 542,
   "outputs": [
    {
     "name": "stdout",
     "output_type": "stream",
     "text": [
      "[list([[40.27832240751013, 17.184793210588396], [-90.76909511670237, 342.689586349763], [-597.2236579991877, -170.50443049520254]])\n",
      " list([[-302.8780582649051, -317.03347889892757], [308.1424075482064, -308.39204586390406], [204.62842559075216, 203.57871970254928]])\n",
      " list([[278.06133277650224, 43.473096154630184]])\n",
      " list([[101.89771133306203, -376.15734403952956], [63.9330358550651, 17.928993717767298]])\n",
      " list([[9.30055009451462, -33.0232094200328], [65.70811673195567, 18.42902405373752], [-62.45231896225596, 221.67703934758902]])\n",
      " list([[72.29789360897848, 20.2681416394189], [-90.92466560349567, 319.88111454155296]])]\n"
     ]
    }
   ],
   "source": [
    "print(A)"
   ],
   "metadata": {
    "collapsed": false,
    "pycharm": {
     "name": "#%%\n"
    }
   }
  },
  {
   "cell_type": "markdown",
   "source": [
    "Пример с одной матрицей"
   ],
   "metadata": {
    "collapsed": false,
    "pycharm": {
     "name": "#%% md\n"
    }
   }
  },
  {
   "cell_type": "code",
   "execution_count": 543,
   "outputs": [],
   "source": [
    "a = np.asarray(A[0])"
   ],
   "metadata": {
    "collapsed": false,
    "pycharm": {
     "name": "#%%\n"
    }
   }
  },
  {
   "cell_type": "code",
   "execution_count": 544,
   "outputs": [
    {
     "data": {
      "text/plain": "array([[  40.27832241,   17.18479321],\n       [ -90.76909512,  342.68958635],\n       [-597.223658  , -170.5044305 ]])"
     },
     "execution_count": 544,
     "metadata": {},
     "output_type": "execute_result"
    }
   ],
   "source": [
    "a"
   ],
   "metadata": {
    "collapsed": false,
    "pycharm": {
     "name": "#%%\n"
    }
   }
  },
  {
   "cell_type": "code",
   "execution_count": 545,
   "outputs": [],
   "source": [
    "U, s, Vh=svd(a)"
   ],
   "metadata": {
    "collapsed": false,
    "pycharm": {
     "name": "#%%\n"
    }
   }
  },
  {
   "cell_type": "code",
   "execution_count": 546,
   "outputs": [
    {
     "data": {
      "text/plain": "array([622.66245335, 354.44628545])"
     },
     "execution_count": 546,
     "metadata": {},
     "output_type": "execute_result"
    }
   ],
   "source": [
    "s"
   ],
   "metadata": {
    "collapsed": false,
    "pycharm": {
     "name": "#%%\n"
    }
   }
  },
  {
   "cell_type": "markdown",
   "source": [
    "Получить Sigma из s Хуй знает зачем сайпи говорят что это полезно"
   ],
   "metadata": {
    "collapsed": false,
    "pycharm": {
     "name": "#%% md\n"
    }
   }
  },
  {
   "cell_type": "code",
   "execution_count": 547,
   "outputs": [
    {
     "data": {
      "text/plain": "array([[622.66245335,   0.        ],\n       [  0.        , 354.44628545],\n       [  0.        ,   0.        ]])"
     },
     "execution_count": 547,
     "metadata": {},
     "output_type": "execute_result"
    }
   ],
   "source": [
    "sigma = np.zeros(a.shape)\n",
    "for i in range(min(a.shape)):\n",
    "            sigma[i, i] = s[i]\n",
    "sigma"
   ],
   "metadata": {
    "collapsed": false,
    "pycharm": {
     "name": "#%%\n"
    }
   }
  },
  {
   "cell_type": "markdown",
   "source": [
    "А точно, как минимум для обратной проверки, \"B\" должно быть равно \"a\""
   ],
   "metadata": {
    "collapsed": false,
    "pycharm": {
     "name": "#%% md\n"
    }
   }
  },
  {
   "cell_type": "code",
   "execution_count": 548,
   "outputs": [],
   "source": [
    "B = U @ sigma @ Vh"
   ],
   "metadata": {
    "collapsed": false,
    "pycharm": {
     "name": "#%%\n"
    }
   }
  },
  {
   "cell_type": "code",
   "execution_count": 549,
   "outputs": [
    {
     "data": {
      "text/plain": "array([[  40.27832241,   17.18479321],\n       [ -90.76909512,  342.68958635],\n       [-597.223658  , -170.5044305 ]])"
     },
     "execution_count": 549,
     "metadata": {},
     "output_type": "execute_result"
    }
   ],
   "source": [
    "a"
   ],
   "metadata": {
    "collapsed": false,
    "pycharm": {
     "name": "#%%\n"
    }
   }
  },
  {
   "cell_type": "code",
   "execution_count": 550,
   "outputs": [
    {
     "data": {
      "text/plain": "array([[  40.27832241,   17.18479321],\n       [ -90.76909512,  342.68958635],\n       [-597.223658  , -170.5044305 ]])"
     },
     "execution_count": 550,
     "metadata": {},
     "output_type": "execute_result"
    }
   ],
   "source": [
    "B"
   ],
   "metadata": {
    "collapsed": false,
    "pycharm": {
     "name": "#%%\n"
    }
   }
  },
  {
   "cell_type": "markdown",
   "source": [
    "Теперь на торче\n",
    "Класс треннируется на основе отсортированых данных выпуклой декомпозиции периметра\n"
   ],
   "metadata": {
    "collapsed": false,
    "pycharm": {
     "name": "#%% md\n"
    }
   }
  },
  {
   "cell_type": "code",
   "execution_count": 551,
   "outputs": [],
   "source": [
    "import torch\n",
    "from polygon_division import vector_search, points_to_point_chain"
   ],
   "metadata": {
    "collapsed": false,
    "pycharm": {
     "name": "#%%\n"
    }
   }
  },
  {
   "cell_type": "markdown",
   "source": [],
   "metadata": {
    "collapsed": false,
    "pycharm": {
     "name": "#%% md\n"
    }
   }
  },
  {
   "cell_type": "code",
   "execution_count": 552,
   "outputs": [],
   "source": [
    "class SvdItem:\n",
    "    keys=[\"A\", \"U\", \"S\", \"Vh\", \"Sigma\"]\n",
    "    def __init__(self, m, collection=None, **kwargs):\n",
    "        self.A = torch.tensor(m)\n",
    "        self.collection=collection\n",
    "        self.U = None\n",
    "        self.S = None\n",
    "        self.Vh = None\n",
    "        self.Sigma = None\n",
    "        self.svd(**kwargs)\n",
    "        if collection is not None:\n",
    "            self.id = f'{collection.id}:{len(collection.matrices)}'\n",
    "            print(f'set item id: {self.id}')\n",
    "            collection.A.append(self.A)\n",
    "\n",
    "\n",
    "\n",
    "    def svd(self, **kwargs):\n",
    "        U, S, Vh = torch.linalg.svd(self.A, **kwargs)\n",
    "        Sigma = torch.diag(S)\n",
    "        self.U, self.S, self.Vh, self.Sigma=U, S, Vh, Sigma\n",
    "        print(self.U, self.S, self.Vh, self.Sigma)\n",
    "        if self.collection:\n",
    "            for v, k in zip([A, U, S, Vh, Sigma], self.__class__.keys):\n",
    "                (self.collection.__dict__[k]).append(v)\n",
    "\n",
    "        return U, S, Vh, Sigma\n",
    "    def pack(self):\n",
    "        self.collection.__dict__[self.__class__.__name__][self.collection.id]|={self.id:self}\n",
    "        return self.id, self\n",
    "\n",
    "\n",
    "\n",
    "class SvdPack:\n",
    "    def __init__(self):\n",
    "        self._matrices = []\n",
    "        self.id = f'{0}:{0}'\n",
    "        self.A, self.U, self.S, self.Vh, self.Sigma = [], [], [], [], []\n",
    "        self.tree= {self.id:{}}\n",
    "\n",
    "\n",
    "\n",
    "    @property\n",
    "    def matrices(self):\n",
    "        return self._matrices\n",
    "    @matrices.setter\n",
    "    def matrices(self, val, **kwargs):\n",
    "        if len(val.shape) == 2:\n",
    "            self._matrices.append(SvdItem(val, collection=self, **kwargs))\n",
    "        else:\n",
    "            for v in val:\n",
    "                self._matrices.append(SvdItem(v, collection=self, **kwargs))\n"
   ],
   "metadata": {
    "collapsed": false,
    "pycharm": {
     "name": "#%%\n"
    }
   }
  },
  {
   "cell_type": "code",
   "execution_count": 566,
   "outputs": [],
   "source": [
    "pck = SvdPack()"
   ],
   "metadata": {
    "collapsed": false,
    "pycharm": {
     "name": "#%%\n"
    }
   }
  },
  {
   "cell_type": "code",
   "execution_count": 567,
   "outputs": [],
   "source": [
    "a_=np.asarray(res_vec, dtype=object)"
   ],
   "metadata": {
    "collapsed": false,
    "pycharm": {
     "name": "#%%\n"
    }
   }
  },
  {
   "cell_type": "code",
   "execution_count": 568,
   "outputs": [
    {
     "data": {
      "text/plain": "1"
     },
     "execution_count": 568,
     "metadata": {},
     "output_type": "execute_result"
    }
   ],
   "source": [
    "len(a_.shape)"
   ],
   "metadata": {
    "collapsed": false,
    "pycharm": {
     "name": "#%%\n"
    }
   }
  },
  {
   "cell_type": "code",
   "execution_count": 569,
   "outputs": [
    {
     "name": "stdout",
     "output_type": "stream",
     "text": [
      "tensor([[-0.070, -0.014,  0.997],\n",
      "        [-0.017, -1.000, -0.015],\n",
      "        [ 0.997, -0.018,  0.070]]) tensor([622.662, 354.446]) tensor([[-0.959, -0.284],\n",
      "        [ 0.284, -0.959]]) tensor([[622.662,   0.000],\n",
      "        [  0.000, 354.446]])\n",
      "set item id: 0:0:0\n",
      "tensor([[-0.835,  0.027,  0.550],\n",
      "        [-0.042, -0.999, -0.014],\n",
      "        [ 0.549, -0.035,  0.835]]) tensor([525.046, 435.829]) tensor([[ 0.671,  0.741],\n",
      "        [-0.741,  0.671]]) tensor([[525.046,   0.000],\n",
      "        [  0.000, 435.829]])\n",
      "set item id: 0:0:1\n",
      "tensor([[-1.]]) tensor([281.439]) tensor([[-0.988, -0.154],\n",
      "        [-0.154,  0.988]]) tensor([[281.439]])\n",
      "set item id: 0:0:2\n",
      "tensor([[-1.000,  0.002],\n",
      "        [ 0.002,  1.000]]) tensor([389.715,  66.397]) tensor([[-0.261,  0.965],\n",
      "        [ 0.965,  0.261]]) tensor([[389.715,   0.000],\n",
      "        [  0.000,  66.397]])\n",
      "set item id: 0:0:3\n",
      "tensor([[ 1.473e-01, -9.602e-05,  9.891e-01],\n",
      "        [ 3.735e-04,  1.000e+00,  4.143e-05],\n",
      "        [-9.891e-01,  3.633e-04,  1.473e-01]]) tensor([232.848,  68.244]) tensor([[ 0.271, -0.963],\n",
      "        [ 0.963,  0.271]]) tensor([[232.848,   0.000],\n",
      "        [  0.000,  68.244]])\n",
      "set item id: 0:0:4\n",
      "tensor([[-8.600e-04,  1.000e+00],\n",
      "        [ 1.000e+00,  8.601e-04]]) tensor([332.553,  75.085]) tensor([[-0.274,  0.962],\n",
      "        [ 0.962,  0.274]]) tensor([[332.553,   0.000],\n",
      "        [  0.000,  75.085]])\n",
      "set item id: 0:0:5\n"
     ]
    }
   ],
   "source": [
    "pck.matrices = a_"
   ],
   "metadata": {
    "collapsed": false,
    "pycharm": {
     "name": "#%%\n"
    }
   }
  },
  {
   "cell_type": "code",
   "execution_count": 570,
   "outputs": [
    {
     "data": {
      "text/plain": "[<__main__.SvdItem at 0x7fa020c77c40>,\n <__main__.SvdItem at 0x7fa020c77130>,\n <__main__.SvdItem at 0x7fa061023d90>,\n <__main__.SvdItem at 0x7fa061338a60>,\n <__main__.SvdItem at 0x7fa061338430>,\n <__main__.SvdItem at 0x7fa061338f40>]"
     },
     "execution_count": 570,
     "metadata": {},
     "output_type": "execute_result"
    }
   ],
   "source": [
    "pck.matrices"
   ],
   "metadata": {
    "collapsed": false,
    "pycharm": {
     "name": "#%%\n"
    }
   }
  },
  {
   "cell_type": "code",
   "execution_count": 582,
   "outputs": [
    {
     "data": {
      "text/plain": "[tensor([622.662, 354.446]),\n tensor([525.046, 435.829]),\n tensor([281.439]),\n tensor([389.715,  66.397]),\n tensor([232.848,  68.244]),\n tensor([332.553,  75.085])]"
     },
     "execution_count": 582,
     "metadata": {},
     "output_type": "execute_result"
    }
   ],
   "source": [
    "pck.S"
   ],
   "metadata": {
    "collapsed": false,
    "pycharm": {
     "name": "#%%\n"
    }
   }
  },
  {
   "cell_type": "code",
   "execution_count": 590,
   "outputs": [
    {
     "data": {
      "text/plain": "[tensor([[-0.959, -0.284],\n         [ 0.284, -0.959]]),\n tensor([[ 0.671,  0.741],\n         [-0.741,  0.671]]),\n tensor([[-0.988, -0.154],\n         [-0.154,  0.988]]),\n tensor([[-0.261,  0.965],\n         [ 0.965,  0.261]]),\n tensor([[ 0.271, -0.963],\n         [ 0.963,  0.271]]),\n tensor([[-0.274,  0.962],\n         [ 0.962,  0.274]])]"
     },
     "execution_count": 590,
     "metadata": {},
     "output_type": "execute_result"
    }
   ],
   "source": [
    "pck.Vh"
   ],
   "metadata": {
    "collapsed": false,
    "pycharm": {
     "name": "#%%\n"
    }
   }
  },
  {
   "cell_type": "code",
   "execution_count": 610,
   "outputs": [
    {
     "data": {
      "text/plain": "[[[-43.501478130854764, -5.02808990611026],\n  [-10.374205974502729, -354.35512051677955],\n  [621.0543540500247, -6.2714043413403715]],\n [[-438.30005585001027, 11.762644912661472],\n  [-21.817460728312767, -435.4094051197012],\n  [288.2532994404658, -15.06993819761312]],\n [[-281.4391726381694, 4.659170940612967e-06]],\n [[-389.7146551245596, 0.10331813025899805],\n  [0.6064761715233544, 66.39664905876754]],\n [[34.307911309801284, -0.006548211910143209],\n  [0.08694741239310133, 68.24352626965293],\n  [-230.30634297894653, 0.024790084164806103]],\n [[-0.2860133246327905, 75.08462846929797],\n  [332.55258680916376, 0.06457252478452347]]]"
     },
     "execution_count": 610,
     "metadata": {},
     "output_type": "execute_result"
    }
   ],
   "source": [
    "def chains_ (point_list):\n",
    "    vectors =[]\n",
    "    for i in point_list:\n",
    "        temp =[]\n",
    "        for l in range(len(i)-1):\n",
    "            vec = [i[l][0] - i[l+1][0], i[l][1] - i[l+1][1]]\n",
    "            temp.append(vec)\n",
    "        vectors.append(temp)\n",
    "    return vectors\n",
    "\n",
    "chains_(aa)\n"
   ],
   "metadata": {
    "collapsed": false,
    "pycharm": {
     "name": "#%%\n"
    }
   }
  },
  {
   "cell_type": "code",
   "execution_count": 608,
   "outputs": [
    {
     "data": {
      "text/plain": "[[[368.30540030224137, -45.65675417400622],\n  [411.80687843309613, -40.62866426789596],\n  [422.18108440759886, 313.7264562488836],\n  [-198.87326964242587, 319.997860590224]],\n [[3.4667895986739268, -376.745486795386],\n  [441.7668454486842, -388.5081317080475],\n  [463.58430617699696, 46.901273411653705],\n  [175.33100673653115, 61.971211609266824]],\n [[-97.3701041354861, 158.4312605091423],\n  [184.0690685026833, 158.43125584997136]],\n [[177.54621018231072, -165.70830782337927],\n  [567.2608653068703, -165.81162595363827],\n  [566.654389135347, -232.2082750124058]],\n [[-569.0476071335415, -226.2801235666548],\n  [-603.3555184433428, -226.27357535474465],\n  [-603.4424658557359, -294.5171016243976],\n  [-373.1361228767894, -294.5418917085624]],\n [[373.8473159703942, -293.63862585948556],\n  [374.133329295027, -368.7232543287835],\n  [41.58074248586324, -368.78782685356805]]]"
     },
     "execution_count": 608,
     "metadata": {},
     "output_type": "execute_result"
    }
   ],
   "source": [
    "def transform_chains_vh(chains, t):\n",
    "    chains_t=[]\n",
    "    for i, clust in enumerate(chains):\n",
    "        _t=[]\n",
    "        for j in clust:\n",
    "            _ = t.Vh[i] @ np.asarray(coor_list[j])\n",
    "            _t.append(np.asarray(_).tolist())\n",
    "        chains_t.append(_t)\n",
    "    return chains_t\n",
    "\n",
    "aa = transform_chains_vh(bb, pck)\n",
    "aa"
   ],
   "metadata": {
    "collapsed": false,
    "pycharm": {
     "name": "#%%\n"
    }
   }
  },
  {
   "cell_type": "code",
   "execution_count": 614,
   "outputs": [
    {
     "name": "stdout",
     "output_type": "stream",
     "text": [
      "nan\n",
      "nan\n"
     ]
    },
    {
     "name": "stderr",
     "output_type": "stream",
     "text": [
      "/var/folders/ck/jb6rmtxx78j862ljh049mjtw0000gn/T/ipykernel_1817/100423700.py:2: RuntimeWarning: invalid value encountered in arccos\n",
      "  return np.arccos(a @ b)\n"
     ]
    },
    {
     "ename": "IndexError",
     "evalue": "index 1 is out of bounds for axis 0 with size 1",
     "output_type": "error",
     "traceback": [
      "\u001B[0;31m---------------------------------------------------------------------------\u001B[0m",
      "\u001B[0;31mIndexError\u001B[0m                                Traceback (most recent call last)",
      "Input \u001B[0;32mIn [614]\u001B[0m, in \u001B[0;36m<cell line: 4>\u001B[0;34m()\u001B[0m\n\u001B[1;32m      5\u001B[0m va \u001B[38;5;241m=\u001B[39m np\u001B[38;5;241m.\u001B[39masarray(v_)\n\u001B[1;32m      6\u001B[0m vb \u001B[38;5;241m=\u001B[39m np\u001B[38;5;241m.\u001B[39masarray(res_vec[i])\n\u001B[0;32m----> 7\u001B[0m \u001B[38;5;28mprint\u001B[39m(angle(va[\u001B[38;5;241m1\u001B[39m], \u001B[43mvb\u001B[49m\u001B[43m[\u001B[49m\u001B[38;5;241;43m1\u001B[39;49m\u001B[43m]\u001B[49m))\n",
      "\u001B[0;31mIndexError\u001B[0m: index 1 is out of bounds for axis 0 with size 1"
     ]
    }
   ],
   "source": [
    "def angle(a, b):\n",
    "    return np.arccos(a @ b)\n",
    "\n",
    "for i, v_ in enumerate(aa):\n",
    "    va = np.asarray(v_)\n",
    "    vb = np.asarray(res_vec[i])\n",
    "    print(angle(va[1], vb[1]))\n",
    "\n",
    "\n",
    "\n",
    "\n"
   ],
   "metadata": {
    "collapsed": false,
    "pycharm": {
     "name": "#%%\n"
    }
   }
  },
  {
   "cell_type": "code",
   "execution_count": 594,
   "outputs": [
    {
     "name": "stdout",
     "output_type": "stream",
     "text": [
      "tensor(0.) tensor(0.)\n",
      "tensor([[1., 0.],\n",
      "        [0., 1.]])\n",
      "tensor(2.010) tensor(2.723)\n",
      "tensor([[-0.854,  0.520],\n",
      "        [-0.520, -0.854]])\n",
      "tensor(1.948) tensor(2.)\n",
      "tensor([[ 0.991, -0.133],\n",
      "        [-0.133, -0.991]])\n",
      "tensor(1.503) tensor(2.)\n",
      "tensor([[-0.024, -1.000],\n",
      "        [-1.000,  0.024]])\n",
      "tensor(1.495) tensor(1.986)\n",
      "tensor([[ 0.013, -1.000],\n",
      "        [ 1.000,  0.013]])\n",
      "tensor(1.506) tensor(2.000)\n",
      "tensor([[-0.011, -1.000],\n",
      "        [-1.000,  0.011]])\n",
      "end\n",
      "\n",
      "tensor(2.010) tensor(2.723)\n",
      "tensor([[-0.854, -0.520],\n",
      "        [ 0.520, -0.854]])\n",
      "tensor(0.) tensor(0.)\n",
      "tensor([[1.000, 0.000],\n",
      "        [0.000, 1.000]])\n",
      "tensor(1.700) tensor(2.000)\n",
      "tensor([[-0.778,  0.629],\n",
      "        [ 0.629,  0.778]])\n",
      "tensor(1.745) tensor(2.000)\n",
      "tensor([[ 0.540,  0.841],\n",
      "        [ 0.841, -0.540]])\n",
      "tensor(2.028) tensor(2.475)\n",
      "tensor([[-0.531,  0.847],\n",
      "        [-0.847, -0.531]])\n",
      "tensor(1.743) tensor(2.000)\n",
      "tensor([[ 0.529,  0.848],\n",
      "        [ 0.848, -0.529]])\n",
      "end\n",
      "\n",
      "tensor(1.948) tensor(2.)\n",
      "tensor([[ 0.991, -0.133],\n",
      "        [-0.133, -0.991]])\n",
      "tensor(1.700) tensor(2.000)\n",
      "tensor([[-0.778,  0.629],\n",
      "        [ 0.629,  0.778]])\n",
      "tensor(0.) tensor(0.)\n",
      "tensor([[1.000, 0.000],\n",
      "        [0.000, 1.000]])\n",
      "tensor(1.387) tensor(1.888)\n",
      "tensor([[ 0.109, -0.994],\n",
      "        [ 0.994,  0.109]])\n",
      "tensor(1.477) tensor(2.)\n",
      "tensor([[-0.119, -0.993],\n",
      "        [-0.993,  0.119]])\n",
      "tensor(1.380) tensor(1.874)\n",
      "tensor([[ 0.122, -0.993],\n",
      "        [ 0.993,  0.122]])\n",
      "end\n",
      "\n",
      "tensor(1.503) tensor(2.)\n",
      "tensor([[-0.024, -1.000],\n",
      "        [-1.000,  0.024]])\n",
      "tensor(1.745) tensor(2.000)\n",
      "tensor([[ 0.540,  0.841],\n",
      "        [ 0.841, -0.540]])\n",
      "tensor(1.387) tensor(1.888)\n",
      "tensor([[ 0.109,  0.994],\n",
      "        [-0.994,  0.109]])\n",
      "tensor(0.) tensor(0.)\n",
      "tensor([[1.000, 0.000],\n",
      "        [0.000, 1.000]])\n",
      "tensor(1.931) tensor(2.000)\n",
      "tensor([[-1.000,  0.010],\n",
      "        [ 0.010,  1.000]])\n",
      "tensor(0.015) tensor(0.018)\n",
      "tensor([[ 1.000,  0.013],\n",
      "        [-0.013,  1.000]])\n",
      "end\n",
      "\n",
      "tensor(1.495) tensor(1.986)\n",
      "tensor([[ 0.013,  1.000],\n",
      "        [-1.000,  0.013]])\n",
      "tensor(2.028) tensor(2.475)\n",
      "tensor([[-0.531, -0.847],\n",
      "        [ 0.847, -0.531]])\n",
      "tensor(1.477) tensor(2.)\n",
      "tensor([[-0.119, -0.993],\n",
      "        [-0.993,  0.119]])\n",
      "tensor(1.931) tensor(2.000)\n",
      "tensor([[-1.000,  0.010],\n",
      "        [ 0.010,  1.000]])\n",
      "tensor(0.) tensor(0.)\n",
      "tensor([[1.000, 0.000],\n",
      "        [0.000, 1.000]])\n",
      "tensor(1.927) tensor(2.000)\n",
      "tensor([[-1.000, -0.002],\n",
      "        [-0.002,  1.000]])\n",
      "end\n",
      "\n",
      "tensor(1.506) tensor(2.000)\n",
      "tensor([[-0.011, -1.000],\n",
      "        [-1.000,  0.011]])\n",
      "tensor(1.743) tensor(2.000)\n",
      "tensor([[ 0.529,  0.848],\n",
      "        [ 0.848, -0.529]])\n",
      "tensor(1.380) tensor(1.874)\n",
      "tensor([[ 0.122,  0.993],\n",
      "        [-0.993,  0.122]])\n",
      "tensor(0.015) tensor(0.018)\n",
      "tensor([[ 1.000, -0.013],\n",
      "        [ 0.013,  1.000]])\n",
      "tensor(1.927) tensor(2.000)\n",
      "tensor([[-1.000, -0.002],\n",
      "        [-0.002,  1.000]])\n",
      "tensor(0.) tensor(0.)\n",
      "tensor([[1.000, 0.000],\n",
      "        [0.000, 1.000]])\n",
      "end\n",
      "\n"
     ]
    }
   ],
   "source": [
    "for i in pck.Vh:\n",
    "    for j in pck.Vh:\n",
    "\n",
    "        print(torch.dist(i, j, p=4), torch.dist(i, j, p=2))\n",
    "        print(i@j.T)\n",
    "    print('end\\n')\n"
   ],
   "metadata": {
    "collapsed": false,
    "pycharm": {
     "name": "#%%\n"
    }
   }
  },
  {
   "cell_type": "code",
   "execution_count": 574,
   "outputs": [
    {
     "data": {
      "text/plain": "[tensor([[-0.070, -0.014,  0.997],\n         [-0.017, -1.000, -0.015],\n         [ 0.997, -0.018,  0.070]]),\n tensor([[-0.835,  0.027,  0.550],\n         [-0.042, -0.999, -0.014],\n         [ 0.549, -0.035,  0.835]]),\n tensor([[-1.]]),\n tensor([[-1.000,  0.002],\n         [ 0.002,  1.000]]),\n tensor([[ 1.473e-01, -9.602e-05,  9.891e-01],\n         [ 3.735e-04,  1.000e+00,  4.143e-05],\n         [-9.891e-01,  3.633e-04,  1.473e-01]]),\n tensor([[-8.600e-04,  1.000e+00],\n         [ 1.000e+00,  8.601e-04]])]"
     },
     "execution_count": 574,
     "metadata": {},
     "output_type": "execute_result"
    }
   ],
   "source": [
    "pck.U"
   ],
   "metadata": {
    "collapsed": false,
    "pycharm": {
     "name": "#%%\n"
    }
   }
  },
  {
   "cell_type": "code",
   "execution_count": 575,
   "outputs": [
    {
     "name": "stdout",
     "output_type": "stream",
     "text": [
      "tensor([[-0.070, -0.014],\n",
      "        [-0.017, -1.000],\n",
      "        [ 0.997, -0.018]]) \n",
      " tensor([622.662, 354.446]) \n",
      " tensor([[-0.959, -0.284],\n",
      "        [ 0.284, -0.959]]) \n",
      "\n",
      "tensor([[-0.835,  0.027],\n",
      "        [-0.042, -0.999],\n",
      "        [ 0.549, -0.035]]) \n",
      " tensor([525.046, 435.829]) \n",
      " tensor([[ 0.671,  0.741],\n",
      "        [-0.741,  0.671]]) \n",
      "\n",
      "tensor([[-1.]]) \n",
      " tensor([281.439]) \n",
      " tensor([[-0.988, -0.154],\n",
      "        [-0.154,  0.988]]) \n",
      "\n",
      "tensor([[-1.000,  0.002],\n",
      "        [ 0.002,  1.000]]) \n",
      " tensor([389.715,  66.397]) \n",
      " tensor([[-0.261,  0.965],\n",
      "        [ 0.965,  0.261]]) \n",
      "\n",
      "tensor([[ 1.473e-01, -9.602e-05],\n",
      "        [ 3.735e-04,  1.000e+00],\n",
      "        [-9.891e-01,  3.633e-04]]) \n",
      " tensor([232.848,  68.244]) \n",
      " tensor([[ 0.271, -0.963],\n",
      "        [ 0.963,  0.271]]) \n",
      "\n",
      "tensor([[-8.600e-04,  1.000e+00],\n",
      "        [ 1.000e+00,  8.601e-04]]) \n",
      " tensor([332.553,  75.085]) \n",
      " tensor([[-0.274,  0.962],\n",
      "        [ 0.962,  0.274]]) \n",
      "\n"
     ]
    }
   ],
   "source": [
    "for i in pck.matrices:\n",
    "    print(i.U[:,:2],'\\n' ,i.S,'\\n', i.Vh, '\\n')"
   ],
   "metadata": {
    "collapsed": false,
    "pycharm": {
     "name": "#%%\n"
    }
   }
  },
  {
   "cell_type": "code",
   "execution_count": 576,
   "outputs": [
    {
     "data": {
      "text/plain": "{'0:0': {}}"
     },
     "execution_count": 576,
     "metadata": {},
     "output_type": "execute_result"
    }
   ],
   "source": [
    "pck.tree"
   ],
   "metadata": {
    "collapsed": false,
    "pycharm": {
     "name": "#%%\n"
    }
   }
  },
  {
   "cell_type": "code",
   "execution_count": 577,
   "outputs": [
    {
     "data": {
      "text/plain": "[<__main__.SvdItem at 0x7fa020c77c40>,\n <__main__.SvdItem at 0x7fa020c77130>,\n <__main__.SvdItem at 0x7fa061023d90>,\n <__main__.SvdItem at 0x7fa061338a60>,\n <__main__.SvdItem at 0x7fa061338430>,\n <__main__.SvdItem at 0x7fa061338f40>]"
     },
     "execution_count": 577,
     "metadata": {},
     "output_type": "execute_result"
    }
   ],
   "source": [
    "pck.matrices"
   ],
   "metadata": {
    "collapsed": false,
    "pycharm": {
     "name": "#%%\n"
    }
   }
  },
  {
   "cell_type": "code",
   "execution_count": null,
   "outputs": [],
   "source": [],
   "metadata": {
    "collapsed": false,
    "pycharm": {
     "name": "#%%\n"
    }
   }
  }
 ],
 "metadata": {
  "kernelspec": {
   "display_name": "Python 3",
   "language": "python",
   "name": "python3"
  },
  "language_info": {
   "codemirror_mode": {
    "name": "ipython",
    "version": 2
   },
   "file_extension": ".py",
   "mimetype": "text/x-python",
   "name": "python",
   "nbconvert_exporter": "python",
   "pygments_lexer": "ipython2",
   "version": "2.7.6"
  }
 },
 "nbformat": 4,
 "nbformat_minor": 0
}