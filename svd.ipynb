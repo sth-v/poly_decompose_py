{
 "cells": [
  {
   "cell_type": "markdown",
   "source": [
    "Получение исходных данных"
   ],
   "metadata": {
    "collapsed": false,
    "pycharm": {
     "name": "#%% md\n"
    }
   },
   "outputs": []
  },
  {
   "cell_type": "code",
   "execution_count": 14,
   "outputs": [
    {
     "name": "stderr",
     "output_type": "stream",
     "text": [
      "/opt/anaconda3/envs/tests/lib/python3.10/site-packages/osmnx/geocoder.py:110: FutureWarning: The frame.append method is deprecated and will be removed from pandas in a future version. Use pandas.concat instead.\n",
      "  gdf = gdf.append(_geocode_query_to_gdf(q, wr, by_osmid))\n",
      "/opt/anaconda3/envs/tests/lib/python3.10/site-packages/osmnx/geocoder.py:110: FutureWarning: The frame.append method is deprecated and will be removed from pandas in a future version. Use pandas.concat instead.\n",
      "  gdf = gdf.append(_geocode_query_to_gdf(q, wr, by_osmid))\n",
      "/opt/anaconda3/envs/tests/lib/python3.10/site-packages/osmnx/geocoder.py:110: FutureWarning: The frame.append method is deprecated and will be removed from pandas in a future version. Use pandas.concat instead.\n",
      "  gdf = gdf.append(_geocode_query_to_gdf(q, wr, by_osmid))\n"
     ]
    }
   ],
   "source": [
    "from basepolygon_class import GoalPolygon\n",
    "\n",
    "place = GoalPolygon('Жилой комплекс «Одинцово-1»')\n",
    "v = place.polygon"
   ],
   "metadata": {
    "collapsed": false,
    "pycharm": {
     "name": "#%%\n"
    }
   }
  },
  {
   "cell_type": "markdown",
   "source": [
    "Геометрическое упрощение"
   ],
   "metadata": {
    "collapsed": false,
    "pycharm": {
     "name": "#%% md\n"
    }
   }
  },
  {
   "cell_type": "code",
   "execution_count": 15,
   "outputs": [],
   "source": [
    "def get_xy(s):\n",
    "    x, y = s.centroid.coords.xy\n",
    "    return x[0], y[0]"
   ],
   "metadata": {
    "collapsed": false,
    "pycharm": {
     "name": "#%%\n"
    }
   }
  },
  {
   "cell_type": "code",
   "execution_count": 16,
   "outputs": [
    {
     "data": {
      "text/plain": "<shapely.geometry.polygon.Polygon at 0x7f89e3007c40>",
      "image/svg+xml": "<svg xmlns=\"http://www.w3.org/2000/svg\" xmlns:xlink=\"http://www.w3.org/1999/xlink\" width=\"300\" height=\"300\" viewBox=\"-498.6779582612682 -462.44168897559865 1124.8385269428604 1023.4510715087877\" preserveAspectRatio=\"xMinYMin meet\"><g transform=\"matrix(1,0,0,-1,0,98.5676935575903)\"><path fill-rule=\"evenodd\" fill=\"#66cc99\" stroke=\"#555555\" stroke-width=\"7.498923512952403\" opacity=\"0.6\" d=\"M -457.0172720781993,258.97449130937457 L -366.09260647476185,-60.90662323217839 L -406.370928882272,-78.09141644276679 L -315.6018337655696,-420.78100279252976 L 281.6218242336181,-250.27657229732722 L 584.4998824985232,66.75690660160035 L 276.3574749503168,375.1489524655044 L 71.72904935956467,171.57023276295513 L -206.33228341693757,128.09713660832494 L -308.2299947499996,504.2544806478545 L -372.1630306050647,486.3254869300872 L -381.4635806995793,519.34869635012 L -447.171697431535,500.9196722963825 L -384.71937846927904,279.24263294879347 L -457.0172720781993,258.97449130937457 z\" /></g></svg>"
     },
     "execution_count": 16,
     "metadata": {},
     "output_type": "execute_result"
    }
   ],
   "source": [
    "from shapely.affinity import translate\n",
    "\n",
    "s = v.simplify(10, preserve_topology=True)\n",
    "x, y = get_xy(s)\n",
    "st = translate(s, 0-x, 0-y)\n",
    "\n",
    "st"
   ],
   "metadata": {
    "collapsed": false,
    "pycharm": {
     "name": "#%%\n"
    }
   }
  },
  {
   "cell_type": "code",
   "execution_count": 17,
   "outputs": [
    {
     "name": "stdout",
     "output_type": "stream",
     "text": [
      "[(-457.0172720781993, 258.97449130937457), (-366.09260647476185, -60.90662323217839), (-406.370928882272, -78.09141644276679), (-315.6018337655696, -420.78100279252976), (281.6218242336181, -250.27657229732722), (584.4998824985232, 66.75690660160035), (276.3574749503168, 375.1489524655044), (71.72904935956467, 171.57023276295513), (-206.33228341693757, 128.09713660832494), (-308.2299947499996, 504.2544806478545), (-372.1630306050647, 486.3254869300872), (-381.4635806995793, 519.34869635012), (-447.171697431535, 500.9196722963825), (-384.71937846927904, 279.24263294879347)]\n"
     ]
    }
   ],
   "source": [
    "# убрать бы эту ебань\n",
    "coor_list = (list(st.boundary.coords[0:len(st.boundary.coords) - 1]))\n",
    "print (coor_list)"
   ],
   "metadata": {
    "collapsed": false,
    "pycharm": {
     "name": "#%%\n"
    }
   }
  },
  {
   "cell_type": "markdown",
   "source": [
    "Декомпозиция периметра"
   ],
   "metadata": {
    "collapsed": false,
    "pycharm": {
     "name": "#%% md\n"
    }
   }
  },
  {
   "cell_type": "code",
   "execution_count": 18,
   "outputs": [],
   "source": [
    "import numpy as np\n",
    "from math import pi, cos, sin\n",
    "\n",
    "target = pi/2\n",
    "basis = np.array([[1, 0, 0],[0, 1, 0]])\n",
    "tolerance=0.75"
   ],
   "metadata": {
    "collapsed": false,
    "pycharm": {
     "name": "#%%\n"
    }
   }
  },
  {
   "cell_type": "code",
   "execution_count": 19,
   "outputs": [
    {
     "data": {
      "text/plain": "array([[ 6.123234e-17, -1.000000e+00,  0.000000e+00],\n       [ 1.000000e+00,  6.123234e-17,  0.000000e+00],\n       [ 0.000000e+00,  0.000000e+00,  1.000000e+00]])"
     },
     "execution_count": 19,
     "metadata": {},
     "output_type": "execute_result"
    }
   ],
   "source": [
    "transform = np.array(\n",
    "    [\n",
    "        [cos(target), -sin(target), 0],\n",
    "        [sin(target), cos(target), 0],\n",
    "        [0, 0, 1]\n",
    "    ]\n",
    ")\n",
    "transform"
   ],
   "metadata": {
    "collapsed": false,
    "pycharm": {
     "name": "#%%\n"
    }
   }
  },
  {
   "cell_type": "code",
   "execution_count": 20,
   "outputs": [
    {
     "name": "stderr",
     "output_type": "stream",
     "text": [
      "/var/folders/l7/52t7xngd2973k8x9_y55rmyh0000gn/T/ipykernel_31033/2402548898.py:1: DeprecationWarning: `np.complex` is a deprecated alias for the builtin `complex`. To silence this warning, use `complex` by itself. Doing this will not modify any behavior and is safe. If you specifically wanted the numpy scalar type, use `np.complex128` here.\n",
      "Deprecated in NumPy 1.20; for more details and guidance: https://numpy.org/devdocs/release/1.20.0-notes.html#deprecations\n",
      "  metric = np.complex(np.cross(basis[0], basis[1])[-1],\n"
     ]
    }
   ],
   "source": [
    "metric = np.complex(np.cross(basis[0], basis[1])[-1],\n",
    "                             np.cross(basis[1], basis[0])[-1])\n"
   ],
   "metadata": {
    "collapsed": false,
    "pycharm": {
     "name": "#%%\n"
    }
   }
  },
  {
   "cell_type": "code",
   "execution_count": 21,
   "outputs": [],
   "source": [
    "from itertools import islice, cycle\n",
    "\n",
    "def vec_search(point_list, key):\n",
    "    cr = []\n",
    "    n = list(islice(cycle(range(len(point_list))), 0, len(point_list) + 2))\n",
    "    for i in range(len(point_list)):\n",
    "        v_one = [point_list[n[i]][0] - point_list[n[i + 1]][0], point_list[n[i]][1] - point_list[n[i + 1]][1], 0]\n",
    "        v_two = [point_list[n[i + 1]][0] - point_list[n[i + 2]][0], point_list[n[i + 1]][1] - point_list[n[i + 2]][1],0]\n",
    "        v_o_norm, v_t_norm = v_one / np.linalg.norm(v_one), v_two / np.linalg.norm(v_two)\n",
    "        if np.cross(v_o_norm, v_t_norm)[2] < key:\n",
    "            cr.append(n[i + 1])\n",
    "        else:\n",
    "            pass\n",
    "    cross = [*cr, cr[0] + cr[-1] + 1]\n",
    "    double_points = [*range(len(point_list)), *range(len(point_list))]\n",
    "    segments = [double_points[cross[c]:cross[c + 1]+1] for c in range(len(cross) - 1)]\n",
    "    return segments"
   ],
   "metadata": {
    "collapsed": false,
    "pycharm": {
     "name": "#%%\n"
    }
   }
  },
  {
   "cell_type": "code",
   "execution_count": 22,
   "outputs": [
    {
     "name": "stdout",
     "output_type": "stream",
     "text": [
      "[[1, 2, 3, 4], [4, 5, 6, 7], [7, 8], [8, 9, 10], [10, 11, 12, 13], [13, 0, 1]]\n"
     ]
    }
   ],
   "source": [
    "bb = vec_search(coor_list, 0.7)\n",
    "print(bb)"
   ],
   "metadata": {
    "collapsed": false,
    "pycharm": {
     "name": "#%%\n"
    }
   }
  },
  {
   "cell_type": "code",
   "execution_count": 22,
   "outputs": [],
   "source": [],
   "metadata": {
    "collapsed": false,
    "pycharm": {
     "name": "#%%\n"
    }
   }
  },
  {
   "cell_type": "code",
   "execution_count": 23,
   "outputs": [],
   "source": [
    "def chains (point_list):\n",
    "    key_val = vec_search(point_list, 0.7)\n",
    "    vectors =[]\n",
    "    for i in key_val:\n",
    "        temp =[]\n",
    "        for l in range(len(i)-1):\n",
    "            vec = [point_list[i[l]][0] - point_list[i[l+1]][0], point_list[i[l]][1] - point_list[i[l+1]][1]]\n",
    "            temp.append(vec)\n",
    "        vectors.append(temp)\n",
    "    return vectors\n",
    "\n"
   ],
   "metadata": {
    "collapsed": false,
    "pycharm": {
     "name": "#%%\n"
    }
   }
  },
  {
   "cell_type": "code",
   "execution_count": 24,
   "outputs": [
    {
     "name": "stdout",
     "output_type": "stream",
     "text": [
      "[[[40.27832240751013, 17.184793210588396], [-90.76909511670237, 342.689586349763], [-597.2236579991877, -170.50443049520254]], [[-302.8780582649051, -317.03347889892757], [308.1424075482064, -308.39204586390406], [204.62842559075216, 203.57871970254928]], [[278.06133277650224, 43.473096154630184]], [[101.89771133306203, -376.15734403952956], [63.9330358550651, 17.928993717767298]], [[9.30055009451462, -33.0232094200328], [65.70811673195567, 18.42902405373752], [-62.45231896225596, 221.67703934758902]], [[72.29789360892028, 20.2681416394189], [-90.92466560343746, 319.88111454155296]]]\n"
     ]
    }
   ],
   "source": [
    "res_vec = chains(coor_list)\n",
    "print(res_vec)"
   ],
   "metadata": {
    "collapsed": false,
    "pycharm": {
     "name": "#%%\n"
    }
   }
  },
  {
   "cell_type": "markdown",
   "source": [
    "SVD\n",
    "Декомпозиция"
   ],
   "metadata": {
    "collapsed": false,
    "pycharm": {
     "name": "#%% md\n"
    }
   }
  },
  {
   "cell_type": "code",
   "execution_count": 25,
   "outputs": [
    {
     "ename": "FileNotFoundError",
     "evalue": "[Errno 2] No such file or directory: '/Users/andrewastakhov/dumps/pl.json'",
     "output_type": "error",
     "traceback": [
      "\u001B[0;31m---------------------------------------------------------------------------\u001B[0m",
      "\u001B[0;31mFileNotFoundError\u001B[0m                         Traceback (most recent call last)",
      "Input \u001B[0;32mIn [25]\u001B[0m, in \u001B[0;36m<cell line: 4>\u001B[0;34m()\u001B[0m\n\u001B[1;32m      1\u001B[0m \u001B[38;5;66;03m# Это техническая часть для работы с локальными данными\u001B[39;00m\n\u001B[1;32m      2\u001B[0m \u001B[38;5;28;01mimport\u001B[39;00m \u001B[38;5;21;01mjson\u001B[39;00m\n\u001B[0;32m----> 4\u001B[0m f \u001B[38;5;241m=\u001B[39m \u001B[38;5;28;43mopen\u001B[39;49m\u001B[43m(\u001B[49m\u001B[38;5;124;43m\"\u001B[39;49m\u001B[38;5;124;43m/Users/andrewastakhov/dumps/pl.json\u001B[39;49m\u001B[38;5;124;43m\"\u001B[39;49m\u001B[43m,\u001B[49m\u001B[43m \u001B[49m\u001B[38;5;124;43m\"\u001B[39;49m\u001B[38;5;124;43mr\u001B[39;49m\u001B[38;5;124;43m\"\u001B[39;49m\u001B[43m)\u001B[49m\n\u001B[1;32m      5\u001B[0m points \u001B[38;5;241m=\u001B[39m json\u001B[38;5;241m.\u001B[39mload(f)[\u001B[38;5;124m'\u001B[39m\u001B[38;5;124mpts\u001B[39m\u001B[38;5;124m'\u001B[39m]\n",
      "\u001B[0;31mFileNotFoundError\u001B[0m: [Errno 2] No such file or directory: '/Users/andrewastakhov/dumps/pl.json'"
     ]
    }
   ],
   "source": [
    "# Это техническая часть для работы с локальными данными\n",
    "import json\n",
    "\n",
    "f = open(\"/Users/andrewastakhov/dumps/pl.json\", \"r\")\n",
    "points = json.load(f)['pts']"
   ],
   "metadata": {
    "collapsed": false,
    "pycharm": {
     "name": "#%%\n"
    }
   }
  },
  {
   "cell_type": "code",
   "execution_count": 26,
   "outputs": [
    {
     "name": "stderr",
     "output_type": "stream",
     "text": [
      "/var/folders/l7/52t7xngd2973k8x9_y55rmyh0000gn/T/ipykernel_31033/1396746674.py:4: VisibleDeprecationWarning: Creating an ndarray from ragged nested sequences (which is a list-or-tuple of lists-or-tuples-or ndarrays with different lengths or shapes) is deprecated. If you meant to do this, you must specify 'dtype=object' when creating the ndarray.\n",
      "  A = np.asarray(res_vec)\n"
     ]
    }
   ],
   "source": [
    "from scipy.linalg import svd\n",
    "import numpy as np\n",
    "\n",
    "A = np.asarray(res_vec)"
   ],
   "metadata": {
    "collapsed": false,
    "pycharm": {
     "name": "#%%\n"
    }
   }
  },
  {
   "cell_type": "code",
   "execution_count": 27,
   "outputs": [
    {
     "name": "stdout",
     "output_type": "stream",
     "text": [
      "[list([[40.27832240751013, 17.184793210588396], [-90.76909511670237, 342.689586349763], [-597.2236579991877, -170.50443049520254]])\n",
      " list([[-302.8780582649051, -317.03347889892757], [308.1424075482064, -308.39204586390406], [204.62842559075216, 203.57871970254928]])\n",
      " list([[278.06133277650224, 43.473096154630184]])\n",
      " list([[101.89771133306203, -376.15734403952956], [63.9330358550651, 17.928993717767298]])\n",
      " list([[9.30055009451462, -33.0232094200328], [65.70811673195567, 18.42902405373752], [-62.45231896225596, 221.67703934758902]])\n",
      " list([[72.29789360892028, 20.2681416394189], [-90.92466560343746, 319.88111454155296]])]\n"
     ]
    }
   ],
   "source": [
    "print(A)"
   ],
   "metadata": {
    "collapsed": false,
    "pycharm": {
     "name": "#%%\n"
    }
   }
  },
  {
   "cell_type": "markdown",
   "source": [
    "Пример с одной матрицей"
   ],
   "metadata": {
    "collapsed": false,
    "pycharm": {
     "name": "#%% md\n"
    }
   }
  },
  {
   "cell_type": "code",
   "execution_count": 28,
   "outputs": [],
   "source": [
    "a = np.asarray(A[0])"
   ],
   "metadata": {
    "collapsed": false,
    "pycharm": {
     "name": "#%%\n"
    }
   }
  },
  {
   "cell_type": "code",
   "execution_count": 29,
   "outputs": [
    {
     "data": {
      "text/plain": "array([[  40.27832241,   17.18479321],\n       [ -90.76909512,  342.68958635],\n       [-597.223658  , -170.5044305 ]])"
     },
     "execution_count": 29,
     "metadata": {},
     "output_type": "execute_result"
    }
   ],
   "source": [
    "a"
   ],
   "metadata": {
    "collapsed": false,
    "pycharm": {
     "name": "#%%\n"
    }
   }
  },
  {
   "cell_type": "code",
   "execution_count": 30,
   "outputs": [],
   "source": [
    "U, s, Vh=svd(a)"
   ],
   "metadata": {
    "collapsed": false,
    "pycharm": {
     "name": "#%%\n"
    }
   }
  },
  {
   "cell_type": "code",
   "execution_count": 31,
   "outputs": [
    {
     "data": {
      "text/plain": "array([622.66245335, 354.44628545])"
     },
     "execution_count": 31,
     "metadata": {},
     "output_type": "execute_result"
    }
   ],
   "source": [
    "s"
   ],
   "metadata": {
    "collapsed": false,
    "pycharm": {
     "name": "#%%\n"
    }
   }
  },
  {
   "cell_type": "markdown",
   "source": [
    "Получить Sigma из s Хуй знает зачем сайпи говорят что это полезно"
   ],
   "metadata": {
    "collapsed": false,
    "pycharm": {
     "name": "#%% md\n"
    }
   }
  },
  {
   "cell_type": "code",
   "execution_count": 32,
   "outputs": [
    {
     "data": {
      "text/plain": "array([[622.66245335,   0.        ],\n       [  0.        , 354.44628545],\n       [  0.        ,   0.        ]])"
     },
     "execution_count": 32,
     "metadata": {},
     "output_type": "execute_result"
    }
   ],
   "source": [
    "sigma = np.zeros(a.shape)\n",
    "for i in range(min(a.shape)):\n",
    "            sigma[i, i] = s[i]\n",
    "sigma"
   ],
   "metadata": {
    "collapsed": false,
    "pycharm": {
     "name": "#%%\n"
    }
   }
  },
  {
   "cell_type": "markdown",
   "source": [
    "А точно, как минимум для обратной проверки, \"B\" должно быть равно \"a\""
   ],
   "metadata": {
    "collapsed": false,
    "pycharm": {
     "name": "#%% md\n"
    }
   }
  },
  {
   "cell_type": "code",
   "execution_count": 33,
   "outputs": [],
   "source": [
    "B = U @ sigma @ Vh"
   ],
   "metadata": {
    "collapsed": false,
    "pycharm": {
     "name": "#%%\n"
    }
   }
  },
  {
   "cell_type": "code",
   "execution_count": 34,
   "outputs": [
    {
     "data": {
      "text/plain": "array([[  40.27832241,   17.18479321],\n       [ -90.76909512,  342.68958635],\n       [-597.223658  , -170.5044305 ]])"
     },
     "execution_count": 34,
     "metadata": {},
     "output_type": "execute_result"
    }
   ],
   "source": [
    "a"
   ],
   "metadata": {
    "collapsed": false,
    "pycharm": {
     "name": "#%%\n"
    }
   }
  },
  {
   "cell_type": "code",
   "execution_count": 35,
   "outputs": [
    {
     "data": {
      "text/plain": "array([[  40.27832241,   17.18479321],\n       [ -90.76909512,  342.68958635],\n       [-597.223658  , -170.5044305 ]])"
     },
     "execution_count": 35,
     "metadata": {},
     "output_type": "execute_result"
    }
   ],
   "source": [
    "B"
   ],
   "metadata": {
    "collapsed": false,
    "pycharm": {
     "name": "#%%\n"
    }
   }
  },
  {
   "cell_type": "markdown",
   "source": [
    "Теперь на торче\n",
    "Класс треннируется на основе отсортированых данных выпуклой декомпозиции периметра\n"
   ],
   "metadata": {
    "collapsed": false,
    "pycharm": {
     "name": "#%% md\n"
    }
   }
  },
  {
   "cell_type": "code",
   "execution_count": 36,
   "outputs": [
    {
     "name": "stderr",
     "output_type": "stream",
     "text": [
      "/opt/anaconda3/envs/tests/lib/python3.10/site-packages/osmnx/geocoder.py:110: FutureWarning: The frame.append method is deprecated and will be removed from pandas in a future version. Use pandas.concat instead.\n",
      "  gdf = gdf.append(_geocode_query_to_gdf(q, wr, by_osmid))\n",
      "/opt/anaconda3/envs/tests/lib/python3.10/site-packages/osmnx/geocoder.py:110: FutureWarning: The frame.append method is deprecated and will be removed from pandas in a future version. Use pandas.concat instead.\n",
      "  gdf = gdf.append(_geocode_query_to_gdf(q, wr, by_osmid))\n"
     ]
    },
    {
     "name": "stdout",
     "output_type": "stream",
     "text": [
      "[[1, 2, 3], [4, 5, 6], [7], [8, 9], [10, 11, 12], [13, 0]]\n"
     ]
    },
    {
     "name": "stderr",
     "output_type": "stream",
     "text": [
      "/opt/anaconda3/envs/tests/lib/python3.10/site-packages/osmnx/geocoder.py:110: FutureWarning: The frame.append method is deprecated and will be removed from pandas in a future version. Use pandas.concat instead.\n",
      "  gdf = gdf.append(_geocode_query_to_gdf(q, wr, by_osmid))\n"
     ]
    }
   ],
   "source": [
    "import torch\n",
    "from polygon_division import vector_search, points_to_point_chain"
   ],
   "metadata": {
    "collapsed": false,
    "pycharm": {
     "name": "#%%\n"
    }
   }
  },
  {
   "cell_type": "markdown",
   "source": [],
   "metadata": {
    "collapsed": false,
    "pycharm": {
     "name": "#%% md\n"
    }
   }
  },
  {
   "cell_type": "code",
   "execution_count": 37,
   "outputs": [],
   "source": [
    "class SvdItem:\n",
    "    keys=[\"A\", \"U\", \"S\", \"Vh\", \"Sigma\"]\n",
    "    def __init__(self, m, collection=None, **kwargs):\n",
    "        self.A = torch.tensor(m)\n",
    "        self.collection=collection\n",
    "        self.U = None\n",
    "        self.S = None\n",
    "        self.Vh = None\n",
    "        self.Sigma = None\n",
    "        self.svd(**kwargs)\n",
    "        if collection is not None:\n",
    "            self.id = f'{collection.id}:{len(collection.matrices)}'\n",
    "            print(f'set item id: {self.id}')\n",
    "            collection.A.append(self.A)\n",
    "\n",
    "\n",
    "\n",
    "    def svd(self, **kwargs):\n",
    "        U, S, Vh = torch.linalg.svd(self.A, **kwargs)\n",
    "        Sigma = torch.diag(S)\n",
    "        self.U, self.S, self.Vh, self.Sigma=U, S, Vh, Sigma\n",
    "        print(self.U, self.S, self.Vh, self.Sigma)\n",
    "        if self.collection:\n",
    "            for v, k in zip([A, U, S, Vh, Sigma], self.__class__.keys):\n",
    "                (self.collection.__dict__[k]).append(v)\n",
    "\n",
    "        return U, S, Vh, Sigma\n",
    "    def pack(self):\n",
    "        self.collection.__dict__[self.__class__.__name__][self.collection.id]|={self.id:self}\n",
    "        return self.id, self\n",
    "\n",
    "\n",
    "\n",
    "class SvdPack:\n",
    "    def __init__(self):\n",
    "        self._matrices = []\n",
    "        self.id = f'{0}:{0}'\n",
    "        self.A, self.U, self.S, self.Vh, self.Sigma = [], [], [], [], []\n",
    "        self.tree= {self.id:{}}\n",
    "\n",
    "\n",
    "\n",
    "    @property\n",
    "    def matrices(self):\n",
    "        return self._matrices\n",
    "    @matrices.setter\n",
    "    def matrices(self, val, **kwargs):\n",
    "        if len(val.shape) == 2:\n",
    "            self._matrices.append(SvdItem(val, collection=self, **kwargs))\n",
    "        else:\n",
    "            for v in val:\n",
    "                self._matrices.append(SvdItem(v, collection=self, **kwargs))\n"
   ],
   "metadata": {
    "collapsed": false,
    "pycharm": {
     "name": "#%%\n"
    }
   }
  },
  {
   "cell_type": "code",
   "execution_count": 38,
   "outputs": [],
   "source": [
    "pck = SvdPack()"
   ],
   "metadata": {
    "collapsed": false,
    "pycharm": {
     "name": "#%%\n"
    }
   }
  },
  {
   "cell_type": "code",
   "execution_count": 39,
   "outputs": [],
   "source": [
    "a_=np.asarray(res_vec, dtype=object)"
   ],
   "metadata": {
    "collapsed": false,
    "pycharm": {
     "name": "#%%\n"
    }
   }
  },
  {
   "cell_type": "code",
   "execution_count": 40,
   "outputs": [
    {
     "data": {
      "text/plain": "1"
     },
     "execution_count": 40,
     "metadata": {},
     "output_type": "execute_result"
    }
   ],
   "source": [
    "len(a_.shape)"
   ],
   "metadata": {
    "collapsed": false,
    "pycharm": {
     "name": "#%%\n"
    }
   }
  },
  {
   "cell_type": "code",
   "execution_count": 41,
   "outputs": [
    {
     "name": "stdout",
     "output_type": "stream",
     "text": [
      "tensor([[-0.0699, -0.0142,  0.9975],\n",
      "        [-0.0167, -0.9997, -0.0154],\n",
      "        [ 0.9974, -0.0177,  0.0696]]) tensor([622.6624, 354.4463]) tensor([[-0.9588, -0.2842],\n",
      "        [ 0.2842, -0.9588]]) tensor([[622.6624,   0.0000],\n",
      "        [  0.0000, 354.4463]])\n",
      "set item id: 0:0:0\n",
      "tensor([[-0.8348,  0.0270,  0.5499],\n",
      "        [-0.0416, -0.9990, -0.0140],\n",
      "        [ 0.5490, -0.0346,  0.8351]]) tensor([525.0457, 435.8289]) tensor([[ 0.6711,  0.7413],\n",
      "        [-0.7413,  0.6711]]) tensor([[525.0457,   0.0000],\n",
      "        [  0.0000, 435.8289]])\n",
      "set item id: 0:0:1\n",
      "tensor([[-1.]]) tensor([281.4392]) tensor([[-0.9880, -0.1545],\n",
      "        [-0.1545,  0.9880]]) tensor([[281.4392]])\n",
      "set item id: 0:0:2\n",
      "tensor([[-1.0000,  0.0016],\n",
      "        [ 0.0016,  1.0000]]) tensor([389.7151,  66.3967]) tensor([[-0.2612,  0.9653],\n",
      "        [ 0.9653,  0.2612]]) tensor([[389.7151,   0.0000],\n",
      "        [  0.0000,  66.3967]])\n",
      "set item id: 0:0:3\n",
      "tensor([[ 1.4734e-01, -9.6023e-05,  9.8909e-01],\n",
      "        [ 3.7345e-04,  1.0000e+00,  4.1436e-05],\n",
      "        [-9.8909e-01,  3.6332e-04,  1.4734e-01]]) tensor([232.8477,  68.2435]) tensor([[ 0.2713, -0.9625],\n",
      "        [ 0.9625,  0.2713]]) tensor([[232.8477,   0.0000],\n",
      "        [  0.0000,  68.2435]])\n",
      "set item id: 0:0:4\n",
      "tensor([[-8.6005e-04,  1.0000e+00],\n",
      "        [ 1.0000e+00,  8.6007e-04]]) tensor([332.5527,  75.0847]) tensor([[-0.2736,  0.9618],\n",
      "        [ 0.9618,  0.2736]]) tensor([[332.5527,   0.0000],\n",
      "        [  0.0000,  75.0847]])\n",
      "set item id: 0:0:5\n"
     ]
    }
   ],
   "source": [
    "pck.matrices = a_"
   ],
   "metadata": {
    "collapsed": false,
    "pycharm": {
     "name": "#%%\n"
    }
   }
  },
  {
   "cell_type": "code",
   "execution_count": 42,
   "outputs": [
    {
     "data": {
      "text/plain": "[<__main__.SvdItem at 0x7f89e5bd9540>,\n <__main__.SvdItem at 0x7f89e3005930>,\n <__main__.SvdItem at 0x7f89e39e3340>,\n <__main__.SvdItem at 0x7f89dd6239a0>,\n <__main__.SvdItem at 0x7f89e39e3400>,\n <__main__.SvdItem at 0x7f89e39e3370>]"
     },
     "execution_count": 42,
     "metadata": {},
     "output_type": "execute_result"
    }
   ],
   "source": [
    "pck.matrices"
   ],
   "metadata": {
    "collapsed": false,
    "pycharm": {
     "name": "#%%\n"
    }
   }
  },
  {
   "cell_type": "code",
   "execution_count": 43,
   "outputs": [
    {
     "data": {
      "text/plain": "[tensor([622.6624, 354.4463]),\n tensor([525.0457, 435.8289]),\n tensor([281.4392]),\n tensor([389.7151,  66.3967]),\n tensor([232.8477,  68.2435]),\n tensor([332.5527,  75.0847])]"
     },
     "execution_count": 43,
     "metadata": {},
     "output_type": "execute_result"
    }
   ],
   "source": [
    "pck.S"
   ],
   "metadata": {
    "collapsed": false,
    "pycharm": {
     "name": "#%%\n"
    }
   }
  },
  {
   "cell_type": "code",
   "execution_count": 44,
   "outputs": [
    {
     "data": {
      "text/plain": "[tensor([[-0.9588, -0.2842],\n         [ 0.2842, -0.9588]]),\n tensor([[ 0.6711,  0.7413],\n         [-0.7413,  0.6711]]),\n tensor([[-0.9880, -0.1545],\n         [-0.1545,  0.9880]]),\n tensor([[-0.2612,  0.9653],\n         [ 0.9653,  0.2612]]),\n tensor([[ 0.2713, -0.9625],\n         [ 0.9625,  0.2713]]),\n tensor([[-0.2736,  0.9618],\n         [ 0.9618,  0.2736]])]"
     },
     "execution_count": 44,
     "metadata": {},
     "output_type": "execute_result"
    }
   ],
   "source": [
    "pck.Vh"
   ],
   "metadata": {
    "collapsed": false,
    "pycharm": {
     "name": "#%%\n"
    }
   }
  },
  {
   "cell_type": "markdown",
   "source": [
    "РАЗГРУППИРОВКА ТОЧЕК ПО ПАТТЕРНУ"
   ],
   "metadata": {
    "collapsed": false
   }
  },
  {
   "cell_type": "code",
   "execution_count": 55,
   "outputs": [
    {
     "data": {
      "text/plain": "[[[368.3054003024502, -45.65675417309674],\n  [411.80687843330503, -40.62866426698649],\n  [422.18108440780776, 313.7264562497931],\n  [-198.873269642217, 319.9978605911334]],\n [[3.466789598022558, -376.74548679605425],\n  [441.7668454480328, -388.5081317087156],\n  [463.58430617634554, 46.90127341098551],\n  [175.33100673587978, 61.97121160859862]],\n [[-97.37010413539976, 158.43126050821317],\n  [184.06906850276968, 158.43125584904223]],\n [[177.54621018139653, -165.70830782356637],\n  [567.2608653059561, -165.8116259538253],\n  [566.6543891344328, -232.20827501259285]],\n [[-569.0476071326293, -226.2801235668514],\n  [-603.3555184424306, -226.27357535494124],\n  [-603.4424658548237, -294.5171016245942],\n  [-373.1361228758772, -294.541891708759]],\n [[373.8473159694825, -293.63862585968434],\n  [374.13332929409944, -368.7232543289264],\n  [41.58074248495152, -368.7878268537669]]]"
     },
     "execution_count": 55,
     "metadata": {},
     "output_type": "execute_result"
    }
   ],
   "source": [
    "def transform_chains_vh(chains, t):\n",
    "    chains_t=[]\n",
    "    for i, clust in enumerate(chains):\n",
    "        _t=[]\n",
    "        for j in clust:\n",
    "            _ = t.Vh[i] @ np.asarray(coor_list[j])\n",
    "            _t.append(np.asarray(_).tolist())\n",
    "        chains_t.append(_t)\n",
    "    return chains_t\n",
    "\n",
    "p_t = transform_chains_vh(bb, pck)\n",
    "p_t"
   ],
   "metadata": {
    "collapsed": false,
    "pycharm": {
     "name": "#%%\n"
    }
   }
  },
  {
   "cell_type": "markdown",
   "source": [
    "ЦЕПОЧКИ ВЕКТОРОВ (ВХОДЯТ ТОЧКИ С ЗАДАННЫМ ПАТТЕРНОМ)"
   ],
   "metadata": {
    "collapsed": false
   }
  },
  {
   "cell_type": "code",
   "execution_count": 57,
   "outputs": [
    {
     "data": {
      "text/plain": "[[[-43.50147813085482, -5.028089906110253],\n  [-10.374205974502729, -354.3551205167796],\n  [621.0543540500248, -6.271404341340315]],\n [[-438.30005585001027, 11.762644912661358],\n  [-21.81746072831271, -435.4094051197011],\n  [288.25329944046575, -15.069938197613112]],\n [[-281.43917263816945, 4.659170940612967e-06]],\n [[-389.7146551245596, 0.10331813025894121],\n  [0.6064761715233544, 66.39664905876754]],\n [[34.307911309801284, -0.006548211910143209],\n  [0.08694741239310133, 68.24352626965296],\n  [-230.30634297894647, 0.024790084164806103]],\n [[-0.2860133246169312, 75.08462846924203],\n  [332.5525868091479, 0.06457252484051423]]]"
     },
     "execution_count": 57,
     "metadata": {},
     "output_type": "execute_result"
    }
   ],
   "source": [
    "def chains_ (point_list):\n",
    "    vectors =[]\n",
    "    for i in point_list:\n",
    "        temp =[]\n",
    "        for l in range(len(i)-1):\n",
    "            vec = [i[l][0] - i[l+1][0], i[l][1] - i[l+1][1]]\n",
    "            temp.append(vec)\n",
    "        vectors.append(temp)\n",
    "    return vectors\n",
    "\n",
    "v_t = chains_(p_t)\n",
    "# not transformed vec\n",
    "v_ = res_vec"
   ],
   "metadata": {
    "collapsed": false,
    "pycharm": {
     "name": "#%%\n"
    }
   }
  },
  {
   "cell_type": "code",
   "execution_count": 47,
   "outputs": [
    {
     "name": "stdout",
     "output_type": "stream",
     "text": [
      "nan\n",
      "nan\n"
     ]
    },
    {
     "name": "stderr",
     "output_type": "stream",
     "text": [
      "/var/folders/l7/52t7xngd2973k8x9_y55rmyh0000gn/T/ipykernel_31033/100423700.py:2: RuntimeWarning: invalid value encountered in arccos\n",
      "  return np.arccos(a @ b)\n"
     ]
    },
    {
     "ename": "IndexError",
     "evalue": "index 1 is out of bounds for axis 0 with size 1",
     "output_type": "error",
     "traceback": [
      "\u001B[0;31m---------------------------------------------------------------------------\u001B[0m",
      "\u001B[0;31mIndexError\u001B[0m                                Traceback (most recent call last)",
      "Input \u001B[0;32mIn [47]\u001B[0m, in \u001B[0;36m<cell line: 4>\u001B[0;34m()\u001B[0m\n\u001B[1;32m      5\u001B[0m va \u001B[38;5;241m=\u001B[39m np\u001B[38;5;241m.\u001B[39masarray(v_)\n\u001B[1;32m      6\u001B[0m vb \u001B[38;5;241m=\u001B[39m np\u001B[38;5;241m.\u001B[39masarray(res_vec[i])\n\u001B[0;32m----> 7\u001B[0m \u001B[38;5;28mprint\u001B[39m(angle(va[\u001B[38;5;241m1\u001B[39m], \u001B[43mvb\u001B[49m\u001B[43m[\u001B[49m\u001B[38;5;241;43m1\u001B[39;49m\u001B[43m]\u001B[49m))\n",
      "\u001B[0;31mIndexError\u001B[0m: index 1 is out of bounds for axis 0 with size 1"
     ]
    }
   ],
   "source": [
    "def angle(a, b):\n",
    "    return np.arccos(a @ b)\n",
    "\n",
    "for i, v_ in enumerate(aa):\n",
    "    va = np.asarray(v_)\n",
    "    vb = np.asarray(res_vec[i])\n",
    "    print(angle(va[1], vb[1]))\n",
    "\n",
    "\n",
    "\n",
    "\n"
   ],
   "metadata": {
    "collapsed": false,
    "pycharm": {
     "name": "#%%\n"
    }
   }
  },
  {
   "cell_type": "code",
   "execution_count": 59,
   "outputs": [
    {
     "name": "stdout",
     "output_type": "stream",
     "text": [
      "[2.853397993066149, 2.8533979930661486, 2.853397993066149, 0.8350593062280169, 0.8350593062280172, 0.8350593062280173, 2.9865045749685875, 1.8356037255880773, 1.288251384035326, 1.2960796257017289, 1.2960796257017284, 1.2960796257017289, 1.3012796385487626, 1.8475430589666424]\n"
     ]
    }
   ],
   "source": [
    "def unit_vector(vector):\n",
    "    return vector / np.linalg.norm(vector)\n",
    "\n",
    "def angle_between(v1, v2):\n",
    "    v1_u = unit_vector(v1)\n",
    "    v2_u = unit_vector(v2)\n",
    "    return np.arccos(np.clip(np.dot(v1_u, v2_u), -1.0, 1.0))\n",
    "\n",
    "\n",
    "ang =[]\n",
    "for j, i in enumerate(v_t):\n",
    "    for ind, val in enumerate(i):\n",
    "        ang.append(angle_between(val, v_[j][ind]))\n",
    "\n",
    "print(ang)\n",
    "\n"
   ],
   "metadata": {
    "collapsed": false,
    "pycharm": {
     "name": "#%%\n"
    }
   }
  },
  {
   "cell_type": "code",
   "execution_count": 60,
   "outputs": [
    {
     "name": "stdout",
     "output_type": "stream",
     "text": [
      "tensor(0.) tensor(0.)\n",
      "tensor([[1., 0.],\n",
      "        [0., 1.]])\n",
      "tensor(2.0101) tensor(2.7234)\n",
      "tensor([[-0.8542,  0.5200],\n",
      "        [-0.5200, -0.8542]])\n",
      "tensor(1.9480) tensor(2.)\n",
      "tensor([[ 0.9912, -0.1327],\n",
      "        [-0.1327, -0.9912]])\n",
      "tensor(1.5031) tensor(2.)\n",
      "tensor([[-0.0239, -0.9997],\n",
      "        [-0.9997,  0.0239]])\n",
      "tensor(1.4955) tensor(1.9865)\n",
      "tensor([[ 0.0135, -0.9999],\n",
      "        [ 0.9999,  0.0135]])\n",
      "tensor(1.5063) tensor(2.0000)\n",
      "tensor([[-0.0111, -0.9999],\n",
      "        [-0.9999,  0.0111]])\n",
      "end\n",
      "\n",
      "tensor(2.0101) tensor(2.7234)\n",
      "tensor([[-0.8542, -0.5200],\n",
      "        [ 0.5200, -0.8542]])\n",
      "tensor(0.) tensor(0.)\n",
      "tensor([[1.0000, 0.0000],\n",
      "        [0.0000, 1.0000]])\n",
      "tensor(1.6999) tensor(2.0000)\n",
      "tensor([[-0.7776,  0.6288],\n",
      "        [ 0.6288,  0.7776]])\n",
      "tensor(1.7449) tensor(2.0000)\n",
      "tensor([[ 0.5403,  0.8415],\n",
      "        [ 0.8415, -0.5403]])\n",
      "tensor(2.0278) tensor(2.4751)\n",
      "tensor([[-0.5315,  0.8471],\n",
      "        [-0.8471, -0.5315]])\n",
      "tensor(1.7434) tensor(2.0000)\n",
      "tensor([[ 0.5294,  0.8484],\n",
      "        [ 0.8484, -0.5294]])\n",
      "end\n",
      "\n",
      "tensor(1.9480) tensor(2.)\n",
      "tensor([[ 0.9912, -0.1327],\n",
      "        [-0.1327, -0.9912]])\n",
      "tensor(1.6999) tensor(2.0000)\n",
      "tensor([[-0.7776,  0.6288],\n",
      "        [ 0.6288,  0.7776]])\n",
      "tensor(0.) tensor(0.)\n",
      "tensor([[1.0000, 0.0000],\n",
      "        [0.0000, 1.0000]])\n",
      "tensor(1.3871) tensor(1.8879)\n",
      "tensor([[ 0.1090, -0.9940],\n",
      "        [ 0.9940,  0.1090]])\n",
      "tensor(1.4772) tensor(2.)\n",
      "tensor([[-0.1193, -0.9929],\n",
      "        [-0.9929,  0.1193]])\n",
      "tensor(1.3800) tensor(1.8743)\n",
      "tensor([[ 0.1217, -0.9926],\n",
      "        [ 0.9926,  0.1217]])\n",
      "end\n",
      "\n",
      "tensor(1.5031) tensor(2.)\n",
      "tensor([[-0.0239, -0.9997],\n",
      "        [-0.9997,  0.0239]])\n",
      "tensor(1.7449) tensor(2.0000)\n",
      "tensor([[ 0.5403,  0.8415],\n",
      "        [ 0.8415, -0.5403]])\n",
      "tensor(1.3871) tensor(1.8879)\n",
      "tensor([[ 0.1090,  0.9940],\n",
      "        [-0.9940,  0.1090]])\n",
      "tensor(0.) tensor(0.)\n",
      "tensor([[1.0000, 0.0000],\n",
      "        [0.0000, 1.0000]])\n",
      "tensor(1.9306) tensor(2.0000)\n",
      "tensor([[-0.9999,  0.0104],\n",
      "        [ 0.0104,  0.9999]])\n",
      "tensor(0.0148) tensor(0.0182)\n",
      "tensor([[ 0.9999,  0.0129],\n",
      "        [-0.0129,  0.9999]])\n",
      "end\n",
      "\n",
      "tensor(1.4955) tensor(1.9865)\n",
      "tensor([[ 0.0135,  0.9999],\n",
      "        [-0.9999,  0.0135]])\n",
      "tensor(2.0278) tensor(2.4751)\n",
      "tensor([[-0.5315, -0.8471],\n",
      "        [ 0.8471, -0.5315]])\n",
      "tensor(1.4772) tensor(2.)\n",
      "tensor([[-0.1193, -0.9929],\n",
      "        [-0.9929,  0.1193]])\n",
      "tensor(1.9306) tensor(2.0000)\n",
      "tensor([[-0.9999,  0.0104],\n",
      "        [ 0.0104,  0.9999]])\n",
      "tensor(0.) tensor(0.)\n",
      "tensor([[1.0000, 0.0000],\n",
      "        [0.0000, 1.0000]])\n",
      "tensor(1.9274) tensor(2.0000)\n",
      "tensor([[-1.0000, -0.0024],\n",
      "        [-0.0024,  1.0000]])\n",
      "end\n",
      "\n",
      "tensor(1.5063) tensor(2.0000)\n",
      "tensor([[-0.0111, -0.9999],\n",
      "        [-0.9999,  0.0111]])\n",
      "tensor(1.7434) tensor(2.0000)\n",
      "tensor([[ 0.5294,  0.8484],\n",
      "        [ 0.8484, -0.5294]])\n",
      "tensor(1.3800) tensor(1.8743)\n",
      "tensor([[ 0.1217,  0.9926],\n",
      "        [-0.9926,  0.1217]])\n",
      "tensor(0.0148) tensor(0.0182)\n",
      "tensor([[ 0.9999, -0.0129],\n",
      "        [ 0.0129,  0.9999]])\n",
      "tensor(1.9274) tensor(2.0000)\n",
      "tensor([[-1.0000, -0.0024],\n",
      "        [-0.0024,  1.0000]])\n",
      "tensor(0.) tensor(0.)\n",
      "tensor([[1.0000, 0.0000],\n",
      "        [0.0000, 1.0000]])\n",
      "end\n",
      "\n"
     ]
    }
   ],
   "source": [
    "for i in pck.Vh:\n",
    "    for j in pck.Vh:\n",
    "\n",
    "        print(torch.dist(i, j, p=4), torch.dist(i, j, p=2))\n",
    "        print(i@j.T)\n",
    "    print('end\\n')\n"
   ],
   "metadata": {
    "collapsed": false,
    "pycharm": {
     "name": "#%%\n"
    }
   }
  },
  {
   "cell_type": "code",
   "execution_count": 61,
   "outputs": [
    {
     "data": {
      "text/plain": "[tensor([[-0.0699, -0.0142,  0.9975],\n         [-0.0167, -0.9997, -0.0154],\n         [ 0.9974, -0.0177,  0.0696]]),\n tensor([[-0.8348,  0.0270,  0.5499],\n         [-0.0416, -0.9990, -0.0140],\n         [ 0.5490, -0.0346,  0.8351]]),\n tensor([[-1.]]),\n tensor([[-1.0000,  0.0016],\n         [ 0.0016,  1.0000]]),\n tensor([[ 1.4734e-01, -9.6023e-05,  9.8909e-01],\n         [ 3.7345e-04,  1.0000e+00,  4.1436e-05],\n         [-9.8909e-01,  3.6332e-04,  1.4734e-01]]),\n tensor([[-8.6005e-04,  1.0000e+00],\n         [ 1.0000e+00,  8.6007e-04]])]"
     },
     "execution_count": 61,
     "metadata": {},
     "output_type": "execute_result"
    }
   ],
   "source": [
    "pck.U"
   ],
   "metadata": {
    "collapsed": false,
    "pycharm": {
     "name": "#%%\n"
    }
   }
  },
  {
   "cell_type": "code",
   "execution_count": 62,
   "outputs": [
    {
     "name": "stdout",
     "output_type": "stream",
     "text": [
      "tensor([[-0.0699, -0.0142],\n",
      "        [-0.0167, -0.9997],\n",
      "        [ 0.9974, -0.0177]]) \n",
      " tensor([622.6624, 354.4463]) \n",
      " tensor([[-0.9588, -0.2842],\n",
      "        [ 0.2842, -0.9588]]) \n",
      "\n",
      "tensor([[-0.8348,  0.0270],\n",
      "        [-0.0416, -0.9990],\n",
      "        [ 0.5490, -0.0346]]) \n",
      " tensor([525.0457, 435.8289]) \n",
      " tensor([[ 0.6711,  0.7413],\n",
      "        [-0.7413,  0.6711]]) \n",
      "\n",
      "tensor([[-1.]]) \n",
      " tensor([281.4392]) \n",
      " tensor([[-0.9880, -0.1545],\n",
      "        [-0.1545,  0.9880]]) \n",
      "\n",
      "tensor([[-1.0000,  0.0016],\n",
      "        [ 0.0016,  1.0000]]) \n",
      " tensor([389.7151,  66.3967]) \n",
      " tensor([[-0.2612,  0.9653],\n",
      "        [ 0.9653,  0.2612]]) \n",
      "\n",
      "tensor([[ 1.4734e-01, -9.6023e-05],\n",
      "        [ 3.7345e-04,  1.0000e+00],\n",
      "        [-9.8909e-01,  3.6332e-04]]) \n",
      " tensor([232.8477,  68.2435]) \n",
      " tensor([[ 0.2713, -0.9625],\n",
      "        [ 0.9625,  0.2713]]) \n",
      "\n",
      "tensor([[-8.6005e-04,  1.0000e+00],\n",
      "        [ 1.0000e+00,  8.6007e-04]]) \n",
      " tensor([332.5527,  75.0847]) \n",
      " tensor([[-0.2736,  0.9618],\n",
      "        [ 0.9618,  0.2736]]) \n",
      "\n"
     ]
    }
   ],
   "source": [
    "for i in pck.matrices:\n",
    "    print(i.U[:,:2],'\\n' ,i.S,'\\n', i.Vh, '\\n')"
   ],
   "metadata": {
    "collapsed": false,
    "pycharm": {
     "name": "#%%\n"
    }
   }
  },
  {
   "cell_type": "code",
   "execution_count": 63,
   "outputs": [
    {
     "data": {
      "text/plain": "{'0:0': {}}"
     },
     "execution_count": 63,
     "metadata": {},
     "output_type": "execute_result"
    }
   ],
   "source": [
    "pck.tree"
   ],
   "metadata": {
    "collapsed": false,
    "pycharm": {
     "name": "#%%\n"
    }
   }
  },
  {
   "cell_type": "code",
   "execution_count": 64,
   "outputs": [
    {
     "data": {
      "text/plain": "[<__main__.SvdItem at 0x7f89e5bd9540>,\n <__main__.SvdItem at 0x7f89e3005930>,\n <__main__.SvdItem at 0x7f89e39e3340>,\n <__main__.SvdItem at 0x7f89dd6239a0>,\n <__main__.SvdItem at 0x7f89e39e3400>,\n <__main__.SvdItem at 0x7f89e39e3370>]"
     },
     "execution_count": 64,
     "metadata": {},
     "output_type": "execute_result"
    }
   ],
   "source": [
    "pck.matrices"
   ],
   "metadata": {
    "collapsed": false,
    "pycharm": {
     "name": "#%%\n"
    }
   }
  },
  {
   "cell_type": "code",
   "execution_count": null,
   "outputs": [],
   "source": [],
   "metadata": {
    "collapsed": false,
    "pycharm": {
     "name": "#%%\n"
    }
   }
  }
 ],
 "metadata": {
  "kernelspec": {
   "display_name": "Python 3",
   "language": "python",
   "name": "python3"
  },
  "language_info": {
   "codemirror_mode": {
    "name": "ipython",
    "version": 2
   },
   "file_extension": ".py",
   "mimetype": "text/x-python",
   "name": "python",
   "nbconvert_exporter": "python",
   "pygments_lexer": "ipython2",
   "version": "2.7.6"
  }
 },
 "nbformat": 4,
 "nbformat_minor": 0
}