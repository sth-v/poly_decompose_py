{
 "cells": [
  {
   "cell_type": "markdown",
   "source": [
    "Получение исходных данных"
   ],
   "metadata": {
    "collapsed": false,
    "pycharm": {
     "name": "#%% md\n"
    }
   },
   "outputs": []
  },
  {
   "cell_type": "code",
   "execution_count": 1,
   "outputs": [
    {
     "name": "stderr",
     "output_type": "stream",
     "text": [
      "/opt/anaconda3/envs/tests/lib/python3.10/site-packages/osmnx/geocoder.py:110: FutureWarning: The frame.append method is deprecated and will be removed from pandas in a future version. Use pandas.concat instead.\n",
      "  gdf = gdf.append(_geocode_query_to_gdf(q, wr, by_osmid))\n",
      "/opt/anaconda3/envs/tests/lib/python3.10/site-packages/osmnx/geocoder.py:110: FutureWarning: The frame.append method is deprecated and will be removed from pandas in a future version. Use pandas.concat instead.\n",
      "  gdf = gdf.append(_geocode_query_to_gdf(q, wr, by_osmid))\n",
      "/opt/anaconda3/envs/tests/lib/python3.10/site-packages/osmnx/geocoder.py:110: FutureWarning: The frame.append method is deprecated and will be removed from pandas in a future version. Use pandas.concat instead.\n",
      "  gdf = gdf.append(_geocode_query_to_gdf(q, wr, by_osmid))\n"
     ]
    }
   ],
   "source": [
    "from basepolygon_class import GoalPolygon\n",
    "from shapely.geometry import Polygon\n",
    "place = GoalPolygon('Жилой комплекс «Одинцово-1»')\n",
    "v = place.polygon\n"
   ],
   "metadata": {
    "collapsed": false,
    "pycharm": {
     "name": "#%%\n"
    }
   }
  },
  {
   "cell_type": "markdown",
   "source": [
    "Геометрическое упрощение"
   ],
   "metadata": {
    "collapsed": false,
    "pycharm": {
     "name": "#%% md\n"
    }
   }
  },
  {
   "cell_type": "code",
   "execution_count": 2,
   "outputs": [],
   "source": [
    "def get_xy(s):\n",
    "\n",
    "    x, y = s.centroid.coords.xy\n",
    "    return x[0], y[0]"
   ],
   "metadata": {
    "collapsed": false,
    "pycharm": {
     "name": "#%%\n"
    }
   }
  },
  {
   "cell_type": "markdown",
   "source": [
    "Здесь полигон в нуле не от центра"
   ],
   "metadata": {
    "collapsed": false
   }
  },
  {
   "cell_type": "code",
   "execution_count": 3,
   "outputs": [
    {
     "data": {
      "text/plain": "<shapely.geometry.polygon.Polygon at 0x7fcedc27a920>",
      "image/svg+xml": "<svg xmlns=\"http://www.w3.org/2000/svg\" xmlns:xlink=\"http://www.w3.org/1999/xlink\" width=\"300\" height=\"300\" viewBox=\"-41.660686183068904 -41.660686183068904 1124.8385269428604 1023.4510715087877\" preserveAspectRatio=\"xMinYMin meet\"><g transform=\"matrix(1,0,0,-1,0,940.1296991426498)\"><path fill-rule=\"evenodd\" fill=\"#66cc99\" stroke=\"#555555\" stroke-width=\"7.498923512952403\" opacity=\"0.6\" d=\"M 0.0,679.7554941019043 L 90.92466560343746,359.8743795603514 L 50.64634319592733,342.689586349763 L 141.4154383126297,0.0 L 738.6390963118174,170.50443049520254 L 1041.5171545767225,487.5379093941301 L 733.3747470285161,795.9299552580342 L 528.746321437764,592.3512355554849 L 250.68498866126174,548.8781394008547 L 148.7872773281997,925.0354834403843 L 84.8542414731346,907.106489722617 L 75.55369137861999,940.1296991426498 L 9.845574646664318,921.7006750889122 L 72.29789360892028,700.0236357413232 L 0.0,679.7554941019043 z\" /></g></svg>"
     },
     "execution_count": 3,
     "metadata": {},
     "output_type": "execute_result"
    }
   ],
   "source": [
    "from shapely.affinity import translate\n",
    "\n",
    "s = v.simplify(10, preserve_topology=True)\n",
    "x, y, _, _ = v.bounds\n",
    "#x, y = get_xy(s)\n",
    "st = translate(s, 0-x, 0-y)\n",
    "\n",
    "st"
   ],
   "metadata": {
    "collapsed": false,
    "pycharm": {
     "name": "#%%\n"
    }
   }
  },
  {
   "cell_type": "code",
   "execution_count": 4,
   "outputs": [],
   "source": [
    "# убрать бы эту ебань\n",
    "coor_list = (list(st.boundary.coords[0:len(st.boundary.coords) - 1]))"
   ],
   "metadata": {
    "collapsed": false,
    "pycharm": {
     "name": "#%%\n"
    }
   }
  },
  {
   "cell_type": "markdown",
   "source": [
    "Декомпозиция периметра"
   ],
   "metadata": {
    "collapsed": false,
    "pycharm": {
     "name": "#%% md\n"
    }
   }
  },
  {
   "cell_type": "code",
   "execution_count": 5,
   "outputs": [],
   "source": [
    "import numpy as np\n",
    "from math import pi, cos, sin\n",
    "\n",
    "target = pi/2\n",
    "basis = np.array([[1, 0, 0],[0, 1, 0]])\n",
    "tolerance=0.75"
   ],
   "metadata": {
    "collapsed": false,
    "pycharm": {
     "name": "#%%\n"
    }
   }
  },
  {
   "cell_type": "code",
   "execution_count": 6,
   "outputs": [],
   "source": [
    "transform = np.array(\n",
    "    [\n",
    "        [cos(target), -sin(target), 0],\n",
    "        [sin(target), cos(target), 0],\n",
    "        [0, 0, 1]\n",
    "    ]\n",
    ")"
   ],
   "metadata": {
    "collapsed": false,
    "pycharm": {
     "name": "#%%\n"
    }
   }
  },
  {
   "cell_type": "code",
   "execution_count": 7,
   "outputs": [
    {
     "name": "stderr",
     "output_type": "stream",
     "text": [
      "/var/folders/l7/52t7xngd2973k8x9_y55rmyh0000gn/T/ipykernel_9566/2402548898.py:1: DeprecationWarning: `np.complex` is a deprecated alias for the builtin `complex`. To silence this warning, use `complex` by itself. Doing this will not modify any behavior and is safe. If you specifically wanted the numpy scalar type, use `np.complex128` here.\n",
      "Deprecated in NumPy 1.20; for more details and guidance: https://numpy.org/devdocs/release/1.20.0-notes.html#deprecations\n",
      "  metric = np.complex(np.cross(basis[0], basis[1])[-1],\n"
     ]
    }
   ],
   "source": [
    "metric = np.complex(np.cross(basis[0], basis[1])[-1],\n",
    "                             np.cross(basis[1], basis[0])[-1])\n"
   ],
   "metadata": {
    "collapsed": false,
    "pycharm": {
     "name": "#%%\n"
    }
   }
  },
  {
   "cell_type": "markdown",
   "source": [
    "разбиение точек на группы по сегментам"
   ],
   "metadata": {
    "collapsed": false
   }
  },
  {
   "cell_type": "code",
   "execution_count": 8,
   "outputs": [],
   "source": [
    "from itertools import islice, cycle\n",
    "\n",
    "def vec_search(point_list, key):\n",
    "    cr = []\n",
    "    n = list(islice(cycle(range(len(point_list))), 0, len(point_list) + 2))\n",
    "    for i in range(len(point_list)):\n",
    "        v_one = [point_list[n[i]][0] - point_list[n[i + 1]][0], point_list[n[i]][1] - point_list[n[i + 1]][1], 0]\n",
    "        v_two = [point_list[n[i + 1]][0] - point_list[n[i + 2]][0], point_list[n[i + 1]][1] - point_list[n[i + 2]][1],0]\n",
    "        v_o_norm, v_t_norm = v_one / np.linalg.norm(v_one), v_two / np.linalg.norm(v_two)\n",
    "        if np.cross(v_o_norm, v_t_norm)[2] < key:\n",
    "            cr.append(n[i + 1])\n",
    "        else:\n",
    "            pass\n",
    "    cross = [*cr, cr[0] + cr[-1] + 1]\n",
    "    double_points = [*range(len(point_list)), *range(len(point_list))]\n",
    "    segments = [double_points[cross[c]:cross[c + 1]+1] for c in range(len(cross) - 1)]\n",
    "    return segments"
   ],
   "metadata": {
    "collapsed": false,
    "pycharm": {
     "name": "#%%\n"
    }
   }
  },
  {
   "cell_type": "code",
   "execution_count": 9,
   "outputs": [
    {
     "name": "stdout",
     "output_type": "stream",
     "text": [
      "[[1, 2, 3, 4], [4, 5, 6, 7], [7, 8], [8, 9, 10], [10, 11, 12, 13], [13, 0, 1]]\n"
     ]
    }
   ],
   "source": [
    "bb = vec_search(coor_list, 0.7)\n",
    "print(bb)"
   ],
   "metadata": {
    "collapsed": false,
    "pycharm": {
     "name": "#%%\n"
    }
   }
  },
  {
   "cell_type": "markdown",
   "source": [
    "вектора разбитые по группам от исходных точек"
   ],
   "metadata": {
    "collapsed": false
   }
  },
  {
   "cell_type": "code",
   "execution_count": 10,
   "outputs": [],
   "source": [
    "def chains (point_list):\n",
    "    key_val = vec_search(point_list, 0.7)\n",
    "    vectors =[]\n",
    "    for i in key_val:\n",
    "        temp =[]\n",
    "        for l in range(len(i)-1):\n",
    "            vec = [point_list[i[l]][0] - point_list[i[l+1]][0], point_list[i[l]][1] - point_list[i[l+1]][1]]\n",
    "            temp.append(vec)\n",
    "        vectors.append(temp)\n",
    "    return vectors\n"
   ],
   "metadata": {
    "collapsed": false,
    "pycharm": {
     "name": "#%%\n"
    }
   }
  },
  {
   "cell_type": "code",
   "execution_count": 11,
   "outputs": [
    {
     "name": "stdout",
     "output_type": "stream",
     "text": [
      "[[[40.27832240751013, 17.184793210588396], [-90.76909511670237, 342.689586349763], [-597.2236579991877, -170.50443049520254]], [[-302.8780582649051, -317.03347889892757], [308.1424075482064, -308.39204586390406], [204.62842559075216, 203.57871970254928]], [[278.06133277650224, 43.473096154630184]], [[101.89771133306203, -376.15734403952956], [63.9330358550651, 17.928993717767298]], [[9.30055009451462, -33.0232094200328], [65.70811673195567, 18.42902405373752], [-62.45231896225596, 221.67703934758902]], [[72.29789360892028, 20.2681416394189], [-90.92466560343746, 319.88111454155296]]]\n"
     ]
    }
   ],
   "source": [
    "res_vec = chains(coor_list)\n",
    "print(res_vec)"
   ],
   "metadata": {
    "collapsed": false,
    "pycharm": {
     "name": "#%%\n"
    }
   }
  },
  {
   "cell_type": "markdown",
   "source": [
    "SVD\n",
    "Декомпозиция"
   ],
   "metadata": {
    "collapsed": false,
    "pycharm": {
     "name": "#%% md\n"
    }
   }
  },
  {
   "cell_type": "markdown",
   "source": [
    "# Это техническая часть для работы с локальными данными\n",
    "import json\n",
    "\n",
    "f = open(\"/Users/andrewastakhov/dumps/pl.json\", \"r\")\n",
    "points = json.load(f)['pts']"
   ],
   "metadata": {
    "collapsed": false,
    "pycharm": {
     "name": "#%% md\n"
    }
   }
  },
  {
   "cell_type": "code",
   "execution_count": 12,
   "outputs": [
    {
     "name": "stderr",
     "output_type": "stream",
     "text": [
      "/var/folders/l7/52t7xngd2973k8x9_y55rmyh0000gn/T/ipykernel_9566/1396746674.py:4: VisibleDeprecationWarning: Creating an ndarray from ragged nested sequences (which is a list-or-tuple of lists-or-tuples-or ndarrays with different lengths or shapes) is deprecated. If you meant to do this, you must specify 'dtype=object' when creating the ndarray.\n",
      "  A = np.asarray(res_vec)\n"
     ]
    }
   ],
   "source": [
    "from scipy.linalg import svd\n",
    "import numpy as np\n",
    "\n",
    "A = np.asarray(res_vec)"
   ],
   "metadata": {
    "collapsed": false,
    "pycharm": {
     "name": "#%%\n"
    }
   }
  },
  {
   "cell_type": "markdown",
   "source": [
    "Пример с одной матрицей"
   ],
   "metadata": {
    "collapsed": false,
    "pycharm": {
     "name": "#%% md\n"
    }
   }
  },
  {
   "cell_type": "code",
   "execution_count": 13,
   "outputs": [],
   "source": [
    "a = np.asarray(A[0])"
   ],
   "metadata": {
    "collapsed": false,
    "pycharm": {
     "name": "#%%\n"
    }
   }
  },
  {
   "cell_type": "code",
   "execution_count": 14,
   "outputs": [],
   "source": [
    "U, s, Vh=svd(a)"
   ],
   "metadata": {
    "collapsed": false,
    "pycharm": {
     "name": "#%%\n"
    }
   }
  },
  {
   "cell_type": "markdown",
   "source": [
    "Получить Sigma из s Хуй знает зачем сайпи говорят что это полезно"
   ],
   "metadata": {
    "collapsed": false,
    "pycharm": {
     "name": "#%% md\n"
    }
   }
  },
  {
   "cell_type": "code",
   "execution_count": 15,
   "outputs": [
    {
     "data": {
      "text/plain": "array([[622.66245335,   0.        ],\n       [  0.        , 354.44628545],\n       [  0.        ,   0.        ]])"
     },
     "execution_count": 15,
     "metadata": {},
     "output_type": "execute_result"
    }
   ],
   "source": [
    "sigma = np.zeros(a.shape)\n",
    "for i in range(min(a.shape)):\n",
    "            sigma[i, i] = s[i]\n",
    "sigma"
   ],
   "metadata": {
    "collapsed": false,
    "pycharm": {
     "name": "#%%\n"
    }
   }
  },
  {
   "cell_type": "markdown",
   "source": [
    "А точно, как минимум для обратной проверки, \"B\" должно быть равно \"a\""
   ],
   "metadata": {
    "collapsed": false,
    "pycharm": {
     "name": "#%% md\n"
    }
   }
  },
  {
   "cell_type": "code",
   "execution_count": 16,
   "outputs": [],
   "source": [
    "B = U @ sigma @ Vh"
   ],
   "metadata": {
    "collapsed": false,
    "pycharm": {
     "name": "#%%\n"
    }
   }
  },
  {
   "cell_type": "markdown",
   "source": [
    "Теперь на торче\n",
    "Класс треннируется на основе отсортированых данных выпуклой декомпозиции периметра\n"
   ],
   "metadata": {
    "collapsed": false,
    "pycharm": {
     "name": "#%% md\n"
    }
   }
  },
  {
   "cell_type": "code",
   "execution_count": 17,
   "outputs": [
    {
     "name": "stderr",
     "output_type": "stream",
     "text": [
      "/opt/anaconda3/envs/tests/lib/python3.10/site-packages/osmnx/geocoder.py:110: FutureWarning: The frame.append method is deprecated and will be removed from pandas in a future version. Use pandas.concat instead.\n",
      "  gdf = gdf.append(_geocode_query_to_gdf(q, wr, by_osmid))\n",
      "/opt/anaconda3/envs/tests/lib/python3.10/site-packages/osmnx/geocoder.py:110: FutureWarning: The frame.append method is deprecated and will be removed from pandas in a future version. Use pandas.concat instead.\n",
      "  gdf = gdf.append(_geocode_query_to_gdf(q, wr, by_osmid))\n"
     ]
    },
    {
     "name": "stdout",
     "output_type": "stream",
     "text": [
      "[[1, 2, 3], [4, 5, 6], [7], [8, 9], [10, 11, 12], [13, 0]]\n"
     ]
    },
    {
     "name": "stderr",
     "output_type": "stream",
     "text": [
      "/opt/anaconda3/envs/tests/lib/python3.10/site-packages/osmnx/geocoder.py:110: FutureWarning: The frame.append method is deprecated and will be removed from pandas in a future version. Use pandas.concat instead.\n",
      "  gdf = gdf.append(_geocode_query_to_gdf(q, wr, by_osmid))\n"
     ]
    }
   ],
   "source": [
    "import torch\n",
    "from polygon_division import vector_search, points_to_point_chain"
   ],
   "metadata": {
    "collapsed": false,
    "pycharm": {
     "name": "#%%\n"
    }
   }
  },
  {
   "cell_type": "markdown",
   "source": [],
   "metadata": {
    "collapsed": false,
    "pycharm": {
     "name": "#%% md\n"
    }
   }
  },
  {
   "cell_type": "code",
   "execution_count": 18,
   "outputs": [],
   "source": [
    "class SvdItem:\n",
    "    keys=[\"A\", \"U\", \"S\", \"Vh\", \"Sigma\"]\n",
    "    def __init__(self, m, collection=None, **kwargs):\n",
    "        self.A = torch.tensor(m)\n",
    "        self.collection=collection\n",
    "        self.U = None\n",
    "        self.S = None\n",
    "        self.Vh = None\n",
    "        self.Sigma = None\n",
    "        self.svd(**kwargs)\n",
    "        if collection is not None:\n",
    "            self.id = f'{collection.id}:{len(collection.matrices)}'\n",
    "            print(f'set item id: {self.id}')\n",
    "            collection.A.append(self.A)\n",
    "\n",
    "\n",
    "\n",
    "    def svd(self, **kwargs):\n",
    "        U, S, Vh = torch.linalg.svd(self.A, **kwargs)\n",
    "        Sigma = torch.diag(S)\n",
    "        self.U, self.S, self.Vh, self.Sigma=U, S, Vh, Sigma\n",
    "        print(self.U, self.S, self.Vh, self.Sigma)\n",
    "        if self.collection:\n",
    "            for v, k in zip([A, U, S, Vh, Sigma], self.__class__.keys):\n",
    "                (self.collection.__dict__[k]).append(v)\n",
    "\n",
    "        return U, S, Vh, Sigma\n",
    "    def pack(self):\n",
    "        self.collection.__dict__[self.__class__.__name__][self.collection.id]|={self.id:self}\n",
    "        return self.id, self\n",
    "\n",
    "\n",
    "\n",
    "class SvdPack:\n",
    "    def __init__(self):\n",
    "        self._matrices = []\n",
    "        self.id = f'{0}:{0}'\n",
    "        self.A, self.U, self.S, self.Vh, self.Sigma = [], [], [], [], []\n",
    "        self.tree= {self.id:{}}\n",
    "\n",
    "\n",
    "\n",
    "    @property\n",
    "    def matrices(self):\n",
    "        return self._matrices\n",
    "    @matrices.setter\n",
    "    def matrices(self, val, **kwargs):\n",
    "        if len(val.shape) == 2:\n",
    "            self._matrices.append(SvdItem(val, collection=self, **kwargs))\n",
    "        else:\n",
    "            for v in val:\n",
    "                self._matrices.append(SvdItem(v, collection=self, **kwargs))\n"
   ],
   "metadata": {
    "collapsed": false,
    "pycharm": {
     "name": "#%%\n"
    }
   }
  },
  {
   "cell_type": "code",
   "execution_count": 19,
   "outputs": [],
   "source": [
    "pck = SvdPack()"
   ],
   "metadata": {
    "collapsed": false,
    "pycharm": {
     "name": "#%%\n"
    }
   }
  },
  {
   "cell_type": "code",
   "execution_count": 20,
   "outputs": [],
   "source": [
    "a_=np.asarray(res_vec, dtype=object)"
   ],
   "metadata": {
    "collapsed": false,
    "pycharm": {
     "name": "#%%\n"
    }
   }
  },
  {
   "cell_type": "code",
   "execution_count": 21,
   "outputs": [
    {
     "data": {
      "text/plain": "1"
     },
     "execution_count": 21,
     "metadata": {},
     "output_type": "execute_result"
    }
   ],
   "source": [
    "len(a_.shape)"
   ],
   "metadata": {
    "collapsed": false,
    "pycharm": {
     "name": "#%%\n"
    }
   }
  },
  {
   "cell_type": "code",
   "execution_count": 22,
   "outputs": [
    {
     "name": "stdout",
     "output_type": "stream",
     "text": [
      "tensor([[-0.0699, -0.0142,  0.9975],\n",
      "        [-0.0167, -0.9997, -0.0154],\n",
      "        [ 0.9974, -0.0177,  0.0696]]) tensor([622.6624, 354.4463]) tensor([[-0.9588, -0.2842],\n",
      "        [ 0.2842, -0.9588]]) tensor([[622.6624,   0.0000],\n",
      "        [  0.0000, 354.4463]])\n",
      "set item id: 0:0:0\n",
      "tensor([[-0.8348,  0.0270,  0.5499],\n",
      "        [-0.0416, -0.9990, -0.0140],\n",
      "        [ 0.5490, -0.0346,  0.8351]]) tensor([525.0457, 435.8289]) tensor([[ 0.6711,  0.7413],\n",
      "        [-0.7413,  0.6711]]) tensor([[525.0457,   0.0000],\n",
      "        [  0.0000, 435.8289]])\n",
      "set item id: 0:0:1\n",
      "tensor([[-1.]]) tensor([281.4392]) tensor([[-0.9880, -0.1545],\n",
      "        [-0.1545,  0.9880]]) tensor([[281.4392]])\n",
      "set item id: 0:0:2\n",
      "tensor([[-1.0000,  0.0016],\n",
      "        [ 0.0016,  1.0000]]) tensor([389.7151,  66.3967]) tensor([[-0.2612,  0.9653],\n",
      "        [ 0.9653,  0.2612]]) tensor([[389.7151,   0.0000],\n",
      "        [  0.0000,  66.3967]])\n",
      "set item id: 0:0:3\n",
      "tensor([[ 1.4734e-01, -9.6023e-05,  9.8909e-01],\n",
      "        [ 3.7345e-04,  1.0000e+00,  4.1436e-05],\n",
      "        [-9.8909e-01,  3.6332e-04,  1.4734e-01]]) tensor([232.8477,  68.2435]) tensor([[ 0.2713, -0.9625],\n",
      "        [ 0.9625,  0.2713]]) tensor([[232.8477,   0.0000],\n",
      "        [  0.0000,  68.2435]])\n",
      "set item id: 0:0:4\n",
      "tensor([[-8.6005e-04,  1.0000e+00],\n",
      "        [ 1.0000e+00,  8.6007e-04]]) tensor([332.5527,  75.0847]) tensor([[-0.2736,  0.9618],\n",
      "        [ 0.9618,  0.2736]]) tensor([[332.5527,   0.0000],\n",
      "        [  0.0000,  75.0847]])\n",
      "set item id: 0:0:5\n"
     ]
    }
   ],
   "source": [
    "pck.matrices = a_"
   ],
   "metadata": {
    "collapsed": false,
    "pycharm": {
     "name": "#%%\n"
    }
   }
  },
  {
   "cell_type": "code",
   "execution_count": 23,
   "outputs": [
    {
     "data": {
      "text/plain": "[<__main__.SvdItem at 0x7fcedc7133d0>,\n <__main__.SvdItem at 0x7fcedc712b60>,\n <__main__.SvdItem at 0x7fcedc712a70>,\n <__main__.SvdItem at 0x7fcedc7116c0>,\n <__main__.SvdItem at 0x7fcedc712170>,\n <__main__.SvdItem at 0x7fcedc711c60>]"
     },
     "execution_count": 23,
     "metadata": {},
     "output_type": "execute_result"
    }
   ],
   "source": [
    "pck.matrices"
   ],
   "metadata": {
    "collapsed": false,
    "pycharm": {
     "name": "#%%\n"
    }
   }
  },
  {
   "cell_type": "code",
   "execution_count": 24,
   "outputs": [
    {
     "data": {
      "text/plain": "[tensor([622.6624, 354.4463]),\n tensor([525.0457, 435.8289]),\n tensor([281.4392]),\n tensor([389.7151,  66.3967]),\n tensor([232.8477,  68.2435]),\n tensor([332.5527,  75.0847])]"
     },
     "execution_count": 24,
     "metadata": {},
     "output_type": "execute_result"
    }
   ],
   "source": [
    "pck.S"
   ],
   "metadata": {
    "collapsed": false,
    "pycharm": {
     "name": "#%%\n"
    }
   }
  },
  {
   "cell_type": "markdown",
   "source": [
    "VH"
   ],
   "metadata": {
    "collapsed": false
   }
  },
  {
   "cell_type": "code",
   "execution_count": 38,
   "outputs": [
    {
     "data": {
      "text/plain": "[tensor([[-0.9588, -0.2842],\n         [ 0.2842, -0.9588]]),\n tensor([[ 0.6711,  0.7413],\n         [-0.7413,  0.6711]]),\n tensor([[-0.9880, -0.1545],\n         [-0.1545,  0.9880]]),\n tensor([[-0.2612,  0.9653],\n         [ 0.9653,  0.2612]]),\n tensor([[ 0.2713, -0.9625],\n         [ 0.9625,  0.2713]]),\n tensor([[-0.2736,  0.9618],\n         [ 0.9618,  0.2736]])]"
     },
     "execution_count": 38,
     "metadata": {},
     "output_type": "execute_result"
    }
   ],
   "source": [
    "pck_vh = pck.Vh\n",
    "pck_vh"
   ],
   "metadata": {
    "collapsed": false,
    "pycharm": {
     "name": "#%%\n"
    }
   }
  },
  {
   "cell_type": "markdown",
   "source": [
    "на данный момент не нужно, но если какая-то из матриц зеркальна, то вот"
   ],
   "metadata": {
    "collapsed": false
   }
  },
  {
   "cell_type": "code",
   "execution_count": 39,
   "outputs": [
    {
     "data": {
      "text/plain": "[tensor([[-0.9588, -0.2842],\n         [ 0.2842, -0.9588]]),\n tensor([[ 0.6711,  0.7413],\n         [-0.7413,  0.6711]]),\n tensor([[-0.9880, -0.1545],\n         [ 0.1545, -0.9880]]),\n tensor([[-0.2612,  0.9653],\n         [-0.9653, -0.2612]]),\n tensor([[ 0.2713, -0.9625],\n         [ 0.9625,  0.2713]]),\n tensor([[-0.2736,  0.9618],\n         [-0.9618, -0.2736]])]"
     },
     "execution_count": 39,
     "metadata": {},
     "output_type": "execute_result"
    }
   ],
   "source": [
    "def matricies_check(matricies_list):\n",
    "    matrix_checked = []\n",
    "    for i in matricies_list:\n",
    "        if i[0][1]<0 and i[1][0]>0 or i[0][1]>0 and i[1][0]<0 :\n",
    "            matrix_checked.append(i)\n",
    "        else:\n",
    "            #ii = np.fliplr(i)\n",
    "            i[1]*= -1\n",
    "            matrix_checked.append(i)\n",
    "    return matrix_checked\n",
    "\n",
    "\n",
    "\n",
    "huy = matricies_check(pck_vh)\n",
    "huy"
   ],
   "metadata": {
    "collapsed": false,
    "pycharm": {
     "name": "#%%\n"
    }
   }
  },
  {
   "cell_type": "markdown",
   "source": [
    "соответственно точки по паттерну"
   ],
   "metadata": {
    "collapsed": false
   }
  },
  {
   "cell_type": "code",
   "execution_count": 40,
   "outputs": [
    {
     "data": {
      "text/plain": "[[[-189.45894228566016, -319.1898602550445],\n  [-145.95746415480536, -314.1617703489342],\n  [-135.58325818030264, 40.19335016784538],\n  [-756.6376122303274, 46.464754509185724]],\n [[622.1266545530809, -433.14866174219475],\n  [1060.4267104030912, -444.91130665485605],\n  [1082.244171131404, -9.501901535154843],\n  [793.9908716909381, 5.568036662458212]],\n [[-613.8990218566818, -503.5678997589455],\n  [-332.4598492185124, -503.5678950997746]],\n [[464.3401690336102, -385.35497881233437],\n  [854.0548241581698, -385.25166068207534],\n  [853.4483479866465, -318.8550116233078]],\n [[-850.0732004136472, 327.7470691303049],\n  [-884.3811117234485, 327.753617342215],\n  [-884.4680591358416, 259.51009107256203],\n  [-654.1617161568952, 259.4853009883972]],\n [[653.5322218109458, -261.0665299294826],\n  [653.8182351355626, -185.9819014602406],\n  [321.26564832641475, -185.91732893540012]]]"
     },
     "execution_count": 40,
     "metadata": {},
     "output_type": "execute_result"
    }
   ],
   "source": [
    "def transform_chains_fromvh(chains, t):\n",
    "    chains_t=[]\n",
    "    for i, clust in enumerate(chains):\n",
    "        _t=[]\n",
    "        for j in clust:\n",
    "            _ = t[i] @ np.asarray(coor_list[j])\n",
    "            _t.append(np.asarray(_).tolist())\n",
    "        chains_t.append(_t)\n",
    "    return chains_t\n",
    "\n",
    "p_tt = transform_chains_fromvh(bb, huy)\n",
    "p_tt"
   ],
   "metadata": {
    "collapsed": false,
    "pycharm": {
     "name": "#%%\n"
    }
   }
  },
  {
   "cell_type": "markdown",
   "source": [
    "РАЗГРУППИРОВКА ТОЧЕК ПО ПАТТЕРНУ"
   ],
   "metadata": {
    "collapsed": false
   }
  },
  {
   "cell_type": "code",
   "execution_count": 28,
   "outputs": [
    {
     "name": "stdout",
     "output_type": "stream",
     "text": [
      "[[[-189.45894228566016, -319.1898602550445], [-145.95746415480536, -314.1617703489342], [-135.58325818030264, 40.19335016784538], [-756.6376122303274, 46.464754509185724]], [[622.1266545530809, -433.14866174219475], [1060.4267104030912, -444.91130665485605], [1082.244171131404, -9.501901535154843], [793.9908716909381, 5.568036662458212]], [[-613.8990218566818, 503.5678997589455], [-332.4598492185124, 503.5678950997746]], [[464.3401690336102, 385.35497881233437], [854.0548241581698, 385.25166068207534], [853.4483479866465, 318.8550116233078]], [[-850.0732004136472, 327.7470691303049], [-884.3811117234485, 327.753617342215], [-884.4680591358416, 259.51009107256203], [-654.1617161568952, 259.4853009883972]], [[653.5322218109458, 261.0665299294826], [653.8182351355626, 185.9819014602406], [321.26564832641475, 185.91732893540012]]]\n"
     ]
    }
   ],
   "source": [
    "def transform_chains_vh(chains, t):\n",
    "    chains_t=[]\n",
    "    for i, clust in enumerate(chains):\n",
    "        _t=[]\n",
    "        for j in clust:\n",
    "            _ = t.Vh[i] @ np.asarray(coor_list[j])\n",
    "            _t.append(np.asarray(_).tolist())\n",
    "        chains_t.append(_t)\n",
    "    return chains_t\n",
    "\n",
    "p_t = transform_chains_vh(bb, pck)\n",
    "print(p_t)"
   ],
   "metadata": {
    "collapsed": false,
    "pycharm": {
     "name": "#%%\n"
    }
   }
  },
  {
   "cell_type": "markdown",
   "source": [
    "ЦЕПОЧКИ ВЕКТОРОВ (ВХОДЯТ ТОЧКИ С ЗАДАННЫМ ПАТТЕРНОМ)"
   ],
   "metadata": {
    "collapsed": false
   }
  },
  {
   "cell_type": "code",
   "execution_count": 41,
   "outputs": [],
   "source": [
    "def chains_ (point_list):\n",
    "    vectors =[]\n",
    "    for i in point_list:\n",
    "        temp =[]\n",
    "        for l in range(len(i)-1):\n",
    "            vec = [i[l][0] - i[l+1][0], i[l][1] - i[l+1][1]]\n",
    "            temp.append(vec)\n",
    "        vectors.append(temp)\n",
    "    return vectors\n",
    "\n",
    "v_t = chains_(p_tt)\n",
    "# not transformed vec\n",
    "v_ = res_vec"
   ],
   "metadata": {
    "collapsed": false,
    "pycharm": {
     "name": "#%%\n"
    }
   }
  },
  {
   "cell_type": "markdown",
   "source": [
    "замер угла между исходными векторами и транформированными"
   ],
   "metadata": {
    "collapsed": false
   }
  },
  {
   "cell_type": "code",
   "execution_count": 45,
   "outputs": [
    {
     "name": "stdout",
     "output_type": "stream",
     "text": [
      "[2.8533979930661495, 0.8350593062280169, 2.9865046080782, 1.8350735010944388, 1.2960796257017295, 1.8479314037072352]\n"
     ]
    }
   ],
   "source": [
    "def unit_vector(vector):\n",
    "    return vector / np.linalg.norm(vector)\n",
    "\n",
    "def angle_between(v1, v2):\n",
    "    v1_u = unit_vector(v1)\n",
    "    v2_u = unit_vector(v2)\n",
    "    return np.arccos(np.clip(np.dot(v1_u, v2_u), -1.0, 1.0))\n",
    "\n",
    "\n",
    "ang =[]\n",
    "for j, i in enumerate(v_t):\n",
    "    for ind, val in enumerate(i):\n",
    "        ang.append(angle_between(val, v_[j][ind]))\n",
    "        break\n",
    "\n",
    "print(ang)\n",
    "\n"
   ],
   "metadata": {
    "collapsed": false,
    "pycharm": {
     "name": "#%%\n"
    }
   }
  },
  {
   "cell_type": "markdown",
   "source": [
    "Clusters"
   ],
   "metadata": {
    "collapsed": false
   }
  },
  {
   "cell_type": "code",
   "execution_count": 46,
   "outputs": [
    {
     "name": "stdout",
     "output_type": "stream",
     "text": [
      "[2, 0, 2, 1, 1, 1]\n"
     ]
    }
   ],
   "source": [
    "scope = np.asarray(ang)/np.linalg.norm(ang)\n",
    "r = np.round(scope*len(ang), 0)\n",
    "labels=[]\n",
    "l = np.unique(r).tolist()\n",
    "for i in r:\n",
    "    labels.append(l.index(i))\n",
    "print(labels)"
   ],
   "metadata": {
    "collapsed": false,
    "pycharm": {
     "name": "#%%\n"
    }
   }
  },
  {
   "cell_type": "code",
   "execution_count": 32,
   "outputs": [
    {
     "name": "stdout",
     "output_type": "stream",
     "text": [
      "tensor(0.) tensor(0.)\n",
      "tensor([[1., 0.],\n",
      "        [0., 1.]])\n",
      "tensor(2.0101) tensor(2.7234)\n",
      "tensor([[-0.8542,  0.5200],\n",
      "        [-0.5200, -0.8542]])\n",
      "tensor(1.9480) tensor(2.)\n",
      "tensor([[ 0.9912, -0.1327],\n",
      "        [-0.1327, -0.9912]])\n",
      "tensor(1.5031) tensor(2.)\n",
      "tensor([[-0.0239, -0.9997],\n",
      "        [-0.9997,  0.0239]])\n",
      "tensor(1.4955) tensor(1.9865)\n",
      "tensor([[ 0.0135, -0.9999],\n",
      "        [ 0.9999,  0.0135]])\n",
      "tensor(1.5063) tensor(2.0000)\n",
      "tensor([[-0.0111, -0.9999],\n",
      "        [-0.9999,  0.0111]])\n",
      "end\n",
      "\n",
      "tensor(2.0101) tensor(2.7234)\n",
      "tensor([[-0.8542, -0.5200],\n",
      "        [ 0.5200, -0.8542]])\n",
      "tensor(0.) tensor(0.)\n",
      "tensor([[1.0000, 0.0000],\n",
      "        [0.0000, 1.0000]])\n",
      "tensor(1.6999) tensor(2.0000)\n",
      "tensor([[-0.7776,  0.6288],\n",
      "        [ 0.6288,  0.7776]])\n",
      "tensor(1.7449) tensor(2.0000)\n",
      "tensor([[ 0.5403,  0.8415],\n",
      "        [ 0.8415, -0.5403]])\n",
      "tensor(2.0278) tensor(2.4751)\n",
      "tensor([[-0.5315,  0.8471],\n",
      "        [-0.8471, -0.5315]])\n",
      "tensor(1.7434) tensor(2.0000)\n",
      "tensor([[ 0.5294,  0.8484],\n",
      "        [ 0.8484, -0.5294]])\n",
      "end\n",
      "\n",
      "tensor(1.9480) tensor(2.)\n",
      "tensor([[ 0.9912, -0.1327],\n",
      "        [-0.1327, -0.9912]])\n",
      "tensor(1.6999) tensor(2.0000)\n",
      "tensor([[-0.7776,  0.6288],\n",
      "        [ 0.6288,  0.7776]])\n",
      "tensor(0.) tensor(0.)\n",
      "tensor([[1.0000, 0.0000],\n",
      "        [0.0000, 1.0000]])\n",
      "tensor(1.3871) tensor(1.8879)\n",
      "tensor([[ 0.1090, -0.9940],\n",
      "        [ 0.9940,  0.1090]])\n",
      "tensor(1.4772) tensor(2.)\n",
      "tensor([[-0.1193, -0.9929],\n",
      "        [-0.9929,  0.1193]])\n",
      "tensor(1.3800) tensor(1.8743)\n",
      "tensor([[ 0.1217, -0.9926],\n",
      "        [ 0.9926,  0.1217]])\n",
      "end\n",
      "\n",
      "tensor(1.5031) tensor(2.)\n",
      "tensor([[-0.0239, -0.9997],\n",
      "        [-0.9997,  0.0239]])\n",
      "tensor(1.7449) tensor(2.0000)\n",
      "tensor([[ 0.5403,  0.8415],\n",
      "        [ 0.8415, -0.5403]])\n",
      "tensor(1.3871) tensor(1.8879)\n",
      "tensor([[ 0.1090,  0.9940],\n",
      "        [-0.9940,  0.1090]])\n",
      "tensor(0.) tensor(0.)\n",
      "tensor([[1.0000, 0.0000],\n",
      "        [0.0000, 1.0000]])\n",
      "tensor(1.9306) tensor(2.0000)\n",
      "tensor([[-0.9999,  0.0104],\n",
      "        [ 0.0104,  0.9999]])\n",
      "tensor(0.0148) tensor(0.0182)\n",
      "tensor([[ 0.9999,  0.0129],\n",
      "        [-0.0129,  0.9999]])\n",
      "end\n",
      "\n",
      "tensor(1.4955) tensor(1.9865)\n",
      "tensor([[ 0.0135,  0.9999],\n",
      "        [-0.9999,  0.0135]])\n",
      "tensor(2.0278) tensor(2.4751)\n",
      "tensor([[-0.5315, -0.8471],\n",
      "        [ 0.8471, -0.5315]])\n",
      "tensor(1.4772) tensor(2.)\n",
      "tensor([[-0.1193, -0.9929],\n",
      "        [-0.9929,  0.1193]])\n",
      "tensor(1.9306) tensor(2.0000)\n",
      "tensor([[-0.9999,  0.0104],\n",
      "        [ 0.0104,  0.9999]])\n",
      "tensor(0.) tensor(0.)\n",
      "tensor([[1.0000, 0.0000],\n",
      "        [0.0000, 1.0000]])\n",
      "tensor(1.9274) tensor(2.0000)\n",
      "tensor([[-1.0000, -0.0024],\n",
      "        [-0.0024,  1.0000]])\n",
      "end\n",
      "\n",
      "tensor(1.5063) tensor(2.0000)\n",
      "tensor([[-0.0111, -0.9999],\n",
      "        [-0.9999,  0.0111]])\n",
      "tensor(1.7434) tensor(2.0000)\n",
      "tensor([[ 0.5294,  0.8484],\n",
      "        [ 0.8484, -0.5294]])\n",
      "tensor(1.3800) tensor(1.8743)\n",
      "tensor([[ 0.1217,  0.9926],\n",
      "        [-0.9926,  0.1217]])\n",
      "tensor(0.0148) tensor(0.0182)\n",
      "tensor([[ 0.9999, -0.0129],\n",
      "        [ 0.0129,  0.9999]])\n",
      "tensor(1.9274) tensor(2.0000)\n",
      "tensor([[-1.0000, -0.0024],\n",
      "        [-0.0024,  1.0000]])\n",
      "tensor(0.) tensor(0.)\n",
      "tensor([[1.0000, 0.0000],\n",
      "        [0.0000, 1.0000]])\n",
      "end\n",
      "\n"
     ]
    }
   ],
   "source": [
    "for i in pck.Vh:\n",
    "    for j in pck.Vh:\n",
    "\n",
    "        print(torch.dist(i, j, p=4), torch.dist(i, j, p=2))\n",
    "        print(i@j.T)\n",
    "    print('end\\n')\n"
   ],
   "metadata": {
    "collapsed": false,
    "pycharm": {
     "name": "#%%\n"
    }
   }
  },
  {
   "cell_type": "code",
   "execution_count": 33,
   "outputs": [
    {
     "data": {
      "text/plain": "[tensor([[-0.0699, -0.0142,  0.9975],\n         [-0.0167, -0.9997, -0.0154],\n         [ 0.9974, -0.0177,  0.0696]]),\n tensor([[-0.8348,  0.0270,  0.5499],\n         [-0.0416, -0.9990, -0.0140],\n         [ 0.5490, -0.0346,  0.8351]]),\n tensor([[-1.]]),\n tensor([[-1.0000,  0.0016],\n         [ 0.0016,  1.0000]]),\n tensor([[ 1.4734e-01, -9.6023e-05,  9.8909e-01],\n         [ 3.7345e-04,  1.0000e+00,  4.1436e-05],\n         [-9.8909e-01,  3.6332e-04,  1.4734e-01]]),\n tensor([[-8.6005e-04,  1.0000e+00],\n         [ 1.0000e+00,  8.6007e-04]])]"
     },
     "execution_count": 33,
     "metadata": {},
     "output_type": "execute_result"
    }
   ],
   "source": [
    "pck.U"
   ],
   "metadata": {
    "collapsed": false,
    "pycharm": {
     "name": "#%%\n"
    }
   }
  },
  {
   "cell_type": "code",
   "execution_count": 34,
   "outputs": [
    {
     "name": "stdout",
     "output_type": "stream",
     "text": [
      "tensor([[-0.0699, -0.0142],\n",
      "        [-0.0167, -0.9997],\n",
      "        [ 0.9974, -0.0177]]) \n",
      " tensor([622.6624, 354.4463]) \n",
      " tensor([[-0.9588, -0.2842],\n",
      "        [ 0.2842, -0.9588]]) \n",
      "\n",
      "tensor([[-0.8348,  0.0270],\n",
      "        [-0.0416, -0.9990],\n",
      "        [ 0.5490, -0.0346]]) \n",
      " tensor([525.0457, 435.8289]) \n",
      " tensor([[ 0.6711,  0.7413],\n",
      "        [-0.7413,  0.6711]]) \n",
      "\n",
      "tensor([[-1.]]) \n",
      " tensor([281.4392]) \n",
      " tensor([[-0.9880, -0.1545],\n",
      "        [-0.1545,  0.9880]]) \n",
      "\n",
      "tensor([[-1.0000,  0.0016],\n",
      "        [ 0.0016,  1.0000]]) \n",
      " tensor([389.7151,  66.3967]) \n",
      " tensor([[-0.2612,  0.9653],\n",
      "        [ 0.9653,  0.2612]]) \n",
      "\n",
      "tensor([[ 1.4734e-01, -9.6023e-05],\n",
      "        [ 3.7345e-04,  1.0000e+00],\n",
      "        [-9.8909e-01,  3.6332e-04]]) \n",
      " tensor([232.8477,  68.2435]) \n",
      " tensor([[ 0.2713, -0.9625],\n",
      "        [ 0.9625,  0.2713]]) \n",
      "\n",
      "tensor([[-8.6005e-04,  1.0000e+00],\n",
      "        [ 1.0000e+00,  8.6007e-04]]) \n",
      " tensor([332.5527,  75.0847]) \n",
      " tensor([[-0.2736,  0.9618],\n",
      "        [ 0.9618,  0.2736]]) \n",
      "\n"
     ]
    }
   ],
   "source": [
    "for i in pck.matrices:\n",
    "    print(i.U[:,:2],'\\n' ,i.S,'\\n', i.Vh, '\\n')"
   ],
   "metadata": {
    "collapsed": false,
    "pycharm": {
     "name": "#%%\n"
    }
   }
  },
  {
   "cell_type": "code",
   "execution_count": 35,
   "outputs": [
    {
     "data": {
      "text/plain": "{'0:0': {}}"
     },
     "execution_count": 35,
     "metadata": {},
     "output_type": "execute_result"
    }
   ],
   "source": [
    "pck.tree"
   ],
   "metadata": {
    "collapsed": false,
    "pycharm": {
     "name": "#%%\n"
    }
   }
  },
  {
   "cell_type": "code",
   "execution_count": 36,
   "outputs": [
    {
     "data": {
      "text/plain": "[<__main__.SvdItem at 0x7fcedc7133d0>,\n <__main__.SvdItem at 0x7fcedc712b60>,\n <__main__.SvdItem at 0x7fcedc712a70>,\n <__main__.SvdItem at 0x7fcedc7116c0>,\n <__main__.SvdItem at 0x7fcedc712170>,\n <__main__.SvdItem at 0x7fcedc711c60>]"
     },
     "execution_count": 36,
     "metadata": {},
     "output_type": "execute_result"
    }
   ],
   "source": [
    "pck.matrices"
   ],
   "metadata": {
    "collapsed": false,
    "pycharm": {
     "name": "#%%\n"
    }
   }
  },
  {
   "cell_type": "code",
   "execution_count": 36,
   "outputs": [],
   "source": [],
   "metadata": {
    "collapsed": false,
    "pycharm": {
     "name": "#%%\n"
    }
   }
  }
 ],
 "metadata": {
  "kernelspec": {
   "display_name": "Python 3",
   "language": "python",
   "name": "python3"
  },
  "language_info": {
   "codemirror_mode": {
    "name": "ipython",
    "version": 2
   },
   "file_extension": ".py",
   "mimetype": "text/x-python",
   "name": "python",
   "nbconvert_exporter": "python",
   "pygments_lexer": "ipython2",
   "version": "2.7.6"
  }
 },
 "nbformat": 4,
 "nbformat_minor": 0
}