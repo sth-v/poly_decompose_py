{
 "cells": [
  {
   "cell_type": "code",
   "execution_count": 1,
   "outputs": [
    {
     "name": "stderr",
     "output_type": "stream",
     "text": [
      "/Users/andrewastakhov/opt/anaconda3/envs/work/lib/python3.9/site-packages/torchvision/transforms/functional_pil.py:228: DeprecationWarning: BILINEAR is deprecated and will be removed in Pillow 10 (2023-07-01). Use Resampling.BILINEAR instead.\n",
      "  interpolation: int = Image.BILINEAR,\n",
      "/Users/andrewastakhov/opt/anaconda3/envs/work/lib/python3.9/site-packages/torchvision/transforms/functional_pil.py:295: DeprecationWarning: NEAREST is deprecated and will be removed in Pillow 10 (2023-07-01). Use Resampling.NEAREST or Dither.NONE instead.\n",
      "  interpolation: int = Image.NEAREST,\n",
      "/Users/andrewastakhov/opt/anaconda3/envs/work/lib/python3.9/site-packages/torchvision/transforms/functional_pil.py:328: DeprecationWarning: BICUBIC is deprecated and will be removed in Pillow 10 (2023-07-01). Use Resampling.BICUBIC instead.\n",
      "  interpolation: int = Image.BICUBIC,\n",
      "/Users/andrewastakhov/opt/anaconda3/envs/work/lib/python3.9/site-packages/gym/envs/registration.py:505: UserWarning: \u001B[33mWARN: The environment CartPole-v0 is out of date. You should consider upgrading to version `v1` with the environment ID `CartPole-v1`.\u001B[0m\n",
      "  logger.warn(\n"
     ]
    }
   ],
   "source": [
    "import gym\n",
    "import math\n",
    "import random\n",
    "import numpy as np\n",
    "import matplotlib\n",
    "import matplotlib.pyplot as plt\n",
    "from collections import namedtuple, deque\n",
    "from itertools import count\n",
    "from PIL import Image\n",
    "\n",
    "import torch\n",
    "import torch.nn as nn\n",
    "import torch.optim as optim\n",
    "import torch.nn.functional as F\n",
    "import torchvision.transforms as T\n",
    "\n",
    "\n",
    "env = gym.make('CartPole-v0').unwrapped\n",
    "\n",
    "# set up matplotlib\n",
    "is_ipython = 'inline' in matplotlib.get_backend()\n",
    "if is_ipython:\n",
    "    from IPython import display\n",
    "\n",
    "plt.ion()\n",
    "\n",
    "# if gpu is to be used\n",
    "device = torch.device(\"cpu\")"
   ],
   "metadata": {
    "collapsed": false,
    "pycharm": {
     "name": "#%%\n"
    }
   }
  },
  {
   "cell_type": "code",
   "execution_count": 2,
   "outputs": [],
   "source": [
    "Transition = namedtuple('Transition',\n",
    "                        ('state', 'action', 'next_state', 'reward'))\n",
    "\n",
    "\n",
    "class ReplayMemory(object):\n",
    "\n",
    "    def __init__(self, capacity):\n",
    "        self.memory = deque([],maxlen=capacity)\n",
    "\n",
    "    def push(self, *args):\n",
    "        \"\"\"Save a transition\"\"\"\n",
    "        self.memory.append(Transition(*args))\n",
    "\n",
    "    def sample(self, batch_size):\n",
    "        return random.sample(self.memory, batch_size)\n",
    "\n",
    "    def __len__(self):\n",
    "        return len(self.memory)"
   ],
   "metadata": {
    "collapsed": false,
    "pycharm": {
     "name": "#%%\n"
    }
   }
  },
  {
   "cell_type": "code",
   "execution_count": 3,
   "outputs": [],
   "source": [
    "class DQN(nn.Module):\n",
    "\n",
    "    def __init__(self, h, w, outputs):\n",
    "        super(DQN, self).__init__()\n",
    "        self.conv1 = nn.Conv2d(3, 16, kernel_size=5, stride=2)\n",
    "        self.bn1 = nn.BatchNorm2d(16)\n",
    "        self.conv2 = nn.Conv2d(16, 32, kernel_size=5, stride=2)\n",
    "        self.bn2 = nn.BatchNorm2d(32)\n",
    "        self.conv3 = nn.Conv2d(32, 32, kernel_size=5, stride=2)\n",
    "        self.bn3 = nn.BatchNorm2d(32)\n",
    "\n",
    "        # Number of Linear input connections depends on output of conv2d layers\n",
    "        # and therefore the input image size, so compute it.\n",
    "        def conv2d_size_out(size, kernel_size = 5, stride = 2):\n",
    "            return (size - (kernel_size - 1) - 1) // stride  + 1\n",
    "        convw = conv2d_size_out(conv2d_size_out(conv2d_size_out(w)))\n",
    "        convh = conv2d_size_out(conv2d_size_out(conv2d_size_out(h)))\n",
    "        linear_input_size = convw * convh * 32\n",
    "        self.head = nn.Linear(linear_input_size, outputs)\n",
    "\n",
    "    # Called with either one element to determine next action, or a batch\n",
    "    # during optimization. Returns tensor([[left0exp,right0exp]...]).\n",
    "    def forward(self, x):\n",
    "        x = x.to(device)\n",
    "        x = F.relu(self.bn1(self.conv1(x)))\n",
    "        x = F.relu(self.bn2(self.conv2(x)))\n",
    "        x = F.relu(self.bn3(self.conv3(x)))\n",
    "        return self.head(x.view(x.size(0), -1))"
   ],
   "metadata": {
    "collapsed": false,
    "pycharm": {
     "name": "#%%\n"
    }
   }
  },
  {
   "cell_type": "code",
   "execution_count": 4,
   "outputs": [
    {
     "name": "stderr",
     "output_type": "stream",
     "text": [
      "/var/folders/ck/jb6rmtxx78j862ljh049mjtw0000gn/T/ipykernel_49538/432082805.py:2: DeprecationWarning: CUBIC is deprecated and will be removed in Pillow 10 (2023-07-01). Use Resampling.BICUBIC instead.\n",
      "  T.Resize(40, interpolation=Image.CUBIC),\n",
      "/Users/andrewastakhov/opt/anaconda3/envs/work/lib/python3.9/site-packages/torchvision/transforms/transforms.py:332: UserWarning: Argument interpolation should be of type InterpolationMode instead of int. Please, use InterpolationMode enum.\n",
      "  warnings.warn(\n"
     ]
    },
    {
     "data": {
      "text/plain": "<Figure size 432x288 with 1 Axes>",
      "image/png": "[encoded data removed]"
     },
     "metadata": {
      "needs_background": "light"
     },
     "output_type": "display_data"
    }
   ],
   "source": [
    "resize = T.Compose([T.ToPILImage(),\n",
    "                    T.Resize(40, interpolation=Image.CUBIC),\n",
    "                    T.ToTensor()])\n",
    "\n",
    "\n",
    "def get_cart_location(screen_width):\n",
    "    world_width = env.x_threshold * 2\n",
    "    scale = screen_width / world_width\n",
    "    return int(env.state[0] * scale + screen_width / 2.0)  # MIDDLE OF CART\n",
    "\n",
    "def get_screen():\n",
    "    # Returned screen requested by gym is 400x600x3, but is sometimes larger\n",
    "    # such as 800x1200x3. Transpose it into torch order (CHW).\n",
    "    screen = env.render(mode='rgb_array').transpose((2, 0, 1))\n",
    "    # Cart is in the lower half, so strip off the top and bottom of the screen\n",
    "    _, screen_height, screen_width = screen.shape\n",
    "    screen = screen[:, int(screen_height*0.4):int(screen_height * 0.8)]\n",
    "    view_width = int(screen_width * 0.6)\n",
    "    cart_location = get_cart_location(screen_width)\n",
    "    if cart_location < view_width // 2:\n",
    "        slice_range = slice(view_width)\n",
    "    elif cart_location > (screen_width - view_width // 2):\n",
    "        slice_range = slice(-view_width, None)\n",
    "    else:\n",
    "        slice_range = slice(cart_location - view_width // 2,\n",
    "                            cart_location + view_width // 2)\n",
    "    # Strip off the edges, so that we have a square image centered on a cart\n",
    "    screen = screen[:, :, slice_range]\n",
    "    # Convert to float, rescale, convert to torch tensor\n",
    "    # (this doesn't require a copy)\n",
    "    screen = np.ascontiguousarray(screen, dtype=np.float32) / 255\n",
    "    screen = torch.from_numpy(screen)\n",
    "    # Resize, and add a batch dimension (BCHW)\n",
    "    return resize(screen).unsqueeze(0)\n",
    "\n",
    "\n",
    "env.reset()\n",
    "plt.figure()\n",
    "plt.imshow(get_screen().cpu().squeeze(0).permute(1, 2, 0).numpy(),\n",
    "           interpolation='none')\n",
    "plt.title('Example extracted screen')\n",
    "plt.show()"
   ],
   "metadata": {
    "collapsed": false,
    "pycharm": {
     "name": "#%%\n"
    }
   }
  },
  {
   "cell_type": "code",
   "execution_count": 5,
   "outputs": [],
   "source": [
    "BATCH_SIZE = 128\n",
    "GAMMA = 0.999\n",
    "EPS_START = 0.9\n",
    "EPS_END = 0.05\n",
    "EPS_DECAY = 200\n",
    "TARGET_UPDATE = 10\n",
    "\n",
    "# Get screen size so that we can initialize layers correctly based on shape\n",
    "# returned from AI gym. Typical dimensions at this point are close to 3x40x90\n",
    "# which is the result of a clamped and down-scaled render buffer in get_screen()\n",
    "init_screen = get_screen()\n",
    "_, _, screen_height, screen_width = init_screen.shape\n",
    "\n",
    "# Get number of actions from gym action space\n",
    "n_actions = env.action_space.n\n",
    "\n",
    "policy_net = DQN(screen_height, screen_width, n_actions).to(device)\n",
    "target_net = DQN(screen_height, screen_width, n_actions).to(device)\n",
    "target_net.load_state_dict(policy_net.state_dict())\n",
    "target_net.eval()\n",
    "\n",
    "optimizer = optim.RMSprop(policy_net.parameters())\n",
    "memory = ReplayMemory(100000)\n",
    "\n",
    "\n",
    "steps_done = 0\n",
    "\n",
    "\n",
    "def select_action(state):\n",
    "    global steps_done\n",
    "    sample = random.random()\n",
    "    eps_threshold = EPS_END + (EPS_START - EPS_END) * \\\n",
    "        math.exp(-1. * steps_done / EPS_DECAY)\n",
    "    steps_done += 1\n",
    "    if sample > eps_threshold:\n",
    "        with torch.no_grad():\n",
    "            # t.max(1) will return largest column value of each row.\n",
    "            # second column on max result is index of where max element was\n",
    "            # found, so we pick action with the larger expected reward.\n",
    "            return policy_net(state).max(1)[1].view(1, 1)\n",
    "    else:\n",
    "        return torch.tensor([[random.randrange(n_actions)]], device=device, dtype=torch.long)\n",
    "\n",
    "\n",
    "episode_durations = []\n",
    "\n",
    "\n",
    "def plot_durations():\n",
    "    plt.figure(2)\n",
    "    plt.clf()\n",
    "    durations_t = torch.tensor(episode_durations, dtype=torch.float)\n",
    "    plt.title('Training...')\n",
    "    plt.xlabel('Episode')\n",
    "    plt.ylabel('Duration')\n",
    "    plt.plot(durations_t.numpy())\n",
    "    # Take 100 episode averages and plot them too\n",
    "    if len(durations_t) >= 100:\n",
    "        means = durations_t.unfold(0, 100, 1).mean(1).view(-1)\n",
    "        means = torch.cat((torch.zeros(99), means))\n",
    "        plt.plot(means.numpy())\n",
    "\n",
    "    plt.pause(0.001)  # pause a bit so that plots are updated\n",
    "    if is_ipython:\n",
    "        display.clear_output(wait=True)\n",
    "        display.display(plt.gcf())"
   ],
   "metadata": {
    "collapsed": false,
    "pycharm": {
     "name": "#%%\n"
    }
   }
  },
  {
   "cell_type": "code",
   "execution_count": 6,
   "outputs": [],
   "source": [
    "def optimize_model():\n",
    "    if len(memory) < BATCH_SIZE:\n",
    "        return\n",
    "    transitions = memory.sample(BATCH_SIZE)\n",
    "    # Transpose the batch (see https://stackoverflow.com/a/19343/3343043 for\n",
    "    # detailed explanation). This converts batch-array of Transitions\n",
    "    # to Transition of batch-arrays.\n",
    "    batch = Transition(*zip(*transitions))\n",
    "\n",
    "    # Compute a mask of non-final states and concatenate the batch elements\n",
    "    # (a final state would've been the one after which simulation ended)\n",
    "    non_final_mask = torch.tensor(tuple(map(lambda s: s is not None,\n",
    "                                          batch.next_state)), device=device, dtype=torch.bool)\n",
    "    non_final_next_states = torch.cat([s for s in batch.next_state\n",
    "                                                if s is not None])\n",
    "    state_batch = torch.cat(batch.state)\n",
    "    action_batch = torch.cat(batch.action)\n",
    "    reward_batch = torch.cat(batch.reward)\n",
    "\n",
    "    # Compute Q(s_t, a) - the model computes Q(s_t), then we select the\n",
    "    # columns of actions taken. These are the actions which would've been taken\n",
    "    # for each batch state according to policy_net\n",
    "    state_action_values = policy_net(state_batch).gather(1, action_batch)\n",
    "\n",
    "    # Compute V(s_{t+1}) for all next states.\n",
    "    # Expected values of actions for non_final_next_states are computed based\n",
    "    # on the \"older\" target_net; selecting their best reward with max(1)[0].\n",
    "    # This is merged based on the mask, such that we'll have either the expected\n",
    "    # state value or 0 in case the state was final.\n",
    "    next_state_values = torch.zeros(BATCH_SIZE, device=device)\n",
    "    next_state_values[non_final_mask] = target_net(non_final_next_states).max(1)[0].detach()\n",
    "    # Compute the expected Q values\n",
    "    expected_state_action_values = (next_state_values * GAMMA) + reward_batch\n",
    "\n",
    "    # Compute Huber loss\n",
    "    criterion = nn.SmoothL1Loss()\n",
    "    loss = criterion(state_action_values, expected_state_action_values.unsqueeze(1))\n",
    "\n",
    "    # Optimize the model\n",
    "    optimizer.zero_grad()\n",
    "    loss.backward()\n",
    "    for param in policy_net.parameters():\n",
    "        param.grad.data.clamp_(-1, 1)\n",
    "    optimizer.step()"
   ],
   "metadata": {
    "collapsed": false,
    "pycharm": {
     "name": "#%%\n"
    }
   }
  },
  {
   "cell_type": "code",
   "execution_count": 7,
   "outputs": [
    {
     "data": {
      "text/plain": "<Figure size 432x288 with 0 Axes>"
     },
     "metadata": {},
     "output_type": "display_data"
    },
    {
     "name": "stdout",
     "output_type": "stream",
     "text": [
      "Complete\n"
     ]
    },
    {
     "data": {
      "text/plain": "<Figure size 432x288 with 0 Axes>"
     },
     "metadata": {},
     "output_type": "display_data"
    }
   ],
   "source": [
    "num_episodes = 500\n",
    "for i_episode in range(num_episodes):\n",
    "    print(i_episode)\n",
    "    # Initialize the environment and state\n",
    "    env.reset()\n",
    "    last_screen = get_screen()\n",
    "    current_screen = get_screen()\n",
    "\n",
    "    state = current_screen - last_screen\n",
    "    for t in count():\n",
    "        # Select and perform an action\n",
    "        action = select_action(state)\n",
    "        _, reward, done, _ = env.step(action.item())\n",
    "        reward = torch.tensor([reward], device=device)\n",
    "\n",
    "        # Observe new state\n",
    "        last_screen = current_screen\n",
    "        current_screen = get_screen()\n",
    "        plt.figure()\n",
    "        plt.imshow(current_screen.cpu().squeeze(0).permute(1, 2, 0).numpy(),\n",
    "                   interpolation='none')\n",
    "        plt.title('Example extracted screen')\n",
    "        plt.show()\n",
    "\n",
    "        if not done:\n",
    "            next_state = current_screen - last_screen\n",
    "        else:\n",
    "            next_state = None\n",
    "\n",
    "        # Store the transition in memory\n",
    "        memory.push(state, action, next_state, reward)\n",
    "\n",
    "        # Move to the next state\n",
    "        state = next_state\n",
    "\n",
    "        # Perform one step of the optimization (on the policy network)\n",
    "        optimize_model()\n",
    "        if done:\n",
    "            episode_durations.append(t + 1)\n",
    "            plot_durations()\n",
    "            break\n",
    "    # Update the target network, copying all weights and biases in DQN\n",
    "    if i_episode % TARGET_UPDATE == 0:\n",
    "        target_net.load_state_dict(policy_net.state_dict())\n",
    "\n",
    "print('Complete')\n",
    "env.render()\n",
    "env.close()\n",
    "plt.ioff()\n",
    "plt.show()"
   ],
   "metadata": {
    "collapsed": false,
    "pycharm": {
     "name": "#%%\n"
    }
   }
  },
  {
   "cell_type": "code",
   "execution_count": 14,
   "metadata": {
    "pycharm": {
     "name": "#%%\n"
    }
   },
   "outputs": [
    {
     "data": {
      "text/plain": "Parameter containing:\ntensor([[[[-1.8594e+00,  4.5703e-01, -8.3203e-01,  1.0071e-02, -1.1328e+00],\n          [-2.1562e+00,  2.5000e+00,  3.0273e-01, -7.5781e-01, -5.4297e-01],\n          [ 2.0625e+00,  9.6875e-01, -9.0625e-01, -1.1719e+00,  1.4688e+00],\n          [ 2.2500e+00, -5.2734e-01, -2.4375e+00, -9.5312e-01,  9.2969e-01],\n          [-5.8594e-01, -5.9814e-02,  1.3906e+00, -1.0859e+00, -5.9326e-02]],\n\n         [[-9.3750e-01, -1.5820e-01, -9.1797e-01, -7.0801e-02, -9.7266e-01],\n          [-1.7344e+00,  1.2969e+00,  8.5156e-01,  5.3516e-01, -3.2812e-01],\n          [ 1.3594e+00,  5.7812e-01, -2.3145e-01, -9.0625e-01,  9.8047e-01],\n          [ 2.4219e+00, -1.0889e-01, -2.7656e+00, -3.8477e-01,  1.1641e+00],\n          [-6.0156e-01, -1.4160e-01,  1.3906e+00,  2.9688e-01,  4.1992e-01]],\n\n         [[-9.3750e-01, -5.2734e-01, -5.5469e-01,  6.4844e-01, -1.0391e+00],\n          [-1.7266e+00,  8.1250e-01,  1.5000e+00,  6.9141e-01, -2.6562e-01],\n          [ 7.7344e-01,  2.1289e-01,  9.2285e-02, -7.1094e-01,  7.3047e-01],\n          [ 1.9609e+00, -1.6016e-01, -2.0469e+00,  2.4805e-01,  4.6484e-01],\n          [-4.5508e-01, -2.8516e-01,  1.3984e+00,  7.7734e-01,  3.5156e-01]]],\n\n\n        [[[-5.5469e-01, -5.3467e-02,  8.5938e-01,  1.5703e+00, -8.9453e-01],\n          [-2.1484e-01, -1.0625e+00, -9.6875e-01,  4.1406e-01,  3.7598e-02],\n          [ 5.0000e-01, -6.8359e-01, -1.0547e-01, -4.7852e-01,  1.5234e+00],\n          [-2.3193e-02, -1.4609e+00,  3.1719e+00, -1.7969e+00, -1.3594e+00],\n          [-2.7734e-01, -1.0703e+00, -1.5938e+00,  1.6875e+00,  1.0625e+00]],\n\n         [[ 5.6152e-02, -1.2207e-01,  1.3359e+00,  1.7734e+00, -8.3594e-01],\n          [ 5.5078e-01, -1.1484e+00, -1.2988e-01,  5.0391e-01, -3.3594e-01],\n          [ 1.3281e+00, -3.6914e-01,  6.1719e-01, -3.8867e-01,  8.1250e-01],\n          [ 1.8457e-01, -1.1172e+00,  2.1875e+00, -1.9609e+00, -1.9844e+00],\n          [ 1.1475e-01, -6.2109e-01, -1.2422e+00,  9.0625e-01, -8.8379e-02]],\n\n         [[ 3.5156e-01, -2.7148e-01,  1.5469e+00,  1.7109e+00, -6.9531e-01],\n          [ 8.9062e-01, -1.1875e+00, -2.6562e-01,  3.9453e-01, -4.2773e-01],\n          [ 1.5469e+00, -7.1289e-02,  7.0312e-01, -2.5586e-01,  5.8203e-01],\n          [ 3.2617e-01, -9.8047e-01,  1.6484e+00, -2.2031e+00, -2.0000e+00],\n          [ 4.5117e-01, -4.0234e-01, -8.0469e-01,  2.9297e-01, -4.3164e-01]]],\n\n\n        [[[-1.7266e+00, -1.2656e+00, -5.7031e-01, -1.1094e+00,  1.4531e+00],\n          [-1.4688e+00, -2.2070e-01, -1.3281e+00, -1.4375e+00,  2.5938e+00],\n          [-1.5078e+00, -1.7578e+00, -2.1406e+00, -4.2383e-01,  2.3594e+00],\n          [-1.4375e+00,  8.3203e-01, -8.3496e-02, -6.2891e-01, -1.4922e+00],\n          [-4.9023e-01,  2.1094e+00, -1.7285e-01, -6.2500e-01, -1.0703e+00]],\n\n         [[-1.0156e+00, -1.6094e+00, -1.5625e-01, -8.7109e-01,  1.1328e+00],\n          [-1.1172e+00, -1.3184e-01, -7.2266e-01, -7.5391e-01,  2.0938e+00],\n          [-8.7500e-01, -1.1016e+00, -1.1172e+00, -8.7109e-01,  1.7344e+00],\n          [-1.0312e+00,  7.2266e-02, -3.0396e-02, -9.6484e-01, -6.6797e-01],\n          [-3.2471e-02,  9.0234e-01,  1.9043e-01, -9.2188e-01, -5.5078e-01]],\n\n         [[-1.0938e+00, -1.4531e+00, -7.0801e-02, -8.7891e-01,  1.2344e+00],\n          [-1.0547e+00, -1.7773e-01, -8.1250e-01, -7.7734e-01,  2.0000e+00],\n          [-4.4531e-01, -5.5469e-01, -7.5391e-01, -1.3359e+00,  1.7422e+00],\n          [-1.0469e+00, -1.4746e-01, -3.1128e-02, -1.1875e+00, -4.4141e-01],\n          [ 9.6436e-03,  3.9453e-01, -6.8359e-02, -9.6484e-01, -2.8906e-01]]],\n\n\n        ...,\n\n\n        [[[ 8.9844e-01,  7.3438e-01,  8.2422e-01,  5.7422e-01,  1.4922e+00],\n          [-5.3516e-01, -1.6641e+00, -1.6562e+00, -2.4688e+00, -1.6406e-01],\n          [-4.8242e-01, -1.7773e-01,  1.1562e+00,  1.2500e+00, -2.6367e-01],\n          [-1.0625e+00, -7.8906e-01, -1.8203e+00, -2.6953e-01, -5.1562e-01],\n          [-3.8086e-01,  1.0547e+00,  6.3281e-01,  1.5918e-01,  1.2500e-01]],\n\n         [[ 1.2891e+00,  7.1777e-02,  1.1094e+00, -5.1562e-01,  1.0156e+00],\n          [-5.4688e-01, -2.0312e+00, -1.2109e+00, -3.1406e+00,  2.4219e-01],\n          [ 1.3428e-03,  1.1133e-01,  9.3750e-01,  4.1211e-01, -4.3555e-01],\n          [-1.5312e+00, -6.3672e-01, -1.0859e+00, -3.5352e-01, -4.0430e-01],\n          [-1.3750e+00,  1.5547e+00,  5.2734e-01,  5.7812e-01, -2.9688e-01]],\n\n         [[ 1.7188e+00,  1.0254e-01,  1.2969e+00, -4.5508e-01,  8.9062e-01],\n          [-6.5234e-01, -1.9844e+00, -1.5547e+00, -3.2812e+00,  1.6211e-01],\n          [ 2.5781e-01,  1.7578e-01,  3.4961e-01,  9.5825e-03, -6.1719e-01],\n          [-1.6094e+00, -3.5547e-01, -6.9141e-01, -5.1172e-01, -3.0273e-01],\n          [-1.9844e+00,  1.0625e+00,  3.8281e-01,  1.1963e-01, -6.5625e-01]]],\n\n\n        [[[-1.6016e+00,  1.0469e+00,  4.9023e-01, -5.9766e-01, -3.4570e-01],\n          [-2.0938e+00,  1.3750e+00, -1.3867e-01, -1.5781e+00, -5.7422e-01],\n          [ 1.0547e+00,  3.6328e-01,  1.3203e+00,  2.2031e+00,  2.3438e+00],\n          [-1.1328e-01, -1.0078e+00, -2.0000e+00, -7.6172e-02, -9.9219e-01],\n          [-1.6094e+00, -1.6484e+00, -2.1387e-01, -1.3828e+00, -2.2344e+00]],\n\n         [[-1.0938e+00,  3.0664e-01,  7.2266e-02, -5.7031e-01, -6.4453e-01],\n          [-2.0469e+00,  2.3145e-01, -4.6875e-01, -1.4766e+00, -4.9561e-02],\n          [ 6.0547e-01, -5.1562e-01,  1.5859e+00,  1.5391e+00,  9.6875e-01],\n          [ 9.1406e-01, -5.0000e-01, -2.1094e+00,  6.8359e-03, -1.1797e+00],\n          [-9.5215e-02, -1.1641e+00, -6.6016e-01, -3.5742e-01, -1.2422e+00]],\n\n         [[-1.1328e+00,  1.1426e-01,  4.3359e-01, -1.5527e-01, -4.7070e-01],\n          [-2.0156e+00, -3.6865e-02, -3.9844e-01, -1.5156e+00, -5.7861e-02],\n          [ 3.1055e-01, -9.4531e-01,  1.2969e+00,  1.1328e+00,  5.3906e-01],\n          [ 1.6328e+00, -6.3281e-01, -2.1406e+00, -2.0215e-01, -1.1016e+00],\n          [ 9.0234e-01, -1.1484e+00, -1.1328e+00, -4.3945e-01, -9.4922e-01]]],\n\n\n        [[[ 4.3945e-01,  1.0938e+00,  5.3125e-01,  2.5977e-01, -1.0469e+00],\n          [-1.3125e+00, -1.5527e-01, -9.4531e-01, -1.1797e+00, -1.3281e+00],\n          [ 1.3965e-01, -2.5000e-01,  1.4648e-01,  8.3594e-01, -1.3281e+00],\n          [-1.6719e+00, -7.9102e-02, -1.5938e+00,  3.8867e-01, -7.8906e-01],\n          [-3.9062e-01, -8.9844e-02, -9.8633e-02,  2.3750e+00, -2.4023e-01]],\n\n         [[ 1.4355e-01,  1.1641e+00, -1.8457e-01, -3.3789e-01, -1.8125e+00],\n          [-1.4922e+00,  9.2773e-02, -1.8125e+00, -1.1719e+00, -1.6641e+00],\n          [ 4.0625e-01,  1.3184e-01, -8.7109e-01,  7.4219e-01, -1.4297e+00],\n          [-1.2969e+00,  3.6719e-01, -1.9609e+00,  3.1250e-01, -9.7656e-01],\n          [-4.1992e-01,  1.8848e-01, -2.4902e-01,  1.9688e+00, -1.0000e+00]],\n\n         [[ 1.2988e-01,  9.9219e-01, -8.5938e-02, -7.8125e-02, -2.0469e+00],\n          [-1.6719e+00, -1.2793e-01, -2.1719e+00, -1.2188e+00, -1.7578e+00],\n          [ 6.0156e-01,  9.5703e-02, -1.1250e+00,  6.6406e-01, -1.6016e+00],\n          [-9.5312e-01,  3.3789e-01, -2.0781e+00,  5.3516e-01, -5.3906e-01],\n          [-5.3906e-01, -5.7617e-02, -5.8594e-01,  1.6484e+00, -1.6953e+00]]]],\n       dtype=torch.bfloat16, requires_grad=True)"
     },
     "execution_count": 14,
     "metadata": {},
     "output_type": "execute_result"
    }
   ],
   "source": [
    "policy_net.conv1.weight\n",
    "\n"
   ]
  },
  {
   "cell_type": "code",
   "execution_count": 7,
   "metadata": {
    "pycharm": {
     "name": "#%%\n"
    }
   },
   "outputs": [],
   "source": []
  }
 ],
 "metadata": {
  "kernelspec": {
   "display_name": "Python 3 (ipykernel)",
   "language": "python",
   "name": "python3"
  },
  "language_info": {
   "codemirror_mode": {
    "name": "ipython",
    "version": 3
   },
   "file_extension": ".py",
   "mimetype": "text/x-python",
   "name": "python",
   "nbconvert_exporter": "python",
   "pygments_lexer": "ipython3",
   "version": "3.9.12"
  }
 },
 "nbformat": 4,
 "nbformat_minor": 1
}